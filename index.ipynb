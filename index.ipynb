{
 "cells": [
  {
   "cell_type": "markdown",
   "metadata": {
    "papermill": {
     "duration": 0.020986,
     "end_time": "2020-08-21T08:02:16.516951",
     "exception": false,
     "start_time": "2020-08-21T08:02:16.495965",
     "status": "completed"
    },
    "tags": []
   },
   "source": [
    "# Daily COVID monitoring data for Santa Barbara county"
   ]
  },
  {
   "cell_type": "code",
   "execution_count": 1,
   "metadata": {
    "execution": {
     "iopub.execute_input": "2020-08-21T08:02:16.557928Z",
     "iopub.status.busy": "2020-08-21T08:02:16.556931Z",
     "iopub.status.idle": "2020-08-21T08:02:19.519974Z",
     "shell.execute_reply": "2020-08-21T08:02:19.519974Z"
    },
    "papermill": {
     "duration": 2.989029,
     "end_time": "2020-08-21T08:02:19.520974",
     "exception": false,
     "start_time": "2020-08-21T08:02:16.531945",
     "status": "completed"
    },
    "slideshow": {
     "slide_type": "skip"
    },
    "tags": [
     "remove_cell"
    ]
   },
   "outputs": [],
   "source": [
    "# Preamble\n",
    "import os\n",
    "import IPython\n",
    "import requests\n",
    "from bs4 import BeautifulSoup\n",
    "import pandas as pd\n",
    "import datetime\n",
    "import gspread\n",
    "from oauth2client.service_account import ServiceAccountCredentials"
   ]
  },
  {
   "cell_type": "code",
   "execution_count": 2,
   "metadata": {
    "execution": {
     "iopub.execute_input": "2020-08-21T08:02:19.589934Z",
     "iopub.status.busy": "2020-08-21T08:02:19.588935Z",
     "iopub.status.idle": "2020-08-21T08:02:19.596930Z",
     "shell.execute_reply": "2020-08-21T08:02:19.597931Z"
    },
    "papermill": {
     "duration": 0.059966,
     "end_time": "2020-08-21T08:02:19.598929",
     "exception": false,
     "start_time": "2020-08-21T08:02:19.538963",
     "status": "completed"
    },
    "tags": [
     "remove_cell"
    ]
   },
   "outputs": [],
   "source": [
    "# Change working directory (so that Windows task scheduler does not complain)\n",
    "os.chdir(\"C:/Users/Alice/Box Sync/PhD/Software/Python/COVID/COVID-SB\")"
   ]
  },
  {
   "cell_type": "code",
   "execution_count": 3,
   "metadata": {
    "execution": {
     "iopub.execute_input": "2020-08-21T08:02:19.644903Z",
     "iopub.status.busy": "2020-08-21T08:02:19.643905Z",
     "iopub.status.idle": "2020-08-21T08:02:20.940895Z",
     "shell.execute_reply": "2020-08-21T08:02:20.941895Z"
    },
    "papermill": {
     "duration": 1.320979,
     "end_time": "2020-08-21T08:02:20.941895",
     "exception": false,
     "start_time": "2020-08-21T08:02:19.620916",
     "status": "completed"
    },
    "slideshow": {
     "slide_type": "skip"
    },
    "tags": [
     "remove_cell"
    ]
   },
   "outputs": [],
   "source": [
    "# Request content from URL\n",
    "html_string = requests.get('https://www.cdph.ca.gov/Programs/CID/DCDC/Pages/COVID-19/COVID19CountyDataTable.aspx').content"
   ]
  },
  {
   "cell_type": "code",
   "execution_count": 4,
   "metadata": {
    "execution": {
     "iopub.execute_input": "2020-08-21T08:02:21.012855Z",
     "iopub.status.busy": "2020-08-21T08:02:21.010856Z",
     "iopub.status.idle": "2020-08-21T08:02:21.107800Z",
     "shell.execute_reply": "2020-08-21T08:02:21.108803Z"
    },
    "papermill": {
     "duration": 0.151915,
     "end_time": "2020-08-21T08:02:21.108803",
     "exception": false,
     "start_time": "2020-08-21T08:02:20.956888",
     "status": "completed"
    },
    "slideshow": {
     "slide_type": "skip"
    },
    "tags": [
     "remove_cell"
    ]
   },
   "outputs": [],
   "source": [
    "# Parse HTML\n",
    "soup = BeautifulSoup(html_string, 'html.parser')"
   ]
  },
  {
   "cell_type": "code",
   "execution_count": 5,
   "metadata": {
    "execution": {
     "iopub.execute_input": "2020-08-21T08:02:21.214740Z",
     "iopub.status.busy": "2020-08-21T08:02:21.214740Z",
     "iopub.status.idle": "2020-08-21T08:02:21.216738Z",
     "shell.execute_reply": "2020-08-21T08:02:21.216738Z"
    },
    "papermill": {
     "duration": 0.060965,
     "end_time": "2020-08-21T08:02:21.216738",
     "exception": false,
     "start_time": "2020-08-21T08:02:21.155773",
     "status": "completed"
    },
    "slideshow": {
     "slide_type": "skip"
    },
    "tags": [
     "remove_cell"
    ]
   },
   "outputs": [],
   "source": [
    "# Extract data for Santa Barbara\n",
    "table = soup.find_all(\"tr\", class_=\"ms-rteTableEvenRow-3\")\n",
    "SB = table[21]"
   ]
  },
  {
   "cell_type": "code",
   "execution_count": 6,
   "metadata": {
    "execution": {
     "iopub.execute_input": "2020-08-21T08:02:21.260713Z",
     "iopub.status.busy": "2020-08-21T08:02:21.259714Z",
     "iopub.status.idle": "2020-08-21T08:02:21.262711Z",
     "shell.execute_reply": "2020-08-21T08:02:21.263711Z"
    },
    "papermill": {
     "duration": 0.030982,
     "end_time": "2020-08-21T08:02:21.263711",
     "exception": false,
     "start_time": "2020-08-21T08:02:21.232729",
     "status": "completed"
    },
    "slideshow": {
     "slide_type": "skip"
    },
    "tags": [
     "remove_cell"
    ]
   },
   "outputs": [],
   "source": [
    "# Avg # tests per day (per 100,000 population)\n",
    "daily_tests = SB.find_all(\"td\", class_=\"ms-rteTableOddCol-3\")[0].text\n",
    "\n",
    "# Case rate per 100,000\n",
    "case_rate = SB.find_all(\"td\", class_=\"ms-rteTableEvenCol-3\")[1].text\n",
    "\n",
    "# Testing positivity (%)\n",
    "test_positivity = SB.find_all(\"td\", class_=\"ms-rteTableOddCol-3\")[1].text\n",
    "\n",
    "# % Change in 3-day avg COVID+ hospitalized patients\n",
    "change_hospit = SB.find_all(\"td\", class_=\"ms-rteTableEvenCol-3\")[2].text\n",
    "\n",
    "# % ICU beds currently available\n",
    "ICU_beds = SB.find_all(\"td\", class_=\"ms-rteTableOddCol-3\")[2].text\n",
    "\n",
    "# % Ventilators currently available\n",
    "ventilators = SB.find_all(\"td\", class_=\"ms-rteTableEvenCol-3\")[3].text"
   ]
  },
  {
   "cell_type": "code",
   "execution_count": 7,
   "metadata": {
    "execution": {
     "iopub.execute_input": "2020-08-21T08:02:21.337670Z",
     "iopub.status.busy": "2020-08-21T08:02:21.336670Z",
     "iopub.status.idle": "2020-08-21T08:02:21.342666Z",
     "shell.execute_reply": "2020-08-21T08:02:21.343665Z"
    },
    "papermill": {
     "duration": 0.029982,
     "end_time": "2020-08-21T08:02:21.343665",
     "exception": false,
     "start_time": "2020-08-21T08:02:21.313683",
     "status": "completed"
    },
    "slideshow": {
     "slide_type": "skip"
    },
    "tags": [
     "remove_cell"
    ]
   },
   "outputs": [],
   "source": [
    "# Set up Google Sheet API\n",
    "scope = [\"https://spreadsheets.google.com/feeds\",'https://www.googleapis.com/auth/spreadsheets',\"https://www.googleapis.com/auth/drive.file\",\"https://www.googleapis.com/auth/drive\"]\n",
    "creds = ServiceAccountCredentials.from_json_keyfile_name(\"credentials.json\", scope)\n",
    "client = gspread.authorize(creds)"
   ]
  },
  {
   "cell_type": "code",
   "execution_count": 8,
   "metadata": {
    "execution": {
     "iopub.execute_input": "2020-08-21T08:02:21.381644Z",
     "iopub.status.busy": "2020-08-21T08:02:21.381644Z",
     "iopub.status.idle": "2020-08-21T08:02:22.842657Z",
     "shell.execute_reply": "2020-08-21T08:02:22.840660Z"
    },
    "papermill": {
     "duration": 1.485,
     "end_time": "2020-08-21T08:02:22.842657",
     "exception": false,
     "start_time": "2020-08-21T08:02:21.357657",
     "status": "completed"
    },
    "slideshow": {
     "slide_type": "skip"
    },
    "tags": [
     "remove_cell"
    ]
   },
   "outputs": [
    {
     "data": {
      "text/plain": [
       "{'spreadsheetId': '13GG0FPUFg_5xCouN0ZF3woaPXwjuxL2Dw3uYIfwUW-Q',\n",
       " 'updatedRange': 'Sheet1!A2:G2',\n",
       " 'updatedRows': 1,\n",
       " 'updatedColumns': 7,\n",
       " 'updatedCells': 7}"
      ]
     },
     "execution_count": 8,
     "metadata": {},
     "output_type": "execute_result"
    }
   ],
   "source": [
    "# Append daily data as a new row in Google Sheet\n",
    "sheet = client.open(\"COVID Daily Metrics\").sheet1\n",
    "insertRow = [datetime.date.today().strftime(\"%y/%m/%d\"),\n",
    "             daily_tests,\n",
    "             case_rate,\n",
    "             test_positivity,\n",
    "             change_hospit,\n",
    "             ICU_beds,\n",
    "             ventilators]\n",
    "sheet.insert_row(insertRow, 2)"
   ]
  },
  {
   "cell_type": "code",
   "execution_count": 9,
   "metadata": {
    "execution": {
     "iopub.execute_input": "2020-08-21T08:02:22.903621Z",
     "iopub.status.busy": "2020-08-21T08:02:22.901624Z",
     "iopub.status.idle": "2020-08-21T08:02:23.651126Z",
     "shell.execute_reply": "2020-08-21T08:02:23.651126Z"
    },
    "papermill": {
     "duration": 0.779487,
     "end_time": "2020-08-21T08:02:23.652126",
     "exception": false,
     "start_time": "2020-08-21T08:02:22.872639",
     "status": "completed"
    },
    "scrolled": true,
    "slideshow": {
     "slide_type": "slide"
    },
    "tags": [
     "remove_cell"
    ]
   },
   "outputs": [],
   "source": [
    "# Extract data from Google Sheet as pandas dataframe\n",
    "sheet = client.open(\"COVID Daily Metrics\").sheet1\n",
    "data = sheet.get_all_records()\n",
    "result = pd.DataFrame(data).set_index(\"Date\")"
   ]
  },
  {
   "cell_type": "code",
   "execution_count": 10,
   "metadata": {
    "execution": {
     "iopub.execute_input": "2020-08-21T08:02:23.698099Z",
     "iopub.status.busy": "2020-08-21T08:02:23.696099Z",
     "iopub.status.idle": "2020-08-21T08:02:23.706094Z",
     "shell.execute_reply": "2020-08-21T08:02:23.707092Z"
    },
    "papermill": {
     "duration": 0.036979,
     "end_time": "2020-08-21T08:02:23.708093",
     "exception": false,
     "start_time": "2020-08-21T08:02:23.671114",
     "status": "completed"
    },
    "scrolled": true,
    "tags": [
     "remove_input"
    ]
   },
   "outputs": [
    {
     "data": {
      "text/html": [
       "<div>\n",
       "<style scoped>\n",
       "    .dataframe tbody tr th:only-of-type {\n",
       "        vertical-align: middle;\n",
       "    }\n",
       "\n",
       "    .dataframe tbody tr th {\n",
       "        vertical-align: top;\n",
       "    }\n",
       "\n",
       "    .dataframe thead th {\n",
       "        text-align: right;\n",
       "    }\n",
       "</style>\n",
       "<table border=\"1\" class=\"dataframe\">\n",
       "  <thead>\n",
       "    <tr style=\"text-align: right;\">\n",
       "      <th></th>\n",
       "      <th>Daily tests (per 100,000)¹</th>\n",
       "      <th>Case rate (per 100,000)²</th>\n",
       "      <th>Testing positivity (%)³</th>\n",
       "      <th>Change in hospitalizations (%)⁴</th>\n",
       "      <th>ICU beds available (%)</th>\n",
       "      <th>Ventilators (available (%)</th>\n",
       "    </tr>\n",
       "    <tr>\n",
       "      <th>Date</th>\n",
       "      <th></th>\n",
       "      <th></th>\n",
       "      <th></th>\n",
       "      <th></th>\n",
       "      <th></th>\n",
       "      <th></th>\n",
       "    </tr>\n",
       "  </thead>\n",
       "  <tbody>\n",
       "    <tr>\n",
       "      <th>20/08/21</th>\n",
       "      <td>214.5</td>\n",
       "      <td>148.8</td>\n",
       "      <td>✔</td>\n",
       "      <td>✔</td>\n",
       "      <td>✔</td>\n",
       "      <td>✔</td>\n",
       "    </tr>\n",
       "    <tr>\n",
       "      <th>20/08/21</th>\n",
       "      <td>214.5</td>\n",
       "      <td>148.8</td>\n",
       "      <td>✔</td>\n",
       "      <td>✔</td>\n",
       "      <td>✔</td>\n",
       "      <td>✔</td>\n",
       "    </tr>\n",
       "  </tbody>\n",
       "</table>\n",
       "</div>"
      ],
      "text/plain": [
       "          Daily tests (per 100,000)¹  Case rate (per 100,000)²  \\\n",
       "Date                                                             \n",
       "20/08/21                       214.5                     148.8   \n",
       "20/08/21                       214.5                     148.8   \n",
       "\n",
       "         Testing positivity (%)³ Change in hospitalizations (%)⁴  \\\n",
       "Date                                                               \n",
       "20/08/21                       ✔                               ✔   \n",
       "20/08/21                       ✔                               ✔   \n",
       "\n",
       "         ICU beds available (%) Ventilators (available (%)  \n",
       "Date                                                        \n",
       "20/08/21                      ✔                          ✔  \n",
       "20/08/21                      ✔                          ✔  "
      ]
     },
     "execution_count": 10,
     "metadata": {},
     "output_type": "execute_result"
    }
   ],
   "source": [
    "result"
   ]
  },
  {
   "cell_type": "markdown",
   "metadata": {
    "papermill": {
     "duration": 0.01599,
     "end_time": "2020-08-21T08:02:23.744072",
     "exception": false,
     "start_time": "2020-08-21T08:02:23.728082",
     "status": "completed"
    },
    "tags": []
   },
   "source": [
    "Notes:\n",
    "1. 7 day average with a 7-day lag.\n",
    "2. 14 day average.\n",
    "3. 7 day average with a 7-day lag.\n",
    "4. Change in 3 day average."
   ]
  },
  {
   "cell_type": "markdown",
   "metadata": {
    "papermill": {
     "duration": 0.017989,
     "end_time": "2020-08-21T08:02:23.778052",
     "exception": false,
     "start_time": "2020-08-21T08:02:23.760063",
     "status": "completed"
    },
    "tags": []
   },
   "source": [
    "Source: https://www.cdph.ca.gov/Programs/CID/DCDC/Pages/COVID-19/COVID19CountyDataTable.aspx."
   ]
  },
  {
   "cell_type": "markdown",
   "metadata": {},
   "source": [
    "Once a county appears on the County Monitoring List for three consecutive days, indoor operations in the sectors listed in Section 3 of the [July 13th State Health Officer Order](https://www.cdph.ca.gov/Programs/CID/DCDC/CDPH%20Document%20Library/COVID-19/SHO%20Order%20Dimming%20Entire%20State%207-13-2020.pdf) must close.\n",
    "\n",
    "This table tracks where Santa Barbara stands in terms of the criteria for inclusion on the County Monitoring List. As of 20 August 2020, the criteria for inclusion on the monitoring list are:\n",
    "\n",
    "- (Case rate >100) OR (Case rate >25 AND Positivity >8%)\n",
    "- Change in hospitalizations >10% increase\n",
    "- <20% ICU beds available OR <25% ventilators available\n",
    "\n",
    "These metrics capture three dimensions that the state of California is tracking: Elevated Disease Transmission, Increasing Hospitalization, and Limited Hospital Capacity. If Santa Barbara meets the criteria for removal from the County Monitoring List for a certain metric, then a checkmark ✔ is displayed.\n",
    "\n",
    "Read more at <https://covid19.ca.gov/roadmap-counties/>."
   ]
  },
  {
   "cell_type": "markdown",
   "metadata": {
    "papermill": {
     "duration": 0.016992,
     "end_time": "2020-08-21T08:02:23.816033",
     "exception": false,
     "start_time": "2020-08-21T08:02:23.799041",
     "status": "completed"
    },
    "tags": []
   },
   "source": [
    "**See the code to scrape the data: https://github.com/walice/COVID-SB/.**"
   ]
  },
  {
   "cell_type": "code",
   "execution_count": 11,
   "metadata": {
    "execution": {
     "iopub.execute_input": "2020-08-21T08:02:23.861005Z",
     "iopub.status.busy": "2020-08-21T08:02:23.859006Z",
     "iopub.status.idle": "2020-08-21T08:02:23.864005Z",
     "shell.execute_reply": "2020-08-21T08:02:23.865004Z"
    },
    "papermill": {
     "duration": 0.028983,
     "end_time": "2020-08-21T08:02:23.865004",
     "exception": false,
     "start_time": "2020-08-21T08:02:23.836021",
     "status": "completed"
    },
    "tags": [
     "remove_cell"
    ]
   },
   "outputs": [
    {
     "data": {
      "application/javascript": [
       "IPython.notebook.save_notebook()\n"
      ],
      "text/plain": [
       "<IPython.core.display.Javascript object>"
      ]
     },
     "metadata": {},
     "output_type": "display_data"
    }
   ],
   "source": [
    "%%javascript\n",
    "IPython.notebook.save_notebook()"
   ]
  },
  {
   "cell_type": "code",
   "execution_count": 12,
   "metadata": {
    "execution": {
     "iopub.execute_input": "2020-08-21T08:02:23.915974Z",
     "iopub.status.busy": "2020-08-21T08:02:23.913976Z",
     "iopub.status.idle": "2020-08-21T08:02:25.486359Z",
     "shell.execute_reply": "2020-08-21T08:02:25.486359Z"
    },
    "papermill": {
     "duration": 1.598369,
     "end_time": "2020-08-21T08:02:25.487359",
     "exception": false,
     "start_time": "2020-08-21T08:02:23.888990",
     "status": "completed"
    },
    "slideshow": {
     "slide_type": "skip"
    },
    "tags": [
     "remove_cell"
    ]
   },
   "outputs": [
    {
     "name": "stderr",
     "output_type": "stream",
     "text": [
      "[NbConvertApp] Converting notebook index.ipynb to html\n",
      "[NbConvertApp] Writing 275530 bytes to index.html\n"
     ]
    }
   ],
   "source": [
    "# Convert Jupyter Notebook to HTML\n",
    "! jupyter nbconvert \"index.ipynb\" --to html --TagRemovePreprocessor.enabled=True --TagRemovePreprocessor.remove_cell_tags=\"['remove_cell']\" --TagRemovePreprocessor.remove_input_tags=\"['remove_input']\" --no-prompt"
   ]
  },
  {
   "cell_type": "code",
   "execution_count": null,
   "metadata": {
    "execution": {
     "iopub.execute_input": "2020-08-21T08:02:25.533333Z",
     "iopub.status.busy": "2020-08-21T08:02:25.532335Z",
     "iopub.status.idle": "2020-08-21T08:02:25.534331Z",
     "shell.execute_reply": "2020-08-21T08:02:25.535333Z"
    },
    "papermill": {
     "duration": 0.029984,
     "end_time": "2020-08-21T08:02:25.535333",
     "exception": false,
     "start_time": "2020-08-21T08:02:25.505349",
     "status": "completed"
    },
    "tags": [
     "remove_cell"
    ]
   },
   "outputs": [],
   "source": [
    "# Create daily commit message\n",
    "now = datetime.datetime.now()\n",
    "commit_message = \"Last scraped on \" + str(now)"
   ]
  },
  {
   "cell_type": "code",
   "execution_count": null,
   "metadata": {
    "execution": {
     "iopub.execute_input": "2020-08-21T08:02:25.587304Z",
     "iopub.status.busy": "2020-08-21T08:02:25.586302Z",
     "iopub.status.idle": "2020-08-21T08:02:31.900079Z",
     "shell.execute_reply": "2020-08-21T08:02:31.889084Z"
    },
    "papermill": {
     "duration": 6.346759,
     "end_time": "2020-08-21T08:02:31.901078",
     "exception": false,
     "start_time": "2020-08-21T08:02:25.554319",
     "status": "completed"
    },
    "tags": [
     "remove_cell"
    ]
   },
   "outputs": [],
   "source": [
    "# Deploy to GitHub\n",
    "! git add .\n",
    "! echo $commit_message > commit_message.txt\n",
    "! git commit -F commit_message.txt\n",
    "! git push"
   ]
  }
 ],
 "metadata": {
  "celltoolbar": "Tags",
  "kernelspec": {
   "display_name": "Python 3",
   "language": "python",
   "name": "python3"
  },
  "language_info": {
   "codemirror_mode": {
    "name": "ipython",
    "version": 3
   },
   "file_extension": ".py",
   "mimetype": "text/x-python",
   "name": "python",
   "nbconvert_exporter": "python",
   "pygments_lexer": "ipython3",
   "version": "3.7.6"
  },
  "papermill": {
   "duration": 18.159576,
   "end_time": "2020-08-21T08:02:32.797958",
   "environment_variables": {},
   "exception": null,
   "input_path": "C:/Users/Alice/Box Sync/PhD/Software/Python/COVID/COVID-SB/index.ipynb",
   "output_path": "C:/Users/Alice/Box Sync/PhD/Software/Python/COVID/COVID-SB/index.ipynb",
   "parameters": {},
   "start_time": "2020-08-21T08:02:14.638382",
   "version": "2.1.3"
  }
 },
 "nbformat": 4,
 "nbformat_minor": 4
}
