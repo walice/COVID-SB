{
 "cells": [
  {
   "cell_type": "markdown",
   "metadata": {
    "papermill": {
     "duration": 0.0109,
     "end_time": "2020-08-26T22:40:41.419667",
     "exception": false,
     "start_time": "2020-08-26T22:40:41.408767",
     "status": "completed"
    },
    "tags": []
   },
   "source": [
    "# Daily COVID monitoring data for Santa Barbara county"
   ]
  },
  {
   "cell_type": "code",
   "execution_count": 1,
   "metadata": {
    "execution": {
     "iopub.execute_input": "2020-08-26T22:40:41.446888Z",
     "iopub.status.busy": "2020-08-26T22:40:41.446378Z",
     "iopub.status.idle": "2020-08-26T22:40:43.098541Z",
     "shell.execute_reply": "2020-08-26T22:40:43.099567Z"
    },
    "papermill": {
     "duration": 1.670198,
     "end_time": "2020-08-26T22:40:43.099801",
     "exception": false,
     "start_time": "2020-08-26T22:40:41.429603",
     "status": "completed"
    },
    "tags": [
     "remove_cell"
    ]
   },
   "outputs": [],
   "source": [
    "! jt -t grade3 -tf robotosans -cellw 1100"
   ]
  },
  {
   "cell_type": "markdown",
   "metadata": {
    "papermill": {
     "duration": 0.009602,
     "end_time": "2020-08-26T22:40:43.119522",
     "exception": false,
     "start_time": "2020-08-26T22:40:43.109920",
     "status": "completed"
    },
    "tags": []
   },
   "source": [
    "This table is automatically updated with new daily COVID data for the county of Santa Barbara, CA. Every day, the California Department of Public Health publishes COVID tracking metrics for each county, but does not save the previous day's data. This tool keeps track of the daily metrics that are used to monitor progress towards safe reopening in California."
   ]
  },
  {
   "cell_type": "code",
   "execution_count": 2,
   "metadata": {
    "execution": {
     "iopub.execute_input": "2020-08-26T22:40:43.147586Z",
     "iopub.status.busy": "2020-08-26T22:40:43.147058Z",
     "iopub.status.idle": "2020-08-26T22:40:46.078530Z",
     "shell.execute_reply": "2020-08-26T22:40:46.079372Z"
    },
    "papermill": {
     "duration": 2.94984,
     "end_time": "2020-08-26T22:40:46.079534",
     "exception": false,
     "start_time": "2020-08-26T22:40:43.129694",
     "status": "completed"
    },
    "slideshow": {
     "slide_type": "skip"
    },
    "tags": [
     "remove_cell"
    ]
   },
   "outputs": [],
   "source": [
    "# Preamble\n",
    "import os\n",
    "from IPython.display import Markdown as md\n",
    "import IPython\n",
    "import requests\n",
    "from bs4 import BeautifulSoup\n",
    "import re\n",
    "import pandas as pd\n",
    "import datetime\n",
    "import gspread\n",
    "from oauth2client.service_account import ServiceAccountCredentials"
   ]
  },
  {
   "cell_type": "code",
   "execution_count": 3,
   "metadata": {
    "execution": {
     "iopub.execute_input": "2020-08-26T22:40:46.105006Z",
     "iopub.status.busy": "2020-08-26T22:40:46.104426Z",
     "iopub.status.idle": "2020-08-26T22:40:46.105811Z",
     "shell.execute_reply": "2020-08-26T22:40:46.105428Z"
    },
    "papermill": {
     "duration": 0.016214,
     "end_time": "2020-08-26T22:40:46.105931",
     "exception": false,
     "start_time": "2020-08-26T22:40:46.089717",
     "status": "completed"
    },
    "tags": [
     "remove_cell"
    ]
   },
   "outputs": [],
   "source": [
    "# Set working directory\n",
    "os.chdir(\"/home/alice_lepissier/COVID-SB\")"
   ]
  },
  {
   "cell_type": "code",
   "execution_count": 4,
   "metadata": {
    "execution": {
     "iopub.execute_input": "2020-08-26T22:40:46.131098Z",
     "iopub.status.busy": "2020-08-26T22:40:46.130553Z",
     "iopub.status.idle": "2020-08-26T22:40:47.614140Z",
     "shell.execute_reply": "2020-08-26T22:40:47.614925Z"
    },
    "papermill": {
     "duration": 1.499577,
     "end_time": "2020-08-26T22:40:47.615087",
     "exception": false,
     "start_time": "2020-08-26T22:40:46.115510",
     "status": "completed"
    },
    "slideshow": {
     "slide_type": "skip"
    },
    "tags": [
     "remove_cell"
    ]
   },
   "outputs": [],
   "source": [
    "# Request content from URL\n",
    "html_string = requests.get('https://www.cdph.ca.gov/Programs/CID/DCDC/Pages/COVID-19/COVID19CountyDataTable.aspx').content"
   ]
  },
  {
   "cell_type": "code",
   "execution_count": 5,
   "metadata": {
    "execution": {
     "iopub.execute_input": "2020-08-26T22:40:47.644256Z",
     "iopub.status.busy": "2020-08-26T22:40:47.643716Z",
     "iopub.status.idle": "2020-08-26T22:40:47.746760Z",
     "shell.execute_reply": "2020-08-26T22:40:47.747522Z"
    },
    "papermill": {
     "duration": 0.122622,
     "end_time": "2020-08-26T22:40:47.747684",
     "exception": false,
     "start_time": "2020-08-26T22:40:47.625062",
     "status": "completed"
    },
    "slideshow": {
     "slide_type": "skip"
    },
    "tags": [
     "remove_cell"
    ]
   },
   "outputs": [],
   "source": [
    "# Parse HTML\n",
    "soup = BeautifulSoup(html_string, 'html.parser')"
   ]
  },
  {
   "cell_type": "code",
   "execution_count": 6,
   "metadata": {
    "execution": {
     "iopub.execute_input": "2020-08-26T22:40:47.776685Z",
     "iopub.status.busy": "2020-08-26T22:40:47.776190Z",
     "iopub.status.idle": "2020-08-26T22:40:47.782309Z",
     "shell.execute_reply": "2020-08-26T22:40:47.783107Z"
    },
    "papermill": {
     "duration": 0.025586,
     "end_time": "2020-08-26T22:40:47.783264",
     "exception": false,
     "start_time": "2020-08-26T22:40:47.757678",
     "status": "completed"
    },
    "slideshow": {
     "slide_type": "skip"
    },
    "tags": [
     "remove_cell"
    ]
   },
   "outputs": [],
   "source": [
    "# Extract data for Santa Barbara\n",
    "table = soup.find_all(\"tr\", class_=\"ms-rteTableEvenRow-3\")\n",
    "SB = table[21]"
   ]
  },
  {
   "cell_type": "code",
   "execution_count": 7,
   "metadata": {
    "execution": {
     "iopub.execute_input": "2020-08-26T22:40:47.811601Z",
     "iopub.status.busy": "2020-08-26T22:40:47.811084Z",
     "iopub.status.idle": "2020-08-26T22:40:47.821672Z",
     "shell.execute_reply": "2020-08-26T22:40:47.822467Z"
    },
    "papermill": {
     "duration": 0.029161,
     "end_time": "2020-08-26T22:40:47.822626",
     "exception": false,
     "start_time": "2020-08-26T22:40:47.793465",
     "status": "completed"
    },
    "slideshow": {
     "slide_type": "skip"
    },
    "tags": [
     "remove_cell"
    ]
   },
   "outputs": [],
   "source": [
    "# Avg # tests per day (per 100,000 population)\n",
    "daily_tests = SB.find_all(\"td\", class_=\"ms-rteTableOddCol-3\")[0].text\n",
    "\n",
    "# Case rate per 100,000\n",
    "case_rate = SB.find_all(\"td\", class_=\"ms-rteTableEvenCol-3\")[1].text\n",
    "\n",
    "# Testing positivity (%)\n",
    "test_positivity = SB.find_all(\"td\", class_=\"ms-rteTableOddCol-3\")[1].text\n",
    "\n",
    "# % Change in 3-day avg COVID+ hospitalized patients\n",
    "change_hospit = SB.find_all(\"td\", class_=\"ms-rteTableEvenCol-3\")[2].text\n",
    "\n",
    "# % ICU beds currently available\n",
    "ICU_beds = SB.find_all(\"td\", class_=\"ms-rteTableOddCol-3\")[2].text\n",
    "\n",
    "# % Ventilators currently available\n",
    "ventilators = SB.find_all(\"td\", class_=\"ms-rteTableEvenCol-3\")[3].text\n",
    "\n",
    "# Extract date of last update\n",
    "update_date = soup.find_all(\"span\", class_=\"ms-rteStyle-Accent1\")[1]\\\n",
    "    .find(\"em\").text"
   ]
  },
  {
   "cell_type": "code",
   "execution_count": 8,
   "metadata": {
    "execution": {
     "iopub.execute_input": "2020-08-26T22:40:47.848474Z",
     "iopub.status.busy": "2020-08-26T22:40:47.847899Z",
     "iopub.status.idle": "2020-08-26T22:40:47.849403Z",
     "shell.execute_reply": "2020-08-26T22:40:47.848908Z"
    },
    "papermill": {
     "duration": 0.01607,
     "end_time": "2020-08-26T22:40:47.849552",
     "exception": false,
     "start_time": "2020-08-26T22:40:47.833482",
     "status": "completed"
    },
    "tags": [
     "remove_cell"
    ]
   },
   "outputs": [],
   "source": [
    "# Create updated date string\n",
    "update_tag = \"Table last updated by CDPH on \" + update_date.split(\" on \", 1)[1] + \".\""
   ]
  },
  {
   "cell_type": "code",
   "execution_count": 9,
   "metadata": {
    "execution": {
     "iopub.execute_input": "2020-08-26T22:40:47.873353Z",
     "iopub.status.busy": "2020-08-26T22:40:47.872854Z",
     "iopub.status.idle": "2020-08-26T22:40:47.897294Z",
     "shell.execute_reply": "2020-08-26T22:40:47.898079Z"
    },
    "papermill": {
     "duration": 0.039071,
     "end_time": "2020-08-26T22:40:47.898272",
     "exception": false,
     "start_time": "2020-08-26T22:40:47.859201",
     "status": "completed"
    },
    "slideshow": {
     "slide_type": "skip"
    },
    "tags": [
     "remove_cell"
    ]
   },
   "outputs": [],
   "source": [
    "# Set up Google Sheet API\n",
    "scope = [\"https://spreadsheets.google.com/feeds\",'https://www.googleapis.com/auth/spreadsheets',\"https://www.googleapis.com/auth/drive.file\",\"https://www.googleapis.com/auth/drive\"]\n",
    "creds = ServiceAccountCredentials.from_json_keyfile_name(\"credentials.json\", scope)\n",
    "client = gspread.authorize(creds)"
   ]
  },
  {
   "cell_type": "code",
   "execution_count": 10,
   "metadata": {
    "execution": {
     "iopub.execute_input": "2020-08-26T22:40:47.923489Z",
     "iopub.status.busy": "2020-08-26T22:40:47.923003Z",
     "iopub.status.idle": "2020-08-26T22:40:49.398067Z",
     "shell.execute_reply": "2020-08-26T22:40:49.398777Z"
    },
    "papermill": {
     "duration": 1.490581,
     "end_time": "2020-08-26T22:40:49.398944",
     "exception": false,
     "start_time": "2020-08-26T22:40:47.908363",
     "status": "completed"
    },
    "slideshow": {
     "slide_type": "skip"
    },
    "tags": [
     "remove_cell"
    ]
   },
   "outputs": [
    {
     "data": {
      "text/plain": [
       "{'spreadsheetId': '13GG0FPUFg_5xCouN0ZF3woaPXwjuxL2Dw3uYIfwUW-Q',\n",
       " 'updatedRange': 'Sheet1!A2:G2',\n",
       " 'updatedRows': 1,\n",
       " 'updatedColumns': 7,\n",
       " 'updatedCells': 7}"
      ]
     },
     "execution_count": 10,
     "metadata": {},
     "output_type": "execute_result"
    }
   ],
   "source": [
    "# Append daily data as a new row in Google Sheet\n",
    "sheet = client.open(\"COVID Daily Metrics\").sheet1\n",
    "insertRow = [datetime.date.today().strftime(\"%Y-%m-%d\"),\n",
    "             daily_tests,\n",
    "             case_rate,\n",
    "             test_positivity,\n",
    "             change_hospit,\n",
    "             ICU_beds,\n",
    "             ventilators]\n",
    "sheet.insert_row(insertRow, 2)"
   ]
  },
  {
   "cell_type": "code",
   "execution_count": 11,
   "metadata": {
    "execution": {
     "iopub.execute_input": "2020-08-26T22:40:49.424458Z",
     "iopub.status.busy": "2020-08-26T22:40:49.423965Z",
     "iopub.status.idle": "2020-08-26T22:40:50.335329Z",
     "shell.execute_reply": "2020-08-26T22:40:50.336158Z"
    },
    "papermill": {
     "duration": 0.927186,
     "end_time": "2020-08-26T22:40:50.336325",
     "exception": false,
     "start_time": "2020-08-26T22:40:49.409139",
     "status": "completed"
    },
    "scrolled": true,
    "slideshow": {
     "slide_type": "slide"
    },
    "tags": [
     "remove_cell"
    ]
   },
   "outputs": [],
   "source": [
    "# Extract data from Google Sheet as pandas dataframe\n",
    "sheet = client.open(\"COVID Daily Metrics\").sheet1\n",
    "data = sheet.get_all_records()\n",
    "result = pd.DataFrame(data).set_index(\"Date\")"
   ]
  },
  {
   "cell_type": "code",
   "execution_count": 12,
   "metadata": {
    "execution": {
     "iopub.execute_input": "2020-08-26T22:40:50.363481Z",
     "iopub.status.busy": "2020-08-26T22:40:50.362989Z",
     "iopub.status.idle": "2020-08-26T22:40:51.461378Z",
     "shell.execute_reply": "2020-08-26T22:40:51.462237Z"
    },
    "papermill": {
     "duration": 1.115162,
     "end_time": "2020-08-26T22:40:51.462419",
     "exception": false,
     "start_time": "2020-08-26T22:40:50.347257",
     "status": "completed"
    },
    "scrolled": true,
    "tags": [
     "remove_input"
    ]
   },
   "outputs": [
    {
     "data": {
      "text/html": [
       "<style  type=\"text/css\" >\n",
       "    #T_31a71df2_e7ed_11ea_b61b_42010a8a0004 th {\n",
       "          text-align: center;\n",
       "    }#T_31a71df2_e7ed_11ea_b61b_42010a8a0004row0_col0,#T_31a71df2_e7ed_11ea_b61b_42010a8a0004row1_col0,#T_31a71df2_e7ed_11ea_b61b_42010a8a0004row2_col0,#T_31a71df2_e7ed_11ea_b61b_42010a8a0004row3_col0,#T_31a71df2_e7ed_11ea_b61b_42010a8a0004row4_col0,#T_31a71df2_e7ed_11ea_b61b_42010a8a0004row5_col0,#T_31a71df2_e7ed_11ea_b61b_42010a8a0004row6_col0{\n",
       "            width:  20em;\n",
       "            text-align:  center;\n",
       "            font-weight:  bold;\n",
       "        }#T_31a71df2_e7ed_11ea_b61b_42010a8a0004row0_col1,#T_31a71df2_e7ed_11ea_b61b_42010a8a0004row0_col2,#T_31a71df2_e7ed_11ea_b61b_42010a8a0004row0_col3,#T_31a71df2_e7ed_11ea_b61b_42010a8a0004row0_col4,#T_31a71df2_e7ed_11ea_b61b_42010a8a0004row0_col5,#T_31a71df2_e7ed_11ea_b61b_42010a8a0004row0_col6,#T_31a71df2_e7ed_11ea_b61b_42010a8a0004row1_col1,#T_31a71df2_e7ed_11ea_b61b_42010a8a0004row1_col2,#T_31a71df2_e7ed_11ea_b61b_42010a8a0004row1_col3,#T_31a71df2_e7ed_11ea_b61b_42010a8a0004row1_col4,#T_31a71df2_e7ed_11ea_b61b_42010a8a0004row1_col5,#T_31a71df2_e7ed_11ea_b61b_42010a8a0004row1_col6,#T_31a71df2_e7ed_11ea_b61b_42010a8a0004row2_col1,#T_31a71df2_e7ed_11ea_b61b_42010a8a0004row2_col2,#T_31a71df2_e7ed_11ea_b61b_42010a8a0004row2_col3,#T_31a71df2_e7ed_11ea_b61b_42010a8a0004row2_col4,#T_31a71df2_e7ed_11ea_b61b_42010a8a0004row2_col5,#T_31a71df2_e7ed_11ea_b61b_42010a8a0004row2_col6,#T_31a71df2_e7ed_11ea_b61b_42010a8a0004row3_col1,#T_31a71df2_e7ed_11ea_b61b_42010a8a0004row3_col2,#T_31a71df2_e7ed_11ea_b61b_42010a8a0004row3_col3,#T_31a71df2_e7ed_11ea_b61b_42010a8a0004row3_col4,#T_31a71df2_e7ed_11ea_b61b_42010a8a0004row3_col5,#T_31a71df2_e7ed_11ea_b61b_42010a8a0004row3_col6,#T_31a71df2_e7ed_11ea_b61b_42010a8a0004row4_col1,#T_31a71df2_e7ed_11ea_b61b_42010a8a0004row4_col2,#T_31a71df2_e7ed_11ea_b61b_42010a8a0004row4_col3,#T_31a71df2_e7ed_11ea_b61b_42010a8a0004row4_col4,#T_31a71df2_e7ed_11ea_b61b_42010a8a0004row4_col5,#T_31a71df2_e7ed_11ea_b61b_42010a8a0004row4_col6,#T_31a71df2_e7ed_11ea_b61b_42010a8a0004row5_col1,#T_31a71df2_e7ed_11ea_b61b_42010a8a0004row5_col2,#T_31a71df2_e7ed_11ea_b61b_42010a8a0004row5_col3,#T_31a71df2_e7ed_11ea_b61b_42010a8a0004row5_col4,#T_31a71df2_e7ed_11ea_b61b_42010a8a0004row5_col5,#T_31a71df2_e7ed_11ea_b61b_42010a8a0004row5_col6,#T_31a71df2_e7ed_11ea_b61b_42010a8a0004row6_col1,#T_31a71df2_e7ed_11ea_b61b_42010a8a0004row6_col2,#T_31a71df2_e7ed_11ea_b61b_42010a8a0004row6_col3,#T_31a71df2_e7ed_11ea_b61b_42010a8a0004row6_col4,#T_31a71df2_e7ed_11ea_b61b_42010a8a0004row6_col5,#T_31a71df2_e7ed_11ea_b61b_42010a8a0004row6_col6{\n",
       "            width:  20em;\n",
       "            text-align:  center;\n",
       "        }</style><table id=\"T_31a71df2_e7ed_11ea_b61b_42010a8a0004\" ><thead>    <tr>        <th class=\"col_heading level0 col0\" >Date</th>        <th class=\"col_heading level0 col1\" >Daily tests (per 100,000)¹</th>        <th class=\"col_heading level0 col2\" >Case rate (per 100,000)²</th>        <th class=\"col_heading level0 col3\" >Testing positivity (%)³</th>        <th class=\"col_heading level0 col4\" >Change in hospitalizations (%)⁴</th>        <th class=\"col_heading level0 col5\" >ICU beds available (%)</th>        <th class=\"col_heading level0 col6\" >Ventilators (available (%)</th>    </tr></thead><tbody>\n",
       "                <tr>\n",
       "                                <td id=\"T_31a71df2_e7ed_11ea_b61b_42010a8a0004row0_col0\" class=\"data row0 col0\" >2020-08-26</td>\n",
       "                        <td id=\"T_31a71df2_e7ed_11ea_b61b_42010a8a0004row0_col1\" class=\"data row0 col1\" >219.7</td>\n",
       "                        <td id=\"T_31a71df2_e7ed_11ea_b61b_42010a8a0004row0_col2\" class=\"data row0 col2\" >133.2</td>\n",
       "                        <td id=\"T_31a71df2_e7ed_11ea_b61b_42010a8a0004row0_col3\" class=\"data row0 col3\" > ✔</td>\n",
       "                        <td id=\"T_31a71df2_e7ed_11ea_b61b_42010a8a0004row0_col4\" class=\"data row0 col4\" > ✔</td>\n",
       "                        <td id=\"T_31a71df2_e7ed_11ea_b61b_42010a8a0004row0_col5\" class=\"data row0 col5\" > ✔</td>\n",
       "                        <td id=\"T_31a71df2_e7ed_11ea_b61b_42010a8a0004row0_col6\" class=\"data row0 col6\" > ✔</td>\n",
       "            </tr>\n",
       "            <tr>\n",
       "                                <td id=\"T_31a71df2_e7ed_11ea_b61b_42010a8a0004row1_col0\" class=\"data row1 col0\" >2020-08-25</td>\n",
       "                        <td id=\"T_31a71df2_e7ed_11ea_b61b_42010a8a0004row1_col1\" class=\"data row1 col1\" >222.1</td>\n",
       "                        <td id=\"T_31a71df2_e7ed_11ea_b61b_42010a8a0004row1_col2\" class=\"data row1 col2\" >134.1</td>\n",
       "                        <td id=\"T_31a71df2_e7ed_11ea_b61b_42010a8a0004row1_col3\" class=\"data row1 col3\" > ✔</td>\n",
       "                        <td id=\"T_31a71df2_e7ed_11ea_b61b_42010a8a0004row1_col4\" class=\"data row1 col4\" > ✔</td>\n",
       "                        <td id=\"T_31a71df2_e7ed_11ea_b61b_42010a8a0004row1_col5\" class=\"data row1 col5\" > ✔</td>\n",
       "                        <td id=\"T_31a71df2_e7ed_11ea_b61b_42010a8a0004row1_col6\" class=\"data row1 col6\" > ✔</td>\n",
       "            </tr>\n",
       "            <tr>\n",
       "                                <td id=\"T_31a71df2_e7ed_11ea_b61b_42010a8a0004row2_col0\" class=\"data row2 col0\" >2020-08-24</td>\n",
       "                        <td id=\"T_31a71df2_e7ed_11ea_b61b_42010a8a0004row2_col1\" class=\"data row2 col1\" >227.3</td>\n",
       "                        <td id=\"T_31a71df2_e7ed_11ea_b61b_42010a8a0004row2_col2\" class=\"data row2 col2\" >138.0</td>\n",
       "                        <td id=\"T_31a71df2_e7ed_11ea_b61b_42010a8a0004row2_col3\" class=\"data row2 col3\" > ✔</td>\n",
       "                        <td id=\"T_31a71df2_e7ed_11ea_b61b_42010a8a0004row2_col4\" class=\"data row2 col4\" > ✔</td>\n",
       "                        <td id=\"T_31a71df2_e7ed_11ea_b61b_42010a8a0004row2_col5\" class=\"data row2 col5\" > ✔</td>\n",
       "                        <td id=\"T_31a71df2_e7ed_11ea_b61b_42010a8a0004row2_col6\" class=\"data row2 col6\" > ✔</td>\n",
       "            </tr>\n",
       "            <tr>\n",
       "                                <td id=\"T_31a71df2_e7ed_11ea_b61b_42010a8a0004row3_col0\" class=\"data row3 col0\" >2020-08-23</td>\n",
       "                        <td id=\"T_31a71df2_e7ed_11ea_b61b_42010a8a0004row3_col1\" class=\"data row3 col1\" >232.7</td>\n",
       "                        <td id=\"T_31a71df2_e7ed_11ea_b61b_42010a8a0004row3_col2\" class=\"data row3 col2\" >136.7</td>\n",
       "                        <td id=\"T_31a71df2_e7ed_11ea_b61b_42010a8a0004row3_col3\" class=\"data row3 col3\" > ✔</td>\n",
       "                        <td id=\"T_31a71df2_e7ed_11ea_b61b_42010a8a0004row3_col4\" class=\"data row3 col4\" > ✔</td>\n",
       "                        <td id=\"T_31a71df2_e7ed_11ea_b61b_42010a8a0004row3_col5\" class=\"data row3 col5\" > ✔</td>\n",
       "                        <td id=\"T_31a71df2_e7ed_11ea_b61b_42010a8a0004row3_col6\" class=\"data row3 col6\" > ✔</td>\n",
       "            </tr>\n",
       "            <tr>\n",
       "                                <td id=\"T_31a71df2_e7ed_11ea_b61b_42010a8a0004row4_col0\" class=\"data row4 col0\" >2020-08-22</td>\n",
       "                        <td id=\"T_31a71df2_e7ed_11ea_b61b_42010a8a0004row4_col1\" class=\"data row4 col1\" >210.4</td>\n",
       "                        <td id=\"T_31a71df2_e7ed_11ea_b61b_42010a8a0004row4_col2\" class=\"data row4 col2\" >138.7</td>\n",
       "                        <td id=\"T_31a71df2_e7ed_11ea_b61b_42010a8a0004row4_col3\" class=\"data row4 col3\" > ✔</td>\n",
       "                        <td id=\"T_31a71df2_e7ed_11ea_b61b_42010a8a0004row4_col4\" class=\"data row4 col4\" > ✔</td>\n",
       "                        <td id=\"T_31a71df2_e7ed_11ea_b61b_42010a8a0004row4_col5\" class=\"data row4 col5\" > ✔</td>\n",
       "                        <td id=\"T_31a71df2_e7ed_11ea_b61b_42010a8a0004row4_col6\" class=\"data row4 col6\" > ✔</td>\n",
       "            </tr>\n",
       "            <tr>\n",
       "                                <td id=\"T_31a71df2_e7ed_11ea_b61b_42010a8a0004row5_col0\" class=\"data row5 col0\" >2020-08-21</td>\n",
       "                        <td id=\"T_31a71df2_e7ed_11ea_b61b_42010a8a0004row5_col1\" class=\"data row5 col1\" >208.7</td>\n",
       "                        <td id=\"T_31a71df2_e7ed_11ea_b61b_42010a8a0004row5_col2\" class=\"data row5 col2\" >138.5</td>\n",
       "                        <td id=\"T_31a71df2_e7ed_11ea_b61b_42010a8a0004row5_col3\" class=\"data row5 col3\" > ✔</td>\n",
       "                        <td id=\"T_31a71df2_e7ed_11ea_b61b_42010a8a0004row5_col4\" class=\"data row5 col4\" > ✔</td>\n",
       "                        <td id=\"T_31a71df2_e7ed_11ea_b61b_42010a8a0004row5_col5\" class=\"data row5 col5\" > ✔</td>\n",
       "                        <td id=\"T_31a71df2_e7ed_11ea_b61b_42010a8a0004row5_col6\" class=\"data row5 col6\" > ✔</td>\n",
       "            </tr>\n",
       "            <tr>\n",
       "                                <td id=\"T_31a71df2_e7ed_11ea_b61b_42010a8a0004row6_col0\" class=\"data row6 col0\" >2020-08-20</td>\n",
       "                        <td id=\"T_31a71df2_e7ed_11ea_b61b_42010a8a0004row6_col1\" class=\"data row6 col1\" >214.5</td>\n",
       "                        <td id=\"T_31a71df2_e7ed_11ea_b61b_42010a8a0004row6_col2\" class=\"data row6 col2\" >148.8</td>\n",
       "                        <td id=\"T_31a71df2_e7ed_11ea_b61b_42010a8a0004row6_col3\" class=\"data row6 col3\" > ✔</td>\n",
       "                        <td id=\"T_31a71df2_e7ed_11ea_b61b_42010a8a0004row6_col4\" class=\"data row6 col4\" > ✔</td>\n",
       "                        <td id=\"T_31a71df2_e7ed_11ea_b61b_42010a8a0004row6_col5\" class=\"data row6 col5\" > ✔</td>\n",
       "                        <td id=\"T_31a71df2_e7ed_11ea_b61b_42010a8a0004row6_col6\" class=\"data row6 col6\" > ✔</td>\n",
       "            </tr>\n",
       "    </tbody></table>"
      ],
      "text/plain": [
       "<pandas.io.formats.style.Styler at 0x7f793d703390>"
      ]
     },
     "execution_count": 12,
     "metadata": {},
     "output_type": "execute_result"
    }
   ],
   "source": [
    "# Style the pandas dataframe\n",
    "d = dict(selector=\"th\",\n",
    "         props=[('text-align', 'center')])\n",
    "\n",
    "result.reset_index().style\\\n",
    "    .set_properties(**{'width':'20em', 'text-align':'center'})\\\n",
    "    .set_properties(subset=['Date'], **{'font-weight': 'bold'})\\\n",
    "    .set_table_styles([d])\\\n",
    "    .set_precision(1)\\\n",
    "    .hide_index()"
   ]
  },
  {
   "cell_type": "markdown",
   "metadata": {
    "papermill": {
     "duration": 0.010826,
     "end_time": "2020-08-26T22:40:51.488768",
     "exception": false,
     "start_time": "2020-08-26T22:40:51.477942",
     "status": "completed"
    },
    "tags": []
   },
   "source": [
    "<sup>Notes: (1) 7 day average with a 7-day lag. (2) 14 day average. (3) 7 day average with a 7-day lag. (4) Change in 3 day average.</sup>"
   ]
  },
  {
   "cell_type": "code",
   "execution_count": 13,
   "metadata": {
    "execution": {
     "iopub.execute_input": "2020-08-26T22:40:51.515867Z",
     "iopub.status.busy": "2020-08-26T22:40:51.515360Z",
     "iopub.status.idle": "2020-08-26T22:40:51.519678Z",
     "shell.execute_reply": "2020-08-26T22:40:51.520045Z"
    },
    "papermill": {
     "duration": 0.020636,
     "end_time": "2020-08-26T22:40:51.520204",
     "exception": false,
     "start_time": "2020-08-26T22:40:51.499568",
     "status": "completed"
    },
    "tags": [
     "remove_input"
    ]
   },
   "outputs": [
    {
     "data": {
      "text/markdown": [
       "Table last updated by CDPH on August 26, 2020."
      ],
      "text/plain": [
       "<IPython.core.display.Markdown object>"
      ]
     },
     "execution_count": 13,
     "metadata": {},
     "output_type": "execute_result"
    }
   ],
   "source": [
    "md(update_tag)"
   ]
  },
  {
   "cell_type": "markdown",
   "metadata": {
    "papermill": {
     "duration": 0.010853,
     "end_time": "2020-08-26T22:40:51.541889",
     "exception": false,
     "start_time": "2020-08-26T22:40:51.531036",
     "status": "completed"
    },
    "tags": []
   },
   "source": [
    "## Tracking county closures in Santa Barbara"
   ]
  },
  {
   "cell_type": "markdown",
   "metadata": {
    "papermill": {
     "duration": 0.010921,
     "end_time": "2020-08-26T22:40:51.564025",
     "exception": false,
     "start_time": "2020-08-26T22:40:51.553104",
     "status": "completed"
    },
    "tags": []
   },
   "source": [
    "The state of California is using a data-driven approach informed by scientific evidence to tailor its response to COVID-19. Three dimensions of concern are monitored to assess whether a county should be placed on the County Monitoring List:\n",
    " 1. Elevated Disease Transmission\n",
    " 2. Increasing Hospitalization\n",
    " 3. Limited Hospital Capacity\n",
    "\n",
    "Once a county appears on the County Monitoring List for three consecutive days, indoor operations in the sectors listed in Section 3 of the [July 13th State Health Officer Order](https://www.cdph.ca.gov/Programs/CID/DCDC/CDPH%20Document%20Library/COVID-19/SHO%20Order%20Dimming%20Entire%20State%207-13-2020.pdf) must close.\n",
    "\n",
    "This table tracks where Santa Barbara stands in terms of the criteria for inclusion on the County Monitoring List. As of 20 August 2020, the criteria for inclusion on the monitoring list are:\n",
    "\n",
    "* Case rate >100 OR (Case rate >25 AND Positivity >8%)\n",
    "* \\>10% increase in hospitalizations\n",
    "* <20% ICU beds available OR <25% ventilators available\n",
    "\n",
    "If Santa Barbara meets the criteria for removal from the County Monitoring List for a certain metric, then a checkmark ✔ is displayed in the table.\n",
    "\n",
    "Read more at <https://covid19.ca.gov/roadmap-counties/>.\n",
    "\n",
    "Data source for county metrics: https://www.cdph.ca.gov/Programs/CID/DCDC/Pages/COVID-19/COVID19CountyDataTable.aspx."
   ]
  },
  {
   "cell_type": "markdown",
   "metadata": {
    "papermill": {
     "duration": 0.010781,
     "end_time": "2020-08-26T22:40:51.585840",
     "exception": false,
     "start_time": "2020-08-26T22:40:51.575059",
     "status": "completed"
    },
    "tags": []
   },
   "source": [
    "**See the code used to scrape the data: https://github.com/walice/COVID-SB/.**"
   ]
  },
  {
   "cell_type": "code",
   "execution_count": 14,
   "metadata": {
    "execution": {
     "iopub.execute_input": "2020-08-26T22:40:51.613165Z",
     "iopub.status.busy": "2020-08-26T22:40:51.612631Z",
     "iopub.status.idle": "2020-08-26T22:40:51.617123Z",
     "shell.execute_reply": "2020-08-26T22:40:51.617505Z"
    },
    "papermill": {
     "duration": 0.020856,
     "end_time": "2020-08-26T22:40:51.617665",
     "exception": false,
     "start_time": "2020-08-26T22:40:51.596809",
     "status": "completed"
    },
    "tags": [
     "remove_cell"
    ]
   },
   "outputs": [
    {
     "data": {
      "application/javascript": [
       "IPython.notebook.save_notebook()\n"
      ],
      "text/plain": [
       "<IPython.core.display.Javascript object>"
      ]
     },
     "metadata": {},
     "output_type": "display_data"
    }
   ],
   "source": [
    "%%javascript\n",
    "IPython.notebook.save_notebook()"
   ]
  },
  {
   "cell_type": "code",
   "execution_count": 15,
   "metadata": {
    "execution": {
     "iopub.execute_input": "2020-08-26T22:40:51.647605Z",
     "iopub.status.busy": "2020-08-26T22:40:51.647090Z",
     "iopub.status.idle": "2020-08-26T22:40:54.223294Z",
     "shell.execute_reply": "2020-08-26T22:40:54.224181Z"
    },
    "papermill": {
     "duration": 2.595812,
     "end_time": "2020-08-26T22:40:54.224365",
     "exception": false,
     "start_time": "2020-08-26T22:40:51.628553",
     "status": "completed"
    },
    "slideshow": {
     "slide_type": "skip"
    },
    "tags": [
     "remove_cell"
    ]
   },
   "outputs": [
    {
     "name": "stdout",
     "output_type": "stream",
     "text": [
      "[NbConvertApp] Converting notebook index.ipynb to html\r\n"
     ]
    },
    {
     "name": "stdout",
     "output_type": "stream",
     "text": [
      "[NbConvertApp] Writing 357723 bytes to index.html\r\n"
     ]
    }
   ],
   "source": [
    "# Convert Jupyter Notebook to HTML\n",
    "! jupyter nbconvert \"index.ipynb\" --to html --TagRemovePreprocessor.enabled=True --TagRemovePreprocessor.remove_cell_tags=\"['remove_cell']\" --TagRemovePreprocessor.remove_input_tags=\"['remove_input']\" --no-prompt"
   ]
  },
  {
   "cell_type": "code",
   "execution_count": 16,
   "metadata": {
    "execution": {
     "iopub.execute_input": "2020-08-26T22:40:54.252414Z",
     "iopub.status.busy": "2020-08-26T22:40:54.251924Z",
     "iopub.status.idle": "2020-08-26T22:40:54.254258Z",
     "shell.execute_reply": "2020-08-26T22:40:54.254631Z"
    },
    "papermill": {
     "duration": 0.018583,
     "end_time": "2020-08-26T22:40:54.254775",
     "exception": false,
     "start_time": "2020-08-26T22:40:54.236192",
     "status": "completed"
    },
    "tags": [
     "remove_cell"
    ]
   },
   "outputs": [],
   "source": [
    "# Create daily commit message\n",
    "now = datetime.datetime.now()\n",
    "commit_message = \"Last scraped on \" + str(now)"
   ]
  },
  {
   "cell_type": "code",
   "execution_count": null,
   "metadata": {
    "execution": {
     "iopub.execute_input": "2020-08-26T22:39:14.939510Z",
     "iopub.status.busy": "2020-08-26T22:39:14.939021Z",
     "iopub.status.idle": "2020-08-26T22:39:20.204914Z",
     "shell.execute_reply": "2020-08-26T22:39:20.203702Z"
    },
    "papermill": {
     "duration": null,
     "end_time": null,
     "exception": false,
     "start_time": "2020-08-26T22:40:54.265839",
     "status": "running"
    },
    "tags": [
     "remove_cell"
    ]
   },
   "outputs": [],
   "source": [
    "# Deploy to GitHub\n",
    "! git add .\n",
    "! echo $commit_message > commit_message.txt\n",
    "! git commit -F commit_message.txt\n",
    "! git push"
   ]
  }
 ],
 "metadata": {
  "celltoolbar": "Tags",
  "kernelspec": {
   "display_name": "Python 3",
   "language": "python",
   "name": "python3"
  },
  "language_info": {
   "codemirror_mode": {
    "name": "ipython",
    "version": 3
   },
   "file_extension": ".py",
   "mimetype": "text/x-python",
   "name": "python",
   "nbconvert_exporter": "python",
   "pygments_lexer": "ipython3",
   "version": "3.7.3"
  },
  "papermill": {
   "duration": null,
   "end_time": null,
   "environment_variables": {},
   "exception": null,
   "input_path": "/home/alice_lepissier/COVID-SB/index.ipynb",
   "output_path": "/home/alice_lepissier/COVID-SB/index.ipynb",
   "parameters": {},
   "start_time": "2020-08-26T22:40:39.501640",
   "version": "2.1.3"
  }
 },
 "nbformat": 4,
 "nbformat_minor": 4
}