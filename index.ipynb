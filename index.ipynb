{
 "cells": [
  {
   "cell_type": "markdown",
   "metadata": {
    "papermill": {
     "duration": 0.012388,
     "end_time": "2020-08-26T09:51:13.201877",
     "exception": false,
     "start_time": "2020-08-26T09:51:13.189489",
     "status": "completed"
    },
    "tags": []
   },
   "source": [
    "# Daily COVID monitoring data for Santa Barbara county"
   ]
  },
  {
   "cell_type": "code",
   "execution_count": 1,
   "metadata": {
    "execution": {
     "iopub.execute_input": "2020-08-26T09:51:13.231792Z",
     "iopub.status.busy": "2020-08-26T09:51:13.231208Z",
     "iopub.status.idle": "2020-08-26T09:51:15.188279Z",
     "shell.execute_reply": "2020-08-26T09:51:15.189147Z"
    },
    "papermill": {
     "duration": 1.975811,
     "end_time": "2020-08-26T09:51:15.189341",
     "exception": false,
     "start_time": "2020-08-26T09:51:13.213530",
     "status": "completed"
    },
    "tags": [
     "remove_cell"
    ]
   },
   "outputs": [],
   "source": [
    "! jt -t grade3 -tf robotosans -cellw 1100"
   ]
  },
  {
   "cell_type": "markdown",
   "metadata": {
    "papermill": {
     "duration": 0.010842,
     "end_time": "2020-08-26T09:51:15.211476",
     "exception": false,
     "start_time": "2020-08-26T09:51:15.200634",
     "status": "completed"
    },
    "tags": []
   },
   "source": [
    "This table is automatically updated with new daily COVID data for the county of Santa Barbara, CA. Every day, the California Department of Public Health publishes COVID tracking metrics for each county, but does not save the previous day's data. This tool keeps track of the daily metrics that are used to monitor progress towards safe reopening in California."
   ]
  },
  {
   "cell_type": "code",
   "execution_count": 2,
   "metadata": {
    "execution": {
     "iopub.execute_input": "2020-08-26T09:51:15.239507Z",
     "iopub.status.busy": "2020-08-26T09:51:15.239007Z",
     "iopub.status.idle": "2020-08-26T09:51:17.207296Z",
     "shell.execute_reply": "2020-08-26T09:51:17.208105Z"
    },
    "papermill": {
     "duration": 1.986041,
     "end_time": "2020-08-26T09:51:17.208280",
     "exception": false,
     "start_time": "2020-08-26T09:51:15.222239",
     "status": "completed"
    },
    "slideshow": {
     "slide_type": "skip"
    },
    "tags": [
     "remove_cell"
    ]
   },
   "outputs": [],
   "source": [
    "# Preamble\n",
    "import os\n",
    "from IPython.display import Markdown as md\n",
    "import IPython\n",
    "import requests\n",
    "from bs4 import BeautifulSoup\n",
    "import re\n",
    "import pandas as pd\n",
    "import datetime\n",
    "import gspread\n",
    "from oauth2client.service_account import ServiceAccountCredentials"
   ]
  },
  {
   "cell_type": "code",
   "execution_count": 3,
   "metadata": {
    "execution": {
     "iopub.execute_input": "2020-08-26T09:51:17.247439Z",
     "iopub.status.busy": "2020-08-26T09:51:17.246786Z",
     "iopub.status.idle": "2020-08-26T09:51:17.248330Z",
     "shell.execute_reply": "2020-08-26T09:51:17.247899Z"
    },
    "papermill": {
     "duration": 0.017982,
     "end_time": "2020-08-26T09:51:17.248447",
     "exception": false,
     "start_time": "2020-08-26T09:51:17.230465",
     "status": "completed"
    },
    "tags": [
     "remove_cell"
    ]
   },
   "outputs": [],
   "source": [
    "# Set working directory\n",
    "os.chdir(\"/home/alice_lepissier/COVID-SB\")"
   ]
  },
  {
   "cell_type": "code",
   "execution_count": 4,
   "metadata": {
    "execution": {
     "iopub.execute_input": "2020-08-26T09:51:17.275099Z",
     "iopub.status.busy": "2020-08-26T09:51:17.274577Z",
     "iopub.status.idle": "2020-08-26T09:51:17.545771Z",
     "shell.execute_reply": "2020-08-26T09:51:17.546563Z"
    },
    "papermill": {
     "duration": 0.28762,
     "end_time": "2020-08-26T09:51:17.546731",
     "exception": false,
     "start_time": "2020-08-26T09:51:17.259111",
     "status": "completed"
    },
    "slideshow": {
     "slide_type": "skip"
    },
    "tags": [
     "remove_cell"
    ]
   },
   "outputs": [],
   "source": [
    "# Request content from URL\n",
    "html_string = requests.get('https://www.cdph.ca.gov/Programs/CID/DCDC/Pages/COVID-19/COVID19CountyDataTable.aspx').content"
   ]
  },
  {
   "cell_type": "code",
   "execution_count": 5,
   "metadata": {
    "execution": {
     "iopub.execute_input": "2020-08-26T09:51:17.575447Z",
     "iopub.status.busy": "2020-08-26T09:51:17.574950Z",
     "iopub.status.idle": "2020-08-26T09:51:17.666583Z",
     "shell.execute_reply": "2020-08-26T09:51:17.667574Z"
    },
    "papermill": {
     "duration": 0.10991,
     "end_time": "2020-08-26T09:51:17.667749",
     "exception": false,
     "start_time": "2020-08-26T09:51:17.557839",
     "status": "completed"
    },
    "slideshow": {
     "slide_type": "skip"
    },
    "tags": [
     "remove_cell"
    ]
   },
   "outputs": [],
   "source": [
    "# Parse HTML\n",
    "soup = BeautifulSoup(html_string, 'html.parser')"
   ]
  },
  {
   "cell_type": "code",
   "execution_count": 6,
   "metadata": {
    "execution": {
     "iopub.execute_input": "2020-08-26T09:51:17.695501Z",
     "iopub.status.busy": "2020-08-26T09:51:17.694993Z",
     "iopub.status.idle": "2020-08-26T09:51:17.704426Z",
     "shell.execute_reply": "2020-08-26T09:51:17.705294Z"
    },
    "papermill": {
     "duration": 0.026457,
     "end_time": "2020-08-26T09:51:17.705450",
     "exception": false,
     "start_time": "2020-08-26T09:51:17.678993",
     "status": "completed"
    },
    "slideshow": {
     "slide_type": "skip"
    },
    "tags": [
     "remove_cell"
    ]
   },
   "outputs": [],
   "source": [
    "# Extract data for Santa Barbara\n",
    "table = soup.find_all(\"tr\", class_=\"ms-rteTableEvenRow-3\")\n",
    "SB = table[21]"
   ]
  },
  {
   "cell_type": "code",
   "execution_count": 7,
   "metadata": {
    "execution": {
     "iopub.execute_input": "2020-08-26T09:51:17.736731Z",
     "iopub.status.busy": "2020-08-26T09:51:17.736187Z",
     "iopub.status.idle": "2020-08-26T09:51:17.745330Z",
     "shell.execute_reply": "2020-08-26T09:51:17.746058Z"
    },
    "papermill": {
     "duration": 0.02975,
     "end_time": "2020-08-26T09:51:17.746235",
     "exception": false,
     "start_time": "2020-08-26T09:51:17.716485",
     "status": "completed"
    },
    "slideshow": {
     "slide_type": "skip"
    },
    "tags": [
     "remove_cell"
    ]
   },
   "outputs": [],
   "source": [
    "# Avg # tests per day (per 100,000 population)\n",
    "daily_tests = SB.find_all(\"td\", class_=\"ms-rteTableOddCol-3\")[0].text\n",
    "\n",
    "# Case rate per 100,000\n",
    "case_rate = SB.find_all(\"td\", class_=\"ms-rteTableEvenCol-3\")[1].text\n",
    "\n",
    "# Testing positivity (%)\n",
    "test_positivity = SB.find_all(\"td\", class_=\"ms-rteTableOddCol-3\")[1].text\n",
    "\n",
    "# % Change in 3-day avg COVID+ hospitalized patients\n",
    "change_hospit = SB.find_all(\"td\", class_=\"ms-rteTableEvenCol-3\")[2].text\n",
    "\n",
    "# % ICU beds currently available\n",
    "ICU_beds = SB.find_all(\"td\", class_=\"ms-rteTableOddCol-3\")[2].text\n",
    "\n",
    "# % Ventilators currently available\n",
    "ventilators = SB.find_all(\"td\", class_=\"ms-rteTableEvenCol-3\")[3].text\n",
    "\n",
    "# Extract date of last update\n",
    "update_date = soup.find_all(\"span\", class_=\"ms-rteStyle-Accent1\")[1]\\\n",
    "    .find(\"em\").text"
   ]
  },
  {
   "cell_type": "code",
   "execution_count": 8,
   "metadata": {
    "execution": {
     "iopub.execute_input": "2020-08-26T09:51:17.773560Z",
     "iopub.status.busy": "2020-08-26T09:51:17.772990Z",
     "iopub.status.idle": "2020-08-26T09:51:17.774442Z",
     "shell.execute_reply": "2020-08-26T09:51:17.773996Z"
    },
    "papermill": {
     "duration": 0.017188,
     "end_time": "2020-08-26T09:51:17.774557",
     "exception": false,
     "start_time": "2020-08-26T09:51:17.757369",
     "status": "completed"
    },
    "tags": [
     "remove_cell"
    ]
   },
   "outputs": [],
   "source": [
    "# Create updated date string\n",
    "update_tag = \"Table last updated by CDPH on \" + update_date.split(\" on \", 1)[1] + \".\""
   ]
  },
  {
   "cell_type": "code",
   "execution_count": 9,
   "metadata": {
    "execution": {
     "iopub.execute_input": "2020-08-26T09:51:17.800695Z",
     "iopub.status.busy": "2020-08-26T09:51:17.800226Z",
     "iopub.status.idle": "2020-08-26T09:51:17.826057Z",
     "shell.execute_reply": "2020-08-26T09:51:17.826886Z"
    },
    "papermill": {
     "duration": 0.04172,
     "end_time": "2020-08-26T09:51:17.827046",
     "exception": false,
     "start_time": "2020-08-26T09:51:17.785326",
     "status": "completed"
    },
    "slideshow": {
     "slide_type": "skip"
    },
    "tags": [
     "remove_cell"
    ]
   },
   "outputs": [],
   "source": [
    "# Set up Google Sheet API\n",
    "scope = [\"https://spreadsheets.google.com/feeds\",'https://www.googleapis.com/auth/spreadsheets',\"https://www.googleapis.com/auth/drive.file\",\"https://www.googleapis.com/auth/drive\"]\n",
    "creds = ServiceAccountCredentials.from_json_keyfile_name(\"credentials.json\", scope)\n",
    "client = gspread.authorize(creds)"
   ]
  },
  {
   "cell_type": "code",
   "execution_count": 10,
   "metadata": {
    "execution": {
     "iopub.execute_input": "2020-08-26T09:51:17.855451Z",
     "iopub.status.busy": "2020-08-26T09:51:17.854964Z",
     "iopub.status.idle": "2020-08-26T09:51:19.423003Z",
     "shell.execute_reply": "2020-08-26T09:51:19.423796Z"
    },
    "papermill": {
     "duration": 1.585779,
     "end_time": "2020-08-26T09:51:19.423950",
     "exception": false,
     "start_time": "2020-08-26T09:51:17.838171",
     "status": "completed"
    },
    "slideshow": {
     "slide_type": "skip"
    },
    "tags": [
     "remove_cell"
    ]
   },
   "outputs": [
    {
     "data": {
      "text/plain": [
       "{'spreadsheetId': '1pcqdMzKtea2Oq3BDmdAOQ21gZjCssieKI0692VfNLXU',\n",
       " 'updatedRange': 'Sheet1!A2:G2',\n",
       " 'updatedRows': 1,\n",
       " 'updatedColumns': 7,\n",
       " 'updatedCells': 7}"
      ]
     },
     "execution_count": 10,
     "metadata": {},
     "output_type": "execute_result"
    }
   ],
   "source": [
    "# Append daily data as a new row in Google Sheet\n",
    "sheet = client.open(\"COVID Daily Metrics\").sheet1\n",
    "insertRow = [datetime.date.today().strftime(\"%Y-%m-%d\"),\n",
    "             daily_tests,\n",
    "             case_rate,\n",
    "             test_positivity,\n",
    "             change_hospit,\n",
    "             ICU_beds,\n",
    "             ventilators]\n",
    "sheet.insert_row(insertRow, 2)"
   ]
  },
  {
   "cell_type": "code",
   "execution_count": 11,
   "metadata": {
    "execution": {
     "iopub.execute_input": "2020-08-26T09:51:19.452131Z",
     "iopub.status.busy": "2020-08-26T09:51:19.451616Z",
     "iopub.status.idle": "2020-08-26T09:51:20.220196Z",
     "shell.execute_reply": "2020-08-26T09:51:20.221011Z"
    },
    "papermill": {
     "duration": 0.785656,
     "end_time": "2020-08-26T09:51:20.221172",
     "exception": false,
     "start_time": "2020-08-26T09:51:19.435516",
     "status": "completed"
    },
    "scrolled": true,
    "slideshow": {
     "slide_type": "slide"
    },
    "tags": [
     "remove_cell"
    ]
   },
   "outputs": [],
   "source": [
    "# Extract data from Google Sheet as pandas dataframe\n",
    "sheet = client.open(\"COVID Daily Metrics\").sheet1\n",
    "data = sheet.get_all_records()\n",
    "result = pd.DataFrame(data).set_index(\"Date\")"
   ]
  },
  {
   "cell_type": "code",
   "execution_count": 12,
   "metadata": {
    "execution": {
     "iopub.execute_input": "2020-08-26T09:51:20.250071Z",
     "iopub.status.busy": "2020-08-26T09:51:20.249515Z",
     "iopub.status.idle": "2020-08-26T09:51:21.512260Z",
     "shell.execute_reply": "2020-08-26T09:51:21.513084Z"
    },
    "papermill": {
     "duration": 1.280376,
     "end_time": "2020-08-26T09:51:21.513248",
     "exception": false,
     "start_time": "2020-08-26T09:51:20.232872",
     "status": "completed"
    },
    "scrolled": true,
    "tags": [
     "remove_input"
    ]
   },
   "outputs": [
    {
     "data": {
      "text/html": [
       "<style  type=\"text/css\" >\n",
       "    #T_b237ac8c_e781_11ea_a849_42010a8a0004 th {\n",
       "          text-align: center;\n",
       "    }#T_b237ac8c_e781_11ea_a849_42010a8a0004row0_col0,#T_b237ac8c_e781_11ea_a849_42010a8a0004row1_col0,#T_b237ac8c_e781_11ea_a849_42010a8a0004row2_col0,#T_b237ac8c_e781_11ea_a849_42010a8a0004row3_col0,#T_b237ac8c_e781_11ea_a849_42010a8a0004row4_col0,#T_b237ac8c_e781_11ea_a849_42010a8a0004row5_col0,#T_b237ac8c_e781_11ea_a849_42010a8a0004row6_col0,#T_b237ac8c_e781_11ea_a849_42010a8a0004row7_col0,#T_b237ac8c_e781_11ea_a849_42010a8a0004row8_col0,#T_b237ac8c_e781_11ea_a849_42010a8a0004row9_col0,#T_b237ac8c_e781_11ea_a849_42010a8a0004row10_col0,#T_b237ac8c_e781_11ea_a849_42010a8a0004row11_col0,#T_b237ac8c_e781_11ea_a849_42010a8a0004row12_col0,#T_b237ac8c_e781_11ea_a849_42010a8a0004row13_col0,#T_b237ac8c_e781_11ea_a849_42010a8a0004row14_col0,#T_b237ac8c_e781_11ea_a849_42010a8a0004row15_col0,#T_b237ac8c_e781_11ea_a849_42010a8a0004row16_col0,#T_b237ac8c_e781_11ea_a849_42010a8a0004row17_col0,#T_b237ac8c_e781_11ea_a849_42010a8a0004row18_col0,#T_b237ac8c_e781_11ea_a849_42010a8a0004row19_col0,#T_b237ac8c_e781_11ea_a849_42010a8a0004row20_col0,#T_b237ac8c_e781_11ea_a849_42010a8a0004row21_col0,#T_b237ac8c_e781_11ea_a849_42010a8a0004row22_col0,#T_b237ac8c_e781_11ea_a849_42010a8a0004row23_col0,#T_b237ac8c_e781_11ea_a849_42010a8a0004row24_col0{\n",
       "            width:  20em;\n",
       "            text-align:  center;\n",
       "            font-weight:  bold;\n",
       "        }#T_b237ac8c_e781_11ea_a849_42010a8a0004row0_col1,#T_b237ac8c_e781_11ea_a849_42010a8a0004row0_col2,#T_b237ac8c_e781_11ea_a849_42010a8a0004row1_col1,#T_b237ac8c_e781_11ea_a849_42010a8a0004row1_col2,#T_b237ac8c_e781_11ea_a849_42010a8a0004row2_col1,#T_b237ac8c_e781_11ea_a849_42010a8a0004row2_col2,#T_b237ac8c_e781_11ea_a849_42010a8a0004row3_col1,#T_b237ac8c_e781_11ea_a849_42010a8a0004row3_col2,#T_b237ac8c_e781_11ea_a849_42010a8a0004row4_col1,#T_b237ac8c_e781_11ea_a849_42010a8a0004row4_col2,#T_b237ac8c_e781_11ea_a849_42010a8a0004row5_col1,#T_b237ac8c_e781_11ea_a849_42010a8a0004row5_col2,#T_b237ac8c_e781_11ea_a849_42010a8a0004row6_col1,#T_b237ac8c_e781_11ea_a849_42010a8a0004row6_col2,#T_b237ac8c_e781_11ea_a849_42010a8a0004row7_col1,#T_b237ac8c_e781_11ea_a849_42010a8a0004row7_col2,#T_b237ac8c_e781_11ea_a849_42010a8a0004row8_col1,#T_b237ac8c_e781_11ea_a849_42010a8a0004row8_col2,#T_b237ac8c_e781_11ea_a849_42010a8a0004row9_col1,#T_b237ac8c_e781_11ea_a849_42010a8a0004row9_col2,#T_b237ac8c_e781_11ea_a849_42010a8a0004row10_col1,#T_b237ac8c_e781_11ea_a849_42010a8a0004row10_col2,#T_b237ac8c_e781_11ea_a849_42010a8a0004row11_col1,#T_b237ac8c_e781_11ea_a849_42010a8a0004row11_col2,#T_b237ac8c_e781_11ea_a849_42010a8a0004row12_col1,#T_b237ac8c_e781_11ea_a849_42010a8a0004row12_col2,#T_b237ac8c_e781_11ea_a849_42010a8a0004row13_col1,#T_b237ac8c_e781_11ea_a849_42010a8a0004row13_col2,#T_b237ac8c_e781_11ea_a849_42010a8a0004row14_col1,#T_b237ac8c_e781_11ea_a849_42010a8a0004row14_col2,#T_b237ac8c_e781_11ea_a849_42010a8a0004row15_col1,#T_b237ac8c_e781_11ea_a849_42010a8a0004row15_col2,#T_b237ac8c_e781_11ea_a849_42010a8a0004row16_col1,#T_b237ac8c_e781_11ea_a849_42010a8a0004row16_col2,#T_b237ac8c_e781_11ea_a849_42010a8a0004row17_col1,#T_b237ac8c_e781_11ea_a849_42010a8a0004row17_col2,#T_b237ac8c_e781_11ea_a849_42010a8a0004row18_col1,#T_b237ac8c_e781_11ea_a849_42010a8a0004row18_col2,#T_b237ac8c_e781_11ea_a849_42010a8a0004row19_col1,#T_b237ac8c_e781_11ea_a849_42010a8a0004row19_col2,#T_b237ac8c_e781_11ea_a849_42010a8a0004row20_col1,#T_b237ac8c_e781_11ea_a849_42010a8a0004row20_col2,#T_b237ac8c_e781_11ea_a849_42010a8a0004row21_col1,#T_b237ac8c_e781_11ea_a849_42010a8a0004row21_col2,#T_b237ac8c_e781_11ea_a849_42010a8a0004row22_col1,#T_b237ac8c_e781_11ea_a849_42010a8a0004row22_col2,#T_b237ac8c_e781_11ea_a849_42010a8a0004row23_col1,#T_b237ac8c_e781_11ea_a849_42010a8a0004row23_col2,#T_b237ac8c_e781_11ea_a849_42010a8a0004row24_col1,#T_b237ac8c_e781_11ea_a849_42010a8a0004row24_col2{\n",
       "            width:  20em;\n",
       "            text-align:  center;\n",
       "        }</style><table id=\"T_b237ac8c_e781_11ea_a849_42010a8a0004\" ><thead>    <tr>        <th class=\"col_heading level0 col0\" >Date</th>        <th class=\"col_heading level0 col1\" >Time</th>        <th class=\"col_heading level0 col2\" ></th>    </tr></thead><tbody>\n",
       "                <tr>\n",
       "                                <td id=\"T_b237ac8c_e781_11ea_a849_42010a8a0004row0_col0\" class=\"data row0 col0\" >2020-08-26</td>\n",
       "                        <td id=\"T_b237ac8c_e781_11ea_a849_42010a8a0004row0_col1\" class=\"data row0 col1\" >222.1</td>\n",
       "                        <td id=\"T_b237ac8c_e781_11ea_a849_42010a8a0004row0_col2\" class=\"data row0 col2\" > ✔</td>\n",
       "            </tr>\n",
       "            <tr>\n",
       "                                <td id=\"T_b237ac8c_e781_11ea_a849_42010a8a0004row1_col0\" class=\"data row1 col0\" >2020-08-26</td>\n",
       "                        <td id=\"T_b237ac8c_e781_11ea_a849_42010a8a0004row1_col1\" class=\"data row1 col1\" >222.1</td>\n",
       "                        <td id=\"T_b237ac8c_e781_11ea_a849_42010a8a0004row1_col2\" class=\"data row1 col2\" > ✔</td>\n",
       "            </tr>\n",
       "            <tr>\n",
       "                                <td id=\"T_b237ac8c_e781_11ea_a849_42010a8a0004row2_col0\" class=\"data row2 col0\" >2020-08-26</td>\n",
       "                        <td id=\"T_b237ac8c_e781_11ea_a849_42010a8a0004row2_col1\" class=\"data row2 col1\" >222.1</td>\n",
       "                        <td id=\"T_b237ac8c_e781_11ea_a849_42010a8a0004row2_col2\" class=\"data row2 col2\" > ✔</td>\n",
       "            </tr>\n",
       "            <tr>\n",
       "                                <td id=\"T_b237ac8c_e781_11ea_a849_42010a8a0004row3_col0\" class=\"data row3 col0\" >2020-08-26</td>\n",
       "                        <td id=\"T_b237ac8c_e781_11ea_a849_42010a8a0004row3_col1\" class=\"data row3 col1\" >222.1</td>\n",
       "                        <td id=\"T_b237ac8c_e781_11ea_a849_42010a8a0004row3_col2\" class=\"data row3 col2\" > ✔</td>\n",
       "            </tr>\n",
       "            <tr>\n",
       "                                <td id=\"T_b237ac8c_e781_11ea_a849_42010a8a0004row4_col0\" class=\"data row4 col0\" >2020-08-26</td>\n",
       "                        <td id=\"T_b237ac8c_e781_11ea_a849_42010a8a0004row4_col1\" class=\"data row4 col1\" >222.1</td>\n",
       "                        <td id=\"T_b237ac8c_e781_11ea_a849_42010a8a0004row4_col2\" class=\"data row4 col2\" > ✔</td>\n",
       "            </tr>\n",
       "            <tr>\n",
       "                                <td id=\"T_b237ac8c_e781_11ea_a849_42010a8a0004row5_col0\" class=\"data row5 col0\" >2020-08-26</td>\n",
       "                        <td id=\"T_b237ac8c_e781_11ea_a849_42010a8a0004row5_col1\" class=\"data row5 col1\" >222.1</td>\n",
       "                        <td id=\"T_b237ac8c_e781_11ea_a849_42010a8a0004row5_col2\" class=\"data row5 col2\" > ✔</td>\n",
       "            </tr>\n",
       "            <tr>\n",
       "                                <td id=\"T_b237ac8c_e781_11ea_a849_42010a8a0004row6_col0\" class=\"data row6 col0\" >2020-08-26</td>\n",
       "                        <td id=\"T_b237ac8c_e781_11ea_a849_42010a8a0004row6_col1\" class=\"data row6 col1\" >222.1</td>\n",
       "                        <td id=\"T_b237ac8c_e781_11ea_a849_42010a8a0004row6_col2\" class=\"data row6 col2\" > ✔</td>\n",
       "            </tr>\n",
       "            <tr>\n",
       "                                <td id=\"T_b237ac8c_e781_11ea_a849_42010a8a0004row7_col0\" class=\"data row7 col0\" >2020-08-26</td>\n",
       "                        <td id=\"T_b237ac8c_e781_11ea_a849_42010a8a0004row7_col1\" class=\"data row7 col1\" >222.1</td>\n",
       "                        <td id=\"T_b237ac8c_e781_11ea_a849_42010a8a0004row7_col2\" class=\"data row7 col2\" > ✔</td>\n",
       "            </tr>\n",
       "            <tr>\n",
       "                                <td id=\"T_b237ac8c_e781_11ea_a849_42010a8a0004row8_col0\" class=\"data row8 col0\" >2020-08-26</td>\n",
       "                        <td id=\"T_b237ac8c_e781_11ea_a849_42010a8a0004row8_col1\" class=\"data row8 col1\" >222.1</td>\n",
       "                        <td id=\"T_b237ac8c_e781_11ea_a849_42010a8a0004row8_col2\" class=\"data row8 col2\" > ✔</td>\n",
       "            </tr>\n",
       "            <tr>\n",
       "                                <td id=\"T_b237ac8c_e781_11ea_a849_42010a8a0004row9_col0\" class=\"data row9 col0\" >2020-08-26</td>\n",
       "                        <td id=\"T_b237ac8c_e781_11ea_a849_42010a8a0004row9_col1\" class=\"data row9 col1\" >222.1</td>\n",
       "                        <td id=\"T_b237ac8c_e781_11ea_a849_42010a8a0004row9_col2\" class=\"data row9 col2\" > ✔</td>\n",
       "            </tr>\n",
       "            <tr>\n",
       "                                <td id=\"T_b237ac8c_e781_11ea_a849_42010a8a0004row10_col0\" class=\"data row10 col0\" >2020-08-26</td>\n",
       "                        <td id=\"T_b237ac8c_e781_11ea_a849_42010a8a0004row10_col1\" class=\"data row10 col1\" >222.1</td>\n",
       "                        <td id=\"T_b237ac8c_e781_11ea_a849_42010a8a0004row10_col2\" class=\"data row10 col2\" > ✔</td>\n",
       "            </tr>\n",
       "            <tr>\n",
       "                                <td id=\"T_b237ac8c_e781_11ea_a849_42010a8a0004row11_col0\" class=\"data row11 col0\" >2020-08-26</td>\n",
       "                        <td id=\"T_b237ac8c_e781_11ea_a849_42010a8a0004row11_col1\" class=\"data row11 col1\" >222.1</td>\n",
       "                        <td id=\"T_b237ac8c_e781_11ea_a849_42010a8a0004row11_col2\" class=\"data row11 col2\" > ✔</td>\n",
       "            </tr>\n",
       "            <tr>\n",
       "                                <td id=\"T_b237ac8c_e781_11ea_a849_42010a8a0004row12_col0\" class=\"data row12 col0\" >2020-08-26</td>\n",
       "                        <td id=\"T_b237ac8c_e781_11ea_a849_42010a8a0004row12_col1\" class=\"data row12 col1\" >222.1</td>\n",
       "                        <td id=\"T_b237ac8c_e781_11ea_a849_42010a8a0004row12_col2\" class=\"data row12 col2\" > ✔</td>\n",
       "            </tr>\n",
       "            <tr>\n",
       "                                <td id=\"T_b237ac8c_e781_11ea_a849_42010a8a0004row13_col0\" class=\"data row13 col0\" >2020-08-26</td>\n",
       "                        <td id=\"T_b237ac8c_e781_11ea_a849_42010a8a0004row13_col1\" class=\"data row13 col1\" >222.1</td>\n",
       "                        <td id=\"T_b237ac8c_e781_11ea_a849_42010a8a0004row13_col2\" class=\"data row13 col2\" > ✔</td>\n",
       "            </tr>\n",
       "            <tr>\n",
       "                                <td id=\"T_b237ac8c_e781_11ea_a849_42010a8a0004row14_col0\" class=\"data row14 col0\" >2020-08-26</td>\n",
       "                        <td id=\"T_b237ac8c_e781_11ea_a849_42010a8a0004row14_col1\" class=\"data row14 col1\" >222.1</td>\n",
       "                        <td id=\"T_b237ac8c_e781_11ea_a849_42010a8a0004row14_col2\" class=\"data row14 col2\" > ✔</td>\n",
       "            </tr>\n",
       "            <tr>\n",
       "                                <td id=\"T_b237ac8c_e781_11ea_a849_42010a8a0004row15_col0\" class=\"data row15 col0\" >2020-08-26</td>\n",
       "                        <td id=\"T_b237ac8c_e781_11ea_a849_42010a8a0004row15_col1\" class=\"data row15 col1\" >222.1</td>\n",
       "                        <td id=\"T_b237ac8c_e781_11ea_a849_42010a8a0004row15_col2\" class=\"data row15 col2\" > ✔</td>\n",
       "            </tr>\n",
       "            <tr>\n",
       "                                <td id=\"T_b237ac8c_e781_11ea_a849_42010a8a0004row16_col0\" class=\"data row16 col0\" >2020-08-26</td>\n",
       "                        <td id=\"T_b237ac8c_e781_11ea_a849_42010a8a0004row16_col1\" class=\"data row16 col1\" >222.1</td>\n",
       "                        <td id=\"T_b237ac8c_e781_11ea_a849_42010a8a0004row16_col2\" class=\"data row16 col2\" > ✔</td>\n",
       "            </tr>\n",
       "            <tr>\n",
       "                                <td id=\"T_b237ac8c_e781_11ea_a849_42010a8a0004row17_col0\" class=\"data row17 col0\" >2020-08-26</td>\n",
       "                        <td id=\"T_b237ac8c_e781_11ea_a849_42010a8a0004row17_col1\" class=\"data row17 col1\" >222.1</td>\n",
       "                        <td id=\"T_b237ac8c_e781_11ea_a849_42010a8a0004row17_col2\" class=\"data row17 col2\" > ✔</td>\n",
       "            </tr>\n",
       "            <tr>\n",
       "                                <td id=\"T_b237ac8c_e781_11ea_a849_42010a8a0004row18_col0\" class=\"data row18 col0\" >2020-08-26</td>\n",
       "                        <td id=\"T_b237ac8c_e781_11ea_a849_42010a8a0004row18_col1\" class=\"data row18 col1\" >222.1</td>\n",
       "                        <td id=\"T_b237ac8c_e781_11ea_a849_42010a8a0004row18_col2\" class=\"data row18 col2\" > ✔</td>\n",
       "            </tr>\n",
       "            <tr>\n",
       "                                <td id=\"T_b237ac8c_e781_11ea_a849_42010a8a0004row19_col0\" class=\"data row19 col0\" >2020-08-26</td>\n",
       "                        <td id=\"T_b237ac8c_e781_11ea_a849_42010a8a0004row19_col1\" class=\"data row19 col1\" >222.1</td>\n",
       "                        <td id=\"T_b237ac8c_e781_11ea_a849_42010a8a0004row19_col2\" class=\"data row19 col2\" > ✔</td>\n",
       "            </tr>\n",
       "            <tr>\n",
       "                                <td id=\"T_b237ac8c_e781_11ea_a849_42010a8a0004row20_col0\" class=\"data row20 col0\" >2020-08-26</td>\n",
       "                        <td id=\"T_b237ac8c_e781_11ea_a849_42010a8a0004row20_col1\" class=\"data row20 col1\" >222.1</td>\n",
       "                        <td id=\"T_b237ac8c_e781_11ea_a849_42010a8a0004row20_col2\" class=\"data row20 col2\" > ✔</td>\n",
       "            </tr>\n",
       "            <tr>\n",
       "                                <td id=\"T_b237ac8c_e781_11ea_a849_42010a8a0004row21_col0\" class=\"data row21 col0\" >2020-08-26</td>\n",
       "                        <td id=\"T_b237ac8c_e781_11ea_a849_42010a8a0004row21_col1\" class=\"data row21 col1\" >222.1</td>\n",
       "                        <td id=\"T_b237ac8c_e781_11ea_a849_42010a8a0004row21_col2\" class=\"data row21 col2\" > ✔</td>\n",
       "            </tr>\n",
       "            <tr>\n",
       "                                <td id=\"T_b237ac8c_e781_11ea_a849_42010a8a0004row22_col0\" class=\"data row22 col0\" >2020-08-26</td>\n",
       "                        <td id=\"T_b237ac8c_e781_11ea_a849_42010a8a0004row22_col1\" class=\"data row22 col1\" >222.1</td>\n",
       "                        <td id=\"T_b237ac8c_e781_11ea_a849_42010a8a0004row22_col2\" class=\"data row22 col2\" > ✔</td>\n",
       "            </tr>\n",
       "            <tr>\n",
       "                                <td id=\"T_b237ac8c_e781_11ea_a849_42010a8a0004row23_col0\" class=\"data row23 col0\" >2020-08-26</td>\n",
       "                        <td id=\"T_b237ac8c_e781_11ea_a849_42010a8a0004row23_col1\" class=\"data row23 col1\" >222.1</td>\n",
       "                        <td id=\"T_b237ac8c_e781_11ea_a849_42010a8a0004row23_col2\" class=\"data row23 col2\" > ✔</td>\n",
       "            </tr>\n",
       "            <tr>\n",
       "                                <td id=\"T_b237ac8c_e781_11ea_a849_42010a8a0004row24_col0\" class=\"data row24 col0\" >2020-08-26</td>\n",
       "                        <td id=\"T_b237ac8c_e781_11ea_a849_42010a8a0004row24_col1\" class=\"data row24 col1\" >222.1</td>\n",
       "                        <td id=\"T_b237ac8c_e781_11ea_a849_42010a8a0004row24_col2\" class=\"data row24 col2\" > ✔</td>\n",
       "            </tr>\n",
       "    </tbody></table>"
      ],
      "text/plain": [
       "<pandas.io.formats.style.Styler at 0x7ff3736d7668>"
      ]
     },
     "execution_count": 12,
     "metadata": {},
     "output_type": "execute_result"
    }
   ],
   "source": [
    "# Style the pandas dataframe\n",
    "d = dict(selector=\"th\",\n",
    "         props=[('text-align', 'center')])\n",
    "\n",
    "result.reset_index().style\\\n",
    "    .set_properties(**{'width':'20em', 'text-align':'center'})\\\n",
    "    .set_properties(subset=['Date'], **{'font-weight': 'bold'})\\\n",
    "    .set_table_styles([d])\\\n",
    "    .set_precision(1)\\\n",
    "    .hide_index()"
   ]
  },
  {
   "cell_type": "markdown",
   "metadata": {
    "papermill": {
     "duration": 0.012238,
     "end_time": "2020-08-26T09:51:21.538091",
     "exception": false,
     "start_time": "2020-08-26T09:51:21.525853",
     "status": "completed"
    },
    "tags": []
   },
   "source": [
    "<sup>Notes: (1) 7 day average with a 7-day lag. (2) 14 day average. (3) 7 day average with a 7-day lag. (4) Change in 3 day average.</sup>"
   ]
  },
  {
   "cell_type": "code",
   "execution_count": 13,
   "metadata": {
    "execution": {
     "iopub.execute_input": "2020-08-26T09:51:21.567660Z",
     "iopub.status.busy": "2020-08-26T09:51:21.567160Z",
     "iopub.status.idle": "2020-08-26T09:51:21.571631Z",
     "shell.execute_reply": "2020-08-26T09:51:21.572011Z"
    },
    "papermill": {
     "duration": 0.022001,
     "end_time": "2020-08-26T09:51:21.572174",
     "exception": false,
     "start_time": "2020-08-26T09:51:21.550173",
     "status": "completed"
    },
    "tags": [
     "remove_input"
    ]
   },
   "outputs": [
    {
     "data": {
      "text/markdown": [
       "Table last updated by CDPH on August 25, 2020."
      ],
      "text/plain": [
       "<IPython.core.display.Markdown object>"
      ]
     },
     "execution_count": 13,
     "metadata": {},
     "output_type": "execute_result"
    }
   ],
   "source": [
    "md(update_tag)"
   ]
  },
  {
   "cell_type": "markdown",
   "metadata": {
    "papermill": {
     "duration": 0.012081,
     "end_time": "2020-08-26T09:51:21.596126",
     "exception": false,
     "start_time": "2020-08-26T09:51:21.584045",
     "status": "completed"
    },
    "tags": []
   },
   "source": [
    "## Tracking county closures in Santa Barbara"
   ]
  },
  {
   "cell_type": "markdown",
   "metadata": {
    "papermill": {
     "duration": 0.011891,
     "end_time": "2020-08-26T09:51:21.620064",
     "exception": false,
     "start_time": "2020-08-26T09:51:21.608173",
     "status": "completed"
    },
    "tags": []
   },
   "source": [
    "The state of California is using a data-driven approach informed by scientific evidence to tailor its response to COVID-19. Three dimensions of concern are monitored to assess whether a county should be placed on the County Monitoring List:\n",
    " 1. Elevated Disease Transmission\n",
    " 2. Increasing Hospitalization\n",
    " 3. Limited Hospital Capacity\n",
    "\n",
    "Once a county appears on the County Monitoring List for three consecutive days, indoor operations in the sectors listed in Section 3 of the [July 13th State Health Officer Order](https://www.cdph.ca.gov/Programs/CID/DCDC/CDPH%20Document%20Library/COVID-19/SHO%20Order%20Dimming%20Entire%20State%207-13-2020.pdf) must close.\n",
    "\n",
    "This table tracks where Santa Barbara stands in terms of the criteria for inclusion on the County Monitoring List. As of 20 August 2020, the criteria for inclusion on the monitoring list are:\n",
    "\n",
    "* Case rate >100 OR (Case rate >25 AND Positivity >8%)\n",
    "* \\>10% increase in hospitalizations\n",
    "* <20% ICU beds available OR <25% ventilators available\n",
    "\n",
    "If Santa Barbara meets the criteria for removal from the County Monitoring List for a certain metric, then a checkmark ✔ is displayed in the table.\n",
    "\n",
    "Read more at <https://covid19.ca.gov/roadmap-counties/>.\n",
    "\n",
    "Data source for county metrics: https://www.cdph.ca.gov/Programs/CID/DCDC/Pages/COVID-19/COVID19CountyDataTable.aspx."
   ]
  },
  {
   "cell_type": "markdown",
   "metadata": {
    "papermill": {
     "duration": 0.011709,
     "end_time": "2020-08-26T09:51:21.643665",
     "exception": false,
     "start_time": "2020-08-26T09:51:21.631956",
     "status": "completed"
    },
    "tags": []
   },
   "source": [
    "**See the code used to scrape the data: https://github.com/walice/COVID-SB/.**"
   ]
  },
  {
   "cell_type": "code",
   "execution_count": 14,
   "metadata": {
    "execution": {
     "iopub.execute_input": "2020-08-26T09:51:21.672570Z",
     "iopub.status.busy": "2020-08-26T09:51:21.672069Z",
     "iopub.status.idle": "2020-08-26T09:51:21.675958Z",
     "shell.execute_reply": "2020-08-26T09:51:21.676329Z"
    },
    "papermill": {
     "duration": 0.021089,
     "end_time": "2020-08-26T09:51:21.676473",
     "exception": false,
     "start_time": "2020-08-26T09:51:21.655384",
     "status": "completed"
    },
    "tags": [
     "remove_cell"
    ]
   },
   "outputs": [
    {
     "data": {
      "application/javascript": [
       "IPython.notebook.save_notebook()\n"
      ],
      "text/plain": [
       "<IPython.core.display.Javascript object>"
      ]
     },
     "metadata": {},
     "output_type": "display_data"
    }
   ],
   "source": [
    "%%javascript\n",
    "IPython.notebook.save_notebook()"
   ]
  },
  {
   "cell_type": "code",
   "execution_count": 15,
   "metadata": {
    "execution": {
     "iopub.execute_input": "2020-08-26T09:51:21.713731Z",
     "iopub.status.busy": "2020-08-26T09:51:21.713229Z",
     "iopub.status.idle": "2020-08-26T09:51:24.789287Z",
     "shell.execute_reply": "2020-08-26T09:51:24.790236Z"
    },
    "papermill": {
     "duration": 3.101675,
     "end_time": "2020-08-26T09:51:24.790437",
     "exception": false,
     "start_time": "2020-08-26T09:51:21.688762",
     "status": "completed"
    },
    "slideshow": {
     "slide_type": "skip"
    },
    "tags": [
     "remove_cell"
    ]
   },
   "outputs": [
    {
     "name": "stdout",
     "output_type": "stream",
     "text": [
      "[NbConvertApp] Converting notebook index.ipynb to html\n",
      "[NbConvertApp] Writing 363145 bytes to index.html\n"
     ]
    }
   ],
   "source": [
    "# Convert Jupyter Notebook to HTML\n",
    "! jupyter nbconvert \"index.ipynb\" --to html --TagRemovePreprocessor.enabled=True --TagRemovePreprocessor.remove_cell_tags=\"['remove_cell']\" --TagRemovePreprocessor.remove_input_tags=\"['remove_input']\" --no-prompt"
   ]
  },
  {
   "cell_type": "code",
   "execution_count": 16,
   "metadata": {
    "execution": {
     "iopub.execute_input": "2020-08-26T09:51:24.821796Z",
     "iopub.status.busy": "2020-08-26T09:51:24.821296Z",
     "iopub.status.idle": "2020-08-26T09:51:24.823603Z",
     "shell.execute_reply": "2020-08-26T09:51:24.823963Z"
    },
    "papermill": {
     "duration": 0.02032,
     "end_time": "2020-08-26T09:51:24.824103",
     "exception": false,
     "start_time": "2020-08-26T09:51:24.803783",
     "status": "completed"
    },
    "tags": [
     "remove_cell"
    ]
   },
   "outputs": [],
   "source": [
    "# Create daily commit message\n",
    "now = datetime.datetime.now()\n",
    "commit_message = \"Last scraped on \" + str(now)"
   ]
  },
  {
   "cell_type": "code",
   "execution_count": 17,
   "metadata": {
    "execution": {
     "iopub.execute_input": "2020-08-26T09:51:24.858604Z",
     "iopub.status.busy": "2020-08-26T09:51:24.858051Z",
     "iopub.status.idle": "2020-08-26T09:51:29.706314Z",
     "shell.execute_reply": "2020-08-26T09:51:29.705095Z"
    },
    "papermill": {
     "duration": 4.869806,
     "end_time": "2020-08-26T09:51:29.706449",
     "exception": false,
     "start_time": "2020-08-26T09:51:24.836643",
     "status": "completed"
    },
    "tags": [
     "remove_cell"
    ]
   },
   "outputs": [
    {
     "name": "stdout",
     "output_type": "stream",
     "text": [
      "[gh-pages 0112f57] Last scraped on 2020-08-26 09:51:24.819828\n",
      " 2 files changed, 16817 insertions(+), 223 deletions(-)\n",
      " create mode 100644 index.html\n",
      "Enumerating objects: 6, done.\n",
      "Counting objects: 100% (6/6), done.\n",
      "Compressing objects: 100% (4/4), done.\n",
      "Writing objects: 100% (4/4), 59.78 KiB | 4.60 MiB/s, done.\n",
      "Total 4 (delta 2), reused 0 (delta 0)\n",
      "remote: Resolving deltas: 100% (2/2), completed with 2 local objects.\u001b[K\n",
      "To https://github.com/walice/COVID-SB.git\n",
      "   99dbc3a..0112f57  gh-pages -> gh-pages\n"
     ]
    }
   ],
   "source": [
    "# Deploy to GitHub\n",
    "! git add .\n",
    "! echo $commit_message > commit_message.txt\n",
    "! git commit -F commit_message.txt\n",
    "! git push"
   ]
  }
 ],
 "metadata": {
  "celltoolbar": "Tags",
  "kernelspec": {
   "display_name": "Python 3",
   "language": "python",
   "name": "python3"
  },
  "language_info": {
   "codemirror_mode": {
    "name": "ipython",
    "version": 3
   },
   "file_extension": ".py",
   "mimetype": "text/x-python",
   "name": "python",
   "nbconvert_exporter": "python",
   "pygments_lexer": "ipython3",
   "version": "3.8.5"
  },
  "papermill": {
   "duration": 20.238099,
   "end_time": "2020-08-26T09:51:31.575396",
   "environment_variables": {},
   "exception": null,
   "input_path": "/home/alice_lepissier/COVID-SB/index.ipynb",
   "output_path": "/home/alice_lepissier/COVID-SB/index.ipynb",
   "parameters": {},
   "start_time": "2020-08-26T09:51:11.337297",
   "version": "2.1.3"
  }
 },
 "nbformat": 4,
 "nbformat_minor": 4
}
