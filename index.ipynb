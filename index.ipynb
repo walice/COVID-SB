{
 "cells": [
  {
   "cell_type": "markdown",
   "metadata": {
    "papermill": {
     "duration": 0.011682,
     "end_time": "2020-08-27T12:00:04.996920",
     "exception": false,
     "start_time": "2020-08-27T12:00:04.985238",
     "status": "completed"
    },
    "tags": []
   },
   "source": [
    "# Daily COVID monitoring data for Santa Barbara county"
   ]
  },
  {
   "cell_type": "code",
   "execution_count": 1,
   "metadata": {
    "execution": {
     "iopub.execute_input": "2020-08-27T12:00:05.023717Z",
     "iopub.status.busy": "2020-08-27T12:00:05.023170Z",
     "iopub.status.idle": "2020-08-27T12:00:07.460897Z",
     "shell.execute_reply": "2020-08-27T12:00:07.461829Z"
    },
    "papermill": {
     "duration": 2.455162,
     "end_time": "2020-08-27T12:00:07.462045",
     "exception": false,
     "start_time": "2020-08-27T12:00:05.006883",
     "status": "completed"
    },
    "tags": [
     "remove_cell"
    ]
   },
   "outputs": [],
   "source": [
    "! jt -t grade3 -tf robotosans -cellw 1100"
   ]
  },
  {
   "cell_type": "markdown",
   "metadata": {
    "papermill": {
     "duration": 0.009637,
     "end_time": "2020-08-27T12:00:07.482034",
     "exception": false,
     "start_time": "2020-08-27T12:00:07.472397",
     "status": "completed"
    },
    "tags": []
   },
   "source": [
    "This table is automatically updated with new daily COVID data for the county of Santa Barbara, CA. Every day, the California Department of Public Health publishes COVID tracking metrics for each county, but does not save the previous day's data. This tool keeps track of the daily metrics that are used to monitor progress towards safe reopening in California."
   ]
  },
  {
   "cell_type": "code",
   "execution_count": 2,
   "metadata": {
    "execution": {
     "iopub.execute_input": "2020-08-27T12:00:07.507316Z",
     "iopub.status.busy": "2020-08-27T12:00:07.506788Z",
     "iopub.status.idle": "2020-08-27T12:00:11.185742Z",
     "shell.execute_reply": "2020-08-27T12:00:11.186610Z"
    },
    "papermill": {
     "duration": 3.695127,
     "end_time": "2020-08-27T12:00:11.186780",
     "exception": false,
     "start_time": "2020-08-27T12:00:07.491653",
     "status": "completed"
    },
    "slideshow": {
     "slide_type": "skip"
    },
    "tags": [
     "remove_cell"
    ]
   },
   "outputs": [],
   "source": [
    "# Preamble\n",
    "import os\n",
    "from IPython.display import Markdown as md\n",
    "import IPython\n",
    "import requests\n",
    "from bs4 import BeautifulSoup\n",
    "import re\n",
    "import pandas as pd\n",
    "import datetime\n",
    "import gspread\n",
    "from oauth2client.service_account import ServiceAccountCredentials"
   ]
  },
  {
   "cell_type": "code",
   "execution_count": 3,
   "metadata": {
    "execution": {
     "iopub.execute_input": "2020-08-27T12:00:11.213313Z",
     "iopub.status.busy": "2020-08-27T12:00:11.212706Z",
     "iopub.status.idle": "2020-08-27T12:00:11.214165Z",
     "shell.execute_reply": "2020-08-27T12:00:11.213741Z"
    },
    "papermill": {
     "duration": 0.01644,
     "end_time": "2020-08-27T12:00:11.214290",
     "exception": false,
     "start_time": "2020-08-27T12:00:11.197850",
     "status": "completed"
    },
    "tags": [
     "remove_cell"
    ]
   },
   "outputs": [],
   "source": [
    "# Set working directory\n",
    "os.chdir(\"/home/alice_lepissier/COVID-SB\")"
   ]
  },
  {
   "cell_type": "code",
   "execution_count": 4,
   "metadata": {
    "execution": {
     "iopub.execute_input": "2020-08-27T12:00:11.240001Z",
     "iopub.status.busy": "2020-08-27T12:00:11.239494Z",
     "iopub.status.idle": "2020-08-27T12:00:22.485920Z",
     "shell.execute_reply": "2020-08-27T12:00:22.486776Z"
    },
    "papermill": {
     "duration": 11.263035,
     "end_time": "2020-08-27T12:00:22.486945",
     "exception": false,
     "start_time": "2020-08-27T12:00:11.223910",
     "status": "completed"
    },
    "slideshow": {
     "slide_type": "skip"
    },
    "tags": [
     "remove_cell"
    ]
   },
   "outputs": [],
   "source": [
    "# Request content from URL\n",
    "html_string = requests.get('https://www.cdph.ca.gov/Programs/CID/DCDC/Pages/COVID-19/COVID19CountyDataTable.aspx').content"
   ]
  },
  {
   "cell_type": "code",
   "execution_count": 5,
   "metadata": {
    "execution": {
     "iopub.execute_input": "2020-08-27T12:00:22.515451Z",
     "iopub.status.busy": "2020-08-27T12:00:22.514975Z",
     "iopub.status.idle": "2020-08-27T12:00:22.604355Z",
     "shell.execute_reply": "2020-08-27T12:00:22.605155Z"
    },
    "papermill": {
     "duration": 0.108362,
     "end_time": "2020-08-27T12:00:22.605323",
     "exception": false,
     "start_time": "2020-08-27T12:00:22.496961",
     "status": "completed"
    },
    "slideshow": {
     "slide_type": "skip"
    },
    "tags": [
     "remove_cell"
    ]
   },
   "outputs": [],
   "source": [
    "# Parse HTML\n",
    "soup = BeautifulSoup(html_string, 'html.parser')"
   ]
  },
  {
   "cell_type": "code",
   "execution_count": 6,
   "metadata": {
    "execution": {
     "iopub.execute_input": "2020-08-27T12:00:22.631511Z",
     "iopub.status.busy": "2020-08-27T12:00:22.631001Z",
     "iopub.status.idle": "2020-08-27T12:00:22.640097Z",
     "shell.execute_reply": "2020-08-27T12:00:22.640808Z"
    },
    "papermill": {
     "duration": 0.025548,
     "end_time": "2020-08-27T12:00:22.640977",
     "exception": false,
     "start_time": "2020-08-27T12:00:22.615429",
     "status": "completed"
    },
    "slideshow": {
     "slide_type": "skip"
    },
    "tags": [
     "remove_cell"
    ]
   },
   "outputs": [],
   "source": [
    "# Extract data for Santa Barbara\n",
    "table = soup.find_all(\"tr\", class_=\"ms-rteTableEvenRow-3\")\n",
    "SB = table[21]"
   ]
  },
  {
   "cell_type": "code",
   "execution_count": 7,
   "metadata": {
    "execution": {
     "iopub.execute_input": "2020-08-27T12:00:22.668759Z",
     "iopub.status.busy": "2020-08-27T12:00:22.668253Z",
     "iopub.status.idle": "2020-08-27T12:00:22.679074Z",
     "shell.execute_reply": "2020-08-27T12:00:22.679795Z"
    },
    "papermill": {
     "duration": 0.029287,
     "end_time": "2020-08-27T12:00:22.679967",
     "exception": false,
     "start_time": "2020-08-27T12:00:22.650680",
     "status": "completed"
    },
    "slideshow": {
     "slide_type": "skip"
    },
    "tags": [
     "remove_cell"
    ]
   },
   "outputs": [],
   "source": [
    "# Avg # tests per day (per 100,000 population)\n",
    "daily_tests = SB.find_all(\"td\", class_=\"ms-rteTableOddCol-3\")[0].text\n",
    "\n",
    "# Case rate per 100,000\n",
    "case_rate = SB.find_all(\"td\", class_=\"ms-rteTableEvenCol-3\")[1].text\n",
    "\n",
    "# Testing positivity (%)\n",
    "test_positivity = SB.find_all(\"td\", class_=\"ms-rteTableOddCol-3\")[1].text\n",
    "\n",
    "# % Change in 3-day avg COVID+ hospitalized patients\n",
    "change_hospit = SB.find_all(\"td\", class_=\"ms-rteTableEvenCol-3\")[2].text\n",
    "\n",
    "# % ICU beds currently available\n",
    "ICU_beds = SB.find_all(\"td\", class_=\"ms-rteTableOddCol-3\")[2].text\n",
    "\n",
    "# % Ventilators currently available\n",
    "ventilators = SB.find_all(\"td\", class_=\"ms-rteTableEvenCol-3\")[3].text\n",
    "\n",
    "# Extract date of last update\n",
    "update_date = soup.find_all(\"span\", class_=\"ms-rteStyle-Accent1\")[1]\\\n",
    "    .find(\"em\").text"
   ]
  },
  {
   "cell_type": "code",
   "execution_count": 8,
   "metadata": {
    "execution": {
     "iopub.execute_input": "2020-08-27T12:00:22.706517Z",
     "iopub.status.busy": "2020-08-27T12:00:22.705882Z",
     "iopub.status.idle": "2020-08-27T12:00:22.707351Z",
     "shell.execute_reply": "2020-08-27T12:00:22.706959Z"
    },
    "papermill": {
     "duration": 0.015929,
     "end_time": "2020-08-27T12:00:22.707471",
     "exception": false,
     "start_time": "2020-08-27T12:00:22.691542",
     "status": "completed"
    },
    "tags": [
     "remove_cell"
    ]
   },
   "outputs": [],
   "source": [
    "# Create updated date string\n",
    "update_tag = \"Table last updated by CDPH on \" + update_date.split(\" on \", 1)[1] + \".\""
   ]
  },
  {
   "cell_type": "code",
   "execution_count": 9,
   "metadata": {
    "execution": {
     "iopub.execute_input": "2020-08-27T12:00:22.730802Z",
     "iopub.status.busy": "2020-08-27T12:00:22.730298Z",
     "iopub.status.idle": "2020-08-27T12:00:22.791851Z",
     "shell.execute_reply": "2020-08-27T12:00:22.792634Z"
    },
    "papermill": {
     "duration": 0.075644,
     "end_time": "2020-08-27T12:00:22.792792",
     "exception": false,
     "start_time": "2020-08-27T12:00:22.717148",
     "status": "completed"
    },
    "slideshow": {
     "slide_type": "skip"
    },
    "tags": [
     "remove_cell"
    ]
   },
   "outputs": [],
   "source": [
    "# Set up Google Sheet API\n",
    "scope = [\"https://spreadsheets.google.com/feeds\",'https://www.googleapis.com/auth/spreadsheets',\"https://www.googleapis.com/auth/drive.file\",\"https://www.googleapis.com/auth/drive\"]\n",
    "creds = ServiceAccountCredentials.from_json_keyfile_name(\"credentials.json\", scope)\n",
    "client = gspread.authorize(creds)"
   ]
  },
  {
   "cell_type": "code",
   "execution_count": 10,
   "metadata": {
    "execution": {
     "iopub.execute_input": "2020-08-27T12:00:22.819232Z",
     "iopub.status.busy": "2020-08-27T12:00:22.818720Z",
     "iopub.status.idle": "2020-08-27T12:00:26.110829Z",
     "shell.execute_reply": "2020-08-27T12:00:26.111595Z"
    },
    "papermill": {
     "duration": 3.309026,
     "end_time": "2020-08-27T12:00:26.111767",
     "exception": false,
     "start_time": "2020-08-27T12:00:22.802741",
     "status": "completed"
    },
    "slideshow": {
     "slide_type": "skip"
    },
    "tags": [
     "remove_cell"
    ]
   },
   "outputs": [
    {
     "data": {
      "text/plain": [
       "{'spreadsheetId': '13GG0FPUFg_5xCouN0ZF3woaPXwjuxL2Dw3uYIfwUW-Q',\n",
       " 'updatedRange': 'Sheet1!A2:G2',\n",
       " 'updatedRows': 1,\n",
       " 'updatedColumns': 7,\n",
       " 'updatedCells': 7}"
      ]
     },
     "execution_count": 10,
     "metadata": {},
     "output_type": "execute_result"
    }
   ],
   "source": [
    "# Append daily data as a new row in Google Sheet\n",
    "sheet = client.open(\"COVID Daily Metrics\").sheet1\n",
    "insertRow = [datetime.date.today().strftime(\"%Y-%m-%d\"),\n",
    "             daily_tests,\n",
    "             case_rate,\n",
    "             test_positivity,\n",
    "             change_hospit,\n",
    "             ICU_beds,\n",
    "             ventilators]\n",
    "sheet.insert_row(insertRow, 2)"
   ]
  },
  {
   "cell_type": "code",
   "execution_count": 11,
   "metadata": {
    "execution": {
     "iopub.execute_input": "2020-08-27T12:00:26.138076Z",
     "iopub.status.busy": "2020-08-27T12:00:26.137568Z",
     "iopub.status.idle": "2020-08-27T12:00:27.254088Z",
     "shell.execute_reply": "2020-08-27T12:00:27.254938Z"
    },
    "papermill": {
     "duration": 1.132718,
     "end_time": "2020-08-27T12:00:27.255107",
     "exception": false,
     "start_time": "2020-08-27T12:00:26.122389",
     "status": "completed"
    },
    "scrolled": true,
    "slideshow": {
     "slide_type": "slide"
    },
    "tags": [
     "remove_cell"
    ]
   },
   "outputs": [],
   "source": [
    "# Extract data from Google Sheet as pandas dataframe\n",
    "sheet = client.open(\"COVID Daily Metrics\").sheet1\n",
    "data = sheet.get_all_records()\n",
    "result = pd.DataFrame(data).set_index(\"Date\")"
   ]
  },
  {
   "cell_type": "code",
   "execution_count": 12,
   "metadata": {
    "execution": {
     "iopub.execute_input": "2020-08-27T12:00:27.283338Z",
     "iopub.status.busy": "2020-08-27T12:00:27.281620Z",
     "iopub.status.idle": "2020-08-27T12:00:28.587609Z",
     "shell.execute_reply": "2020-08-27T12:00:28.588417Z"
    },
    "papermill": {
     "duration": 1.322838,
     "end_time": "2020-08-27T12:00:28.588585",
     "exception": false,
     "start_time": "2020-08-27T12:00:27.265747",
     "status": "completed"
    },
    "scrolled": true,
    "tags": [
     "remove_input"
    ]
   },
   "outputs": [
    {
     "data": {
      "text/html": [
       "<style  type=\"text/css\" >\n",
       "    #T_e63f8d7a_e85c_11ea_bdce_42010a8a0004 th {\n",
       "          text-align: center;\n",
       "    }#T_e63f8d7a_e85c_11ea_bdce_42010a8a0004row0_col0,#T_e63f8d7a_e85c_11ea_bdce_42010a8a0004row1_col0,#T_e63f8d7a_e85c_11ea_bdce_42010a8a0004row2_col0,#T_e63f8d7a_e85c_11ea_bdce_42010a8a0004row3_col0,#T_e63f8d7a_e85c_11ea_bdce_42010a8a0004row4_col0,#T_e63f8d7a_e85c_11ea_bdce_42010a8a0004row5_col0,#T_e63f8d7a_e85c_11ea_bdce_42010a8a0004row6_col0,#T_e63f8d7a_e85c_11ea_bdce_42010a8a0004row7_col0{\n",
       "            width:  20em;\n",
       "            text-align:  center;\n",
       "            font-weight:  bold;\n",
       "        }#T_e63f8d7a_e85c_11ea_bdce_42010a8a0004row0_col1,#T_e63f8d7a_e85c_11ea_bdce_42010a8a0004row0_col2,#T_e63f8d7a_e85c_11ea_bdce_42010a8a0004row0_col3,#T_e63f8d7a_e85c_11ea_bdce_42010a8a0004row0_col4,#T_e63f8d7a_e85c_11ea_bdce_42010a8a0004row0_col5,#T_e63f8d7a_e85c_11ea_bdce_42010a8a0004row0_col6,#T_e63f8d7a_e85c_11ea_bdce_42010a8a0004row1_col1,#T_e63f8d7a_e85c_11ea_bdce_42010a8a0004row1_col2,#T_e63f8d7a_e85c_11ea_bdce_42010a8a0004row1_col3,#T_e63f8d7a_e85c_11ea_bdce_42010a8a0004row1_col4,#T_e63f8d7a_e85c_11ea_bdce_42010a8a0004row1_col5,#T_e63f8d7a_e85c_11ea_bdce_42010a8a0004row1_col6,#T_e63f8d7a_e85c_11ea_bdce_42010a8a0004row2_col1,#T_e63f8d7a_e85c_11ea_bdce_42010a8a0004row2_col2,#T_e63f8d7a_e85c_11ea_bdce_42010a8a0004row2_col3,#T_e63f8d7a_e85c_11ea_bdce_42010a8a0004row2_col4,#T_e63f8d7a_e85c_11ea_bdce_42010a8a0004row2_col5,#T_e63f8d7a_e85c_11ea_bdce_42010a8a0004row2_col6,#T_e63f8d7a_e85c_11ea_bdce_42010a8a0004row3_col1,#T_e63f8d7a_e85c_11ea_bdce_42010a8a0004row3_col2,#T_e63f8d7a_e85c_11ea_bdce_42010a8a0004row3_col3,#T_e63f8d7a_e85c_11ea_bdce_42010a8a0004row3_col4,#T_e63f8d7a_e85c_11ea_bdce_42010a8a0004row3_col5,#T_e63f8d7a_e85c_11ea_bdce_42010a8a0004row3_col6,#T_e63f8d7a_e85c_11ea_bdce_42010a8a0004row4_col1,#T_e63f8d7a_e85c_11ea_bdce_42010a8a0004row4_col2,#T_e63f8d7a_e85c_11ea_bdce_42010a8a0004row4_col3,#T_e63f8d7a_e85c_11ea_bdce_42010a8a0004row4_col4,#T_e63f8d7a_e85c_11ea_bdce_42010a8a0004row4_col5,#T_e63f8d7a_e85c_11ea_bdce_42010a8a0004row4_col6,#T_e63f8d7a_e85c_11ea_bdce_42010a8a0004row5_col1,#T_e63f8d7a_e85c_11ea_bdce_42010a8a0004row5_col2,#T_e63f8d7a_e85c_11ea_bdce_42010a8a0004row5_col3,#T_e63f8d7a_e85c_11ea_bdce_42010a8a0004row5_col4,#T_e63f8d7a_e85c_11ea_bdce_42010a8a0004row5_col5,#T_e63f8d7a_e85c_11ea_bdce_42010a8a0004row5_col6,#T_e63f8d7a_e85c_11ea_bdce_42010a8a0004row6_col1,#T_e63f8d7a_e85c_11ea_bdce_42010a8a0004row6_col2,#T_e63f8d7a_e85c_11ea_bdce_42010a8a0004row6_col3,#T_e63f8d7a_e85c_11ea_bdce_42010a8a0004row6_col4,#T_e63f8d7a_e85c_11ea_bdce_42010a8a0004row6_col5,#T_e63f8d7a_e85c_11ea_bdce_42010a8a0004row6_col6,#T_e63f8d7a_e85c_11ea_bdce_42010a8a0004row7_col1,#T_e63f8d7a_e85c_11ea_bdce_42010a8a0004row7_col2,#T_e63f8d7a_e85c_11ea_bdce_42010a8a0004row7_col3,#T_e63f8d7a_e85c_11ea_bdce_42010a8a0004row7_col4,#T_e63f8d7a_e85c_11ea_bdce_42010a8a0004row7_col5,#T_e63f8d7a_e85c_11ea_bdce_42010a8a0004row7_col6{\n",
       "            width:  20em;\n",
       "            text-align:  center;\n",
       "        }</style><table id=\"T_e63f8d7a_e85c_11ea_bdce_42010a8a0004\" ><thead>    <tr>        <th class=\"col_heading level0 col0\" >Date</th>        <th class=\"col_heading level0 col1\" >Daily tests (per 100,000)¹</th>        <th class=\"col_heading level0 col2\" >Case rate (per 100,000)²</th>        <th class=\"col_heading level0 col3\" >Testing positivity (%)³</th>        <th class=\"col_heading level0 col4\" >Change in hospitalizations (%)⁴</th>        <th class=\"col_heading level0 col5\" >ICU beds available (%)</th>        <th class=\"col_heading level0 col6\" >Ventilators (available (%)</th>    </tr></thead><tbody>\n",
       "                <tr>\n",
       "                                <td id=\"T_e63f8d7a_e85c_11ea_bdce_42010a8a0004row0_col0\" class=\"data row0 col0\" >2020-08-27</td>\n",
       "                        <td id=\"T_e63f8d7a_e85c_11ea_bdce_42010a8a0004row0_col1\" class=\"data row0 col1\" >219.7</td>\n",
       "                        <td id=\"T_e63f8d7a_e85c_11ea_bdce_42010a8a0004row0_col2\" class=\"data row0 col2\" >133.2</td>\n",
       "                        <td id=\"T_e63f8d7a_e85c_11ea_bdce_42010a8a0004row0_col3\" class=\"data row0 col3\" > ✔</td>\n",
       "                        <td id=\"T_e63f8d7a_e85c_11ea_bdce_42010a8a0004row0_col4\" class=\"data row0 col4\" > ✔</td>\n",
       "                        <td id=\"T_e63f8d7a_e85c_11ea_bdce_42010a8a0004row0_col5\" class=\"data row0 col5\" > ✔</td>\n",
       "                        <td id=\"T_e63f8d7a_e85c_11ea_bdce_42010a8a0004row0_col6\" class=\"data row0 col6\" > ✔</td>\n",
       "            </tr>\n",
       "            <tr>\n",
       "                                <td id=\"T_e63f8d7a_e85c_11ea_bdce_42010a8a0004row1_col0\" class=\"data row1 col0\" >2020-08-26</td>\n",
       "                        <td id=\"T_e63f8d7a_e85c_11ea_bdce_42010a8a0004row1_col1\" class=\"data row1 col1\" >219.7</td>\n",
       "                        <td id=\"T_e63f8d7a_e85c_11ea_bdce_42010a8a0004row1_col2\" class=\"data row1 col2\" >133.2</td>\n",
       "                        <td id=\"T_e63f8d7a_e85c_11ea_bdce_42010a8a0004row1_col3\" class=\"data row1 col3\" > ✔</td>\n",
       "                        <td id=\"T_e63f8d7a_e85c_11ea_bdce_42010a8a0004row1_col4\" class=\"data row1 col4\" > ✔</td>\n",
       "                        <td id=\"T_e63f8d7a_e85c_11ea_bdce_42010a8a0004row1_col5\" class=\"data row1 col5\" > ✔</td>\n",
       "                        <td id=\"T_e63f8d7a_e85c_11ea_bdce_42010a8a0004row1_col6\" class=\"data row1 col6\" > ✔</td>\n",
       "            </tr>\n",
       "            <tr>\n",
       "                                <td id=\"T_e63f8d7a_e85c_11ea_bdce_42010a8a0004row2_col0\" class=\"data row2 col0\" >2020-08-25</td>\n",
       "                        <td id=\"T_e63f8d7a_e85c_11ea_bdce_42010a8a0004row2_col1\" class=\"data row2 col1\" >222.1</td>\n",
       "                        <td id=\"T_e63f8d7a_e85c_11ea_bdce_42010a8a0004row2_col2\" class=\"data row2 col2\" >134.1</td>\n",
       "                        <td id=\"T_e63f8d7a_e85c_11ea_bdce_42010a8a0004row2_col3\" class=\"data row2 col3\" > ✔</td>\n",
       "                        <td id=\"T_e63f8d7a_e85c_11ea_bdce_42010a8a0004row2_col4\" class=\"data row2 col4\" > ✔</td>\n",
       "                        <td id=\"T_e63f8d7a_e85c_11ea_bdce_42010a8a0004row2_col5\" class=\"data row2 col5\" > ✔</td>\n",
       "                        <td id=\"T_e63f8d7a_e85c_11ea_bdce_42010a8a0004row2_col6\" class=\"data row2 col6\" > ✔</td>\n",
       "            </tr>\n",
       "            <tr>\n",
       "                                <td id=\"T_e63f8d7a_e85c_11ea_bdce_42010a8a0004row3_col0\" class=\"data row3 col0\" >2020-08-24</td>\n",
       "                        <td id=\"T_e63f8d7a_e85c_11ea_bdce_42010a8a0004row3_col1\" class=\"data row3 col1\" >227.3</td>\n",
       "                        <td id=\"T_e63f8d7a_e85c_11ea_bdce_42010a8a0004row3_col2\" class=\"data row3 col2\" >138.0</td>\n",
       "                        <td id=\"T_e63f8d7a_e85c_11ea_bdce_42010a8a0004row3_col3\" class=\"data row3 col3\" > ✔</td>\n",
       "                        <td id=\"T_e63f8d7a_e85c_11ea_bdce_42010a8a0004row3_col4\" class=\"data row3 col4\" > ✔</td>\n",
       "                        <td id=\"T_e63f8d7a_e85c_11ea_bdce_42010a8a0004row3_col5\" class=\"data row3 col5\" > ✔</td>\n",
       "                        <td id=\"T_e63f8d7a_e85c_11ea_bdce_42010a8a0004row3_col6\" class=\"data row3 col6\" > ✔</td>\n",
       "            </tr>\n",
       "            <tr>\n",
       "                                <td id=\"T_e63f8d7a_e85c_11ea_bdce_42010a8a0004row4_col0\" class=\"data row4 col0\" >2020-08-23</td>\n",
       "                        <td id=\"T_e63f8d7a_e85c_11ea_bdce_42010a8a0004row4_col1\" class=\"data row4 col1\" >232.7</td>\n",
       "                        <td id=\"T_e63f8d7a_e85c_11ea_bdce_42010a8a0004row4_col2\" class=\"data row4 col2\" >136.7</td>\n",
       "                        <td id=\"T_e63f8d7a_e85c_11ea_bdce_42010a8a0004row4_col3\" class=\"data row4 col3\" > ✔</td>\n",
       "                        <td id=\"T_e63f8d7a_e85c_11ea_bdce_42010a8a0004row4_col4\" class=\"data row4 col4\" > ✔</td>\n",
       "                        <td id=\"T_e63f8d7a_e85c_11ea_bdce_42010a8a0004row4_col5\" class=\"data row4 col5\" > ✔</td>\n",
       "                        <td id=\"T_e63f8d7a_e85c_11ea_bdce_42010a8a0004row4_col6\" class=\"data row4 col6\" > ✔</td>\n",
       "            </tr>\n",
       "            <tr>\n",
       "                                <td id=\"T_e63f8d7a_e85c_11ea_bdce_42010a8a0004row5_col0\" class=\"data row5 col0\" >2020-08-22</td>\n",
       "                        <td id=\"T_e63f8d7a_e85c_11ea_bdce_42010a8a0004row5_col1\" class=\"data row5 col1\" >210.4</td>\n",
       "                        <td id=\"T_e63f8d7a_e85c_11ea_bdce_42010a8a0004row5_col2\" class=\"data row5 col2\" >138.7</td>\n",
       "                        <td id=\"T_e63f8d7a_e85c_11ea_bdce_42010a8a0004row5_col3\" class=\"data row5 col3\" > ✔</td>\n",
       "                        <td id=\"T_e63f8d7a_e85c_11ea_bdce_42010a8a0004row5_col4\" class=\"data row5 col4\" > ✔</td>\n",
       "                        <td id=\"T_e63f8d7a_e85c_11ea_bdce_42010a8a0004row5_col5\" class=\"data row5 col5\" > ✔</td>\n",
       "                        <td id=\"T_e63f8d7a_e85c_11ea_bdce_42010a8a0004row5_col6\" class=\"data row5 col6\" > ✔</td>\n",
       "            </tr>\n",
       "            <tr>\n",
       "                                <td id=\"T_e63f8d7a_e85c_11ea_bdce_42010a8a0004row6_col0\" class=\"data row6 col0\" >2020-08-21</td>\n",
       "                        <td id=\"T_e63f8d7a_e85c_11ea_bdce_42010a8a0004row6_col1\" class=\"data row6 col1\" >208.7</td>\n",
       "                        <td id=\"T_e63f8d7a_e85c_11ea_bdce_42010a8a0004row6_col2\" class=\"data row6 col2\" >138.5</td>\n",
       "                        <td id=\"T_e63f8d7a_e85c_11ea_bdce_42010a8a0004row6_col3\" class=\"data row6 col3\" > ✔</td>\n",
       "                        <td id=\"T_e63f8d7a_e85c_11ea_bdce_42010a8a0004row6_col4\" class=\"data row6 col4\" > ✔</td>\n",
       "                        <td id=\"T_e63f8d7a_e85c_11ea_bdce_42010a8a0004row6_col5\" class=\"data row6 col5\" > ✔</td>\n",
       "                        <td id=\"T_e63f8d7a_e85c_11ea_bdce_42010a8a0004row6_col6\" class=\"data row6 col6\" > ✔</td>\n",
       "            </tr>\n",
       "            <tr>\n",
       "                                <td id=\"T_e63f8d7a_e85c_11ea_bdce_42010a8a0004row7_col0\" class=\"data row7 col0\" >2020-08-20</td>\n",
       "                        <td id=\"T_e63f8d7a_e85c_11ea_bdce_42010a8a0004row7_col1\" class=\"data row7 col1\" >214.5</td>\n",
       "                        <td id=\"T_e63f8d7a_e85c_11ea_bdce_42010a8a0004row7_col2\" class=\"data row7 col2\" >148.8</td>\n",
       "                        <td id=\"T_e63f8d7a_e85c_11ea_bdce_42010a8a0004row7_col3\" class=\"data row7 col3\" > ✔</td>\n",
       "                        <td id=\"T_e63f8d7a_e85c_11ea_bdce_42010a8a0004row7_col4\" class=\"data row7 col4\" > ✔</td>\n",
       "                        <td id=\"T_e63f8d7a_e85c_11ea_bdce_42010a8a0004row7_col5\" class=\"data row7 col5\" > ✔</td>\n",
       "                        <td id=\"T_e63f8d7a_e85c_11ea_bdce_42010a8a0004row7_col6\" class=\"data row7 col6\" > ✔</td>\n",
       "            </tr>\n",
       "    </tbody></table>"
      ],
      "text/plain": [
       "<pandas.io.formats.style.Styler at 0x7f7977a79198>"
      ]
     },
     "execution_count": 12,
     "metadata": {},
     "output_type": "execute_result"
    }
   ],
   "source": [
    "# Style the pandas dataframe\n",
    "d = dict(selector=\"th\",\n",
    "         props=[('text-align', 'center')])\n",
    "\n",
    "result.reset_index().style\\\n",
    "    .set_properties(**{'width':'20em', 'text-align':'center'})\\\n",
    "    .set_properties(subset=['Date'], **{'font-weight': 'bold'})\\\n",
    "    .set_table_styles([d])\\\n",
    "    .set_precision(1)\\\n",
    "    .hide_index()"
   ]
  },
  {
   "cell_type": "markdown",
   "metadata": {
    "papermill": {
     "duration": 0.010641,
     "end_time": "2020-08-27T12:00:28.610345",
     "exception": false,
     "start_time": "2020-08-27T12:00:28.599704",
     "status": "completed"
    },
    "tags": []
   },
   "source": [
    "<sup>Notes: (1) 7 day average with a 7-day lag. (2) 14 day average. (3) 7 day average with a 7-day lag. (4) Change in 3 day average.</sup>"
   ]
  },
  {
   "cell_type": "code",
   "execution_count": 13,
   "metadata": {
    "execution": {
     "iopub.execute_input": "2020-08-27T12:00:28.636979Z",
     "iopub.status.busy": "2020-08-27T12:00:28.636469Z",
     "iopub.status.idle": "2020-08-27T12:00:28.640238Z",
     "shell.execute_reply": "2020-08-27T12:00:28.640723Z"
    },
    "papermill": {
     "duration": 0.020051,
     "end_time": "2020-08-27T12:00:28.640882",
     "exception": false,
     "start_time": "2020-08-27T12:00:28.620831",
     "status": "completed"
    },
    "tags": [
     "remove_input"
    ]
   },
   "outputs": [
    {
     "data": {
      "text/markdown": [
       "Table last updated by CDPH on August 26, 2020."
      ],
      "text/plain": [
       "<IPython.core.display.Markdown object>"
      ]
     },
     "execution_count": 13,
     "metadata": {},
     "output_type": "execute_result"
    }
   ],
   "source": [
    "md(update_tag)"
   ]
  },
  {
   "cell_type": "markdown",
   "metadata": {
    "papermill": {
     "duration": 0.010494,
     "end_time": "2020-08-27T12:00:28.661906",
     "exception": false,
     "start_time": "2020-08-27T12:00:28.651412",
     "status": "completed"
    },
    "tags": []
   },
   "source": [
    "## Tracking county closures in Santa Barbara"
   ]
  },
  {
   "cell_type": "markdown",
   "metadata": {
    "papermill": {
     "duration": 0.010491,
     "end_time": "2020-08-27T12:00:28.683067",
     "exception": false,
     "start_time": "2020-08-27T12:00:28.672576",
     "status": "completed"
    },
    "tags": []
   },
   "source": [
    "The state of California is using a data-driven approach informed by scientific evidence to tailor its response to COVID-19. Three dimensions of concern are monitored to assess whether a county should be placed on the County Monitoring List:\n",
    " 1. Elevated Disease Transmission\n",
    " 2. Increasing Hospitalization\n",
    " 3. Limited Hospital Capacity\n",
    "\n",
    "Once a county appears on the County Monitoring List for three consecutive days, indoor operations in the sectors listed in Section 3 of the [July 13th State Health Officer Order](https://www.cdph.ca.gov/Programs/CID/DCDC/CDPH%20Document%20Library/COVID-19/SHO%20Order%20Dimming%20Entire%20State%207-13-2020.pdf) must close.\n",
    "\n",
    "This table tracks where Santa Barbara stands in terms of the criteria for inclusion on the County Monitoring List. As of 20 August 2020, the criteria for inclusion on the monitoring list are:\n",
    "\n",
    "* Case rate >100 OR (Case rate >25 AND Positivity >8%)\n",
    "* \\>10% increase in hospitalizations\n",
    "* <20% ICU beds available OR <25% ventilators available\n",
    "\n",
    "If Santa Barbara meets the criteria for removal from the County Monitoring List for a certain metric, then a checkmark ✔ is displayed in the table.\n",
    "\n",
    "Read more at <https://covid19.ca.gov/roadmap-counties/>.\n",
    "\n",
    "Data source for county metrics: https://www.cdph.ca.gov/Programs/CID/DCDC/Pages/COVID-19/COVID19CountyDataTable.aspx."
   ]
  },
  {
   "cell_type": "markdown",
   "metadata": {
    "papermill": {
     "duration": 0.010459,
     "end_time": "2020-08-27T12:00:28.704209",
     "exception": false,
     "start_time": "2020-08-27T12:00:28.693750",
     "status": "completed"
    },
    "tags": []
   },
   "source": [
    "**See the code used to scrape the data: https://github.com/walice/COVID-SB/.**"
   ]
  },
  {
   "cell_type": "code",
   "execution_count": 14,
   "metadata": {
    "execution": {
     "iopub.execute_input": "2020-08-27T12:00:28.731177Z",
     "iopub.status.busy": "2020-08-27T12:00:28.730654Z",
     "iopub.status.idle": "2020-08-27T12:00:28.733660Z",
     "shell.execute_reply": "2020-08-27T12:00:28.734025Z"
    },
    "papermill": {
     "duration": 0.019291,
     "end_time": "2020-08-27T12:00:28.734200",
     "exception": false,
     "start_time": "2020-08-27T12:00:28.714909",
     "status": "completed"
    },
    "tags": [
     "remove_cell"
    ]
   },
   "outputs": [
    {
     "data": {
      "application/javascript": [
       "IPython.notebook.save_notebook()\n"
      ],
      "text/plain": [
       "<IPython.core.display.Javascript object>"
      ]
     },
     "metadata": {},
     "output_type": "display_data"
    }
   ],
   "source": [
    "%%javascript\n",
    "IPython.notebook.save_notebook()"
   ]
  },
  {
   "cell_type": "code",
   "execution_count": 15,
   "metadata": {
    "execution": {
     "iopub.execute_input": "2020-08-27T12:00:28.763458Z",
     "iopub.status.busy": "2020-08-27T12:00:28.762980Z",
     "iopub.status.idle": "2020-08-27T12:00:29.926477Z",
     "shell.execute_reply": "2020-08-27T12:00:29.927374Z"
    },
    "papermill": {
     "duration": 1.18257,
     "end_time": "2020-08-27T12:00:29.927543",
     "exception": false,
     "start_time": "2020-08-27T12:00:28.744973",
     "status": "completed"
    },
    "slideshow": {
     "slide_type": "skip"
    },
    "tags": [
     "remove_cell"
    ]
   },
   "outputs": [
    {
     "name": "stdout",
     "output_type": "stream",
     "text": [
      "[NbConvertApp] Converting notebook index.ipynb to html\r\n"
     ]
    },
    {
     "name": "stdout",
     "output_type": "stream",
     "text": [
      "[NbConvertApp] Writing 358914 bytes to index.html\r\n"
     ]
    }
   ],
   "source": [
    "# Convert Jupyter Notebook to HTML\n",
    "! jupyter nbconvert \"index.ipynb\" --to html --TagRemovePreprocessor.enabled=True --TagRemovePreprocessor.remove_cell_tags=\"['remove_cell']\" --TagRemovePreprocessor.remove_input_tags=\"['remove_input']\" --no-prompt"
   ]
  },
  {
   "cell_type": "code",
   "execution_count": 16,
   "metadata": {
    "execution": {
     "iopub.execute_input": "2020-08-27T12:00:29.955680Z",
     "iopub.status.busy": "2020-08-27T12:00:29.955201Z",
     "iopub.status.idle": "2020-08-27T12:00:29.957477Z",
     "shell.execute_reply": "2020-08-27T12:00:29.957842Z"
    },
    "papermill": {
     "duration": 0.018522,
     "end_time": "2020-08-27T12:00:29.957989",
     "exception": false,
     "start_time": "2020-08-27T12:00:29.939467",
     "status": "completed"
    },
    "tags": [
     "remove_cell"
    ]
   },
   "outputs": [],
   "source": [
    "# Create daily commit message\n",
    "now = datetime.datetime.now()\n",
    "commit_message = \"Last scraped on \" + str(now)"
   ]
  },
  {
   "cell_type": "code",
   "execution_count": null,
   "metadata": {
    "execution": {
     "iopub.execute_input": "2020-08-26T22:39:14.939510Z",
     "iopub.status.busy": "2020-08-26T22:39:14.939021Z",
     "iopub.status.idle": "2020-08-26T22:39:20.204914Z",
     "shell.execute_reply": "2020-08-26T22:39:20.203702Z"
    },
    "papermill": {
     "duration": null,
     "end_time": null,
     "exception": false,
     "start_time": "2020-08-27T12:00:29.969164",
     "status": "running"
    },
    "tags": [
     "remove_cell"
    ]
   },
   "outputs": [],
   "source": [
    "# Deploy to GitHub\n",
    "! git add .\n",
    "! echo $commit_message > commit_message.txt\n",
    "! git commit -F commit_message.txt\n",
    "! git push"
   ]
  }
 ],
 "metadata": {
  "celltoolbar": "Tags",
  "kernelspec": {
   "display_name": "Python 3",
   "language": "python",
   "name": "python3"
  },
  "language_info": {
   "codemirror_mode": {
    "name": "ipython",
    "version": 3
   },
   "file_extension": ".py",
   "mimetype": "text/x-python",
   "name": "python",
   "nbconvert_exporter": "python",
   "pygments_lexer": "ipython3",
   "version": "3.7.3"
  },
  "papermill": {
   "duration": null,
   "end_time": null,
   "environment_variables": {},
   "exception": null,
   "input_path": "/home/alice_lepissier/COVID-SB/index.ipynb",
   "output_path": "/home/alice_lepissier/COVID-SB/index.ipynb",
   "parameters": {},
   "start_time": "2020-08-27T12:00:02.896800",
   "version": "2.1.3"
  }
 },
 "nbformat": 4,
 "nbformat_minor": 4
}