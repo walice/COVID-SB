{
 "cells": [
  {
   "cell_type": "markdown",
   "metadata": {
    "papermill": {
     "duration": 0.023967,
     "end_time": "2020-08-21T07:59:04.155384",
     "exception": false,
     "start_time": "2020-08-21T07:59:04.131417",
     "status": "completed"
    },
    "tags": []
   },
   "source": [
    "# Daily COVID monitoring data for Santa Barbara county"
   ]
  },
  {
   "cell_type": "code",
   "execution_count": 1,
   "metadata": {
    "execution": {
     "iopub.execute_input": "2020-08-21T07:59:04.195358Z",
     "iopub.status.busy": "2020-08-21T07:59:04.194358Z",
     "iopub.status.idle": "2020-08-21T07:59:07.752575Z",
     "shell.execute_reply": "2020-08-21T07:59:07.753574Z"
    },
    "papermill": {
     "duration": 3.578205,
     "end_time": "2020-08-21T07:59:07.754573",
     "exception": false,
     "start_time": "2020-08-21T07:59:04.176368",
     "status": "completed"
    },
    "slideshow": {
     "slide_type": "skip"
    },
    "tags": [
     "remove_cell"
    ]
   },
   "outputs": [],
   "source": [
    "# Preamble\n",
    "import os\n",
    "import IPython\n",
    "import requests\n",
    "from bs4 import BeautifulSoup\n",
    "import pandas as pd\n",
    "import datetime\n",
    "import gspread\n",
    "from oauth2client.service_account import ServiceAccountCredentials"
   ]
  },
  {
   "cell_type": "code",
   "execution_count": 2,
   "metadata": {
    "execution": {
     "iopub.execute_input": "2020-08-21T07:59:07.824534Z",
     "iopub.status.busy": "2020-08-21T07:59:07.823534Z",
     "iopub.status.idle": "2020-08-21T07:59:07.826532Z",
     "shell.execute_reply": "2020-08-21T07:59:07.827530Z"
    },
    "papermill": {
     "duration": 0.026982,
     "end_time": "2020-08-21T07:59:07.827530",
     "exception": false,
     "start_time": "2020-08-21T07:59:07.800548",
     "status": "completed"
    },
    "tags": [
     "remove_cell"
    ]
   },
   "outputs": [],
   "source": [
    "# Change working directory (so that Windows task scheduler does not complain)\n",
    "os.chdir(\"C:/Users/Alice/Box Sync/PhD/Software/Python/COVID/COVID-SB\")"
   ]
  },
  {
   "cell_type": "code",
   "execution_count": 3,
   "metadata": {
    "execution": {
     "iopub.execute_input": "2020-08-21T07:59:07.857518Z",
     "iopub.status.busy": "2020-08-21T07:59:07.856516Z",
     "iopub.status.idle": "2020-08-21T07:59:08.058835Z",
     "shell.execute_reply": "2020-08-21T07:59:08.059833Z"
    },
    "papermill": {
     "duration": 0.218311,
     "end_time": "2020-08-21T07:59:08.059833",
     "exception": false,
     "start_time": "2020-08-21T07:59:07.841522",
     "status": "completed"
    },
    "slideshow": {
     "slide_type": "skip"
    },
    "tags": [
     "remove_cell"
    ]
   },
   "outputs": [],
   "source": [
    "# Request content from URL\n",
    "html_string = requests.get('https://www.cdph.ca.gov/Programs/CID/DCDC/Pages/COVID-19/COVID19CountyDataTable.aspx').content"
   ]
  },
  {
   "cell_type": "code",
   "execution_count": 4,
   "metadata": {
    "execution": {
     "iopub.execute_input": "2020-08-21T07:59:08.152780Z",
     "iopub.status.busy": "2020-08-21T07:59:08.151782Z",
     "iopub.status.idle": "2020-08-21T07:59:08.627510Z",
     "shell.execute_reply": "2020-08-21T07:59:08.627510Z"
    },
    "papermill": {
     "duration": 0.54369,
     "end_time": "2020-08-21T07:59:08.628509",
     "exception": false,
     "start_time": "2020-08-21T07:59:08.084819",
     "status": "completed"
    },
    "slideshow": {
     "slide_type": "skip"
    },
    "tags": [
     "remove_cell"
    ]
   },
   "outputs": [],
   "source": [
    "# Parse HTML\n",
    "soup = BeautifulSoup(html_string, 'html.parser')"
   ]
  },
  {
   "cell_type": "code",
   "execution_count": 5,
   "metadata": {
    "execution": {
     "iopub.execute_input": "2020-08-21T07:59:08.712461Z",
     "iopub.status.busy": "2020-08-21T07:59:08.711461Z",
     "iopub.status.idle": "2020-08-21T07:59:08.736448Z",
     "shell.execute_reply": "2020-08-21T07:59:08.737447Z"
    },
    "papermill": {
     "duration": 0.086951,
     "end_time": "2020-08-21T07:59:08.737447",
     "exception": false,
     "start_time": "2020-08-21T07:59:08.650496",
     "status": "completed"
    },
    "slideshow": {
     "slide_type": "skip"
    },
    "tags": [
     "remove_cell"
    ]
   },
   "outputs": [],
   "source": [
    "# Extract data for Santa Barbara\n",
    "table = soup.find_all(\"tr\", class_=\"ms-rteTableEvenRow-3\")\n",
    "SB = table[21]"
   ]
  },
  {
   "cell_type": "code",
   "execution_count": 6,
   "metadata": {
    "execution": {
     "iopub.execute_input": "2020-08-21T07:59:08.797412Z",
     "iopub.status.busy": "2020-08-21T07:59:08.796414Z",
     "iopub.status.idle": "2020-08-21T07:59:08.800412Z",
     "shell.execute_reply": "2020-08-21T07:59:08.799413Z"
    },
    "papermill": {
     "duration": 0.03698,
     "end_time": "2020-08-21T07:59:08.800412",
     "exception": false,
     "start_time": "2020-08-21T07:59:08.763432",
     "status": "completed"
    },
    "slideshow": {
     "slide_type": "skip"
    },
    "tags": [
     "remove_cell"
    ]
   },
   "outputs": [],
   "source": [
    "# Avg # tests per day (per 100,000 population)\n",
    "daily_tests = SB.find_all(\"td\", class_=\"ms-rteTableOddCol-3\")[0].text\n",
    "\n",
    "# Case rate per 100,000\n",
    "case_rate = SB.find_all(\"td\", class_=\"ms-rteTableEvenCol-3\")[1].text\n",
    "\n",
    "# Testing positivity (%)\n",
    "test_positivity = SB.find_all(\"td\", class_=\"ms-rteTableOddCol-3\")[1].text\n",
    "\n",
    "# % Change in 3-day avg COVID+ hospitalized patients\n",
    "change_hospit = SB.find_all(\"td\", class_=\"ms-rteTableEvenCol-3\")[2].text\n",
    "\n",
    "# % ICU beds currently available\n",
    "ICU_beds = SB.find_all(\"td\", class_=\"ms-rteTableOddCol-3\")[2].text\n",
    "\n",
    "# % Ventilators currently available\n",
    "ventilators = SB.find_all(\"td\", class_=\"ms-rteTableEvenCol-3\")[3].text"
   ]
  },
  {
   "cell_type": "code",
   "execution_count": 7,
   "metadata": {
    "execution": {
     "iopub.execute_input": "2020-08-21T07:59:08.833392Z",
     "iopub.status.busy": "2020-08-21T07:59:08.832393Z",
     "iopub.status.idle": "2020-08-21T07:59:08.835390Z",
     "shell.execute_reply": "2020-08-21T07:59:08.836390Z"
    },
    "papermill": {
     "duration": 0.019988,
     "end_time": "2020-08-21T07:59:08.836390",
     "exception": false,
     "start_time": "2020-08-21T07:59:08.816402",
     "status": "completed"
    },
    "slideshow": {
     "slide_type": "skip"
    },
    "tags": [
     "remove_cell"
    ]
   },
   "outputs": [],
   "source": [
    "# table = pd.DataFrame({\"Date\": [date.today().strftime(\"%y/%m/%d\")],\n",
    "#                       \"Daily tests (per 100,000)\": [daily_tests], \n",
    "#                       \"Case rate (per 100,000)\": [case_rate],\n",
    "#                       \"Testing positivity (%)\": [test_positivity],\n",
    "#                       \"Change in hospitalizations (%)\": [change_hospit], \n",
    "#                       \"ICU beds available (%)\": [ICU_beds],\n",
    "#                       \"Ventilators available (%)\": [ventilators]})\n",
    "# table.set_index(\"Date\")"
   ]
  },
  {
   "cell_type": "code",
   "execution_count": 8,
   "metadata": {
    "execution": {
     "iopub.execute_input": "2020-08-21T07:59:08.865375Z",
     "iopub.status.busy": "2020-08-21T07:59:08.864373Z",
     "iopub.status.idle": "2020-08-21T07:59:08.869372Z",
     "shell.execute_reply": "2020-08-21T07:59:08.868372Z"
    },
    "papermill": {
     "duration": 0.020989,
     "end_time": "2020-08-21T07:59:08.869372",
     "exception": false,
     "start_time": "2020-08-21T07:59:08.848383",
     "status": "completed"
    },
    "slideshow": {
     "slide_type": "skip"
    },
    "tags": [
     "remove_cell"
    ]
   },
   "outputs": [],
   "source": [
    "# Set up Google Sheet API\n",
    "scope = [\"https://spreadsheets.google.com/feeds\",'https://www.googleapis.com/auth/spreadsheets',\"https://www.googleapis.com/auth/drive.file\",\"https://www.googleapis.com/auth/drive\"]\n",
    "creds = ServiceAccountCredentials.from_json_keyfile_name(\"credentials.json\", scope)\n",
    "client = gspread.authorize(creds)"
   ]
  },
  {
   "cell_type": "code",
   "execution_count": 9,
   "metadata": {
    "execution": {
     "iopub.execute_input": "2020-08-21T07:59:08.905351Z",
     "iopub.status.busy": "2020-08-21T07:59:08.904351Z",
     "iopub.status.idle": "2020-08-21T07:59:10.338486Z",
     "shell.execute_reply": "2020-08-21T07:59:10.337487Z"
    },
    "papermill": {
     "duration": 1.45612,
     "end_time": "2020-08-21T07:59:10.338486",
     "exception": false,
     "start_time": "2020-08-21T07:59:08.882366",
     "status": "completed"
    },
    "slideshow": {
     "slide_type": "skip"
    },
    "tags": [
     "remove_cell"
    ]
   },
   "outputs": [
    {
     "data": {
      "text/plain": [
       "{'spreadsheetId': '13GG0FPUFg_5xCouN0ZF3woaPXwjuxL2Dw3uYIfwUW-Q',\n",
       " 'updatedRange': 'Sheet1!A2:G2',\n",
       " 'updatedRows': 1,\n",
       " 'updatedColumns': 7,\n",
       " 'updatedCells': 7}"
      ]
     },
     "execution_count": 9,
     "metadata": {},
     "output_type": "execute_result"
    }
   ],
   "source": [
    "# Append daily data as a new row in Google Sheet\n",
    "sheet = client.open(\"COVID Daily Metrics\").sheet1\n",
    "insertRow = [datetime.date.today().strftime(\"%y/%m/%d\"),\n",
    "             daily_tests,\n",
    "             case_rate,\n",
    "             test_positivity,\n",
    "             change_hospit,\n",
    "             ICU_beds,\n",
    "             ventilators]\n",
    "sheet.insert_row(insertRow, 2)"
   ]
  },
  {
   "cell_type": "code",
   "execution_count": 10,
   "metadata": {
    "execution": {
     "iopub.execute_input": "2020-08-21T07:59:10.414442Z",
     "iopub.status.busy": "2020-08-21T07:59:10.409445Z",
     "iopub.status.idle": "2020-08-21T07:59:11.170931Z",
     "shell.execute_reply": "2020-08-21T07:59:11.171934Z"
    },
    "papermill": {
     "duration": 0.799468,
     "end_time": "2020-08-21T07:59:11.171934",
     "exception": false,
     "start_time": "2020-08-21T07:59:10.372466",
     "status": "completed"
    },
    "scrolled": true,
    "slideshow": {
     "slide_type": "slide"
    },
    "tags": [
     "remove_cell"
    ]
   },
   "outputs": [],
   "source": [
    "# Extract data from Google Sheet as pandas dataframe\n",
    "sheet = client.open(\"COVID Daily Metrics\").sheet1\n",
    "data = sheet.get_all_records()\n",
    "result = pd.DataFrame(data).set_index(\"Date\")"
   ]
  },
  {
   "cell_type": "code",
   "execution_count": 11,
   "metadata": {
    "execution": {
     "iopub.execute_input": "2020-08-21T07:59:11.217906Z",
     "iopub.status.busy": "2020-08-21T07:59:11.216905Z",
     "iopub.status.idle": "2020-08-21T07:59:11.227899Z",
     "shell.execute_reply": "2020-08-21T07:59:11.227899Z"
    },
    "papermill": {
     "duration": 0.041974,
     "end_time": "2020-08-21T07:59:11.228898",
     "exception": false,
     "start_time": "2020-08-21T07:59:11.186924",
     "status": "completed"
    },
    "scrolled": true,
    "tags": [
     "remove_input"
    ]
   },
   "outputs": [
    {
     "data": {
      "text/html": [
       "<div>\n",
       "<style scoped>\n",
       "    .dataframe tbody tr th:only-of-type {\n",
       "        vertical-align: middle;\n",
       "    }\n",
       "\n",
       "    .dataframe tbody tr th {\n",
       "        vertical-align: top;\n",
       "    }\n",
       "\n",
       "    .dataframe thead th {\n",
       "        text-align: right;\n",
       "    }\n",
       "</style>\n",
       "<table border=\"1\" class=\"dataframe\">\n",
       "  <thead>\n",
       "    <tr style=\"text-align: right;\">\n",
       "      <th></th>\n",
       "      <th>Daily tests (per 100,000)¹</th>\n",
       "      <th>Case rate (per 100,000)²</th>\n",
       "      <th>Testing positivity (%)³</th>\n",
       "      <th>Change in hospitalizations (%)⁴</th>\n",
       "      <th>ICU beds available (%)</th>\n",
       "      <th>Ventilators (available (%)</th>\n",
       "    </tr>\n",
       "    <tr>\n",
       "      <th>Date</th>\n",
       "      <th></th>\n",
       "      <th></th>\n",
       "      <th></th>\n",
       "      <th></th>\n",
       "      <th></th>\n",
       "      <th></th>\n",
       "    </tr>\n",
       "  </thead>\n",
       "  <tbody>\n",
       "    <tr>\n",
       "      <th>20/08/21</th>\n",
       "      <td>214.5</td>\n",
       "      <td>148.8</td>\n",
       "      <td>✔</td>\n",
       "      <td>✔</td>\n",
       "      <td>✔</td>\n",
       "      <td>✔</td>\n",
       "    </tr>\n",
       "    <tr>\n",
       "      <th>20/08/20</th>\n",
       "      <td>214.5</td>\n",
       "      <td>148.8</td>\n",
       "      <td>✔</td>\n",
       "      <td>✔</td>\n",
       "      <td>✔</td>\n",
       "      <td>✔</td>\n",
       "    </tr>\n",
       "  </tbody>\n",
       "</table>\n",
       "</div>"
      ],
      "text/plain": [
       "          Daily tests (per 100,000)¹  Case rate (per 100,000)²  \\\n",
       "Date                                                             \n",
       "20/08/21                       214.5                     148.8   \n",
       "20/08/20                       214.5                     148.8   \n",
       "\n",
       "         Testing positivity (%)³ Change in hospitalizations (%)⁴  \\\n",
       "Date                                                               \n",
       "20/08/21                       ✔                               ✔   \n",
       "20/08/20                       ✔                               ✔   \n",
       "\n",
       "         ICU beds available (%) Ventilators (available (%)  \n",
       "Date                                                        \n",
       "20/08/21                      ✔                          ✔  \n",
       "20/08/20                      ✔                          ✔  "
      ]
     },
     "execution_count": 11,
     "metadata": {},
     "output_type": "execute_result"
    }
   ],
   "source": [
    "result"
   ]
  },
  {
   "cell_type": "markdown",
   "metadata": {
    "papermill": {
     "duration": 0.047975,
     "end_time": "2020-08-21T07:59:11.293865",
     "exception": false,
     "start_time": "2020-08-21T07:59:11.245890",
     "status": "completed"
    },
    "tags": []
   },
   "source": [
    "Notes:\n",
    "1. 7 day average with a 7-day lag.\n",
    "2. 14 day average.\n",
    "3. 7 day average with a 7-day lag.\n",
    "4. Change in 3 day average."
   ]
  },
  {
   "cell_type": "markdown",
   "metadata": {
    "papermill": {
     "duration": 0.02998,
     "end_time": "2020-08-21T07:59:11.353827",
     "exception": false,
     "start_time": "2020-08-21T07:59:11.323847",
     "status": "completed"
    },
    "tags": []
   },
   "source": [
    "Source: https://www.cdph.ca.gov/Programs/CID/DCDC/Pages/COVID-19/COVID19CountyDataTable.aspx."
   ]
  },
  {
   "cell_type": "markdown",
   "metadata": {
    "papermill": {
     "duration": 0.017991,
     "end_time": "2020-08-21T07:59:11.392805",
     "exception": false,
     "start_time": "2020-08-21T07:59:11.374814",
     "status": "completed"
    },
    "tags": []
   },
   "source": [
    "See the code to scrape the data: https://github.com/walice/COVID-SB/."
   ]
  },
  {
   "cell_type": "code",
   "execution_count": 12,
   "metadata": {
    "execution": {
     "iopub.execute_input": "2020-08-21T07:59:11.481754Z",
     "iopub.status.busy": "2020-08-21T07:59:11.479755Z",
     "iopub.status.idle": "2020-08-21T07:59:11.484752Z",
     "shell.execute_reply": "2020-08-21T07:59:11.485752Z"
    },
    "papermill": {
     "duration": 0.033981,
     "end_time": "2020-08-21T07:59:11.485752",
     "exception": false,
     "start_time": "2020-08-21T07:59:11.451771",
     "status": "completed"
    },
    "tags": [
     "remove_cell"
    ]
   },
   "outputs": [
    {
     "data": {
      "application/javascript": [
       "IPython.notebook.save_notebook()\n"
      ],
      "text/plain": [
       "<IPython.core.display.Javascript object>"
      ]
     },
     "metadata": {},
     "output_type": "display_data"
    }
   ],
   "source": [
    "%%javascript\n",
    "IPython.notebook.save_notebook()"
   ]
  },
  {
   "cell_type": "code",
   "execution_count": 13,
   "metadata": {
    "execution": {
     "iopub.execute_input": "2020-08-21T07:59:11.534724Z",
     "iopub.status.busy": "2020-08-21T07:59:11.532725Z",
     "iopub.status.idle": "2020-08-21T07:59:13.362414Z",
     "shell.execute_reply": "2020-08-21T07:59:13.362414Z"
    },
    "papermill": {
     "duration": 1.860672,
     "end_time": "2020-08-21T07:59:13.363413",
     "exception": false,
     "start_time": "2020-08-21T07:59:11.502741",
     "status": "completed"
    },
    "slideshow": {
     "slide_type": "skip"
    },
    "tags": [
     "remove_cell"
    ]
   },
   "outputs": [
    {
     "name": "stderr",
     "output_type": "stream",
     "text": [
      "[NbConvertApp] Converting notebook index.ipynb to html\n",
      "[NbConvertApp] Writing 274171 bytes to index.html\n"
     ]
    }
   ],
   "source": [
    "# Convert Jupyter Notebook to HTML\n",
    "! jupyter nbconvert \"index.ipynb\" --to html --TagRemovePreprocessor.enabled=True --TagRemovePreprocessor.remove_cell_tags=\"['remove_cell']\" --TagRemovePreprocessor.remove_input_tags=\"['remove_input']\" --no-prompt"
   ]
  },
  {
   "cell_type": "code",
   "execution_count": 14,
   "metadata": {
    "execution": {
     "iopub.execute_input": "2020-08-21T07:59:13.423380Z",
     "iopub.status.busy": "2020-08-21T07:59:13.422381Z",
     "iopub.status.idle": "2020-08-21T07:59:13.428376Z",
     "shell.execute_reply": "2020-08-21T07:59:13.429375Z"
    },
    "papermill": {
     "duration": 0.040976,
     "end_time": "2020-08-21T07:59:13.429375",
     "exception": false,
     "start_time": "2020-08-21T07:59:13.388399",
     "status": "completed"
    },
    "tags": [
     "remove_cell"
    ]
   },
   "outputs": [],
   "source": [
    "# Create daily commit message\n",
    "now = datetime.datetime.now()\n",
    "commit_message = \"Last scraped on \" + str(now)"
   ]
  },
  {
   "cell_type": "code",
   "execution_count": null,
   "metadata": {
    "papermill": {
     "duration": null,
     "end_time": null,
     "exception": false,
     "start_time": "2020-08-21T07:59:13.453365",
     "status": "running"
    },
    "tags": [
     "remove_cell"
    ]
   },
   "outputs": [],
   "source": [
    "# Deploy to GitHub\n",
    "! git add .\n",
    "! echo $commit_message > commit_message.txt\n",
    "! git commit -F commit_message.txt\n",
    "! git push"
   ]
  }
 ],
 "metadata": {
  "celltoolbar": "Tags",
  "kernelspec": {
   "display_name": "Python 3",
   "language": "python",
   "name": "python3"
  },
  "language_info": {
   "codemirror_mode": {
    "name": "ipython",
    "version": 3
   },
   "file_extension": ".py",
   "mimetype": "text/x-python",
   "name": "python",
   "nbconvert_exporter": "python",
   "pygments_lexer": "ipython3",
   "version": "3.7.6"
  },
  "papermill": {
   "duration": null,
   "end_time": null,
   "environment_variables": {},
   "exception": null,
   "input_path": "C:/Users/Alice/Box Sync/PhD/Software/Python/COVID/COVID-SB/index.ipynb",
   "output_path": "C:/Users/Alice/Box Sync/PhD/Software/Python/COVID/COVID-SB/index.ipynb",
   "parameters": {},
   "start_time": "2020-08-21T07:59:01.671591",
   "version": "2.1.3"
  }
 },
 "nbformat": 4,
 "nbformat_minor": 4
}