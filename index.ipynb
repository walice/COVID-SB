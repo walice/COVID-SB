{
 "cells": [
  {
   "cell_type": "markdown",
   "metadata": {
    "papermill": {
     "duration": 0.011993,
     "end_time": "2020-08-26T09:41:58.403226",
     "exception": false,
     "start_time": "2020-08-26T09:41:58.391233",
     "status": "completed"
    },
    "tags": []
   },
   "source": [
    "# Daily COVID monitoring data for Santa Barbara county"
   ]
  },
  {
   "cell_type": "code",
   "execution_count": 1,
   "metadata": {
    "execution": {
     "iopub.execute_input": "2020-08-26T09:41:58.436052Z",
     "iopub.status.busy": "2020-08-26T09:41:58.435527Z",
     "iopub.status.idle": "2020-08-26T09:41:58.544832Z",
     "shell.execute_reply": "2020-08-26T09:41:58.543884Z"
    },
    "papermill": {
     "duration": 0.130457,
     "end_time": "2020-08-26T09:41:58.544984",
     "exception": false,
     "start_time": "2020-08-26T09:41:58.414527",
     "status": "completed"
    },
    "tags": [
     "remove_cell"
    ]
   },
   "outputs": [
    {
     "name": "stdout",
     "output_type": "stream",
     "text": [
      "/bin/bash: jt: command not found\r\n"
     ]
    }
   ],
   "source": [
    "! jt -t grade3 -tf robotosans -cellw 1100"
   ]
  },
  {
   "cell_type": "markdown",
   "metadata": {
    "papermill": {
     "duration": 0.011005,
     "end_time": "2020-08-26T09:41:58.567665",
     "exception": false,
     "start_time": "2020-08-26T09:41:58.556660",
     "status": "completed"
    },
    "tags": []
   },
   "source": [
    "This table is automatically updated with new daily COVID data for the county of Santa Barbara, CA. Every day, the California Department of Public Health publishes COVID tracking metrics for each county, but does not save the previous day's data. This tool keeps track of the daily metrics that are used to monitor progress towards safe reopening in California."
   ]
  },
  {
   "cell_type": "code",
   "execution_count": 2,
   "metadata": {
    "execution": {
     "iopub.execute_input": "2020-08-26T09:41:58.595543Z",
     "iopub.status.busy": "2020-08-26T09:41:58.595016Z",
     "iopub.status.idle": "2020-08-26T09:42:00.891062Z",
     "shell.execute_reply": "2020-08-26T09:42:00.891927Z"
    },
    "papermill": {
     "duration": 2.313405,
     "end_time": "2020-08-26T09:42:00.892095",
     "exception": false,
     "start_time": "2020-08-26T09:41:58.578690",
     "status": "completed"
    },
    "slideshow": {
     "slide_type": "skip"
    },
    "tags": [
     "remove_cell"
    ]
   },
   "outputs": [],
   "source": [
    "# Preamble\n",
    "import os\n",
    "from IPython.display import Markdown as md\n",
    "import IPython\n",
    "import requests\n",
    "from bs4 import BeautifulSoup\n",
    "import re\n",
    "import pandas as pd\n",
    "import datetime\n",
    "import gspread\n",
    "from oauth2client.service_account import ServiceAccountCredentials"
   ]
  },
  {
   "cell_type": "code",
   "execution_count": 3,
   "metadata": {
    "execution": {
     "iopub.execute_input": "2020-08-26T09:42:00.920222Z",
     "iopub.status.busy": "2020-08-26T09:42:00.919600Z",
     "iopub.status.idle": "2020-08-26T09:42:00.921084Z",
     "shell.execute_reply": "2020-08-26T09:42:00.920660Z"
    },
    "papermill": {
     "duration": 0.017698,
     "end_time": "2020-08-26T09:42:00.921199",
     "exception": false,
     "start_time": "2020-08-26T09:42:00.903501",
     "status": "completed"
    },
    "tags": []
   },
   "outputs": [],
   "source": [
    "# Set working directory\n",
    "os.chdir(\"/home/alice_lepissier/COVID-SB\")"
   ]
  },
  {
   "cell_type": "code",
   "execution_count": 4,
   "metadata": {
    "execution": {
     "iopub.execute_input": "2020-08-26T09:42:00.949217Z",
     "iopub.status.busy": "2020-08-26T09:42:00.948672Z",
     "iopub.status.idle": "2020-08-26T09:42:01.231354Z",
     "shell.execute_reply": "2020-08-26T09:42:01.232171Z"
    },
    "papermill": {
     "duration": 0.300223,
     "end_time": "2020-08-26T09:42:01.232344",
     "exception": false,
     "start_time": "2020-08-26T09:42:00.932121",
     "status": "completed"
    },
    "slideshow": {
     "slide_type": "skip"
    },
    "tags": [
     "remove_cell"
    ]
   },
   "outputs": [],
   "source": [
    "# Request content from URL\n",
    "html_string = requests.get('https://www.cdph.ca.gov/Programs/CID/DCDC/Pages/COVID-19/COVID19CountyDataTable.aspx').content"
   ]
  },
  {
   "cell_type": "code",
   "execution_count": 5,
   "metadata": {
    "execution": {
     "iopub.execute_input": "2020-08-26T09:42:01.259393Z",
     "iopub.status.busy": "2020-08-26T09:42:01.258921Z",
     "iopub.status.idle": "2020-08-26T09:42:01.343453Z",
     "shell.execute_reply": "2020-08-26T09:42:01.344238Z"
    },
    "papermill": {
     "duration": 0.100863,
     "end_time": "2020-08-26T09:42:01.344408",
     "exception": false,
     "start_time": "2020-08-26T09:42:01.243545",
     "status": "completed"
    },
    "slideshow": {
     "slide_type": "skip"
    },
    "tags": [
     "remove_cell"
    ]
   },
   "outputs": [],
   "source": [
    "# Parse HTML\n",
    "soup = BeautifulSoup(html_string, 'html.parser')"
   ]
  },
  {
   "cell_type": "code",
   "execution_count": 6,
   "metadata": {
    "execution": {
     "iopub.execute_input": "2020-08-26T09:42:01.376774Z",
     "iopub.status.busy": "2020-08-26T09:42:01.376253Z",
     "iopub.status.idle": "2020-08-26T09:42:01.382475Z",
     "shell.execute_reply": "2020-08-26T09:42:01.383171Z"
    },
    "papermill": {
     "duration": 0.027498,
     "end_time": "2020-08-26T09:42:01.383339",
     "exception": false,
     "start_time": "2020-08-26T09:42:01.355841",
     "status": "completed"
    },
    "slideshow": {
     "slide_type": "skip"
    },
    "tags": [
     "remove_cell"
    ]
   },
   "outputs": [],
   "source": [
    "# Extract data for Santa Barbara\n",
    "table = soup.find_all(\"tr\", class_=\"ms-rteTableEvenRow-3\")\n",
    "SB = table[21]"
   ]
  },
  {
   "cell_type": "code",
   "execution_count": 7,
   "metadata": {
    "execution": {
     "iopub.execute_input": "2020-08-26T09:42:01.416727Z",
     "iopub.status.busy": "2020-08-26T09:42:01.416225Z",
     "iopub.status.idle": "2020-08-26T09:42:01.424606Z",
     "shell.execute_reply": "2020-08-26T09:42:01.425309Z"
    },
    "papermill": {
     "duration": 0.030341,
     "end_time": "2020-08-26T09:42:01.425458",
     "exception": false,
     "start_time": "2020-08-26T09:42:01.395117",
     "status": "completed"
    },
    "slideshow": {
     "slide_type": "skip"
    },
    "tags": [
     "remove_cell"
    ]
   },
   "outputs": [],
   "source": [
    "# Avg # tests per day (per 100,000 population)\n",
    "daily_tests = SB.find_all(\"td\", class_=\"ms-rteTableOddCol-3\")[0].text\n",
    "\n",
    "# Case rate per 100,000\n",
    "case_rate = SB.find_all(\"td\", class_=\"ms-rteTableEvenCol-3\")[1].text\n",
    "\n",
    "# Testing positivity (%)\n",
    "test_positivity = SB.find_all(\"td\", class_=\"ms-rteTableOddCol-3\")[1].text\n",
    "\n",
    "# % Change in 3-day avg COVID+ hospitalized patients\n",
    "change_hospit = SB.find_all(\"td\", class_=\"ms-rteTableEvenCol-3\")[2].text\n",
    "\n",
    "# % ICU beds currently available\n",
    "ICU_beds = SB.find_all(\"td\", class_=\"ms-rteTableOddCol-3\")[2].text\n",
    "\n",
    "# % Ventilators currently available\n",
    "ventilators = SB.find_all(\"td\", class_=\"ms-rteTableEvenCol-3\")[3].text\n",
    "\n",
    "# Extract date of last update\n",
    "update_date = soup.find_all(\"span\", class_=\"ms-rteStyle-Accent1\")[1]\\\n",
    "    .find(\"em\").text"
   ]
  },
  {
   "cell_type": "code",
   "execution_count": 8,
   "metadata": {
    "execution": {
     "iopub.execute_input": "2020-08-26T09:42:01.453004Z",
     "iopub.status.busy": "2020-08-26T09:42:01.452431Z",
     "iopub.status.idle": "2020-08-26T09:42:01.453844Z",
     "shell.execute_reply": "2020-08-26T09:42:01.453442Z"
    },
    "papermill": {
     "duration": 0.017304,
     "end_time": "2020-08-26T09:42:01.453957",
     "exception": false,
     "start_time": "2020-08-26T09:42:01.436653",
     "status": "completed"
    },
    "tags": [
     "remove_cell"
    ]
   },
   "outputs": [],
   "source": [
    "# Create updated date string\n",
    "update_tag = \"Table last updated by CDPH on \" + update_date.split(\" on \", 1)[1] + \".\""
   ]
  },
  {
   "cell_type": "code",
   "execution_count": 9,
   "metadata": {
    "execution": {
     "iopub.execute_input": "2020-08-26T09:42:01.479608Z",
     "iopub.status.busy": "2020-08-26T09:42:01.479146Z",
     "iopub.status.idle": "2020-08-26T09:42:01.489815Z",
     "shell.execute_reply": "2020-08-26T09:42:01.490594Z"
    },
    "papermill": {
     "duration": 0.025913,
     "end_time": "2020-08-26T09:42:01.490753",
     "exception": false,
     "start_time": "2020-08-26T09:42:01.464840",
     "status": "completed"
    },
    "slideshow": {
     "slide_type": "skip"
    },
    "tags": [
     "remove_cell"
    ]
   },
   "outputs": [],
   "source": [
    "# Set up Google Sheet API\n",
    "scope = [\"https://spreadsheets.google.com/feeds\",'https://www.googleapis.com/auth/spreadsheets',\"https://www.googleapis.com/auth/drive.file\",\"https://www.googleapis.com/auth/drive\"]\n",
    "creds = ServiceAccountCredentials.from_json_keyfile_name(\"credentials.json\", scope)\n",
    "client = gspread.authorize(creds)"
   ]
  },
  {
   "cell_type": "code",
   "execution_count": 10,
   "metadata": {
    "execution": {
     "iopub.execute_input": "2020-08-26T09:42:01.549701Z",
     "iopub.status.busy": "2020-08-26T09:42:01.549188Z",
     "iopub.status.idle": "2020-08-26T09:42:02.837563Z",
     "shell.execute_reply": "2020-08-26T09:42:02.838475Z"
    },
    "papermill": {
     "duration": 1.336903,
     "end_time": "2020-08-26T09:42:02.838649",
     "exception": false,
     "start_time": "2020-08-26T09:42:01.501746",
     "status": "completed"
    },
    "slideshow": {
     "slide_type": "skip"
    },
    "tags": [
     "remove_cell"
    ]
   },
   "outputs": [
    {
     "data": {
      "text/plain": [
       "{'spreadsheetId': '1pcqdMzKtea2Oq3BDmdAOQ21gZjCssieKI0692VfNLXU',\n",
       " 'updatedRange': 'Sheet1!A2:G2',\n",
       " 'updatedRows': 1,\n",
       " 'updatedColumns': 7,\n",
       " 'updatedCells': 7}"
      ]
     },
     "execution_count": 10,
     "metadata": {},
     "output_type": "execute_result"
    }
   ],
   "source": [
    "# Append daily data as a new row in Google Sheet\n",
    "sheet = client.open(\"Test cron job\").sheet1\n",
    "insertRow = [datetime.date.today().strftime(\"%Y-%m-%d\"),\n",
    "             daily_tests,\n",
    "             case_rate,\n",
    "             test_positivity,\n",
    "             change_hospit,\n",
    "             ICU_beds,\n",
    "             ventilators]\n",
    "sheet.insert_row(insertRow, 2)"
   ]
  },
  {
   "cell_type": "code",
   "execution_count": 11,
   "metadata": {
    "execution": {
     "iopub.execute_input": "2020-08-26T09:42:02.867502Z",
     "iopub.status.busy": "2020-08-26T09:42:02.866974Z",
     "iopub.status.idle": "2020-08-26T09:42:03.724927Z",
     "shell.execute_reply": "2020-08-26T09:42:03.725711Z"
    },
    "papermill": {
     "duration": 0.875372,
     "end_time": "2020-08-26T09:42:03.725872",
     "exception": false,
     "start_time": "2020-08-26T09:42:02.850500",
     "status": "completed"
    },
    "scrolled": true,
    "slideshow": {
     "slide_type": "slide"
    },
    "tags": [
     "remove_cell"
    ]
   },
   "outputs": [],
   "source": [
    "# Extract data from Google Sheet as pandas dataframe\n",
    "sheet = client.open(\"Test cron job\").sheet1\n",
    "data = sheet.get_all_records()\n",
    "result = pd.DataFrame(data).set_index(\"Date\")"
   ]
  },
  {
   "cell_type": "code",
   "execution_count": 12,
   "metadata": {
    "execution": {
     "iopub.execute_input": "2020-08-26T09:42:03.755880Z",
     "iopub.status.busy": "2020-08-26T09:42:03.754027Z",
     "iopub.status.idle": "2020-08-26T09:42:04.990448Z",
     "shell.execute_reply": "2020-08-26T09:42:04.991145Z"
    },
    "papermill": {
     "duration": 1.253823,
     "end_time": "2020-08-26T09:42:04.991303",
     "exception": false,
     "start_time": "2020-08-26T09:42:03.737480",
     "status": "completed"
    },
    "scrolled": true,
    "tags": [
     "remove_input"
    ]
   },
   "outputs": [
    {
     "data": {
      "text/html": [
       "<style  type=\"text/css\" >\n",
       "    #T_66817094_e780_11ea_a155_42010a8a0004 th {\n",
       "          text-align: center;\n",
       "    }#T_66817094_e780_11ea_a155_42010a8a0004row0_col0,#T_66817094_e780_11ea_a155_42010a8a0004row1_col0,#T_66817094_e780_11ea_a155_42010a8a0004row2_col0,#T_66817094_e780_11ea_a155_42010a8a0004row3_col0,#T_66817094_e780_11ea_a155_42010a8a0004row4_col0,#T_66817094_e780_11ea_a155_42010a8a0004row5_col0,#T_66817094_e780_11ea_a155_42010a8a0004row6_col0,#T_66817094_e780_11ea_a155_42010a8a0004row7_col0,#T_66817094_e780_11ea_a155_42010a8a0004row8_col0,#T_66817094_e780_11ea_a155_42010a8a0004row9_col0,#T_66817094_e780_11ea_a155_42010a8a0004row10_col0,#T_66817094_e780_11ea_a155_42010a8a0004row11_col0,#T_66817094_e780_11ea_a155_42010a8a0004row12_col0,#T_66817094_e780_11ea_a155_42010a8a0004row13_col0,#T_66817094_e780_11ea_a155_42010a8a0004row14_col0,#T_66817094_e780_11ea_a155_42010a8a0004row15_col0,#T_66817094_e780_11ea_a155_42010a8a0004row16_col0,#T_66817094_e780_11ea_a155_42010a8a0004row17_col0,#T_66817094_e780_11ea_a155_42010a8a0004row18_col0,#T_66817094_e780_11ea_a155_42010a8a0004row19_col0,#T_66817094_e780_11ea_a155_42010a8a0004row20_col0,#T_66817094_e780_11ea_a155_42010a8a0004row21_col0{\n",
       "            width:  20em;\n",
       "            text-align:  center;\n",
       "            font-weight:  bold;\n",
       "        }#T_66817094_e780_11ea_a155_42010a8a0004row0_col1,#T_66817094_e780_11ea_a155_42010a8a0004row0_col2,#T_66817094_e780_11ea_a155_42010a8a0004row1_col1,#T_66817094_e780_11ea_a155_42010a8a0004row1_col2,#T_66817094_e780_11ea_a155_42010a8a0004row2_col1,#T_66817094_e780_11ea_a155_42010a8a0004row2_col2,#T_66817094_e780_11ea_a155_42010a8a0004row3_col1,#T_66817094_e780_11ea_a155_42010a8a0004row3_col2,#T_66817094_e780_11ea_a155_42010a8a0004row4_col1,#T_66817094_e780_11ea_a155_42010a8a0004row4_col2,#T_66817094_e780_11ea_a155_42010a8a0004row5_col1,#T_66817094_e780_11ea_a155_42010a8a0004row5_col2,#T_66817094_e780_11ea_a155_42010a8a0004row6_col1,#T_66817094_e780_11ea_a155_42010a8a0004row6_col2,#T_66817094_e780_11ea_a155_42010a8a0004row7_col1,#T_66817094_e780_11ea_a155_42010a8a0004row7_col2,#T_66817094_e780_11ea_a155_42010a8a0004row8_col1,#T_66817094_e780_11ea_a155_42010a8a0004row8_col2,#T_66817094_e780_11ea_a155_42010a8a0004row9_col1,#T_66817094_e780_11ea_a155_42010a8a0004row9_col2,#T_66817094_e780_11ea_a155_42010a8a0004row10_col1,#T_66817094_e780_11ea_a155_42010a8a0004row10_col2,#T_66817094_e780_11ea_a155_42010a8a0004row11_col1,#T_66817094_e780_11ea_a155_42010a8a0004row11_col2,#T_66817094_e780_11ea_a155_42010a8a0004row12_col1,#T_66817094_e780_11ea_a155_42010a8a0004row12_col2,#T_66817094_e780_11ea_a155_42010a8a0004row13_col1,#T_66817094_e780_11ea_a155_42010a8a0004row13_col2,#T_66817094_e780_11ea_a155_42010a8a0004row14_col1,#T_66817094_e780_11ea_a155_42010a8a0004row14_col2,#T_66817094_e780_11ea_a155_42010a8a0004row15_col1,#T_66817094_e780_11ea_a155_42010a8a0004row15_col2,#T_66817094_e780_11ea_a155_42010a8a0004row16_col1,#T_66817094_e780_11ea_a155_42010a8a0004row16_col2,#T_66817094_e780_11ea_a155_42010a8a0004row17_col1,#T_66817094_e780_11ea_a155_42010a8a0004row17_col2,#T_66817094_e780_11ea_a155_42010a8a0004row18_col1,#T_66817094_e780_11ea_a155_42010a8a0004row18_col2,#T_66817094_e780_11ea_a155_42010a8a0004row19_col1,#T_66817094_e780_11ea_a155_42010a8a0004row19_col2,#T_66817094_e780_11ea_a155_42010a8a0004row20_col1,#T_66817094_e780_11ea_a155_42010a8a0004row20_col2,#T_66817094_e780_11ea_a155_42010a8a0004row21_col1,#T_66817094_e780_11ea_a155_42010a8a0004row21_col2{\n",
       "            width:  20em;\n",
       "            text-align:  center;\n",
       "        }</style><table id=\"T_66817094_e780_11ea_a155_42010a8a0004\" ><thead>    <tr>        <th class=\"col_heading level0 col0\" >Date</th>        <th class=\"col_heading level0 col1\" >Time</th>        <th class=\"col_heading level0 col2\" ></th>    </tr></thead><tbody>\n",
       "                <tr>\n",
       "                                <td id=\"T_66817094_e780_11ea_a155_42010a8a0004row0_col0\" class=\"data row0 col0\" >2020-08-26</td>\n",
       "                        <td id=\"T_66817094_e780_11ea_a155_42010a8a0004row0_col1\" class=\"data row0 col1\" >222.1</td>\n",
       "                        <td id=\"T_66817094_e780_11ea_a155_42010a8a0004row0_col2\" class=\"data row0 col2\" > ✔</td>\n",
       "            </tr>\n",
       "            <tr>\n",
       "                                <td id=\"T_66817094_e780_11ea_a155_42010a8a0004row1_col0\" class=\"data row1 col0\" >2020-08-26</td>\n",
       "                        <td id=\"T_66817094_e780_11ea_a155_42010a8a0004row1_col1\" class=\"data row1 col1\" >222.1</td>\n",
       "                        <td id=\"T_66817094_e780_11ea_a155_42010a8a0004row1_col2\" class=\"data row1 col2\" > ✔</td>\n",
       "            </tr>\n",
       "            <tr>\n",
       "                                <td id=\"T_66817094_e780_11ea_a155_42010a8a0004row2_col0\" class=\"data row2 col0\" >2020-08-26</td>\n",
       "                        <td id=\"T_66817094_e780_11ea_a155_42010a8a0004row2_col1\" class=\"data row2 col1\" >222.1</td>\n",
       "                        <td id=\"T_66817094_e780_11ea_a155_42010a8a0004row2_col2\" class=\"data row2 col2\" > ✔</td>\n",
       "            </tr>\n",
       "            <tr>\n",
       "                                <td id=\"T_66817094_e780_11ea_a155_42010a8a0004row3_col0\" class=\"data row3 col0\" >2020-08-26</td>\n",
       "                        <td id=\"T_66817094_e780_11ea_a155_42010a8a0004row3_col1\" class=\"data row3 col1\" >222.1</td>\n",
       "                        <td id=\"T_66817094_e780_11ea_a155_42010a8a0004row3_col2\" class=\"data row3 col2\" > ✔</td>\n",
       "            </tr>\n",
       "            <tr>\n",
       "                                <td id=\"T_66817094_e780_11ea_a155_42010a8a0004row4_col0\" class=\"data row4 col0\" >2020-08-26</td>\n",
       "                        <td id=\"T_66817094_e780_11ea_a155_42010a8a0004row4_col1\" class=\"data row4 col1\" >222.1</td>\n",
       "                        <td id=\"T_66817094_e780_11ea_a155_42010a8a0004row4_col2\" class=\"data row4 col2\" > ✔</td>\n",
       "            </tr>\n",
       "            <tr>\n",
       "                                <td id=\"T_66817094_e780_11ea_a155_42010a8a0004row5_col0\" class=\"data row5 col0\" >2020-08-26</td>\n",
       "                        <td id=\"T_66817094_e780_11ea_a155_42010a8a0004row5_col1\" class=\"data row5 col1\" >222.1</td>\n",
       "                        <td id=\"T_66817094_e780_11ea_a155_42010a8a0004row5_col2\" class=\"data row5 col2\" > ✔</td>\n",
       "            </tr>\n",
       "            <tr>\n",
       "                                <td id=\"T_66817094_e780_11ea_a155_42010a8a0004row6_col0\" class=\"data row6 col0\" >2020-08-26</td>\n",
       "                        <td id=\"T_66817094_e780_11ea_a155_42010a8a0004row6_col1\" class=\"data row6 col1\" >222.1</td>\n",
       "                        <td id=\"T_66817094_e780_11ea_a155_42010a8a0004row6_col2\" class=\"data row6 col2\" > ✔</td>\n",
       "            </tr>\n",
       "            <tr>\n",
       "                                <td id=\"T_66817094_e780_11ea_a155_42010a8a0004row7_col0\" class=\"data row7 col0\" >2020-08-26</td>\n",
       "                        <td id=\"T_66817094_e780_11ea_a155_42010a8a0004row7_col1\" class=\"data row7 col1\" >222.1</td>\n",
       "                        <td id=\"T_66817094_e780_11ea_a155_42010a8a0004row7_col2\" class=\"data row7 col2\" > ✔</td>\n",
       "            </tr>\n",
       "            <tr>\n",
       "                                <td id=\"T_66817094_e780_11ea_a155_42010a8a0004row8_col0\" class=\"data row8 col0\" >2020-08-26</td>\n",
       "                        <td id=\"T_66817094_e780_11ea_a155_42010a8a0004row8_col1\" class=\"data row8 col1\" >222.1</td>\n",
       "                        <td id=\"T_66817094_e780_11ea_a155_42010a8a0004row8_col2\" class=\"data row8 col2\" > ✔</td>\n",
       "            </tr>\n",
       "            <tr>\n",
       "                                <td id=\"T_66817094_e780_11ea_a155_42010a8a0004row9_col0\" class=\"data row9 col0\" >2020-08-26</td>\n",
       "                        <td id=\"T_66817094_e780_11ea_a155_42010a8a0004row9_col1\" class=\"data row9 col1\" >222.1</td>\n",
       "                        <td id=\"T_66817094_e780_11ea_a155_42010a8a0004row9_col2\" class=\"data row9 col2\" > ✔</td>\n",
       "            </tr>\n",
       "            <tr>\n",
       "                                <td id=\"T_66817094_e780_11ea_a155_42010a8a0004row10_col0\" class=\"data row10 col0\" >2020-08-26</td>\n",
       "                        <td id=\"T_66817094_e780_11ea_a155_42010a8a0004row10_col1\" class=\"data row10 col1\" >222.1</td>\n",
       "                        <td id=\"T_66817094_e780_11ea_a155_42010a8a0004row10_col2\" class=\"data row10 col2\" > ✔</td>\n",
       "            </tr>\n",
       "            <tr>\n",
       "                                <td id=\"T_66817094_e780_11ea_a155_42010a8a0004row11_col0\" class=\"data row11 col0\" >2020-08-26</td>\n",
       "                        <td id=\"T_66817094_e780_11ea_a155_42010a8a0004row11_col1\" class=\"data row11 col1\" >222.1</td>\n",
       "                        <td id=\"T_66817094_e780_11ea_a155_42010a8a0004row11_col2\" class=\"data row11 col2\" > ✔</td>\n",
       "            </tr>\n",
       "            <tr>\n",
       "                                <td id=\"T_66817094_e780_11ea_a155_42010a8a0004row12_col0\" class=\"data row12 col0\" >2020-08-26</td>\n",
       "                        <td id=\"T_66817094_e780_11ea_a155_42010a8a0004row12_col1\" class=\"data row12 col1\" >222.1</td>\n",
       "                        <td id=\"T_66817094_e780_11ea_a155_42010a8a0004row12_col2\" class=\"data row12 col2\" > ✔</td>\n",
       "            </tr>\n",
       "            <tr>\n",
       "                                <td id=\"T_66817094_e780_11ea_a155_42010a8a0004row13_col0\" class=\"data row13 col0\" >2020-08-26</td>\n",
       "                        <td id=\"T_66817094_e780_11ea_a155_42010a8a0004row13_col1\" class=\"data row13 col1\" >222.1</td>\n",
       "                        <td id=\"T_66817094_e780_11ea_a155_42010a8a0004row13_col2\" class=\"data row13 col2\" > ✔</td>\n",
       "            </tr>\n",
       "            <tr>\n",
       "                                <td id=\"T_66817094_e780_11ea_a155_42010a8a0004row14_col0\" class=\"data row14 col0\" >2020-08-26</td>\n",
       "                        <td id=\"T_66817094_e780_11ea_a155_42010a8a0004row14_col1\" class=\"data row14 col1\" >222.1</td>\n",
       "                        <td id=\"T_66817094_e780_11ea_a155_42010a8a0004row14_col2\" class=\"data row14 col2\" > ✔</td>\n",
       "            </tr>\n",
       "            <tr>\n",
       "                                <td id=\"T_66817094_e780_11ea_a155_42010a8a0004row15_col0\" class=\"data row15 col0\" >2020-08-26</td>\n",
       "                        <td id=\"T_66817094_e780_11ea_a155_42010a8a0004row15_col1\" class=\"data row15 col1\" >222.1</td>\n",
       "                        <td id=\"T_66817094_e780_11ea_a155_42010a8a0004row15_col2\" class=\"data row15 col2\" > ✔</td>\n",
       "            </tr>\n",
       "            <tr>\n",
       "                                <td id=\"T_66817094_e780_11ea_a155_42010a8a0004row16_col0\" class=\"data row16 col0\" >2020-08-26</td>\n",
       "                        <td id=\"T_66817094_e780_11ea_a155_42010a8a0004row16_col1\" class=\"data row16 col1\" >222.1</td>\n",
       "                        <td id=\"T_66817094_e780_11ea_a155_42010a8a0004row16_col2\" class=\"data row16 col2\" > ✔</td>\n",
       "            </tr>\n",
       "            <tr>\n",
       "                                <td id=\"T_66817094_e780_11ea_a155_42010a8a0004row17_col0\" class=\"data row17 col0\" >2020-08-26</td>\n",
       "                        <td id=\"T_66817094_e780_11ea_a155_42010a8a0004row17_col1\" class=\"data row17 col1\" >222.1</td>\n",
       "                        <td id=\"T_66817094_e780_11ea_a155_42010a8a0004row17_col2\" class=\"data row17 col2\" > ✔</td>\n",
       "            </tr>\n",
       "            <tr>\n",
       "                                <td id=\"T_66817094_e780_11ea_a155_42010a8a0004row18_col0\" class=\"data row18 col0\" >2020-08-26</td>\n",
       "                        <td id=\"T_66817094_e780_11ea_a155_42010a8a0004row18_col1\" class=\"data row18 col1\" >222.1</td>\n",
       "                        <td id=\"T_66817094_e780_11ea_a155_42010a8a0004row18_col2\" class=\"data row18 col2\" > ✔</td>\n",
       "            </tr>\n",
       "            <tr>\n",
       "                                <td id=\"T_66817094_e780_11ea_a155_42010a8a0004row19_col0\" class=\"data row19 col0\" >2020-08-26</td>\n",
       "                        <td id=\"T_66817094_e780_11ea_a155_42010a8a0004row19_col1\" class=\"data row19 col1\" >222.1</td>\n",
       "                        <td id=\"T_66817094_e780_11ea_a155_42010a8a0004row19_col2\" class=\"data row19 col2\" > ✔</td>\n",
       "            </tr>\n",
       "            <tr>\n",
       "                                <td id=\"T_66817094_e780_11ea_a155_42010a8a0004row20_col0\" class=\"data row20 col0\" >2020-08-26</td>\n",
       "                        <td id=\"T_66817094_e780_11ea_a155_42010a8a0004row20_col1\" class=\"data row20 col1\" >222.1</td>\n",
       "                        <td id=\"T_66817094_e780_11ea_a155_42010a8a0004row20_col2\" class=\"data row20 col2\" > ✔</td>\n",
       "            </tr>\n",
       "            <tr>\n",
       "                                <td id=\"T_66817094_e780_11ea_a155_42010a8a0004row21_col0\" class=\"data row21 col0\" >2020-08-26</td>\n",
       "                        <td id=\"T_66817094_e780_11ea_a155_42010a8a0004row21_col1\" class=\"data row21 col1\" >222.1</td>\n",
       "                        <td id=\"T_66817094_e780_11ea_a155_42010a8a0004row21_col2\" class=\"data row21 col2\" > ✔</td>\n",
       "            </tr>\n",
       "    </tbody></table>"
      ],
      "text/plain": [
       "<pandas.io.formats.style.Styler at 0x7f8c0c41a5f8>"
      ]
     },
     "execution_count": 12,
     "metadata": {},
     "output_type": "execute_result"
    }
   ],
   "source": [
    "# Style the pandas dataframe\n",
    "d = dict(selector=\"th\",\n",
    "         props=[('text-align', 'center')])\n",
    "\n",
    "result.reset_index().style\\\n",
    "    .set_properties(**{'width':'20em', 'text-align':'center'})\\\n",
    "    .set_properties(subset=['Date'], **{'font-weight': 'bold'})\\\n",
    "    .set_table_styles([d])\\\n",
    "    .set_precision(1)\\\n",
    "    .hide_index()"
   ]
  },
  {
   "cell_type": "markdown",
   "metadata": {
    "papermill": {
     "duration": 0.011454,
     "end_time": "2020-08-26T09:42:05.014813",
     "exception": false,
     "start_time": "2020-08-26T09:42:05.003359",
     "status": "completed"
    },
    "tags": []
   },
   "source": [
    "<sup>Notes: (1) 7 day average with a 7-day lag. (2) 14 day average. (3) 7 day average with a 7-day lag. (4) Change in 3 day average.</sup>"
   ]
  },
  {
   "cell_type": "code",
   "execution_count": 13,
   "metadata": {
    "execution": {
     "iopub.execute_input": "2020-08-26T09:42:05.043186Z",
     "iopub.status.busy": "2020-08-26T09:42:05.042704Z",
     "iopub.status.idle": "2020-08-26T09:42:05.045615Z",
     "shell.execute_reply": "2020-08-26T09:42:05.045980Z"
    },
    "papermill": {
     "duration": 0.019802,
     "end_time": "2020-08-26T09:42:05.046155",
     "exception": false,
     "start_time": "2020-08-26T09:42:05.026353",
     "status": "completed"
    },
    "tags": [
     "remove_input"
    ]
   },
   "outputs": [
    {
     "data": {
      "text/markdown": [
       "Table last updated by CDPH on August 25, 2020."
      ],
      "text/plain": [
       "<IPython.core.display.Markdown object>"
      ]
     },
     "execution_count": 13,
     "metadata": {},
     "output_type": "execute_result"
    }
   ],
   "source": [
    "md(update_tag)"
   ]
  },
  {
   "cell_type": "markdown",
   "metadata": {
    "papermill": {
     "duration": 0.011761,
     "end_time": "2020-08-26T09:42:05.069621",
     "exception": false,
     "start_time": "2020-08-26T09:42:05.057860",
     "status": "completed"
    },
    "tags": []
   },
   "source": [
    "## Tracking county closures in Santa Barbara"
   ]
  },
  {
   "cell_type": "markdown",
   "metadata": {
    "papermill": {
     "duration": 0.011998,
     "end_time": "2020-08-26T09:42:05.093747",
     "exception": false,
     "start_time": "2020-08-26T09:42:05.081749",
     "status": "completed"
    },
    "tags": []
   },
   "source": [
    "The state of California is using a data-driven approach informed by scientific evidence to tailor its response to COVID-19. Three dimensions of concern are monitored to assess whether a county should be placed on the County Monitoring List:\n",
    " 1. Elevated Disease Transmission\n",
    " 2. Increasing Hospitalization\n",
    " 3. Limited Hospital Capacity\n",
    "\n",
    "Once a county appears on the County Monitoring List for three consecutive days, indoor operations in the sectors listed in Section 3 of the [July 13th State Health Officer Order](https://www.cdph.ca.gov/Programs/CID/DCDC/CDPH%20Document%20Library/COVID-19/SHO%20Order%20Dimming%20Entire%20State%207-13-2020.pdf) must close.\n",
    "\n",
    "This table tracks where Santa Barbara stands in terms of the criteria for inclusion on the County Monitoring List. As of 20 August 2020, the criteria for inclusion on the monitoring list are:\n",
    "\n",
    "* Case rate >100 OR (Case rate >25 AND Positivity >8%)\n",
    "* \\>10% increase in hospitalizations\n",
    "* <20% ICU beds available OR <25% ventilators available\n",
    "\n",
    "If Santa Barbara meets the criteria for removal from the County Monitoring List for a certain metric, then a checkmark ✔ is displayed in the table.\n",
    "\n",
    "Read more at <https://covid19.ca.gov/roadmap-counties/>.\n",
    "\n",
    "Data source for county metrics: https://www.cdph.ca.gov/Programs/CID/DCDC/Pages/COVID-19/COVID19CountyDataTable.aspx."
   ]
  },
  {
   "cell_type": "markdown",
   "metadata": {
    "papermill": {
     "duration": 0.011817,
     "end_time": "2020-08-26T09:42:05.117703",
     "exception": false,
     "start_time": "2020-08-26T09:42:05.105886",
     "status": "completed"
    },
    "tags": []
   },
   "source": [
    "**See the code used to scrape the data: https://github.com/walice/COVID-SB/.**"
   ]
  },
  {
   "cell_type": "code",
   "execution_count": 14,
   "metadata": {
    "execution": {
     "iopub.execute_input": "2020-08-26T09:42:05.147471Z",
     "iopub.status.busy": "2020-08-26T09:42:05.146982Z",
     "iopub.status.idle": "2020-08-26T09:42:05.149965Z",
     "shell.execute_reply": "2020-08-26T09:42:05.150359Z"
    },
    "papermill": {
     "duration": 0.020709,
     "end_time": "2020-08-26T09:42:05.150514",
     "exception": false,
     "start_time": "2020-08-26T09:42:05.129805",
     "status": "completed"
    },
    "tags": [
     "remove_cell"
    ]
   },
   "outputs": [
    {
     "data": {
      "application/javascript": [
       "IPython.notebook.save_notebook()\n"
      ],
      "text/plain": [
       "<IPython.core.display.Javascript object>"
      ]
     },
     "metadata": {},
     "output_type": "display_data"
    }
   ],
   "source": [
    "%%javascript\n",
    "IPython.notebook.save_notebook()"
   ]
  },
  {
   "cell_type": "code",
   "execution_count": 15,
   "metadata": {
    "execution": {
     "iopub.execute_input": "2020-08-26T09:42:05.184900Z",
     "iopub.status.busy": "2020-08-26T09:42:05.184351Z",
     "iopub.status.idle": "2020-08-26T09:42:05.330151Z",
     "shell.execute_reply": "2020-08-26T09:42:05.329173Z"
    },
    "papermill": {
     "duration": 0.167659,
     "end_time": "2020-08-26T09:42:05.330297",
     "exception": false,
     "start_time": "2020-08-26T09:42:05.162638",
     "status": "completed"
    },
    "slideshow": {
     "slide_type": "skip"
    },
    "tags": [
     "remove_cell"
    ]
   },
   "outputs": [
    {
     "name": "stdout",
     "output_type": "stream",
     "text": [
      "/bin/bash: jupyter: command not found\r\n"
     ]
    }
   ],
   "source": [
    "# Convert Jupyter Notebook to HTML\n",
    "! jupyter nbconvert \"index.ipynb\" --to html --TagRemovePreprocessor.enabled=True --TagRemovePreprocessor.remove_cell_tags=\"['remove_cell']\" --TagRemovePreprocessor.remove_input_tags=\"['remove_input']\" --no-prompt"
   ]
  },
  {
   "cell_type": "code",
   "execution_count": 16,
   "metadata": {
    "execution": {
     "iopub.execute_input": "2020-08-26T09:42:05.361265Z",
     "iopub.status.busy": "2020-08-26T09:42:05.360756Z",
     "iopub.status.idle": "2020-08-26T09:42:05.363271Z",
     "shell.execute_reply": "2020-08-26T09:42:05.363767Z"
    },
    "papermill": {
     "duration": 0.020291,
     "end_time": "2020-08-26T09:42:05.363926",
     "exception": false,
     "start_time": "2020-08-26T09:42:05.343635",
     "status": "completed"
    },
    "tags": [
     "remove_cell"
    ]
   },
   "outputs": [],
   "source": [
    "# Create daily commit message\n",
    "now = datetime.datetime.now()\n",
    "commit_message = \"Last scraped on \" + str(now)"
   ]
  },
  {
   "cell_type": "code",
   "execution_count": null,
   "metadata": {
    "execution": {
     "iopub.execute_input": "2020-08-26T09:40:01.671512Z",
     "iopub.status.busy": "2020-08-26T09:40:01.671002Z",
     "iopub.status.idle": "2020-08-26T09:40:06.687523Z",
     "shell.execute_reply": "2020-08-26T09:40:06.686403Z"
    },
    "papermill": {
     "duration": null,
     "end_time": null,
     "exception": false,
     "start_time": "2020-08-26T09:42:05.376419",
     "status": "running"
    },
    "tags": [
     "remove_cell"
    ]
   },
   "outputs": [],
   "source": [
    "# Deploy to GitHub\n",
    "! git add .\n",
    "! echo $commit_message > commit_message.txt\n",
    "! git commit -F commit_message.txt\n",
    "! git push"
   ]
  }
 ],
 "metadata": {
  "celltoolbar": "Tags",
  "kernelspec": {
   "display_name": "Python 3",
   "language": "python",
   "name": "python3"
  },
  "language_info": {
   "codemirror_mode": {
    "name": "ipython",
    "version": 3
   },
   "file_extension": ".py",
   "mimetype": "text/x-python",
   "name": "python",
   "nbconvert_exporter": "python",
   "pygments_lexer": "ipython3",
   "version": "3.7.3"
  },
  "papermill": {
   "duration": null,
   "end_time": null,
   "environment_variables": {},
   "exception": null,
   "input_path": "/home/alice_lepissier/COVID-SB/index.ipynb",
   "output_path": "/home/alice_lepissier/COVID-SB/index.ipynb",
   "parameters": {},
   "start_time": "2020-08-26T09:41:56.732695",
   "version": "2.1.3"
  }
 },
 "nbformat": 4,
 "nbformat_minor": 4
}