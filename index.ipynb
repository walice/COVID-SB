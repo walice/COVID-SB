{
 "cells": [
  {
   "cell_type": "markdown",
   "metadata": {
    "papermill": {
     "duration": 0.012344,
     "end_time": "2020-08-26T22:38:04.178399",
     "exception": false,
     "start_time": "2020-08-26T22:38:04.166055",
     "status": "completed"
    },
    "tags": []
   },
   "source": [
    "# Daily COVID monitoring data for Santa Barbara county"
   ]
  },
  {
   "cell_type": "code",
   "execution_count": 1,
   "metadata": {
    "execution": {
     "iopub.execute_input": "2020-08-26T22:38:04.206568Z",
     "iopub.status.busy": "2020-08-26T22:38:04.205971Z",
     "iopub.status.idle": "2020-08-26T22:38:05.883770Z",
     "shell.execute_reply": "2020-08-26T22:38:05.884730Z"
    },
    "papermill": {
     "duration": 1.696279,
     "end_time": "2020-08-26T22:38:05.884939",
     "exception": false,
     "start_time": "2020-08-26T22:38:04.188660",
     "status": "completed"
    },
    "tags": [
     "remove_cell"
    ]
   },
   "outputs": [],
   "source": [
    "! jt -t grade3 -tf robotosans -cellw 1100"
   ]
  },
  {
   "cell_type": "markdown",
   "metadata": {
    "papermill": {
     "duration": 0.009418,
     "end_time": "2020-08-26T22:38:05.904819",
     "exception": false,
     "start_time": "2020-08-26T22:38:05.895401",
     "status": "completed"
    },
    "tags": []
   },
   "source": [
    "This table is automatically updated with new daily COVID data for the county of Santa Barbara, CA. Every day, the California Department of Public Health publishes COVID tracking metrics for each county, but does not save the previous day's data. This tool keeps track of the daily metrics that are used to monitor progress towards safe reopening in California."
   ]
  },
  {
   "cell_type": "code",
   "execution_count": 2,
   "metadata": {
    "execution": {
     "iopub.execute_input": "2020-08-26T22:38:05.931542Z",
     "iopub.status.busy": "2020-08-26T22:38:05.931011Z",
     "iopub.status.idle": "2020-08-26T22:38:08.017958Z",
     "shell.execute_reply": "2020-08-26T22:38:08.018901Z"
    },
    "papermill": {
     "duration": 2.104748,
     "end_time": "2020-08-26T22:38:08.019072",
     "exception": false,
     "start_time": "2020-08-26T22:38:05.914324",
     "status": "completed"
    },
    "slideshow": {
     "slide_type": "skip"
    },
    "tags": [
     "remove_cell"
    ]
   },
   "outputs": [],
   "source": [
    "# Preamble\n",
    "import os\n",
    "from IPython.display import Markdown as md\n",
    "import IPython\n",
    "import requests\n",
    "from bs4 import BeautifulSoup\n",
    "import re\n",
    "import pandas as pd\n",
    "import datetime\n",
    "import gspread\n",
    "from oauth2client.service_account import ServiceAccountCredentials"
   ]
  },
  {
   "cell_type": "code",
   "execution_count": 3,
   "metadata": {
    "execution": {
     "iopub.execute_input": "2020-08-26T22:38:08.045164Z",
     "iopub.status.busy": "2020-08-26T22:38:08.044555Z",
     "iopub.status.idle": "2020-08-26T22:38:08.046032Z",
     "shell.execute_reply": "2020-08-26T22:38:08.045621Z"
    },
    "papermill": {
     "duration": 0.016742,
     "end_time": "2020-08-26T22:38:08.046187",
     "exception": false,
     "start_time": "2020-08-26T22:38:08.029445",
     "status": "completed"
    },
    "tags": [
     "remove_cell"
    ]
   },
   "outputs": [],
   "source": [
    "# Set working directory\n",
    "os.chdir(\"/home/alice_lepissier/COVID-SB\")"
   ]
  },
  {
   "cell_type": "code",
   "execution_count": 4,
   "metadata": {
    "execution": {
     "iopub.execute_input": "2020-08-26T22:38:08.072174Z",
     "iopub.status.busy": "2020-08-26T22:38:08.071609Z",
     "iopub.status.idle": "2020-08-26T22:38:09.325033Z",
     "shell.execute_reply": "2020-08-26T22:38:09.325813Z"
    },
    "papermill": {
     "duration": 1.270203,
     "end_time": "2020-08-26T22:38:09.325980",
     "exception": false,
     "start_time": "2020-08-26T22:38:08.055777",
     "status": "completed"
    },
    "slideshow": {
     "slide_type": "skip"
    },
    "tags": [
     "remove_cell"
    ]
   },
   "outputs": [],
   "source": [
    "# Request content from URL\n",
    "html_string = requests.get('https://www.cdph.ca.gov/Programs/CID/DCDC/Pages/COVID-19/COVID19CountyDataTable.aspx').content"
   ]
  },
  {
   "cell_type": "code",
   "execution_count": 5,
   "metadata": {
    "execution": {
     "iopub.execute_input": "2020-08-26T22:38:09.360135Z",
     "iopub.status.busy": "2020-08-26T22:38:09.359625Z",
     "iopub.status.idle": "2020-08-26T22:38:09.444479Z",
     "shell.execute_reply": "2020-08-26T22:38:09.445266Z"
    },
    "papermill": {
     "duration": 0.108669,
     "end_time": "2020-08-26T22:38:09.445434",
     "exception": false,
     "start_time": "2020-08-26T22:38:09.336765",
     "status": "completed"
    },
    "slideshow": {
     "slide_type": "skip"
    },
    "tags": [
     "remove_cell"
    ]
   },
   "outputs": [],
   "source": [
    "# Parse HTML\n",
    "soup = BeautifulSoup(html_string, 'html.parser')"
   ]
  },
  {
   "cell_type": "code",
   "execution_count": 6,
   "metadata": {
    "execution": {
     "iopub.execute_input": "2020-08-26T22:38:09.475674Z",
     "iopub.status.busy": "2020-08-26T22:38:09.475135Z",
     "iopub.status.idle": "2020-08-26T22:38:09.482208Z",
     "shell.execute_reply": "2020-08-26T22:38:09.482994Z"
    },
    "papermill": {
     "duration": 0.027417,
     "end_time": "2020-08-26T22:38:09.483161",
     "exception": false,
     "start_time": "2020-08-26T22:38:09.455744",
     "status": "completed"
    },
    "slideshow": {
     "slide_type": "skip"
    },
    "tags": [
     "remove_cell"
    ]
   },
   "outputs": [],
   "source": [
    "# Extract data for Santa Barbara\n",
    "table = soup.find_all(\"tr\", class_=\"ms-rteTableEvenRow-3\")\n",
    "SB = table[21]"
   ]
  },
  {
   "cell_type": "code",
   "execution_count": 7,
   "metadata": {
    "execution": {
     "iopub.execute_input": "2020-08-26T22:38:09.511653Z",
     "iopub.status.busy": "2020-08-26T22:38:09.511095Z",
     "iopub.status.idle": "2020-08-26T22:38:09.521931Z",
     "shell.execute_reply": "2020-08-26T22:38:09.522783Z"
    },
    "papermill": {
     "duration": 0.029949,
     "end_time": "2020-08-26T22:38:09.522960",
     "exception": false,
     "start_time": "2020-08-26T22:38:09.493011",
     "status": "completed"
    },
    "slideshow": {
     "slide_type": "skip"
    },
    "tags": [
     "remove_cell"
    ]
   },
   "outputs": [],
   "source": [
    "# Avg # tests per day (per 100,000 population)\n",
    "daily_tests = SB.find_all(\"td\", class_=\"ms-rteTableOddCol-3\")[0].text\n",
    "\n",
    "# Case rate per 100,000\n",
    "case_rate = SB.find_all(\"td\", class_=\"ms-rteTableEvenCol-3\")[1].text\n",
    "\n",
    "# Testing positivity (%)\n",
    "test_positivity = SB.find_all(\"td\", class_=\"ms-rteTableOddCol-3\")[1].text\n",
    "\n",
    "# % Change in 3-day avg COVID+ hospitalized patients\n",
    "change_hospit = SB.find_all(\"td\", class_=\"ms-rteTableEvenCol-3\")[2].text\n",
    "\n",
    "# % ICU beds currently available\n",
    "ICU_beds = SB.find_all(\"td\", class_=\"ms-rteTableOddCol-3\")[2].text\n",
    "\n",
    "# % Ventilators currently available\n",
    "ventilators = SB.find_all(\"td\", class_=\"ms-rteTableEvenCol-3\")[3].text\n",
    "\n",
    "# Extract date of last update\n",
    "update_date = soup.find_all(\"span\", class_=\"ms-rteStyle-Accent1\")[1]\\\n",
    "    .find(\"em\").text"
   ]
  },
  {
   "cell_type": "code",
   "execution_count": 8,
   "metadata": {
    "execution": {
     "iopub.execute_input": "2020-08-26T22:38:09.549690Z",
     "iopub.status.busy": "2020-08-26T22:38:09.549081Z",
     "iopub.status.idle": "2020-08-26T22:38:09.550585Z",
     "shell.execute_reply": "2020-08-26T22:38:09.550162Z"
    },
    "papermill": {
     "duration": 0.016651,
     "end_time": "2020-08-26T22:38:09.550702",
     "exception": false,
     "start_time": "2020-08-26T22:38:09.534051",
     "status": "completed"
    },
    "tags": [
     "remove_cell"
    ]
   },
   "outputs": [],
   "source": [
    "# Create updated date string\n",
    "update_tag = \"Table last updated by CDPH on \" + update_date.split(\" on \", 1)[1] + \".\""
   ]
  },
  {
   "cell_type": "code",
   "execution_count": 9,
   "metadata": {
    "execution": {
     "iopub.execute_input": "2020-08-26T22:38:09.577698Z",
     "iopub.status.busy": "2020-08-26T22:38:09.577161Z",
     "iopub.status.idle": "2020-08-26T22:38:09.580343Z",
     "shell.execute_reply": "2020-08-26T22:38:09.581079Z"
    },
    "papermill": {
     "duration": 0.020224,
     "end_time": "2020-08-26T22:38:09.581244",
     "exception": false,
     "start_time": "2020-08-26T22:38:09.561020",
     "status": "completed"
    },
    "slideshow": {
     "slide_type": "skip"
    },
    "tags": [
     "remove_cell"
    ]
   },
   "outputs": [],
   "source": [
    "# Set up Google Sheet API\n",
    "scope = [\"https://spreadsheets.google.com/feeds\",'https://www.googleapis.com/auth/spreadsheets',\"https://www.googleapis.com/auth/drive.file\",\"https://www.googleapis.com/auth/drive\"]\n",
    "creds = ServiceAccountCredentials.from_json_keyfile_name(\"credentials.json\", scope)\n",
    "client = gspread.authorize(creds)"
   ]
  },
  {
   "cell_type": "code",
   "execution_count": 10,
   "metadata": {
    "execution": {
     "iopub.execute_input": "2020-08-26T22:38:09.605853Z",
     "iopub.status.busy": "2020-08-26T22:38:09.605372Z",
     "iopub.status.idle": "2020-08-26T22:38:10.984221Z",
     "shell.execute_reply": "2020-08-26T22:38:10.984930Z"
    },
    "papermill": {
     "duration": 1.394006,
     "end_time": "2020-08-26T22:38:10.985093",
     "exception": false,
     "start_time": "2020-08-26T22:38:09.591087",
     "status": "completed"
    },
    "slideshow": {
     "slide_type": "skip"
    },
    "tags": [
     "remove_cell"
    ]
   },
   "outputs": [
    {
     "data": {
      "text/plain": [
       "{'spreadsheetId': '13GG0FPUFg_5xCouN0ZF3woaPXwjuxL2Dw3uYIfwUW-Q',\n",
       " 'updatedRange': 'Sheet1!A2:G2',\n",
       " 'updatedRows': 1,\n",
       " 'updatedColumns': 7,\n",
       " 'updatedCells': 7}"
      ]
     },
     "execution_count": 10,
     "metadata": {},
     "output_type": "execute_result"
    }
   ],
   "source": [
    "# Append daily data as a new row in Google Sheet\n",
    "sheet = client.open(\"COVID Daily Metrics\").sheet1\n",
    "insertRow = [datetime.date.today().strftime(\"%Y-%m-%d\"),\n",
    "             daily_tests,\n",
    "             case_rate,\n",
    "             test_positivity,\n",
    "             change_hospit,\n",
    "             ICU_beds,\n",
    "             ventilators]\n",
    "sheet.insert_row(insertRow, 2)"
   ]
  },
  {
   "cell_type": "code",
   "execution_count": 11,
   "metadata": {
    "execution": {
     "iopub.execute_input": "2020-08-26T22:38:11.010719Z",
     "iopub.status.busy": "2020-08-26T22:38:11.010218Z",
     "iopub.status.idle": "2020-08-26T22:38:11.928686Z",
     "shell.execute_reply": "2020-08-26T22:38:11.929508Z"
    },
    "papermill": {
     "duration": 0.934058,
     "end_time": "2020-08-26T22:38:11.929677",
     "exception": false,
     "start_time": "2020-08-26T22:38:10.995619",
     "status": "completed"
    },
    "scrolled": true,
    "slideshow": {
     "slide_type": "slide"
    },
    "tags": [
     "remove_cell"
    ]
   },
   "outputs": [],
   "source": [
    "# Extract data from Google Sheet as pandas dataframe\n",
    "sheet = client.open(\"COVID Daily Metrics\").sheet1\n",
    "data = sheet.get_all_records()\n",
    "result = pd.DataFrame(data).set_index(\"Date\")"
   ]
  },
  {
   "cell_type": "code",
   "execution_count": 12,
   "metadata": {
    "execution": {
     "iopub.execute_input": "2020-08-26T22:38:11.956709Z",
     "iopub.status.busy": "2020-08-26T22:38:11.956179Z",
     "iopub.status.idle": "2020-08-26T22:38:12.699862Z",
     "shell.execute_reply": "2020-08-26T22:38:12.700628Z"
    },
    "papermill": {
     "duration": 0.760473,
     "end_time": "2020-08-26T22:38:12.700801",
     "exception": false,
     "start_time": "2020-08-26T22:38:11.940328",
     "status": "completed"
    },
    "scrolled": true,
    "tags": [
     "remove_input"
    ]
   },
   "outputs": [
    {
     "data": {
      "text/html": [
       "<style  type=\"text/css\" >\n",
       "    #T_d305fbc4_e7ec_11ea_aa01_42010a8a0004 th {\n",
       "          text-align: center;\n",
       "    }#T_d305fbc4_e7ec_11ea_aa01_42010a8a0004row0_col0,#T_d305fbc4_e7ec_11ea_aa01_42010a8a0004row1_col0,#T_d305fbc4_e7ec_11ea_aa01_42010a8a0004row2_col0,#T_d305fbc4_e7ec_11ea_aa01_42010a8a0004row3_col0,#T_d305fbc4_e7ec_11ea_aa01_42010a8a0004row4_col0,#T_d305fbc4_e7ec_11ea_aa01_42010a8a0004row5_col0,#T_d305fbc4_e7ec_11ea_aa01_42010a8a0004row6_col0,#T_d305fbc4_e7ec_11ea_aa01_42010a8a0004row7_col0,#T_d305fbc4_e7ec_11ea_aa01_42010a8a0004row8_col0,#T_d305fbc4_e7ec_11ea_aa01_42010a8a0004row9_col0{\n",
       "            width:  20em;\n",
       "            text-align:  center;\n",
       "            font-weight:  bold;\n",
       "        }#T_d305fbc4_e7ec_11ea_aa01_42010a8a0004row0_col1,#T_d305fbc4_e7ec_11ea_aa01_42010a8a0004row0_col2,#T_d305fbc4_e7ec_11ea_aa01_42010a8a0004row0_col3,#T_d305fbc4_e7ec_11ea_aa01_42010a8a0004row0_col4,#T_d305fbc4_e7ec_11ea_aa01_42010a8a0004row0_col5,#T_d305fbc4_e7ec_11ea_aa01_42010a8a0004row0_col6,#T_d305fbc4_e7ec_11ea_aa01_42010a8a0004row1_col1,#T_d305fbc4_e7ec_11ea_aa01_42010a8a0004row1_col2,#T_d305fbc4_e7ec_11ea_aa01_42010a8a0004row1_col3,#T_d305fbc4_e7ec_11ea_aa01_42010a8a0004row1_col4,#T_d305fbc4_e7ec_11ea_aa01_42010a8a0004row1_col5,#T_d305fbc4_e7ec_11ea_aa01_42010a8a0004row1_col6,#T_d305fbc4_e7ec_11ea_aa01_42010a8a0004row2_col1,#T_d305fbc4_e7ec_11ea_aa01_42010a8a0004row2_col2,#T_d305fbc4_e7ec_11ea_aa01_42010a8a0004row2_col3,#T_d305fbc4_e7ec_11ea_aa01_42010a8a0004row2_col4,#T_d305fbc4_e7ec_11ea_aa01_42010a8a0004row2_col5,#T_d305fbc4_e7ec_11ea_aa01_42010a8a0004row2_col6,#T_d305fbc4_e7ec_11ea_aa01_42010a8a0004row3_col1,#T_d305fbc4_e7ec_11ea_aa01_42010a8a0004row3_col2,#T_d305fbc4_e7ec_11ea_aa01_42010a8a0004row3_col3,#T_d305fbc4_e7ec_11ea_aa01_42010a8a0004row3_col4,#T_d305fbc4_e7ec_11ea_aa01_42010a8a0004row3_col5,#T_d305fbc4_e7ec_11ea_aa01_42010a8a0004row3_col6,#T_d305fbc4_e7ec_11ea_aa01_42010a8a0004row4_col1,#T_d305fbc4_e7ec_11ea_aa01_42010a8a0004row4_col2,#T_d305fbc4_e7ec_11ea_aa01_42010a8a0004row4_col3,#T_d305fbc4_e7ec_11ea_aa01_42010a8a0004row4_col4,#T_d305fbc4_e7ec_11ea_aa01_42010a8a0004row4_col5,#T_d305fbc4_e7ec_11ea_aa01_42010a8a0004row4_col6,#T_d305fbc4_e7ec_11ea_aa01_42010a8a0004row5_col1,#T_d305fbc4_e7ec_11ea_aa01_42010a8a0004row5_col2,#T_d305fbc4_e7ec_11ea_aa01_42010a8a0004row5_col3,#T_d305fbc4_e7ec_11ea_aa01_42010a8a0004row5_col4,#T_d305fbc4_e7ec_11ea_aa01_42010a8a0004row5_col5,#T_d305fbc4_e7ec_11ea_aa01_42010a8a0004row5_col6,#T_d305fbc4_e7ec_11ea_aa01_42010a8a0004row6_col1,#T_d305fbc4_e7ec_11ea_aa01_42010a8a0004row6_col2,#T_d305fbc4_e7ec_11ea_aa01_42010a8a0004row6_col3,#T_d305fbc4_e7ec_11ea_aa01_42010a8a0004row6_col4,#T_d305fbc4_e7ec_11ea_aa01_42010a8a0004row6_col5,#T_d305fbc4_e7ec_11ea_aa01_42010a8a0004row6_col6,#T_d305fbc4_e7ec_11ea_aa01_42010a8a0004row7_col1,#T_d305fbc4_e7ec_11ea_aa01_42010a8a0004row7_col2,#T_d305fbc4_e7ec_11ea_aa01_42010a8a0004row7_col3,#T_d305fbc4_e7ec_11ea_aa01_42010a8a0004row7_col4,#T_d305fbc4_e7ec_11ea_aa01_42010a8a0004row7_col5,#T_d305fbc4_e7ec_11ea_aa01_42010a8a0004row7_col6,#T_d305fbc4_e7ec_11ea_aa01_42010a8a0004row8_col1,#T_d305fbc4_e7ec_11ea_aa01_42010a8a0004row8_col2,#T_d305fbc4_e7ec_11ea_aa01_42010a8a0004row8_col3,#T_d305fbc4_e7ec_11ea_aa01_42010a8a0004row8_col4,#T_d305fbc4_e7ec_11ea_aa01_42010a8a0004row8_col5,#T_d305fbc4_e7ec_11ea_aa01_42010a8a0004row8_col6,#T_d305fbc4_e7ec_11ea_aa01_42010a8a0004row9_col1,#T_d305fbc4_e7ec_11ea_aa01_42010a8a0004row9_col2,#T_d305fbc4_e7ec_11ea_aa01_42010a8a0004row9_col3,#T_d305fbc4_e7ec_11ea_aa01_42010a8a0004row9_col4,#T_d305fbc4_e7ec_11ea_aa01_42010a8a0004row9_col5,#T_d305fbc4_e7ec_11ea_aa01_42010a8a0004row9_col6{\n",
       "            width:  20em;\n",
       "            text-align:  center;\n",
       "        }</style><table id=\"T_d305fbc4_e7ec_11ea_aa01_42010a8a0004\" ><thead>    <tr>        <th class=\"col_heading level0 col0\" >Date</th>        <th class=\"col_heading level0 col1\" >Daily tests (per 100,000)¹</th>        <th class=\"col_heading level0 col2\" >Case rate (per 100,000)²</th>        <th class=\"col_heading level0 col3\" >Testing positivity (%)³</th>        <th class=\"col_heading level0 col4\" >Change in hospitalizations (%)⁴</th>        <th class=\"col_heading level0 col5\" >ICU beds available (%)</th>        <th class=\"col_heading level0 col6\" >Ventilators (available (%)</th>    </tr></thead><tbody>\n",
       "                <tr>\n",
       "                                <td id=\"T_d305fbc4_e7ec_11ea_aa01_42010a8a0004row0_col0\" class=\"data row0 col0\" >2020-08-26</td>\n",
       "                        <td id=\"T_d305fbc4_e7ec_11ea_aa01_42010a8a0004row0_col1\" class=\"data row0 col1\" >219.7</td>\n",
       "                        <td id=\"T_d305fbc4_e7ec_11ea_aa01_42010a8a0004row0_col2\" class=\"data row0 col2\" >133.2</td>\n",
       "                        <td id=\"T_d305fbc4_e7ec_11ea_aa01_42010a8a0004row0_col3\" class=\"data row0 col3\" > ✔</td>\n",
       "                        <td id=\"T_d305fbc4_e7ec_11ea_aa01_42010a8a0004row0_col4\" class=\"data row0 col4\" > ✔</td>\n",
       "                        <td id=\"T_d305fbc4_e7ec_11ea_aa01_42010a8a0004row0_col5\" class=\"data row0 col5\" > ✔</td>\n",
       "                        <td id=\"T_d305fbc4_e7ec_11ea_aa01_42010a8a0004row0_col6\" class=\"data row0 col6\" > ✔</td>\n",
       "            </tr>\n",
       "            <tr>\n",
       "                                <td id=\"T_d305fbc4_e7ec_11ea_aa01_42010a8a0004row1_col0\" class=\"data row1 col0\" >2020-08-26</td>\n",
       "                        <td id=\"T_d305fbc4_e7ec_11ea_aa01_42010a8a0004row1_col1\" class=\"data row1 col1\" >219.7</td>\n",
       "                        <td id=\"T_d305fbc4_e7ec_11ea_aa01_42010a8a0004row1_col2\" class=\"data row1 col2\" >133.2</td>\n",
       "                        <td id=\"T_d305fbc4_e7ec_11ea_aa01_42010a8a0004row1_col3\" class=\"data row1 col3\" > ✔</td>\n",
       "                        <td id=\"T_d305fbc4_e7ec_11ea_aa01_42010a8a0004row1_col4\" class=\"data row1 col4\" > ✔</td>\n",
       "                        <td id=\"T_d305fbc4_e7ec_11ea_aa01_42010a8a0004row1_col5\" class=\"data row1 col5\" > ✔</td>\n",
       "                        <td id=\"T_d305fbc4_e7ec_11ea_aa01_42010a8a0004row1_col6\" class=\"data row1 col6\" > ✔</td>\n",
       "            </tr>\n",
       "            <tr>\n",
       "                                <td id=\"T_d305fbc4_e7ec_11ea_aa01_42010a8a0004row2_col0\" class=\"data row2 col0\" >2020-08-26</td>\n",
       "                        <td id=\"T_d305fbc4_e7ec_11ea_aa01_42010a8a0004row2_col1\" class=\"data row2 col1\" >219.7</td>\n",
       "                        <td id=\"T_d305fbc4_e7ec_11ea_aa01_42010a8a0004row2_col2\" class=\"data row2 col2\" >133.2</td>\n",
       "                        <td id=\"T_d305fbc4_e7ec_11ea_aa01_42010a8a0004row2_col3\" class=\"data row2 col3\" > ✔</td>\n",
       "                        <td id=\"T_d305fbc4_e7ec_11ea_aa01_42010a8a0004row2_col4\" class=\"data row2 col4\" > ✔</td>\n",
       "                        <td id=\"T_d305fbc4_e7ec_11ea_aa01_42010a8a0004row2_col5\" class=\"data row2 col5\" > ✔</td>\n",
       "                        <td id=\"T_d305fbc4_e7ec_11ea_aa01_42010a8a0004row2_col6\" class=\"data row2 col6\" > ✔</td>\n",
       "            </tr>\n",
       "            <tr>\n",
       "                                <td id=\"T_d305fbc4_e7ec_11ea_aa01_42010a8a0004row3_col0\" class=\"data row3 col0\" >2020-08-26</td>\n",
       "                        <td id=\"T_d305fbc4_e7ec_11ea_aa01_42010a8a0004row3_col1\" class=\"data row3 col1\" >219.7</td>\n",
       "                        <td id=\"T_d305fbc4_e7ec_11ea_aa01_42010a8a0004row3_col2\" class=\"data row3 col2\" >133.2</td>\n",
       "                        <td id=\"T_d305fbc4_e7ec_11ea_aa01_42010a8a0004row3_col3\" class=\"data row3 col3\" > ✔</td>\n",
       "                        <td id=\"T_d305fbc4_e7ec_11ea_aa01_42010a8a0004row3_col4\" class=\"data row3 col4\" > ✔</td>\n",
       "                        <td id=\"T_d305fbc4_e7ec_11ea_aa01_42010a8a0004row3_col5\" class=\"data row3 col5\" > ✔</td>\n",
       "                        <td id=\"T_d305fbc4_e7ec_11ea_aa01_42010a8a0004row3_col6\" class=\"data row3 col6\" > ✔</td>\n",
       "            </tr>\n",
       "            <tr>\n",
       "                                <td id=\"T_d305fbc4_e7ec_11ea_aa01_42010a8a0004row4_col0\" class=\"data row4 col0\" >2020-08-25</td>\n",
       "                        <td id=\"T_d305fbc4_e7ec_11ea_aa01_42010a8a0004row4_col1\" class=\"data row4 col1\" >222.1</td>\n",
       "                        <td id=\"T_d305fbc4_e7ec_11ea_aa01_42010a8a0004row4_col2\" class=\"data row4 col2\" >134.1</td>\n",
       "                        <td id=\"T_d305fbc4_e7ec_11ea_aa01_42010a8a0004row4_col3\" class=\"data row4 col3\" > ✔</td>\n",
       "                        <td id=\"T_d305fbc4_e7ec_11ea_aa01_42010a8a0004row4_col4\" class=\"data row4 col4\" > ✔</td>\n",
       "                        <td id=\"T_d305fbc4_e7ec_11ea_aa01_42010a8a0004row4_col5\" class=\"data row4 col5\" > ✔</td>\n",
       "                        <td id=\"T_d305fbc4_e7ec_11ea_aa01_42010a8a0004row4_col6\" class=\"data row4 col6\" > ✔</td>\n",
       "            </tr>\n",
       "            <tr>\n",
       "                                <td id=\"T_d305fbc4_e7ec_11ea_aa01_42010a8a0004row5_col0\" class=\"data row5 col0\" >2020-08-24</td>\n",
       "                        <td id=\"T_d305fbc4_e7ec_11ea_aa01_42010a8a0004row5_col1\" class=\"data row5 col1\" >227.3</td>\n",
       "                        <td id=\"T_d305fbc4_e7ec_11ea_aa01_42010a8a0004row5_col2\" class=\"data row5 col2\" >138.0</td>\n",
       "                        <td id=\"T_d305fbc4_e7ec_11ea_aa01_42010a8a0004row5_col3\" class=\"data row5 col3\" > ✔</td>\n",
       "                        <td id=\"T_d305fbc4_e7ec_11ea_aa01_42010a8a0004row5_col4\" class=\"data row5 col4\" > ✔</td>\n",
       "                        <td id=\"T_d305fbc4_e7ec_11ea_aa01_42010a8a0004row5_col5\" class=\"data row5 col5\" > ✔</td>\n",
       "                        <td id=\"T_d305fbc4_e7ec_11ea_aa01_42010a8a0004row5_col6\" class=\"data row5 col6\" > ✔</td>\n",
       "            </tr>\n",
       "            <tr>\n",
       "                                <td id=\"T_d305fbc4_e7ec_11ea_aa01_42010a8a0004row6_col0\" class=\"data row6 col0\" >2020-08-23</td>\n",
       "                        <td id=\"T_d305fbc4_e7ec_11ea_aa01_42010a8a0004row6_col1\" class=\"data row6 col1\" >232.7</td>\n",
       "                        <td id=\"T_d305fbc4_e7ec_11ea_aa01_42010a8a0004row6_col2\" class=\"data row6 col2\" >136.7</td>\n",
       "                        <td id=\"T_d305fbc4_e7ec_11ea_aa01_42010a8a0004row6_col3\" class=\"data row6 col3\" > ✔</td>\n",
       "                        <td id=\"T_d305fbc4_e7ec_11ea_aa01_42010a8a0004row6_col4\" class=\"data row6 col4\" > ✔</td>\n",
       "                        <td id=\"T_d305fbc4_e7ec_11ea_aa01_42010a8a0004row6_col5\" class=\"data row6 col5\" > ✔</td>\n",
       "                        <td id=\"T_d305fbc4_e7ec_11ea_aa01_42010a8a0004row6_col6\" class=\"data row6 col6\" > ✔</td>\n",
       "            </tr>\n",
       "            <tr>\n",
       "                                <td id=\"T_d305fbc4_e7ec_11ea_aa01_42010a8a0004row7_col0\" class=\"data row7 col0\" >2020-08-22</td>\n",
       "                        <td id=\"T_d305fbc4_e7ec_11ea_aa01_42010a8a0004row7_col1\" class=\"data row7 col1\" >210.4</td>\n",
       "                        <td id=\"T_d305fbc4_e7ec_11ea_aa01_42010a8a0004row7_col2\" class=\"data row7 col2\" >138.7</td>\n",
       "                        <td id=\"T_d305fbc4_e7ec_11ea_aa01_42010a8a0004row7_col3\" class=\"data row7 col3\" > ✔</td>\n",
       "                        <td id=\"T_d305fbc4_e7ec_11ea_aa01_42010a8a0004row7_col4\" class=\"data row7 col4\" > ✔</td>\n",
       "                        <td id=\"T_d305fbc4_e7ec_11ea_aa01_42010a8a0004row7_col5\" class=\"data row7 col5\" > ✔</td>\n",
       "                        <td id=\"T_d305fbc4_e7ec_11ea_aa01_42010a8a0004row7_col6\" class=\"data row7 col6\" > ✔</td>\n",
       "            </tr>\n",
       "            <tr>\n",
       "                                <td id=\"T_d305fbc4_e7ec_11ea_aa01_42010a8a0004row8_col0\" class=\"data row8 col0\" >2020-08-21</td>\n",
       "                        <td id=\"T_d305fbc4_e7ec_11ea_aa01_42010a8a0004row8_col1\" class=\"data row8 col1\" >208.7</td>\n",
       "                        <td id=\"T_d305fbc4_e7ec_11ea_aa01_42010a8a0004row8_col2\" class=\"data row8 col2\" >138.5</td>\n",
       "                        <td id=\"T_d305fbc4_e7ec_11ea_aa01_42010a8a0004row8_col3\" class=\"data row8 col3\" > ✔</td>\n",
       "                        <td id=\"T_d305fbc4_e7ec_11ea_aa01_42010a8a0004row8_col4\" class=\"data row8 col4\" > ✔</td>\n",
       "                        <td id=\"T_d305fbc4_e7ec_11ea_aa01_42010a8a0004row8_col5\" class=\"data row8 col5\" > ✔</td>\n",
       "                        <td id=\"T_d305fbc4_e7ec_11ea_aa01_42010a8a0004row8_col6\" class=\"data row8 col6\" > ✔</td>\n",
       "            </tr>\n",
       "            <tr>\n",
       "                                <td id=\"T_d305fbc4_e7ec_11ea_aa01_42010a8a0004row9_col0\" class=\"data row9 col0\" >2020-08-20</td>\n",
       "                        <td id=\"T_d305fbc4_e7ec_11ea_aa01_42010a8a0004row9_col1\" class=\"data row9 col1\" >214.5</td>\n",
       "                        <td id=\"T_d305fbc4_e7ec_11ea_aa01_42010a8a0004row9_col2\" class=\"data row9 col2\" >148.8</td>\n",
       "                        <td id=\"T_d305fbc4_e7ec_11ea_aa01_42010a8a0004row9_col3\" class=\"data row9 col3\" > ✔</td>\n",
       "                        <td id=\"T_d305fbc4_e7ec_11ea_aa01_42010a8a0004row9_col4\" class=\"data row9 col4\" > ✔</td>\n",
       "                        <td id=\"T_d305fbc4_e7ec_11ea_aa01_42010a8a0004row9_col5\" class=\"data row9 col5\" > ✔</td>\n",
       "                        <td id=\"T_d305fbc4_e7ec_11ea_aa01_42010a8a0004row9_col6\" class=\"data row9 col6\" > ✔</td>\n",
       "            </tr>\n",
       "    </tbody></table>"
      ],
      "text/plain": [
       "<pandas.io.formats.style.Styler at 0x7f4b2ee93198>"
      ]
     },
     "execution_count": 12,
     "metadata": {},
     "output_type": "execute_result"
    }
   ],
   "source": [
    "# Style the pandas dataframe\n",
    "d = dict(selector=\"th\",\n",
    "         props=[('text-align', 'center')])\n",
    "\n",
    "result.reset_index().style\\\n",
    "    .set_properties(**{'width':'20em', 'text-align':'center'})\\\n",
    "    .set_properties(subset=['Date'], **{'font-weight': 'bold'})\\\n",
    "    .set_table_styles([d])\\\n",
    "    .set_precision(1)\\\n",
    "    .hide_index()"
   ]
  },
  {
   "cell_type": "markdown",
   "metadata": {
    "papermill": {
     "duration": 0.010467,
     "end_time": "2020-08-26T22:38:12.722295",
     "exception": false,
     "start_time": "2020-08-26T22:38:12.711828",
     "status": "completed"
    },
    "tags": []
   },
   "source": [
    "<sup>Notes: (1) 7 day average with a 7-day lag. (2) 14 day average. (3) 7 day average with a 7-day lag. (4) Change in 3 day average.</sup>"
   ]
  },
  {
   "cell_type": "code",
   "execution_count": 13,
   "metadata": {
    "execution": {
     "iopub.execute_input": "2020-08-26T22:38:12.748583Z",
     "iopub.status.busy": "2020-08-26T22:38:12.748082Z",
     "iopub.status.idle": "2020-08-26T22:38:12.751045Z",
     "shell.execute_reply": "2020-08-26T22:38:12.751404Z"
    },
    "papermill": {
     "duration": 0.0188,
     "end_time": "2020-08-26T22:38:12.751576",
     "exception": false,
     "start_time": "2020-08-26T22:38:12.732776",
     "status": "completed"
    },
    "tags": [
     "remove_input"
    ]
   },
   "outputs": [
    {
     "data": {
      "text/markdown": [
       "Table last updated by CDPH on August 26, 2020."
      ],
      "text/plain": [
       "<IPython.core.display.Markdown object>"
      ]
     },
     "execution_count": 13,
     "metadata": {},
     "output_type": "execute_result"
    }
   ],
   "source": [
    "md(update_tag)"
   ]
  },
  {
   "cell_type": "markdown",
   "metadata": {
    "papermill": {
     "duration": 0.01054,
     "end_time": "2020-08-26T22:38:12.772500",
     "exception": false,
     "start_time": "2020-08-26T22:38:12.761960",
     "status": "completed"
    },
    "tags": []
   },
   "source": [
    "## Tracking county closures in Santa Barbara"
   ]
  },
  {
   "cell_type": "markdown",
   "metadata": {
    "papermill": {
     "duration": 0.010398,
     "end_time": "2020-08-26T22:38:12.793494",
     "exception": false,
     "start_time": "2020-08-26T22:38:12.783096",
     "status": "completed"
    },
    "tags": []
   },
   "source": [
    "The state of California is using a data-driven approach informed by scientific evidence to tailor its response to COVID-19. Three dimensions of concern are monitored to assess whether a county should be placed on the County Monitoring List:\n",
    " 1. Elevated Disease Transmission\n",
    " 2. Increasing Hospitalization\n",
    " 3. Limited Hospital Capacity\n",
    "\n",
    "Once a county appears on the County Monitoring List for three consecutive days, indoor operations in the sectors listed in Section 3 of the [July 13th State Health Officer Order](https://www.cdph.ca.gov/Programs/CID/DCDC/CDPH%20Document%20Library/COVID-19/SHO%20Order%20Dimming%20Entire%20State%207-13-2020.pdf) must close.\n",
    "\n",
    "This table tracks where Santa Barbara stands in terms of the criteria for inclusion on the County Monitoring List. As of 20 August 2020, the criteria for inclusion on the monitoring list are:\n",
    "\n",
    "* Case rate >100 OR (Case rate >25 AND Positivity >8%)\n",
    "* \\>10% increase in hospitalizations\n",
    "* <20% ICU beds available OR <25% ventilators available\n",
    "\n",
    "If Santa Barbara meets the criteria for removal from the County Monitoring List for a certain metric, then a checkmark ✔ is displayed in the table.\n",
    "\n",
    "Read more at <https://covid19.ca.gov/roadmap-counties/>.\n",
    "\n",
    "Data source for county metrics: https://www.cdph.ca.gov/Programs/CID/DCDC/Pages/COVID-19/COVID19CountyDataTable.aspx."
   ]
  },
  {
   "cell_type": "markdown",
   "metadata": {
    "papermill": {
     "duration": 0.010526,
     "end_time": "2020-08-26T22:38:12.814571",
     "exception": false,
     "start_time": "2020-08-26T22:38:12.804045",
     "status": "completed"
    },
    "tags": []
   },
   "source": [
    "**See the code used to scrape the data: https://github.com/walice/COVID-SB/.**"
   ]
  },
  {
   "cell_type": "code",
   "execution_count": 14,
   "metadata": {
    "execution": {
     "iopub.execute_input": "2020-08-26T22:38:12.841768Z",
     "iopub.status.busy": "2020-08-26T22:38:12.841285Z",
     "iopub.status.idle": "2020-08-26T22:38:12.844972Z",
     "shell.execute_reply": "2020-08-26T22:38:12.845336Z"
    },
    "papermill": {
     "duration": 0.020189,
     "end_time": "2020-08-26T22:38:12.845486",
     "exception": false,
     "start_time": "2020-08-26T22:38:12.825297",
     "status": "completed"
    },
    "tags": [
     "remove_cell"
    ]
   },
   "outputs": [
    {
     "data": {
      "application/javascript": [
       "IPython.notebook.save_notebook()\n"
      ],
      "text/plain": [
       "<IPython.core.display.Javascript object>"
      ]
     },
     "metadata": {},
     "output_type": "display_data"
    }
   ],
   "source": [
    "%%javascript\n",
    "IPython.notebook.save_notebook()"
   ]
  },
  {
   "cell_type": "code",
   "execution_count": 15,
   "metadata": {
    "execution": {
     "iopub.execute_input": "2020-08-26T22:38:12.874966Z",
     "iopub.status.busy": "2020-08-26T22:38:12.874456Z",
     "iopub.status.idle": "2020-08-26T22:38:15.124906Z",
     "shell.execute_reply": "2020-08-26T22:38:15.125823Z"
    },
    "papermill": {
     "duration": 2.269422,
     "end_time": "2020-08-26T22:38:15.125991",
     "exception": false,
     "start_time": "2020-08-26T22:38:12.856569",
     "status": "completed"
    },
    "slideshow": {
     "slide_type": "skip"
    },
    "tags": [
     "remove_cell"
    ]
   },
   "outputs": [
    {
     "name": "stdout",
     "output_type": "stream",
     "text": [
      "[NbConvertApp] Converting notebook index.ipynb to html\r\n"
     ]
    },
    {
     "name": "stdout",
     "output_type": "stream",
     "text": [
      "[NbConvertApp] Writing 361296 bytes to index.html\r\n"
     ]
    }
   ],
   "source": [
    "# Convert Jupyter Notebook to HTML\n",
    "! jupyter nbconvert \"index.ipynb\" --to html --TagRemovePreprocessor.enabled=True --TagRemovePreprocessor.remove_cell_tags=\"['remove_cell']\" --TagRemovePreprocessor.remove_input_tags=\"['remove_input']\" --no-prompt"
   ]
  },
  {
   "cell_type": "code",
   "execution_count": 16,
   "metadata": {
    "execution": {
     "iopub.execute_input": "2020-08-26T22:38:15.155519Z",
     "iopub.status.busy": "2020-08-26T22:38:15.153768Z",
     "iopub.status.idle": "2020-08-26T22:38:15.156080Z",
     "shell.execute_reply": "2020-08-26T22:38:15.156446Z"
    },
    "papermill": {
     "duration": 0.018591,
     "end_time": "2020-08-26T22:38:15.156585",
     "exception": false,
     "start_time": "2020-08-26T22:38:15.137994",
     "status": "completed"
    },
    "tags": [
     "remove_cell"
    ]
   },
   "outputs": [],
   "source": [
    "# Create daily commit message\n",
    "now = datetime.datetime.now()\n",
    "commit_message = \"Last scraped on \" + str(now)"
   ]
  },
  {
   "cell_type": "code",
   "execution_count": null,
   "metadata": {
    "execution": {
     "iopub.execute_input": "2020-08-26T22:37:15.078871Z",
     "iopub.status.busy": "2020-08-26T22:37:15.075066Z",
     "iopub.status.idle": "2020-08-26T22:37:20.455765Z",
     "shell.execute_reply": "2020-08-26T22:37:20.454251Z"
    },
    "papermill": {
     "duration": null,
     "end_time": null,
     "exception": false,
     "start_time": "2020-08-26T22:38:15.167933",
     "status": "running"
    },
    "tags": [
     "remove_cell"
    ]
   },
   "outputs": [],
   "source": [
    "# Deploy to GitHub\n",
    "! git add .\n",
    "! echo $commit_message > commit_message.txt\n",
    "! git commit -F commit_message.txt\n",
    "! git push"
   ]
  }
 ],
 "metadata": {
  "celltoolbar": "Tags",
  "kernelspec": {
   "display_name": "Python 3",
   "language": "python",
   "name": "python3"
  },
  "language_info": {
   "codemirror_mode": {
    "name": "ipython",
    "version": 3
   },
   "file_extension": ".py",
   "mimetype": "text/x-python",
   "name": "python",
   "nbconvert_exporter": "python",
   "pygments_lexer": "ipython3",
   "version": "3.7.3"
  },
  "papermill": {
   "duration": null,
   "end_time": null,
   "environment_variables": {},
   "exception": null,
   "input_path": "/home/alice_lepissier/COVID-SB/index.ipynb",
   "output_path": "/home/alice_lepissier/COVID-SB/index.ipynb",
   "parameters": {},
   "start_time": "2020-08-26T22:38:02.239977",
   "version": "2.1.3"
  }
 },
 "nbformat": 4,
 "nbformat_minor": 4
}