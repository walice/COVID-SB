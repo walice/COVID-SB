{
 "cells": [
  {
   "cell_type": "markdown",
   "metadata": {
    "papermill": {
     "duration": 0.012389,
     "end_time": "2020-08-26T09:47:28.454427",
     "exception": false,
     "start_time": "2020-08-26T09:47:28.442038",
     "status": "completed"
    },
    "tags": []
   },
   "source": [
    "# Daily COVID monitoring data for Santa Barbara county"
   ]
  },
  {
   "cell_type": "code",
   "execution_count": 1,
   "metadata": {
    "execution": {
     "iopub.execute_input": "2020-08-26T09:47:28.484748Z",
     "iopub.status.busy": "2020-08-26T09:47:28.484219Z",
     "iopub.status.idle": "2020-08-26T09:47:28.596495Z",
     "shell.execute_reply": "2020-08-26T09:47:28.595583Z"
    },
    "papermill": {
     "duration": 0.130366,
     "end_time": "2020-08-26T09:47:28.596639",
     "exception": false,
     "start_time": "2020-08-26T09:47:28.466273",
     "status": "completed"
    },
    "tags": [
     "remove_cell"
    ]
   },
   "outputs": [
    {
     "name": "stdout",
     "output_type": "stream",
     "text": [
      "/bin/bash: jt: command not found\r\n"
     ]
    }
   ],
   "source": [
    "! jt -t grade3 -tf robotosans -cellw 1100"
   ]
  },
  {
   "cell_type": "markdown",
   "metadata": {
    "papermill": {
     "duration": 0.011108,
     "end_time": "2020-08-26T09:47:28.619483",
     "exception": false,
     "start_time": "2020-08-26T09:47:28.608375",
     "status": "completed"
    },
    "tags": []
   },
   "source": [
    "This table is automatically updated with new daily COVID data for the county of Santa Barbara, CA. Every day, the California Department of Public Health publishes COVID tracking metrics for each county, but does not save the previous day's data. This tool keeps track of the daily metrics that are used to monitor progress towards safe reopening in California."
   ]
  },
  {
   "cell_type": "code",
   "execution_count": 2,
   "metadata": {
    "execution": {
     "iopub.execute_input": "2020-08-26T09:47:28.647460Z",
     "iopub.status.busy": "2020-08-26T09:47:28.646958Z",
     "iopub.status.idle": "2020-08-26T09:47:30.868574Z",
     "shell.execute_reply": "2020-08-26T09:47:30.869391Z"
    },
    "papermill": {
     "duration": 2.239058,
     "end_time": "2020-08-26T09:47:30.869550",
     "exception": false,
     "start_time": "2020-08-26T09:47:28.630492",
     "status": "completed"
    },
    "slideshow": {
     "slide_type": "skip"
    },
    "tags": [
     "remove_cell"
    ]
   },
   "outputs": [],
   "source": [
    "# Preamble\n",
    "import os\n",
    "from IPython.display import Markdown as md\n",
    "import IPython\n",
    "import requests\n",
    "from bs4 import BeautifulSoup\n",
    "import re\n",
    "import pandas as pd\n",
    "import datetime\n",
    "import gspread\n",
    "from oauth2client.service_account import ServiceAccountCredentials"
   ]
  },
  {
   "cell_type": "code",
   "execution_count": 3,
   "metadata": {
    "execution": {
     "iopub.execute_input": "2020-08-26T09:47:30.903707Z",
     "iopub.status.busy": "2020-08-26T09:47:30.903138Z",
     "iopub.status.idle": "2020-08-26T09:47:30.904558Z",
     "shell.execute_reply": "2020-08-26T09:47:30.904153Z"
    },
    "papermill": {
     "duration": 0.017377,
     "end_time": "2020-08-26T09:47:30.904664",
     "exception": false,
     "start_time": "2020-08-26T09:47:30.887287",
     "status": "completed"
    },
    "tags": []
   },
   "outputs": [],
   "source": [
    "# Set working directory\n",
    "os.chdir(\"/home/alice_lepissier/COVID-SB\")"
   ]
  },
  {
   "cell_type": "code",
   "execution_count": 4,
   "metadata": {
    "execution": {
     "iopub.execute_input": "2020-08-26T09:47:30.932140Z",
     "iopub.status.busy": "2020-08-26T09:47:30.931591Z",
     "iopub.status.idle": "2020-08-26T09:47:31.240257Z",
     "shell.execute_reply": "2020-08-26T09:47:31.241040Z"
    },
    "papermill": {
     "duration": 0.325489,
     "end_time": "2020-08-26T09:47:31.241203",
     "exception": false,
     "start_time": "2020-08-26T09:47:30.915714",
     "status": "completed"
    },
    "slideshow": {
     "slide_type": "skip"
    },
    "tags": [
     "remove_cell"
    ]
   },
   "outputs": [],
   "source": [
    "# Request content from URL\n",
    "html_string = requests.get('https://www.cdph.ca.gov/Programs/CID/DCDC/Pages/COVID-19/COVID19CountyDataTable.aspx').content"
   ]
  },
  {
   "cell_type": "code",
   "execution_count": 5,
   "metadata": {
    "execution": {
     "iopub.execute_input": "2020-08-26T09:47:31.271411Z",
     "iopub.status.busy": "2020-08-26T09:47:31.270940Z",
     "iopub.status.idle": "2020-08-26T09:47:31.353465Z",
     "shell.execute_reply": "2020-08-26T09:47:31.354331Z"
    },
    "papermill": {
     "duration": 0.101714,
     "end_time": "2020-08-26T09:47:31.354507",
     "exception": false,
     "start_time": "2020-08-26T09:47:31.252793",
     "status": "completed"
    },
    "slideshow": {
     "slide_type": "skip"
    },
    "tags": [
     "remove_cell"
    ]
   },
   "outputs": [],
   "source": [
    "# Parse HTML\n",
    "soup = BeautifulSoup(html_string, 'html.parser')"
   ]
  },
  {
   "cell_type": "code",
   "execution_count": 6,
   "metadata": {
    "execution": {
     "iopub.execute_input": "2020-08-26T09:47:31.388751Z",
     "iopub.status.busy": "2020-08-26T09:47:31.388240Z",
     "iopub.status.idle": "2020-08-26T09:47:31.392939Z",
     "shell.execute_reply": "2020-08-26T09:47:31.393605Z"
    },
    "papermill": {
     "duration": 0.027418,
     "end_time": "2020-08-26T09:47:31.393764",
     "exception": false,
     "start_time": "2020-08-26T09:47:31.366346",
     "status": "completed"
    },
    "slideshow": {
     "slide_type": "skip"
    },
    "tags": [
     "remove_cell"
    ]
   },
   "outputs": [],
   "source": [
    "# Extract data for Santa Barbara\n",
    "table = soup.find_all(\"tr\", class_=\"ms-rteTableEvenRow-3\")\n",
    "SB = table[21]"
   ]
  },
  {
   "cell_type": "code",
   "execution_count": 7,
   "metadata": {
    "execution": {
     "iopub.execute_input": "2020-08-26T09:47:31.424638Z",
     "iopub.status.busy": "2020-08-26T09:47:31.424140Z",
     "iopub.status.idle": "2020-08-26T09:47:31.434223Z",
     "shell.execute_reply": "2020-08-26T09:47:31.435037Z"
    },
    "papermill": {
     "duration": 0.030126,
     "end_time": "2020-08-26T09:47:31.435193",
     "exception": false,
     "start_time": "2020-08-26T09:47:31.405067",
     "status": "completed"
    },
    "slideshow": {
     "slide_type": "skip"
    },
    "tags": [
     "remove_cell"
    ]
   },
   "outputs": [],
   "source": [
    "# Avg # tests per day (per 100,000 population)\n",
    "daily_tests = SB.find_all(\"td\", class_=\"ms-rteTableOddCol-3\")[0].text\n",
    "\n",
    "# Case rate per 100,000\n",
    "case_rate = SB.find_all(\"td\", class_=\"ms-rteTableEvenCol-3\")[1].text\n",
    "\n",
    "# Testing positivity (%)\n",
    "test_positivity = SB.find_all(\"td\", class_=\"ms-rteTableOddCol-3\")[1].text\n",
    "\n",
    "# % Change in 3-day avg COVID+ hospitalized patients\n",
    "change_hospit = SB.find_all(\"td\", class_=\"ms-rteTableEvenCol-3\")[2].text\n",
    "\n",
    "# % ICU beds currently available\n",
    "ICU_beds = SB.find_all(\"td\", class_=\"ms-rteTableOddCol-3\")[2].text\n",
    "\n",
    "# % Ventilators currently available\n",
    "ventilators = SB.find_all(\"td\", class_=\"ms-rteTableEvenCol-3\")[3].text\n",
    "\n",
    "# Extract date of last update\n",
    "update_date = soup.find_all(\"span\", class_=\"ms-rteStyle-Accent1\")[1]\\\n",
    "    .find(\"em\").text"
   ]
  },
  {
   "cell_type": "code",
   "execution_count": 8,
   "metadata": {
    "execution": {
     "iopub.execute_input": "2020-08-26T09:47:31.463470Z",
     "iopub.status.busy": "2020-08-26T09:47:31.462362Z",
     "iopub.status.idle": "2020-08-26T09:47:31.464376Z",
     "shell.execute_reply": "2020-08-26T09:47:31.463974Z"
    },
    "papermill": {
     "duration": 0.018015,
     "end_time": "2020-08-26T09:47:31.464484",
     "exception": false,
     "start_time": "2020-08-26T09:47:31.446469",
     "status": "completed"
    },
    "tags": [
     "remove_cell"
    ]
   },
   "outputs": [],
   "source": [
    "# Create updated date string\n",
    "update_tag = \"Table last updated by CDPH on \" + update_date.split(\" on \", 1)[1] + \".\""
   ]
  },
  {
   "cell_type": "code",
   "execution_count": 9,
   "metadata": {
    "execution": {
     "iopub.execute_input": "2020-08-26T09:47:31.490692Z",
     "iopub.status.busy": "2020-08-26T09:47:31.490206Z",
     "iopub.status.idle": "2020-08-26T09:47:31.542768Z",
     "shell.execute_reply": "2020-08-26T09:47:31.543546Z"
    },
    "papermill": {
     "duration": 0.068034,
     "end_time": "2020-08-26T09:47:31.543714",
     "exception": false,
     "start_time": "2020-08-26T09:47:31.475680",
     "status": "completed"
    },
    "slideshow": {
     "slide_type": "skip"
    },
    "tags": [
     "remove_cell"
    ]
   },
   "outputs": [],
   "source": [
    "# Set up Google Sheet API\n",
    "scope = [\"https://spreadsheets.google.com/feeds\",'https://www.googleapis.com/auth/spreadsheets',\"https://www.googleapis.com/auth/drive.file\",\"https://www.googleapis.com/auth/drive\"]\n",
    "creds = ServiceAccountCredentials.from_json_keyfile_name(\"credentials.json\", scope)\n",
    "client = gspread.authorize(creds)"
   ]
  },
  {
   "cell_type": "code",
   "execution_count": 10,
   "metadata": {
    "execution": {
     "iopub.execute_input": "2020-08-26T09:47:31.602746Z",
     "iopub.status.busy": "2020-08-26T09:47:31.602203Z",
     "iopub.status.idle": "2020-08-26T09:47:32.827630Z",
     "shell.execute_reply": "2020-08-26T09:47:32.828408Z"
    },
    "papermill": {
     "duration": 1.273421,
     "end_time": "2020-08-26T09:47:32.828564",
     "exception": false,
     "start_time": "2020-08-26T09:47:31.555143",
     "status": "completed"
    },
    "slideshow": {
     "slide_type": "skip"
    },
    "tags": [
     "remove_cell"
    ]
   },
   "outputs": [
    {
     "data": {
      "text/plain": [
       "{'spreadsheetId': '1pcqdMzKtea2Oq3BDmdAOQ21gZjCssieKI0692VfNLXU',\n",
       " 'updatedRange': 'Sheet1!A2:G2',\n",
       " 'updatedRows': 1,\n",
       " 'updatedColumns': 7,\n",
       " 'updatedCells': 7}"
      ]
     },
     "execution_count": 10,
     "metadata": {},
     "output_type": "execute_result"
    }
   ],
   "source": [
    "# Append daily data as a new row in Google Sheet\n",
    "sheet = client.open(\"Test cron job\").sheet1\n",
    "insertRow = [datetime.date.today().strftime(\"%Y-%m-%d\"),\n",
    "             daily_tests,\n",
    "             case_rate,\n",
    "             test_positivity,\n",
    "             change_hospit,\n",
    "             ICU_beds,\n",
    "             ventilators]\n",
    "sheet.insert_row(insertRow, 2)"
   ]
  },
  {
   "cell_type": "code",
   "execution_count": 11,
   "metadata": {
    "execution": {
     "iopub.execute_input": "2020-08-26T09:47:32.856964Z",
     "iopub.status.busy": "2020-08-26T09:47:32.856488Z",
     "iopub.status.idle": "2020-08-26T09:47:33.628142Z",
     "shell.execute_reply": "2020-08-26T09:47:33.628993Z"
    },
    "papermill": {
     "duration": 0.788826,
     "end_time": "2020-08-26T09:47:33.629155",
     "exception": false,
     "start_time": "2020-08-26T09:47:32.840329",
     "status": "completed"
    },
    "scrolled": true,
    "slideshow": {
     "slide_type": "slide"
    },
    "tags": [
     "remove_cell"
    ]
   },
   "outputs": [],
   "source": [
    "# Extract data from Google Sheet as pandas dataframe\n",
    "sheet = client.open(\"Test cron job\").sheet1\n",
    "data = sheet.get_all_records()\n",
    "result = pd.DataFrame(data).set_index(\"Date\")"
   ]
  },
  {
   "cell_type": "code",
   "execution_count": 12,
   "metadata": {
    "execution": {
     "iopub.execute_input": "2020-08-26T09:47:33.659159Z",
     "iopub.status.busy": "2020-08-26T09:47:33.658590Z",
     "iopub.status.idle": "2020-08-26T09:47:35.012968Z",
     "shell.execute_reply": "2020-08-26T09:47:35.013702Z"
    },
    "papermill": {
     "duration": 1.372728,
     "end_time": "2020-08-26T09:47:35.013870",
     "exception": false,
     "start_time": "2020-08-26T09:47:33.641142",
     "status": "completed"
    },
    "scrolled": true,
    "tags": [
     "remove_input"
    ]
   },
   "outputs": [
    {
     "data": {
      "text/html": [
       "<style  type=\"text/css\" >\n",
       "    #T_2b36a260_e781_11ea_9c4c_42010a8a0004 th {\n",
       "          text-align: center;\n",
       "    }#T_2b36a260_e781_11ea_9c4c_42010a8a0004row0_col0,#T_2b36a260_e781_11ea_9c4c_42010a8a0004row1_col0,#T_2b36a260_e781_11ea_9c4c_42010a8a0004row2_col0,#T_2b36a260_e781_11ea_9c4c_42010a8a0004row3_col0,#T_2b36a260_e781_11ea_9c4c_42010a8a0004row4_col0,#T_2b36a260_e781_11ea_9c4c_42010a8a0004row5_col0,#T_2b36a260_e781_11ea_9c4c_42010a8a0004row6_col0,#T_2b36a260_e781_11ea_9c4c_42010a8a0004row7_col0,#T_2b36a260_e781_11ea_9c4c_42010a8a0004row8_col0,#T_2b36a260_e781_11ea_9c4c_42010a8a0004row9_col0,#T_2b36a260_e781_11ea_9c4c_42010a8a0004row10_col0,#T_2b36a260_e781_11ea_9c4c_42010a8a0004row11_col0,#T_2b36a260_e781_11ea_9c4c_42010a8a0004row12_col0,#T_2b36a260_e781_11ea_9c4c_42010a8a0004row13_col0,#T_2b36a260_e781_11ea_9c4c_42010a8a0004row14_col0,#T_2b36a260_e781_11ea_9c4c_42010a8a0004row15_col0,#T_2b36a260_e781_11ea_9c4c_42010a8a0004row16_col0,#T_2b36a260_e781_11ea_9c4c_42010a8a0004row17_col0,#T_2b36a260_e781_11ea_9c4c_42010a8a0004row18_col0,#T_2b36a260_e781_11ea_9c4c_42010a8a0004row19_col0,#T_2b36a260_e781_11ea_9c4c_42010a8a0004row20_col0,#T_2b36a260_e781_11ea_9c4c_42010a8a0004row21_col0,#T_2b36a260_e781_11ea_9c4c_42010a8a0004row22_col0,#T_2b36a260_e781_11ea_9c4c_42010a8a0004row23_col0{\n",
       "            width:  20em;\n",
       "            text-align:  center;\n",
       "            font-weight:  bold;\n",
       "        }#T_2b36a260_e781_11ea_9c4c_42010a8a0004row0_col1,#T_2b36a260_e781_11ea_9c4c_42010a8a0004row0_col2,#T_2b36a260_e781_11ea_9c4c_42010a8a0004row1_col1,#T_2b36a260_e781_11ea_9c4c_42010a8a0004row1_col2,#T_2b36a260_e781_11ea_9c4c_42010a8a0004row2_col1,#T_2b36a260_e781_11ea_9c4c_42010a8a0004row2_col2,#T_2b36a260_e781_11ea_9c4c_42010a8a0004row3_col1,#T_2b36a260_e781_11ea_9c4c_42010a8a0004row3_col2,#T_2b36a260_e781_11ea_9c4c_42010a8a0004row4_col1,#T_2b36a260_e781_11ea_9c4c_42010a8a0004row4_col2,#T_2b36a260_e781_11ea_9c4c_42010a8a0004row5_col1,#T_2b36a260_e781_11ea_9c4c_42010a8a0004row5_col2,#T_2b36a260_e781_11ea_9c4c_42010a8a0004row6_col1,#T_2b36a260_e781_11ea_9c4c_42010a8a0004row6_col2,#T_2b36a260_e781_11ea_9c4c_42010a8a0004row7_col1,#T_2b36a260_e781_11ea_9c4c_42010a8a0004row7_col2,#T_2b36a260_e781_11ea_9c4c_42010a8a0004row8_col1,#T_2b36a260_e781_11ea_9c4c_42010a8a0004row8_col2,#T_2b36a260_e781_11ea_9c4c_42010a8a0004row9_col1,#T_2b36a260_e781_11ea_9c4c_42010a8a0004row9_col2,#T_2b36a260_e781_11ea_9c4c_42010a8a0004row10_col1,#T_2b36a260_e781_11ea_9c4c_42010a8a0004row10_col2,#T_2b36a260_e781_11ea_9c4c_42010a8a0004row11_col1,#T_2b36a260_e781_11ea_9c4c_42010a8a0004row11_col2,#T_2b36a260_e781_11ea_9c4c_42010a8a0004row12_col1,#T_2b36a260_e781_11ea_9c4c_42010a8a0004row12_col2,#T_2b36a260_e781_11ea_9c4c_42010a8a0004row13_col1,#T_2b36a260_e781_11ea_9c4c_42010a8a0004row13_col2,#T_2b36a260_e781_11ea_9c4c_42010a8a0004row14_col1,#T_2b36a260_e781_11ea_9c4c_42010a8a0004row14_col2,#T_2b36a260_e781_11ea_9c4c_42010a8a0004row15_col1,#T_2b36a260_e781_11ea_9c4c_42010a8a0004row15_col2,#T_2b36a260_e781_11ea_9c4c_42010a8a0004row16_col1,#T_2b36a260_e781_11ea_9c4c_42010a8a0004row16_col2,#T_2b36a260_e781_11ea_9c4c_42010a8a0004row17_col1,#T_2b36a260_e781_11ea_9c4c_42010a8a0004row17_col2,#T_2b36a260_e781_11ea_9c4c_42010a8a0004row18_col1,#T_2b36a260_e781_11ea_9c4c_42010a8a0004row18_col2,#T_2b36a260_e781_11ea_9c4c_42010a8a0004row19_col1,#T_2b36a260_e781_11ea_9c4c_42010a8a0004row19_col2,#T_2b36a260_e781_11ea_9c4c_42010a8a0004row20_col1,#T_2b36a260_e781_11ea_9c4c_42010a8a0004row20_col2,#T_2b36a260_e781_11ea_9c4c_42010a8a0004row21_col1,#T_2b36a260_e781_11ea_9c4c_42010a8a0004row21_col2,#T_2b36a260_e781_11ea_9c4c_42010a8a0004row22_col1,#T_2b36a260_e781_11ea_9c4c_42010a8a0004row22_col2,#T_2b36a260_e781_11ea_9c4c_42010a8a0004row23_col1,#T_2b36a260_e781_11ea_9c4c_42010a8a0004row23_col2{\n",
       "            width:  20em;\n",
       "            text-align:  center;\n",
       "        }</style><table id=\"T_2b36a260_e781_11ea_9c4c_42010a8a0004\" ><thead>    <tr>        <th class=\"col_heading level0 col0\" >Date</th>        <th class=\"col_heading level0 col1\" >Time</th>        <th class=\"col_heading level0 col2\" ></th>    </tr></thead><tbody>\n",
       "                <tr>\n",
       "                                <td id=\"T_2b36a260_e781_11ea_9c4c_42010a8a0004row0_col0\" class=\"data row0 col0\" >2020-08-26</td>\n",
       "                        <td id=\"T_2b36a260_e781_11ea_9c4c_42010a8a0004row0_col1\" class=\"data row0 col1\" >222.1</td>\n",
       "                        <td id=\"T_2b36a260_e781_11ea_9c4c_42010a8a0004row0_col2\" class=\"data row0 col2\" > ✔</td>\n",
       "            </tr>\n",
       "            <tr>\n",
       "                                <td id=\"T_2b36a260_e781_11ea_9c4c_42010a8a0004row1_col0\" class=\"data row1 col0\" >2020-08-26</td>\n",
       "                        <td id=\"T_2b36a260_e781_11ea_9c4c_42010a8a0004row1_col1\" class=\"data row1 col1\" >222.1</td>\n",
       "                        <td id=\"T_2b36a260_e781_11ea_9c4c_42010a8a0004row1_col2\" class=\"data row1 col2\" > ✔</td>\n",
       "            </tr>\n",
       "            <tr>\n",
       "                                <td id=\"T_2b36a260_e781_11ea_9c4c_42010a8a0004row2_col0\" class=\"data row2 col0\" >2020-08-26</td>\n",
       "                        <td id=\"T_2b36a260_e781_11ea_9c4c_42010a8a0004row2_col1\" class=\"data row2 col1\" >222.1</td>\n",
       "                        <td id=\"T_2b36a260_e781_11ea_9c4c_42010a8a0004row2_col2\" class=\"data row2 col2\" > ✔</td>\n",
       "            </tr>\n",
       "            <tr>\n",
       "                                <td id=\"T_2b36a260_e781_11ea_9c4c_42010a8a0004row3_col0\" class=\"data row3 col0\" >2020-08-26</td>\n",
       "                        <td id=\"T_2b36a260_e781_11ea_9c4c_42010a8a0004row3_col1\" class=\"data row3 col1\" >222.1</td>\n",
       "                        <td id=\"T_2b36a260_e781_11ea_9c4c_42010a8a0004row3_col2\" class=\"data row3 col2\" > ✔</td>\n",
       "            </tr>\n",
       "            <tr>\n",
       "                                <td id=\"T_2b36a260_e781_11ea_9c4c_42010a8a0004row4_col0\" class=\"data row4 col0\" >2020-08-26</td>\n",
       "                        <td id=\"T_2b36a260_e781_11ea_9c4c_42010a8a0004row4_col1\" class=\"data row4 col1\" >222.1</td>\n",
       "                        <td id=\"T_2b36a260_e781_11ea_9c4c_42010a8a0004row4_col2\" class=\"data row4 col2\" > ✔</td>\n",
       "            </tr>\n",
       "            <tr>\n",
       "                                <td id=\"T_2b36a260_e781_11ea_9c4c_42010a8a0004row5_col0\" class=\"data row5 col0\" >2020-08-26</td>\n",
       "                        <td id=\"T_2b36a260_e781_11ea_9c4c_42010a8a0004row5_col1\" class=\"data row5 col1\" >222.1</td>\n",
       "                        <td id=\"T_2b36a260_e781_11ea_9c4c_42010a8a0004row5_col2\" class=\"data row5 col2\" > ✔</td>\n",
       "            </tr>\n",
       "            <tr>\n",
       "                                <td id=\"T_2b36a260_e781_11ea_9c4c_42010a8a0004row6_col0\" class=\"data row6 col0\" >2020-08-26</td>\n",
       "                        <td id=\"T_2b36a260_e781_11ea_9c4c_42010a8a0004row6_col1\" class=\"data row6 col1\" >222.1</td>\n",
       "                        <td id=\"T_2b36a260_e781_11ea_9c4c_42010a8a0004row6_col2\" class=\"data row6 col2\" > ✔</td>\n",
       "            </tr>\n",
       "            <tr>\n",
       "                                <td id=\"T_2b36a260_e781_11ea_9c4c_42010a8a0004row7_col0\" class=\"data row7 col0\" >2020-08-26</td>\n",
       "                        <td id=\"T_2b36a260_e781_11ea_9c4c_42010a8a0004row7_col1\" class=\"data row7 col1\" >222.1</td>\n",
       "                        <td id=\"T_2b36a260_e781_11ea_9c4c_42010a8a0004row7_col2\" class=\"data row7 col2\" > ✔</td>\n",
       "            </tr>\n",
       "            <tr>\n",
       "                                <td id=\"T_2b36a260_e781_11ea_9c4c_42010a8a0004row8_col0\" class=\"data row8 col0\" >2020-08-26</td>\n",
       "                        <td id=\"T_2b36a260_e781_11ea_9c4c_42010a8a0004row8_col1\" class=\"data row8 col1\" >222.1</td>\n",
       "                        <td id=\"T_2b36a260_e781_11ea_9c4c_42010a8a0004row8_col2\" class=\"data row8 col2\" > ✔</td>\n",
       "            </tr>\n",
       "            <tr>\n",
       "                                <td id=\"T_2b36a260_e781_11ea_9c4c_42010a8a0004row9_col0\" class=\"data row9 col0\" >2020-08-26</td>\n",
       "                        <td id=\"T_2b36a260_e781_11ea_9c4c_42010a8a0004row9_col1\" class=\"data row9 col1\" >222.1</td>\n",
       "                        <td id=\"T_2b36a260_e781_11ea_9c4c_42010a8a0004row9_col2\" class=\"data row9 col2\" > ✔</td>\n",
       "            </tr>\n",
       "            <tr>\n",
       "                                <td id=\"T_2b36a260_e781_11ea_9c4c_42010a8a0004row10_col0\" class=\"data row10 col0\" >2020-08-26</td>\n",
       "                        <td id=\"T_2b36a260_e781_11ea_9c4c_42010a8a0004row10_col1\" class=\"data row10 col1\" >222.1</td>\n",
       "                        <td id=\"T_2b36a260_e781_11ea_9c4c_42010a8a0004row10_col2\" class=\"data row10 col2\" > ✔</td>\n",
       "            </tr>\n",
       "            <tr>\n",
       "                                <td id=\"T_2b36a260_e781_11ea_9c4c_42010a8a0004row11_col0\" class=\"data row11 col0\" >2020-08-26</td>\n",
       "                        <td id=\"T_2b36a260_e781_11ea_9c4c_42010a8a0004row11_col1\" class=\"data row11 col1\" >222.1</td>\n",
       "                        <td id=\"T_2b36a260_e781_11ea_9c4c_42010a8a0004row11_col2\" class=\"data row11 col2\" > ✔</td>\n",
       "            </tr>\n",
       "            <tr>\n",
       "                                <td id=\"T_2b36a260_e781_11ea_9c4c_42010a8a0004row12_col0\" class=\"data row12 col0\" >2020-08-26</td>\n",
       "                        <td id=\"T_2b36a260_e781_11ea_9c4c_42010a8a0004row12_col1\" class=\"data row12 col1\" >222.1</td>\n",
       "                        <td id=\"T_2b36a260_e781_11ea_9c4c_42010a8a0004row12_col2\" class=\"data row12 col2\" > ✔</td>\n",
       "            </tr>\n",
       "            <tr>\n",
       "                                <td id=\"T_2b36a260_e781_11ea_9c4c_42010a8a0004row13_col0\" class=\"data row13 col0\" >2020-08-26</td>\n",
       "                        <td id=\"T_2b36a260_e781_11ea_9c4c_42010a8a0004row13_col1\" class=\"data row13 col1\" >222.1</td>\n",
       "                        <td id=\"T_2b36a260_e781_11ea_9c4c_42010a8a0004row13_col2\" class=\"data row13 col2\" > ✔</td>\n",
       "            </tr>\n",
       "            <tr>\n",
       "                                <td id=\"T_2b36a260_e781_11ea_9c4c_42010a8a0004row14_col0\" class=\"data row14 col0\" >2020-08-26</td>\n",
       "                        <td id=\"T_2b36a260_e781_11ea_9c4c_42010a8a0004row14_col1\" class=\"data row14 col1\" >222.1</td>\n",
       "                        <td id=\"T_2b36a260_e781_11ea_9c4c_42010a8a0004row14_col2\" class=\"data row14 col2\" > ✔</td>\n",
       "            </tr>\n",
       "            <tr>\n",
       "                                <td id=\"T_2b36a260_e781_11ea_9c4c_42010a8a0004row15_col0\" class=\"data row15 col0\" >2020-08-26</td>\n",
       "                        <td id=\"T_2b36a260_e781_11ea_9c4c_42010a8a0004row15_col1\" class=\"data row15 col1\" >222.1</td>\n",
       "                        <td id=\"T_2b36a260_e781_11ea_9c4c_42010a8a0004row15_col2\" class=\"data row15 col2\" > ✔</td>\n",
       "            </tr>\n",
       "            <tr>\n",
       "                                <td id=\"T_2b36a260_e781_11ea_9c4c_42010a8a0004row16_col0\" class=\"data row16 col0\" >2020-08-26</td>\n",
       "                        <td id=\"T_2b36a260_e781_11ea_9c4c_42010a8a0004row16_col1\" class=\"data row16 col1\" >222.1</td>\n",
       "                        <td id=\"T_2b36a260_e781_11ea_9c4c_42010a8a0004row16_col2\" class=\"data row16 col2\" > ✔</td>\n",
       "            </tr>\n",
       "            <tr>\n",
       "                                <td id=\"T_2b36a260_e781_11ea_9c4c_42010a8a0004row17_col0\" class=\"data row17 col0\" >2020-08-26</td>\n",
       "                        <td id=\"T_2b36a260_e781_11ea_9c4c_42010a8a0004row17_col1\" class=\"data row17 col1\" >222.1</td>\n",
       "                        <td id=\"T_2b36a260_e781_11ea_9c4c_42010a8a0004row17_col2\" class=\"data row17 col2\" > ✔</td>\n",
       "            </tr>\n",
       "            <tr>\n",
       "                                <td id=\"T_2b36a260_e781_11ea_9c4c_42010a8a0004row18_col0\" class=\"data row18 col0\" >2020-08-26</td>\n",
       "                        <td id=\"T_2b36a260_e781_11ea_9c4c_42010a8a0004row18_col1\" class=\"data row18 col1\" >222.1</td>\n",
       "                        <td id=\"T_2b36a260_e781_11ea_9c4c_42010a8a0004row18_col2\" class=\"data row18 col2\" > ✔</td>\n",
       "            </tr>\n",
       "            <tr>\n",
       "                                <td id=\"T_2b36a260_e781_11ea_9c4c_42010a8a0004row19_col0\" class=\"data row19 col0\" >2020-08-26</td>\n",
       "                        <td id=\"T_2b36a260_e781_11ea_9c4c_42010a8a0004row19_col1\" class=\"data row19 col1\" >222.1</td>\n",
       "                        <td id=\"T_2b36a260_e781_11ea_9c4c_42010a8a0004row19_col2\" class=\"data row19 col2\" > ✔</td>\n",
       "            </tr>\n",
       "            <tr>\n",
       "                                <td id=\"T_2b36a260_e781_11ea_9c4c_42010a8a0004row20_col0\" class=\"data row20 col0\" >2020-08-26</td>\n",
       "                        <td id=\"T_2b36a260_e781_11ea_9c4c_42010a8a0004row20_col1\" class=\"data row20 col1\" >222.1</td>\n",
       "                        <td id=\"T_2b36a260_e781_11ea_9c4c_42010a8a0004row20_col2\" class=\"data row20 col2\" > ✔</td>\n",
       "            </tr>\n",
       "            <tr>\n",
       "                                <td id=\"T_2b36a260_e781_11ea_9c4c_42010a8a0004row21_col0\" class=\"data row21 col0\" >2020-08-26</td>\n",
       "                        <td id=\"T_2b36a260_e781_11ea_9c4c_42010a8a0004row21_col1\" class=\"data row21 col1\" >222.1</td>\n",
       "                        <td id=\"T_2b36a260_e781_11ea_9c4c_42010a8a0004row21_col2\" class=\"data row21 col2\" > ✔</td>\n",
       "            </tr>\n",
       "            <tr>\n",
       "                                <td id=\"T_2b36a260_e781_11ea_9c4c_42010a8a0004row22_col0\" class=\"data row22 col0\" >2020-08-26</td>\n",
       "                        <td id=\"T_2b36a260_e781_11ea_9c4c_42010a8a0004row22_col1\" class=\"data row22 col1\" >222.1</td>\n",
       "                        <td id=\"T_2b36a260_e781_11ea_9c4c_42010a8a0004row22_col2\" class=\"data row22 col2\" > ✔</td>\n",
       "            </tr>\n",
       "            <tr>\n",
       "                                <td id=\"T_2b36a260_e781_11ea_9c4c_42010a8a0004row23_col0\" class=\"data row23 col0\" >2020-08-26</td>\n",
       "                        <td id=\"T_2b36a260_e781_11ea_9c4c_42010a8a0004row23_col1\" class=\"data row23 col1\" >222.1</td>\n",
       "                        <td id=\"T_2b36a260_e781_11ea_9c4c_42010a8a0004row23_col2\" class=\"data row23 col2\" > ✔</td>\n",
       "            </tr>\n",
       "    </tbody></table>"
      ],
      "text/plain": [
       "<pandas.io.formats.style.Styler at 0x7f7be4659518>"
      ]
     },
     "execution_count": 12,
     "metadata": {},
     "output_type": "execute_result"
    }
   ],
   "source": [
    "# Style the pandas dataframe\n",
    "d = dict(selector=\"th\",\n",
    "         props=[('text-align', 'center')])\n",
    "\n",
    "result.reset_index().style\\\n",
    "    .set_properties(**{'width':'20em', 'text-align':'center'})\\\n",
    "    .set_properties(subset=['Date'], **{'font-weight': 'bold'})\\\n",
    "    .set_table_styles([d])\\\n",
    "    .set_precision(1)\\\n",
    "    .hide_index()"
   ]
  },
  {
   "cell_type": "markdown",
   "metadata": {
    "papermill": {
     "duration": 0.011966,
     "end_time": "2020-08-26T09:47:35.038356",
     "exception": false,
     "start_time": "2020-08-26T09:47:35.026390",
     "status": "completed"
    },
    "tags": []
   },
   "source": [
    "<sup>Notes: (1) 7 day average with a 7-day lag. (2) 14 day average. (3) 7 day average with a 7-day lag. (4) Change in 3 day average.</sup>"
   ]
  },
  {
   "cell_type": "code",
   "execution_count": 13,
   "metadata": {
    "execution": {
     "iopub.execute_input": "2020-08-26T09:47:35.067806Z",
     "iopub.status.busy": "2020-08-26T09:47:35.067309Z",
     "iopub.status.idle": "2020-08-26T09:47:35.070295Z",
     "shell.execute_reply": "2020-08-26T09:47:35.070656Z"
    },
    "papermill": {
     "duration": 0.020438,
     "end_time": "2020-08-26T09:47:35.070807",
     "exception": false,
     "start_time": "2020-08-26T09:47:35.050369",
     "status": "completed"
    },
    "tags": [
     "remove_input"
    ]
   },
   "outputs": [
    {
     "data": {
      "text/markdown": [
       "Table last updated by CDPH on August 25, 2020."
      ],
      "text/plain": [
       "<IPython.core.display.Markdown object>"
      ]
     },
     "execution_count": 13,
     "metadata": {},
     "output_type": "execute_result"
    }
   ],
   "source": [
    "md(update_tag)"
   ]
  },
  {
   "cell_type": "markdown",
   "metadata": {
    "papermill": {
     "duration": 0.012181,
     "end_time": "2020-08-26T09:47:35.095159",
     "exception": false,
     "start_time": "2020-08-26T09:47:35.082978",
     "status": "completed"
    },
    "tags": []
   },
   "source": [
    "## Tracking county closures in Santa Barbara"
   ]
  },
  {
   "cell_type": "markdown",
   "metadata": {
    "papermill": {
     "duration": 0.012069,
     "end_time": "2020-08-26T09:47:35.119371",
     "exception": false,
     "start_time": "2020-08-26T09:47:35.107302",
     "status": "completed"
    },
    "tags": []
   },
   "source": [
    "The state of California is using a data-driven approach informed by scientific evidence to tailor its response to COVID-19. Three dimensions of concern are monitored to assess whether a county should be placed on the County Monitoring List:\n",
    " 1. Elevated Disease Transmission\n",
    " 2. Increasing Hospitalization\n",
    " 3. Limited Hospital Capacity\n",
    "\n",
    "Once a county appears on the County Monitoring List for three consecutive days, indoor operations in the sectors listed in Section 3 of the [July 13th State Health Officer Order](https://www.cdph.ca.gov/Programs/CID/DCDC/CDPH%20Document%20Library/COVID-19/SHO%20Order%20Dimming%20Entire%20State%207-13-2020.pdf) must close.\n",
    "\n",
    "This table tracks where Santa Barbara stands in terms of the criteria for inclusion on the County Monitoring List. As of 20 August 2020, the criteria for inclusion on the monitoring list are:\n",
    "\n",
    "* Case rate >100 OR (Case rate >25 AND Positivity >8%)\n",
    "* \\>10% increase in hospitalizations\n",
    "* <20% ICU beds available OR <25% ventilators available\n",
    "\n",
    "If Santa Barbara meets the criteria for removal from the County Monitoring List for a certain metric, then a checkmark ✔ is displayed in the table.\n",
    "\n",
    "Read more at <https://covid19.ca.gov/roadmap-counties/>.\n",
    "\n",
    "Data source for county metrics: https://www.cdph.ca.gov/Programs/CID/DCDC/Pages/COVID-19/COVID19CountyDataTable.aspx."
   ]
  },
  {
   "cell_type": "markdown",
   "metadata": {
    "papermill": {
     "duration": 0.012316,
     "end_time": "2020-08-26T09:47:35.144156",
     "exception": false,
     "start_time": "2020-08-26T09:47:35.131840",
     "status": "completed"
    },
    "tags": []
   },
   "source": [
    "**See the code used to scrape the data: https://github.com/walice/COVID-SB/.**"
   ]
  },
  {
   "cell_type": "code",
   "execution_count": 14,
   "metadata": {
    "execution": {
     "iopub.execute_input": "2020-08-26T09:47:35.173882Z",
     "iopub.status.busy": "2020-08-26T09:47:35.173389Z",
     "iopub.status.idle": "2020-08-26T09:47:35.176611Z",
     "shell.execute_reply": "2020-08-26T09:47:35.176995Z"
    },
    "papermill": {
     "duration": 0.020638,
     "end_time": "2020-08-26T09:47:35.177137",
     "exception": false,
     "start_time": "2020-08-26T09:47:35.156499",
     "status": "completed"
    },
    "tags": [
     "remove_cell"
    ]
   },
   "outputs": [
    {
     "data": {
      "application/javascript": [
       "IPython.notebook.save_notebook()\n"
      ],
      "text/plain": [
       "<IPython.core.display.Javascript object>"
      ]
     },
     "metadata": {},
     "output_type": "display_data"
    }
   ],
   "source": [
    "%%javascript\n",
    "IPython.notebook.save_notebook()"
   ]
  },
  {
   "cell_type": "code",
   "execution_count": 15,
   "metadata": {
    "execution": {
     "iopub.execute_input": "2020-08-26T09:47:35.212676Z",
     "iopub.status.busy": "2020-08-26T09:47:35.212168Z",
     "iopub.status.idle": "2020-08-26T09:47:35.397503Z",
     "shell.execute_reply": "2020-08-26T09:47:35.396545Z"
    },
    "papermill": {
     "duration": 0.207319,
     "end_time": "2020-08-26T09:47:35.397641",
     "exception": false,
     "start_time": "2020-08-26T09:47:35.190322",
     "status": "completed"
    },
    "slideshow": {
     "slide_type": "skip"
    },
    "tags": [
     "remove_cell"
    ]
   },
   "outputs": [
    {
     "name": "stdout",
     "output_type": "stream",
     "text": [
      "/bin/bash: jupyter: command not found\r\n"
     ]
    }
   ],
   "source": [
    "# Convert Jupyter Notebook to HTML\n",
    "! jupyter nbconvert \"index.ipynb\" --to html --TagRemovePreprocessor.enabled=True --TagRemovePreprocessor.remove_cell_tags=\"['remove_cell']\" --TagRemovePreprocessor.remove_input_tags=\"['remove_input']\" --no-prompt"
   ]
  },
  {
   "cell_type": "code",
   "execution_count": 16,
   "metadata": {
    "execution": {
     "iopub.execute_input": "2020-08-26T09:47:35.428913Z",
     "iopub.status.busy": "2020-08-26T09:47:35.428423Z",
     "iopub.status.idle": "2020-08-26T09:47:35.430870Z",
     "shell.execute_reply": "2020-08-26T09:47:35.431224Z"
    },
    "papermill": {
     "duration": 0.020321,
     "end_time": "2020-08-26T09:47:35.431368",
     "exception": false,
     "start_time": "2020-08-26T09:47:35.411047",
     "status": "completed"
    },
    "tags": [
     "remove_cell"
    ]
   },
   "outputs": [],
   "source": [
    "# Create daily commit message\n",
    "now = datetime.datetime.now()\n",
    "commit_message = \"Last scraped on \" + str(now)"
   ]
  },
  {
   "cell_type": "code",
   "execution_count": null,
   "metadata": {
    "execution": {
     "iopub.execute_input": "2020-08-26T09:45:00.779575Z",
     "iopub.status.busy": "2020-08-26T09:45:00.779074Z",
     "iopub.status.idle": "2020-08-26T09:45:05.723873Z",
     "shell.execute_reply": "2020-08-26T09:45:05.722681Z"
    },
    "papermill": {
     "duration": null,
     "end_time": null,
     "exception": false,
     "start_time": "2020-08-26T09:47:35.444024",
     "status": "running"
    },
    "tags": [
     "remove_cell"
    ]
   },
   "outputs": [],
   "source": [
    "# Deploy to GitHub\n",
    "! git add .\n",
    "! echo $commit_message > commit_message.txt\n",
    "! git commit -F commit_message.txt\n",
    "! git push"
   ]
  }
 ],
 "metadata": {
  "celltoolbar": "Tags",
  "kernelspec": {
   "display_name": "Python 3",
   "language": "python",
   "name": "python3"
  },
  "language_info": {
   "codemirror_mode": {
    "name": "ipython",
    "version": 3
   },
   "file_extension": ".py",
   "mimetype": "text/x-python",
   "name": "python",
   "nbconvert_exporter": "python",
   "pygments_lexer": "ipython3",
   "version": "3.7.3"
  },
  "papermill": {
   "duration": null,
   "end_time": null,
   "environment_variables": {},
   "exception": null,
   "input_path": "/home/alice_lepissier/COVID-SB/index.ipynb",
   "output_path": "/home/alice_lepissier/COVID-SB/index.ipynb",
   "parameters": {},
   "start_time": "2020-08-26T09:47:26.936314",
   "version": "2.1.3"
  }
 },
 "nbformat": 4,
 "nbformat_minor": 4
}