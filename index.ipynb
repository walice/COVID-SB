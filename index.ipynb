{
 "cells": [
  {
   "cell_type": "markdown",
   "metadata": {
    "papermill": {
     "duration": 0.024986,
     "end_time": "2020-08-21T08:00:52.262476",
     "exception": false,
     "start_time": "2020-08-21T08:00:52.237490",
     "status": "completed"
    },
    "tags": []
   },
   "source": [
    "# Daily COVID monitoring data for Santa Barbara county"
   ]
  },
  {
   "cell_type": "code",
   "execution_count": 1,
   "metadata": {
    "execution": {
     "iopub.execute_input": "2020-08-21T08:00:52.366418Z",
     "iopub.status.busy": "2020-08-21T08:00:52.364418Z",
     "iopub.status.idle": "2020-08-21T08:00:54.829257Z",
     "shell.execute_reply": "2020-08-21T08:00:54.830256Z"
    },
    "papermill": {
     "duration": 2.523805,
     "end_time": "2020-08-21T08:00:54.830256",
     "exception": false,
     "start_time": "2020-08-21T08:00:52.306451",
     "status": "completed"
    },
    "slideshow": {
     "slide_type": "skip"
    },
    "tags": [
     "remove_cell"
    ]
   },
   "outputs": [],
   "source": [
    "# Preamble\n",
    "import os\n",
    "import IPython\n",
    "import requests\n",
    "from bs4 import BeautifulSoup\n",
    "import pandas as pd\n",
    "import datetime\n",
    "import gspread\n",
    "from oauth2client.service_account import ServiceAccountCredentials"
   ]
  },
  {
   "cell_type": "code",
   "execution_count": 2,
   "metadata": {
    "execution": {
     "iopub.execute_input": "2020-08-21T08:00:54.868233Z",
     "iopub.status.busy": "2020-08-21T08:00:54.868233Z",
     "iopub.status.idle": "2020-08-21T08:00:54.872232Z",
     "shell.execute_reply": "2020-08-21T08:00:54.873231Z"
    },
    "papermill": {
     "duration": 0.025984,
     "end_time": "2020-08-21T08:00:54.873231",
     "exception": false,
     "start_time": "2020-08-21T08:00:54.847247",
     "status": "completed"
    },
    "tags": [
     "remove_cell"
    ]
   },
   "outputs": [],
   "source": [
    "# Change working directory (so that Windows task scheduler does not complain)\n",
    "os.chdir(\"C:/Users/Alice/Box Sync/PhD/Software/Python/COVID/COVID-SB\")"
   ]
  },
  {
   "cell_type": "code",
   "execution_count": 3,
   "metadata": {
    "execution": {
     "iopub.execute_input": "2020-08-21T08:00:54.921205Z",
     "iopub.status.busy": "2020-08-21T08:00:54.920205Z",
     "iopub.status.idle": "2020-08-21T08:00:55.150350Z",
     "shell.execute_reply": "2020-08-21T08:00:55.153358Z"
    },
    "papermill": {
     "duration": 0.261138,
     "end_time": "2020-08-21T08:00:55.153358",
     "exception": false,
     "start_time": "2020-08-21T08:00:54.892220",
     "status": "completed"
    },
    "slideshow": {
     "slide_type": "skip"
    },
    "tags": [
     "remove_cell"
    ]
   },
   "outputs": [],
   "source": [
    "# Request content from URL\n",
    "html_string = requests.get('https://www.cdph.ca.gov/Programs/CID/DCDC/Pages/COVID-19/COVID19CountyDataTable.aspx').content"
   ]
  },
  {
   "cell_type": "code",
   "execution_count": 4,
   "metadata": {
    "execution": {
     "iopub.execute_input": "2020-08-21T08:00:55.231523Z",
     "iopub.status.busy": "2020-08-21T08:00:55.230523Z",
     "iopub.status.idle": "2020-08-21T08:00:55.347456Z",
     "shell.execute_reply": "2020-08-21T08:00:55.348457Z"
    },
    "papermill": {
     "duration": 0.171126,
     "end_time": "2020-08-21T08:00:55.348457",
     "exception": false,
     "start_time": "2020-08-21T08:00:55.177331",
     "status": "completed"
    },
    "slideshow": {
     "slide_type": "skip"
    },
    "tags": [
     "remove_cell"
    ]
   },
   "outputs": [],
   "source": [
    "# Parse HTML\n",
    "soup = BeautifulSoup(html_string, 'html.parser')"
   ]
  },
  {
   "cell_type": "code",
   "execution_count": 5,
   "metadata": {
    "execution": {
     "iopub.execute_input": "2020-08-21T08:00:55.401426Z",
     "iopub.status.busy": "2020-08-21T08:00:55.400426Z",
     "iopub.status.idle": "2020-08-21T08:00:55.403424Z",
     "shell.execute_reply": "2020-08-21T08:00:55.403424Z"
    },
    "papermill": {
     "duration": 0.035978,
     "end_time": "2020-08-21T08:00:55.404423",
     "exception": false,
     "start_time": "2020-08-21T08:00:55.368445",
     "status": "completed"
    },
    "slideshow": {
     "slide_type": "skip"
    },
    "tags": [
     "remove_cell"
    ]
   },
   "outputs": [],
   "source": [
    "# Extract data for Santa Barbara\n",
    "table = soup.find_all(\"tr\", class_=\"ms-rteTableEvenRow-3\")\n",
    "SB = table[21]"
   ]
  },
  {
   "cell_type": "code",
   "execution_count": 6,
   "metadata": {
    "execution": {
     "iopub.execute_input": "2020-08-21T08:00:55.449399Z",
     "iopub.status.busy": "2020-08-21T08:00:55.448399Z",
     "iopub.status.idle": "2020-08-21T08:00:55.450397Z",
     "shell.execute_reply": "2020-08-21T08:00:55.451396Z"
    },
    "papermill": {
     "duration": 0.028981,
     "end_time": "2020-08-21T08:00:55.451396",
     "exception": false,
     "start_time": "2020-08-21T08:00:55.422415",
     "status": "completed"
    },
    "slideshow": {
     "slide_type": "skip"
    },
    "tags": [
     "remove_cell"
    ]
   },
   "outputs": [],
   "source": [
    "# Avg # tests per day (per 100,000 population)\n",
    "daily_tests = SB.find_all(\"td\", class_=\"ms-rteTableOddCol-3\")[0].text\n",
    "\n",
    "# Case rate per 100,000\n",
    "case_rate = SB.find_all(\"td\", class_=\"ms-rteTableEvenCol-3\")[1].text\n",
    "\n",
    "# Testing positivity (%)\n",
    "test_positivity = SB.find_all(\"td\", class_=\"ms-rteTableOddCol-3\")[1].text\n",
    "\n",
    "# % Change in 3-day avg COVID+ hospitalized patients\n",
    "change_hospit = SB.find_all(\"td\", class_=\"ms-rteTableEvenCol-3\")[2].text\n",
    "\n",
    "# % ICU beds currently available\n",
    "ICU_beds = SB.find_all(\"td\", class_=\"ms-rteTableOddCol-3\")[2].text\n",
    "\n",
    "# % Ventilators currently available\n",
    "ventilators = SB.find_all(\"td\", class_=\"ms-rteTableEvenCol-3\")[3].text"
   ]
  },
  {
   "cell_type": "code",
   "execution_count": 7,
   "metadata": {
    "execution": {
     "iopub.execute_input": "2020-08-21T08:00:55.488377Z",
     "iopub.status.busy": "2020-08-21T08:00:55.487377Z",
     "iopub.status.idle": "2020-08-21T08:00:55.491375Z",
     "shell.execute_reply": "2020-08-21T08:00:55.491375Z"
    },
    "papermill": {
     "duration": 0.022987,
     "end_time": "2020-08-21T08:00:55.491375",
     "exception": false,
     "start_time": "2020-08-21T08:00:55.468388",
     "status": "completed"
    },
    "slideshow": {
     "slide_type": "skip"
    },
    "tags": [
     "remove_cell"
    ]
   },
   "outputs": [],
   "source": [
    "# table = pd.DataFrame({\"Date\": [date.today().strftime(\"%y/%m/%d\")],\n",
    "#                       \"Daily tests (per 100,000)\": [daily_tests], \n",
    "#                       \"Case rate (per 100,000)\": [case_rate],\n",
    "#                       \"Testing positivity (%)\": [test_positivity],\n",
    "#                       \"Change in hospitalizations (%)\": [change_hospit], \n",
    "#                       \"ICU beds available (%)\": [ICU_beds],\n",
    "#                       \"Ventilators available (%)\": [ventilators]})\n",
    "# table.set_index(\"Date\")"
   ]
  },
  {
   "cell_type": "code",
   "execution_count": 8,
   "metadata": {
    "execution": {
     "iopub.execute_input": "2020-08-21T08:00:55.529353Z",
     "iopub.status.busy": "2020-08-21T08:00:55.528354Z",
     "iopub.status.idle": "2020-08-21T08:00:55.534352Z",
     "shell.execute_reply": "2020-08-21T08:00:55.534352Z"
    },
    "papermill": {
     "duration": 0.027983,
     "end_time": "2020-08-21T08:00:55.535350",
     "exception": false,
     "start_time": "2020-08-21T08:00:55.507367",
     "status": "completed"
    },
    "slideshow": {
     "slide_type": "skip"
    },
    "tags": [
     "remove_cell"
    ]
   },
   "outputs": [],
   "source": [
    "# Set up Google Sheet API\n",
    "scope = [\"https://spreadsheets.google.com/feeds\",'https://www.googleapis.com/auth/spreadsheets',\"https://www.googleapis.com/auth/drive.file\",\"https://www.googleapis.com/auth/drive\"]\n",
    "creds = ServiceAccountCredentials.from_json_keyfile_name(\"credentials.json\", scope)\n",
    "client = gspread.authorize(creds)"
   ]
  },
  {
   "cell_type": "code",
   "execution_count": 9,
   "metadata": {
    "execution": {
     "iopub.execute_input": "2020-08-21T08:00:55.574326Z",
     "iopub.status.busy": "2020-08-21T08:00:55.573327Z",
     "iopub.status.idle": "2020-08-21T08:00:56.986641Z",
     "shell.execute_reply": "2020-08-21T08:00:56.986641Z"
    },
    "papermill": {
     "duration": 1.4353,
     "end_time": "2020-08-21T08:00:56.986641",
     "exception": false,
     "start_time": "2020-08-21T08:00:55.551341",
     "status": "completed"
    },
    "slideshow": {
     "slide_type": "skip"
    },
    "tags": [
     "remove_cell"
    ]
   },
   "outputs": [
    {
     "data": {
      "text/plain": [
       "{'spreadsheetId': '13GG0FPUFg_5xCouN0ZF3woaPXwjuxL2Dw3uYIfwUW-Q',\n",
       " 'updatedRange': 'Sheet1!A2:G2',\n",
       " 'updatedRows': 1,\n",
       " 'updatedColumns': 7,\n",
       " 'updatedCells': 7}"
      ]
     },
     "execution_count": 9,
     "metadata": {},
     "output_type": "execute_result"
    }
   ],
   "source": [
    "# Append daily data as a new row in Google Sheet\n",
    "sheet = client.open(\"COVID Daily Metrics\").sheet1\n",
    "insertRow = [datetime.date.today().strftime(\"%y/%m/%d\"),\n",
    "             daily_tests,\n",
    "             case_rate,\n",
    "             test_positivity,\n",
    "             change_hospit,\n",
    "             ICU_beds,\n",
    "             ventilators]\n",
    "sheet.insert_row(insertRow, 2)"
   ]
  },
  {
   "cell_type": "code",
   "execution_count": 10,
   "metadata": {
    "execution": {
     "iopub.execute_input": "2020-08-21T08:00:57.045608Z",
     "iopub.status.busy": "2020-08-21T08:00:57.041609Z",
     "iopub.status.idle": "2020-08-21T08:00:57.796621Z",
     "shell.execute_reply": "2020-08-21T08:00:57.797619Z"
    },
    "papermill": {
     "duration": 0.780995,
     "end_time": "2020-08-21T08:00:57.797619",
     "exception": false,
     "start_time": "2020-08-21T08:00:57.016624",
     "status": "completed"
    },
    "scrolled": true,
    "slideshow": {
     "slide_type": "slide"
    },
    "tags": [
     "remove_cell"
    ]
   },
   "outputs": [],
   "source": [
    "# Extract data from Google Sheet as pandas dataframe\n",
    "sheet = client.open(\"COVID Daily Metrics\").sheet1\n",
    "data = sheet.get_all_records()\n",
    "result = pd.DataFrame(data).set_index(\"Date\")"
   ]
  },
  {
   "cell_type": "code",
   "execution_count": 11,
   "metadata": {
    "execution": {
     "iopub.execute_input": "2020-08-21T08:00:57.855594Z",
     "iopub.status.busy": "2020-08-21T08:00:57.854595Z",
     "iopub.status.idle": "2020-08-21T08:00:57.870588Z",
     "shell.execute_reply": "2020-08-21T08:00:57.871585Z"
    },
    "papermill": {
     "duration": 0.050974,
     "end_time": "2020-08-21T08:00:57.872587",
     "exception": false,
     "start_time": "2020-08-21T08:00:57.821613",
     "status": "completed"
    },
    "scrolled": true,
    "tags": [
     "remove_input"
    ]
   },
   "outputs": [
    {
     "data": {
      "text/html": [
       "<div>\n",
       "<style scoped>\n",
       "    .dataframe tbody tr th:only-of-type {\n",
       "        vertical-align: middle;\n",
       "    }\n",
       "\n",
       "    .dataframe tbody tr th {\n",
       "        vertical-align: top;\n",
       "    }\n",
       "\n",
       "    .dataframe thead th {\n",
       "        text-align: right;\n",
       "    }\n",
       "</style>\n",
       "<table border=\"1\" class=\"dataframe\">\n",
       "  <thead>\n",
       "    <tr style=\"text-align: right;\">\n",
       "      <th></th>\n",
       "      <th>Daily tests (per 100,000)¹</th>\n",
       "      <th>Case rate (per 100,000)²</th>\n",
       "      <th>Testing positivity (%)³</th>\n",
       "      <th>Change in hospitalizations (%)⁴</th>\n",
       "      <th>ICU beds available (%)</th>\n",
       "      <th>Ventilators (available (%)</th>\n",
       "    </tr>\n",
       "    <tr>\n",
       "      <th>Date</th>\n",
       "      <th></th>\n",
       "      <th></th>\n",
       "      <th></th>\n",
       "      <th></th>\n",
       "      <th></th>\n",
       "      <th></th>\n",
       "    </tr>\n",
       "  </thead>\n",
       "  <tbody>\n",
       "    <tr>\n",
       "      <th>20/08/21</th>\n",
       "      <td>214.5</td>\n",
       "      <td>148.8</td>\n",
       "      <td>✔</td>\n",
       "      <td>✔</td>\n",
       "      <td>✔</td>\n",
       "      <td>✔</td>\n",
       "    </tr>\n",
       "    <tr>\n",
       "      <th>20/08/21</th>\n",
       "      <td>214.5</td>\n",
       "      <td>148.8</td>\n",
       "      <td>✔</td>\n",
       "      <td>✔</td>\n",
       "      <td>✔</td>\n",
       "      <td>✔</td>\n",
       "    </tr>\n",
       "    <tr>\n",
       "      <th>20/08/20</th>\n",
       "      <td>214.5</td>\n",
       "      <td>148.8</td>\n",
       "      <td>✔</td>\n",
       "      <td>✔</td>\n",
       "      <td>✔</td>\n",
       "      <td>✔</td>\n",
       "    </tr>\n",
       "  </tbody>\n",
       "</table>\n",
       "</div>"
      ],
      "text/plain": [
       "          Daily tests (per 100,000)¹  Case rate (per 100,000)²  \\\n",
       "Date                                                             \n",
       "20/08/21                       214.5                     148.8   \n",
       "20/08/21                       214.5                     148.8   \n",
       "20/08/20                       214.5                     148.8   \n",
       "\n",
       "         Testing positivity (%)³ Change in hospitalizations (%)⁴  \\\n",
       "Date                                                               \n",
       "20/08/21                       ✔                               ✔   \n",
       "20/08/21                       ✔                               ✔   \n",
       "20/08/20                       ✔                               ✔   \n",
       "\n",
       "         ICU beds available (%) Ventilators (available (%)  \n",
       "Date                                                        \n",
       "20/08/21                      ✔                          ✔  \n",
       "20/08/21                      ✔                          ✔  \n",
       "20/08/20                      ✔                          ✔  "
      ]
     },
     "execution_count": 11,
     "metadata": {},
     "output_type": "execute_result"
    }
   ],
   "source": [
    "result"
   ]
  },
  {
   "cell_type": "markdown",
   "metadata": {
    "papermill": {
     "duration": 0.035981,
     "end_time": "2020-08-21T08:00:57.953539",
     "exception": false,
     "start_time": "2020-08-21T08:00:57.917558",
     "status": "completed"
    },
    "tags": []
   },
   "source": [
    "Notes:\n",
    "1. 7 day average with a 7-day lag.\n",
    "2. 14 day average.\n",
    "3. 7 day average with a 7-day lag.\n",
    "4. Change in 3 day average."
   ]
  },
  {
   "cell_type": "markdown",
   "metadata": {
    "papermill": {
     "duration": 0.024986,
     "end_time": "2020-08-21T08:00:57.999514",
     "exception": false,
     "start_time": "2020-08-21T08:00:57.974528",
     "status": "completed"
    },
    "tags": []
   },
   "source": [
    "Source: https://www.cdph.ca.gov/Programs/CID/DCDC/Pages/COVID-19/COVID19CountyDataTable.aspx."
   ]
  },
  {
   "cell_type": "markdown",
   "metadata": {
    "papermill": {
     "duration": 0.038976,
     "end_time": "2020-08-21T08:00:58.109449",
     "exception": false,
     "start_time": "2020-08-21T08:00:58.070473",
     "status": "completed"
    },
    "tags": []
   },
   "source": [
    "See the code to scrape the data: https://github.com/walice/COVID-SB/."
   ]
  },
  {
   "cell_type": "code",
   "execution_count": 12,
   "metadata": {
    "execution": {
     "iopub.execute_input": "2020-08-21T08:00:58.159420Z",
     "iopub.status.busy": "2020-08-21T08:00:58.158421Z",
     "iopub.status.idle": "2020-08-21T08:00:58.162419Z",
     "shell.execute_reply": "2020-08-21T08:00:58.164417Z"
    },
    "papermill": {
     "duration": 0.029983,
     "end_time": "2020-08-21T08:00:58.164417",
     "exception": false,
     "start_time": "2020-08-21T08:00:58.134434",
     "status": "completed"
    },
    "tags": [
     "remove_cell"
    ]
   },
   "outputs": [
    {
     "data": {
      "application/javascript": [
       "IPython.notebook.save_notebook()\n"
      ],
      "text/plain": [
       "<IPython.core.display.Javascript object>"
      ]
     },
     "metadata": {},
     "output_type": "display_data"
    }
   ],
   "source": [
    "%%javascript\n",
    "IPython.notebook.save_notebook()"
   ]
  },
  {
   "cell_type": "code",
   "execution_count": 13,
   "metadata": {
    "execution": {
     "iopub.execute_input": "2020-08-21T08:00:58.206396Z",
     "iopub.status.busy": "2020-08-21T08:00:58.205396Z",
     "iopub.status.idle": "2020-08-21T08:01:01.027063Z",
     "shell.execute_reply": "2020-08-21T08:01:01.028061Z"
    },
    "papermill": {
     "duration": 2.845654,
     "end_time": "2020-08-21T08:01:01.028061",
     "exception": false,
     "start_time": "2020-08-21T08:00:58.182407",
     "status": "completed"
    },
    "slideshow": {
     "slide_type": "skip"
    },
    "tags": [
     "remove_cell"
    ]
   },
   "outputs": [
    {
     "name": "stderr",
     "output_type": "stream",
     "text": [
      "[NbConvertApp] Converting notebook index.ipynb to html\n",
      "[NbConvertApp] Writing 274324 bytes to index.html\n"
     ]
    }
   ],
   "source": [
    "# Convert Jupyter Notebook to HTML\n",
    "! jupyter nbconvert \"index.ipynb\" --to html --TagRemovePreprocessor.enabled=True --TagRemovePreprocessor.remove_cell_tags=\"['remove_cell']\" --TagRemovePreprocessor.remove_input_tags=\"['remove_input']\" --no-prompt"
   ]
  },
  {
   "cell_type": "code",
   "execution_count": 14,
   "metadata": {
    "execution": {
     "iopub.execute_input": "2020-08-21T08:01:01.097069Z",
     "iopub.status.busy": "2020-08-21T08:01:01.097069Z",
     "iopub.status.idle": "2020-08-21T08:01:01.100070Z",
     "shell.execute_reply": "2020-08-21T08:01:01.101069Z"
    },
    "papermill": {
     "duration": 0.048021,
     "end_time": "2020-08-21T08:01:01.101069",
     "exception": false,
     "start_time": "2020-08-21T08:01:01.053048",
     "status": "completed"
    },
    "tags": [
     "remove_cell"
    ]
   },
   "outputs": [],
   "source": [
    "# Create daily commit message\n",
    "now = datetime.datetime.now()\n",
    "commit_message = \"Last scraped on \" + str(now)"
   ]
  },
  {
   "cell_type": "code",
   "execution_count": null,
   "metadata": {
    "execution": {
     "iopub.execute_input": "2020-08-21T07:59:13.490341Z",
     "iopub.status.busy": "2020-08-21T07:59:13.489342Z",
     "iopub.status.idle": "2020-08-21T07:59:18.936312Z",
     "shell.execute_reply": "2020-08-21T07:59:18.936312Z"
    },
    "papermill": {
     "duration": null,
     "end_time": null,
     "exception": false,
     "start_time": "2020-08-21T08:01:01.124055",
     "status": "running"
    },
    "tags": [
     "remove_cell"
    ]
   },
   "outputs": [],
   "source": [
    "# Deploy to GitHub\n",
    "! git add .\n",
    "! echo $commit_message > commit_message.txt\n",
    "! git commit -F commit_message.txt\n",
    "! git push"
   ]
  }
 ],
 "metadata": {
  "celltoolbar": "Tags",
  "kernelspec": {
   "display_name": "Python 3",
   "language": "python",
   "name": "python3"
  },
  "language_info": {
   "codemirror_mode": {
    "name": "ipython",
    "version": 3
   },
   "file_extension": ".py",
   "mimetype": "text/x-python",
   "name": "python",
   "nbconvert_exporter": "python",
   "pygments_lexer": "ipython3",
   "version": "3.7.6"
  },
  "papermill": {
   "duration": null,
   "end_time": null,
   "environment_variables": {},
   "exception": null,
   "input_path": "C:/Users/Alice/Box Sync/PhD/Software/Python/COVID/COVID-SB/index.ipynb",
   "output_path": "C:/Users/Alice/Box Sync/PhD/Software/Python/COVID/COVID-SB/index.ipynb",
   "parameters": {},
   "start_time": "2020-08-21T08:00:49.908876",
   "version": "2.1.3"
  }
 },
 "nbformat": 4,
 "nbformat_minor": 4
}