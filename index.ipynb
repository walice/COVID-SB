{
 "cells": [
  {
   "cell_type": "markdown",
   "metadata": {
    "papermill": {
     "duration": 0.677289,
     "end_time": "2020-08-22T19:42:45.839503",
     "exception": false,
     "start_time": "2020-08-22T19:42:45.162214",
     "status": "completed"
    },
    "tags": []
   },
   "source": [
    "# Daily COVID monitoring data for Santa Barbara county"
   ]
  },
  {
   "cell_type": "code",
   "execution_count": 1,
   "metadata": {
    "execution": {
     "iopub.execute_input": "2020-08-22T19:42:47.296047Z",
     "iopub.status.busy": "2020-08-22T19:42:47.266066Z",
     "iopub.status.idle": "2020-08-22T19:43:44.157553Z",
     "shell.execute_reply": "2020-08-22T19:43:44.158551Z"
    },
    "papermill": {
     "duration": 58.199999,
     "end_time": "2020-08-22T19:43:44.158551",
     "exception": false,
     "start_time": "2020-08-22T19:42:45.958552",
     "status": "completed"
    },
    "tags": [
     "remove_cell"
    ]
   },
   "outputs": [],
   "source": [
    "! jt -t grade3 -tf robotosans -cellw 1100"
   ]
  },
  {
   "cell_type": "markdown",
   "metadata": {
    "papermill": {
     "duration": 14.312496,
     "end_time": "2020-08-22T19:43:58.553001",
     "exception": false,
     "start_time": "2020-08-22T19:43:44.240505",
     "status": "completed"
    },
    "tags": []
   },
   "source": [
    "This table is automatically updated with new daily COVID data for the county of Santa Barbara, CA. Every day, the California Department of Public Health publishes COVID tracking metrics for each county, but does not save the previous day's data. This tool keeps track of the daily metrics that are used to monitor progress towards safe reopening in California."
   ]
  },
  {
   "cell_type": "code",
   "execution_count": 2,
   "metadata": {
    "execution": {
     "iopub.execute_input": "2020-08-22T19:44:08.950617Z",
     "iopub.status.busy": "2020-08-22T19:44:08.948619Z",
     "iopub.status.idle": "2020-08-22T19:44:30.621611Z",
     "shell.execute_reply": "2020-08-22T19:44:30.623610Z"
    },
    "papermill": {
     "duration": 22.569143,
     "end_time": "2020-08-22T19:44:30.623610",
     "exception": false,
     "start_time": "2020-08-22T19:44:08.054467",
     "status": "completed"
    },
    "slideshow": {
     "slide_type": "skip"
    },
    "tags": [
     "remove_cell"
    ]
   },
   "outputs": [],
   "source": [
    "# Preamble\n",
    "import os\n",
    "from IPython.display import Markdown as md\n",
    "import IPython\n",
    "import requests\n",
    "from bs4 import BeautifulSoup\n",
    "import re\n",
    "import pandas as pd\n",
    "import datetime\n",
    "import gspread\n",
    "from oauth2client.service_account import ServiceAccountCredentials"
   ]
  },
  {
   "cell_type": "code",
   "execution_count": 3,
   "metadata": {
    "execution": {
     "iopub.execute_input": "2020-08-22T19:44:30.728549Z",
     "iopub.status.busy": "2020-08-22T19:44:30.726550Z",
     "iopub.status.idle": "2020-08-22T19:44:30.733546Z",
     "shell.execute_reply": "2020-08-22T19:44:30.734546Z"
    },
    "papermill": {
     "duration": 0.066962,
     "end_time": "2020-08-22T19:44:30.735545",
     "exception": false,
     "start_time": "2020-08-22T19:44:30.668583",
     "status": "completed"
    },
    "tags": [
     "remove_cell"
    ]
   },
   "outputs": [],
   "source": [
    "# Change working directory (so that Windows task scheduler does not complain)\n",
    "os.chdir(\"C:/Users/Alice/Box Sync/PhD/Software/Python/COVID/COVID-SB\")"
   ]
  },
  {
   "cell_type": "code",
   "execution_count": 4,
   "metadata": {
    "execution": {
     "iopub.execute_input": "2020-08-22T19:44:30.849481Z",
     "iopub.status.busy": "2020-08-22T19:44:30.848482Z",
     "iopub.status.idle": "2020-08-22T19:44:32.305159Z",
     "shell.execute_reply": "2020-08-22T19:44:32.307156Z"
    },
    "papermill": {
     "duration": 1.521639,
     "end_time": "2020-08-22T19:44:32.307156",
     "exception": false,
     "start_time": "2020-08-22T19:44:30.785517",
     "status": "completed"
    },
    "slideshow": {
     "slide_type": "skip"
    },
    "tags": [
     "remove_cell"
    ]
   },
   "outputs": [],
   "source": [
    "# Request content from URL\n",
    "html_string = requests.get('https://www.cdph.ca.gov/Programs/CID/DCDC/Pages/COVID-19/COVID19CountyDataTable.aspx').content"
   ]
  },
  {
   "cell_type": "code",
   "execution_count": 5,
   "metadata": {
    "execution": {
     "iopub.execute_input": "2020-08-22T19:44:32.882825Z",
     "iopub.status.busy": "2020-08-22T19:44:32.863839Z",
     "iopub.status.idle": "2020-08-22T19:44:33.436509Z",
     "shell.execute_reply": "2020-08-22T19:44:33.435510Z"
    },
    "papermill": {
     "duration": 0.722587,
     "end_time": "2020-08-22T19:44:33.436509",
     "exception": false,
     "start_time": "2020-08-22T19:44:32.713922",
     "status": "completed"
    },
    "slideshow": {
     "slide_type": "skip"
    },
    "tags": [
     "remove_cell"
    ]
   },
   "outputs": [],
   "source": [
    "# Parse HTML\n",
    "soup = BeautifulSoup(html_string, 'html.parser')"
   ]
  },
  {
   "cell_type": "code",
   "execution_count": 6,
   "metadata": {
    "execution": {
     "iopub.execute_input": "2020-08-22T19:44:33.602414Z",
     "iopub.status.busy": "2020-08-22T19:44:33.601416Z",
     "iopub.status.idle": "2020-08-22T19:44:33.617406Z",
     "shell.execute_reply": "2020-08-22T19:44:33.620405Z"
    },
    "papermill": {
     "duration": 0.133925,
     "end_time": "2020-08-22T19:44:33.620405",
     "exception": false,
     "start_time": "2020-08-22T19:44:33.486480",
     "status": "completed"
    },
    "slideshow": {
     "slide_type": "skip"
    },
    "tags": [
     "remove_cell"
    ]
   },
   "outputs": [],
   "source": [
    "# Extract data for Santa Barbara\n",
    "table = soup.find_all(\"tr\", class_=\"ms-rteTableEvenRow-3\")\n",
    "SB = table[21]"
   ]
  },
  {
   "cell_type": "code",
   "execution_count": 7,
   "metadata": {
    "execution": {
     "iopub.execute_input": "2020-08-22T19:44:33.941219Z",
     "iopub.status.busy": "2020-08-22T19:44:33.912236Z",
     "iopub.status.idle": "2020-08-22T19:44:33.948216Z",
     "shell.execute_reply": "2020-08-22T19:44:33.949215Z"
    },
    "papermill": {
     "duration": 0.149914,
     "end_time": "2020-08-22T19:44:33.949215",
     "exception": false,
     "start_time": "2020-08-22T19:44:33.799301",
     "status": "completed"
    },
    "slideshow": {
     "slide_type": "skip"
    },
    "tags": [
     "remove_cell"
    ]
   },
   "outputs": [],
   "source": [
    "# Avg # tests per day (per 100,000 population)\n",
    "daily_tests = SB.find_all(\"td\", class_=\"ms-rteTableOddCol-3\")[0].text\n",
    "\n",
    "# Case rate per 100,000\n",
    "case_rate = SB.find_all(\"td\", class_=\"ms-rteTableEvenCol-3\")[1].text\n",
    "\n",
    "# Testing positivity (%)\n",
    "test_positivity = SB.find_all(\"td\", class_=\"ms-rteTableOddCol-3\")[1].text\n",
    "\n",
    "# % Change in 3-day avg COVID+ hospitalized patients\n",
    "change_hospit = SB.find_all(\"td\", class_=\"ms-rteTableEvenCol-3\")[2].text\n",
    "\n",
    "# % ICU beds currently available\n",
    "ICU_beds = SB.find_all(\"td\", class_=\"ms-rteTableOddCol-3\")[2].text\n",
    "\n",
    "# % Ventilators currently available\n",
    "ventilators = SB.find_all(\"td\", class_=\"ms-rteTableEvenCol-3\")[3].text\n",
    "\n",
    "# Extract date of last update\n",
    "update_date = soup.find_all(\"span\", class_=\"ms-rteStyle-Accent1\")[1]\\\n",
    "    .find(\"em\").text"
   ]
  },
  {
   "cell_type": "code",
   "execution_count": 8,
   "metadata": {
    "execution": {
     "iopub.execute_input": "2020-08-22T19:44:34.187078Z",
     "iopub.status.busy": "2020-08-22T19:44:34.184080Z",
     "iopub.status.idle": "2020-08-22T19:44:34.192076Z",
     "shell.execute_reply": "2020-08-22T19:44:34.190080Z"
    },
    "papermill": {
     "duration": 0.15691,
     "end_time": "2020-08-22T19:44:34.192076",
     "exception": false,
     "start_time": "2020-08-22T19:44:34.035166",
     "status": "completed"
    },
    "tags": [
     "remove_cell"
    ]
   },
   "outputs": [],
   "source": [
    "# Create updated date string\n",
    "update_tag = \"Table last updated by CDPH on \" + update_date.split(\" on \", 1)[1] + \".\""
   ]
  },
  {
   "cell_type": "code",
   "execution_count": 9,
   "metadata": {
    "execution": {
     "iopub.execute_input": "2020-08-22T19:44:34.325000Z",
     "iopub.status.busy": "2020-08-22T19:44:34.323001Z",
     "iopub.status.idle": "2020-08-22T19:44:34.335993Z",
     "shell.execute_reply": "2020-08-22T19:44:34.336993Z"
    },
    "papermill": {
     "duration": 0.081954,
     "end_time": "2020-08-22T19:44:34.337992",
     "exception": false,
     "start_time": "2020-08-22T19:44:34.256038",
     "status": "completed"
    },
    "slideshow": {
     "slide_type": "skip"
    },
    "tags": [
     "remove_cell"
    ]
   },
   "outputs": [],
   "source": [
    "# Set up Google Sheet API\n",
    "scope = [\"https://spreadsheets.google.com/feeds\",'https://www.googleapis.com/auth/spreadsheets',\"https://www.googleapis.com/auth/drive.file\",\"https://www.googleapis.com/auth/drive\"]\n",
    "creds = ServiceAccountCredentials.from_json_keyfile_name(\"credentials.json\", scope)\n",
    "client = gspread.authorize(creds)"
   ]
  },
  {
   "cell_type": "code",
   "execution_count": 10,
   "metadata": {
    "execution": {
     "iopub.execute_input": "2020-08-22T19:44:34.456923Z",
     "iopub.status.busy": "2020-08-22T19:44:34.455924Z",
     "iopub.status.idle": "2020-08-22T19:44:35.828372Z",
     "shell.execute_reply": "2020-08-22T19:44:35.829898Z"
    },
    "papermill": {
     "duration": 1.442441,
     "end_time": "2020-08-22T19:44:35.830405",
     "exception": false,
     "start_time": "2020-08-22T19:44:34.387964",
     "status": "completed"
    },
    "slideshow": {
     "slide_type": "skip"
    },
    "tags": [
     "remove_cell"
    ]
   },
   "outputs": [
    {
     "data": {
      "text/plain": [
       "{'spreadsheetId': '13GG0FPUFg_5xCouN0ZF3woaPXwjuxL2Dw3uYIfwUW-Q',\n",
       " 'updatedRange': 'Sheet1!A2:G2',\n",
       " 'updatedRows': 1,\n",
       " 'updatedColumns': 7,\n",
       " 'updatedCells': 7}"
      ]
     },
     "execution_count": 10,
     "metadata": {},
     "output_type": "execute_result"
    }
   ],
   "source": [
    "# Append daily data as a new row in Google Sheet\n",
    "sheet = client.open(\"COVID Daily Metrics\").sheet1\n",
    "insertRow = [datetime.date.today().strftime(\"%Y-%m-%d\"),\n",
    "             daily_tests,\n",
    "             case_rate,\n",
    "             test_positivity,\n",
    "             change_hospit,\n",
    "             ICU_beds,\n",
    "             ventilators]\n",
    "sheet.insert_row(insertRow, 2)"
   ]
  },
  {
   "cell_type": "code",
   "execution_count": 11,
   "metadata": {
    "execution": {
     "iopub.execute_input": "2020-08-22T19:44:35.938375Z",
     "iopub.status.busy": "2020-08-22T19:44:35.936377Z",
     "iopub.status.idle": "2020-08-22T19:44:36.647095Z",
     "shell.execute_reply": "2020-08-22T19:44:36.646094Z"
    },
    "papermill": {
     "duration": 0.764715,
     "end_time": "2020-08-22T19:44:36.647095",
     "exception": false,
     "start_time": "2020-08-22T19:44:35.882380",
     "status": "completed"
    },
    "scrolled": true,
    "slideshow": {
     "slide_type": "slide"
    },
    "tags": [
     "remove_cell"
    ]
   },
   "outputs": [],
   "source": [
    "# Extract data from Google Sheet as pandas dataframe\n",
    "sheet = client.open(\"COVID Daily Metrics\").sheet1\n",
    "data = sheet.get_all_records()\n",
    "result = pd.DataFrame(data).set_index(\"Date\")"
   ]
  },
  {
   "cell_type": "code",
   "execution_count": 12,
   "metadata": {
    "execution": {
     "iopub.execute_input": "2020-08-22T19:44:36.911941Z",
     "iopub.status.busy": "2020-08-22T19:44:36.909944Z",
     "iopub.status.idle": "2020-08-22T19:44:46.725735Z",
     "shell.execute_reply": "2020-08-22T19:44:46.732730Z"
    },
    "papermill": {
     "duration": 9.99269,
     "end_time": "2020-08-22T19:44:46.732730",
     "exception": false,
     "start_time": "2020-08-22T19:44:36.740040",
     "status": "completed"
    },
    "scrolled": true,
    "tags": [
     "remove_input"
    ]
   },
   "outputs": [
    {
     "data": {
      "text/html": [
       "<style  type=\"text/css\" >\n",
       "    #T_eee8d570_e4af_11ea_8daf_2c16dba0ec93 th {\n",
       "          text-align: center;\n",
       "    }    #T_eee8d570_e4af_11ea_8daf_2c16dba0ec93row0_col0 {\n",
       "            width:  20em;\n",
       "            text-align:  center;\n",
       "            font-weight:  bold;\n",
       "        }    #T_eee8d570_e4af_11ea_8daf_2c16dba0ec93row0_col1 {\n",
       "            width:  20em;\n",
       "            text-align:  center;\n",
       "        }    #T_eee8d570_e4af_11ea_8daf_2c16dba0ec93row0_col2 {\n",
       "            width:  20em;\n",
       "            text-align:  center;\n",
       "        }    #T_eee8d570_e4af_11ea_8daf_2c16dba0ec93row0_col3 {\n",
       "            width:  20em;\n",
       "            text-align:  center;\n",
       "        }    #T_eee8d570_e4af_11ea_8daf_2c16dba0ec93row0_col4 {\n",
       "            width:  20em;\n",
       "            text-align:  center;\n",
       "        }    #T_eee8d570_e4af_11ea_8daf_2c16dba0ec93row0_col5 {\n",
       "            width:  20em;\n",
       "            text-align:  center;\n",
       "        }    #T_eee8d570_e4af_11ea_8daf_2c16dba0ec93row0_col6 {\n",
       "            width:  20em;\n",
       "            text-align:  center;\n",
       "        }    #T_eee8d570_e4af_11ea_8daf_2c16dba0ec93row1_col0 {\n",
       "            width:  20em;\n",
       "            text-align:  center;\n",
       "            font-weight:  bold;\n",
       "        }    #T_eee8d570_e4af_11ea_8daf_2c16dba0ec93row1_col1 {\n",
       "            width:  20em;\n",
       "            text-align:  center;\n",
       "        }    #T_eee8d570_e4af_11ea_8daf_2c16dba0ec93row1_col2 {\n",
       "            width:  20em;\n",
       "            text-align:  center;\n",
       "        }    #T_eee8d570_e4af_11ea_8daf_2c16dba0ec93row1_col3 {\n",
       "            width:  20em;\n",
       "            text-align:  center;\n",
       "        }    #T_eee8d570_e4af_11ea_8daf_2c16dba0ec93row1_col4 {\n",
       "            width:  20em;\n",
       "            text-align:  center;\n",
       "        }    #T_eee8d570_e4af_11ea_8daf_2c16dba0ec93row1_col5 {\n",
       "            width:  20em;\n",
       "            text-align:  center;\n",
       "        }    #T_eee8d570_e4af_11ea_8daf_2c16dba0ec93row1_col6 {\n",
       "            width:  20em;\n",
       "            text-align:  center;\n",
       "        }    #T_eee8d570_e4af_11ea_8daf_2c16dba0ec93row2_col0 {\n",
       "            width:  20em;\n",
       "            text-align:  center;\n",
       "            font-weight:  bold;\n",
       "        }    #T_eee8d570_e4af_11ea_8daf_2c16dba0ec93row2_col1 {\n",
       "            width:  20em;\n",
       "            text-align:  center;\n",
       "        }    #T_eee8d570_e4af_11ea_8daf_2c16dba0ec93row2_col2 {\n",
       "            width:  20em;\n",
       "            text-align:  center;\n",
       "        }    #T_eee8d570_e4af_11ea_8daf_2c16dba0ec93row2_col3 {\n",
       "            width:  20em;\n",
       "            text-align:  center;\n",
       "        }    #T_eee8d570_e4af_11ea_8daf_2c16dba0ec93row2_col4 {\n",
       "            width:  20em;\n",
       "            text-align:  center;\n",
       "        }    #T_eee8d570_e4af_11ea_8daf_2c16dba0ec93row2_col5 {\n",
       "            width:  20em;\n",
       "            text-align:  center;\n",
       "        }    #T_eee8d570_e4af_11ea_8daf_2c16dba0ec93row2_col6 {\n",
       "            width:  20em;\n",
       "            text-align:  center;\n",
       "        }</style><table id=\"T_eee8d570_e4af_11ea_8daf_2c16dba0ec93\" ><thead>    <tr>        <th class=\"col_heading level0 col0\" >Date</th>        <th class=\"col_heading level0 col1\" >Daily tests (per 100,000)¹</th>        <th class=\"col_heading level0 col2\" >Case rate (per 100,000)²</th>        <th class=\"col_heading level0 col3\" >Testing positivity (%)³</th>        <th class=\"col_heading level0 col4\" >Change in hospitalizations (%)⁴</th>        <th class=\"col_heading level0 col5\" >ICU beds available (%)</th>        <th class=\"col_heading level0 col6\" >Ventilators (available (%)</th>    </tr></thead><tbody>\n",
       "                <tr>\n",
       "                                <td id=\"T_eee8d570_e4af_11ea_8daf_2c16dba0ec93row0_col0\" class=\"data row0 col0\" >2020-08-22</td>\n",
       "                        <td id=\"T_eee8d570_e4af_11ea_8daf_2c16dba0ec93row0_col1\" class=\"data row0 col1\" >210.4</td>\n",
       "                        <td id=\"T_eee8d570_e4af_11ea_8daf_2c16dba0ec93row0_col2\" class=\"data row0 col2\" >138.7</td>\n",
       "                        <td id=\"T_eee8d570_e4af_11ea_8daf_2c16dba0ec93row0_col3\" class=\"data row0 col3\" > ✔</td>\n",
       "                        <td id=\"T_eee8d570_e4af_11ea_8daf_2c16dba0ec93row0_col4\" class=\"data row0 col4\" > ✔</td>\n",
       "                        <td id=\"T_eee8d570_e4af_11ea_8daf_2c16dba0ec93row0_col5\" class=\"data row0 col5\" > ✔</td>\n",
       "                        <td id=\"T_eee8d570_e4af_11ea_8daf_2c16dba0ec93row0_col6\" class=\"data row0 col6\" > ✔</td>\n",
       "            </tr>\n",
       "            <tr>\n",
       "                                <td id=\"T_eee8d570_e4af_11ea_8daf_2c16dba0ec93row1_col0\" class=\"data row1 col0\" >2020-08-21</td>\n",
       "                        <td id=\"T_eee8d570_e4af_11ea_8daf_2c16dba0ec93row1_col1\" class=\"data row1 col1\" >208.7</td>\n",
       "                        <td id=\"T_eee8d570_e4af_11ea_8daf_2c16dba0ec93row1_col2\" class=\"data row1 col2\" >138.5</td>\n",
       "                        <td id=\"T_eee8d570_e4af_11ea_8daf_2c16dba0ec93row1_col3\" class=\"data row1 col3\" > ✔</td>\n",
       "                        <td id=\"T_eee8d570_e4af_11ea_8daf_2c16dba0ec93row1_col4\" class=\"data row1 col4\" > ✔</td>\n",
       "                        <td id=\"T_eee8d570_e4af_11ea_8daf_2c16dba0ec93row1_col5\" class=\"data row1 col5\" > ✔</td>\n",
       "                        <td id=\"T_eee8d570_e4af_11ea_8daf_2c16dba0ec93row1_col6\" class=\"data row1 col6\" > ✔</td>\n",
       "            </tr>\n",
       "            <tr>\n",
       "                                <td id=\"T_eee8d570_e4af_11ea_8daf_2c16dba0ec93row2_col0\" class=\"data row2 col0\" >2020-08-20</td>\n",
       "                        <td id=\"T_eee8d570_e4af_11ea_8daf_2c16dba0ec93row2_col1\" class=\"data row2 col1\" >214.5</td>\n",
       "                        <td id=\"T_eee8d570_e4af_11ea_8daf_2c16dba0ec93row2_col2\" class=\"data row2 col2\" >148.8</td>\n",
       "                        <td id=\"T_eee8d570_e4af_11ea_8daf_2c16dba0ec93row2_col3\" class=\"data row2 col3\" > ✔</td>\n",
       "                        <td id=\"T_eee8d570_e4af_11ea_8daf_2c16dba0ec93row2_col4\" class=\"data row2 col4\" > ✔</td>\n",
       "                        <td id=\"T_eee8d570_e4af_11ea_8daf_2c16dba0ec93row2_col5\" class=\"data row2 col5\" > ✔</td>\n",
       "                        <td id=\"T_eee8d570_e4af_11ea_8daf_2c16dba0ec93row2_col6\" class=\"data row2 col6\" > ✔</td>\n",
       "            </tr>\n",
       "    </tbody></table>"
      ],
      "text/plain": [
       "<pandas.io.formats.style.Styler at 0x1e65020d148>"
      ]
     },
     "execution_count": 12,
     "metadata": {},
     "output_type": "execute_result"
    }
   ],
   "source": [
    "# Style the pandas dataframe\n",
    "d = dict(selector=\"th\",\n",
    "         props=[('text-align', 'center')])\n",
    "\n",
    "result.reset_index().style\\\n",
    "    .set_properties(**{'width':'20em', 'text-align':'center'})\\\n",
    "    .set_properties(subset=['Date'], **{'font-weight': 'bold'})\\\n",
    "    .set_table_styles([d])\\\n",
    "    .set_precision(1)\\\n",
    "    .hide_index()"
   ]
  },
  {
   "cell_type": "markdown",
   "metadata": {
    "papermill": {
     "duration": 1.325241,
     "end_time": "2020-08-22T19:44:48.142922",
     "exception": false,
     "start_time": "2020-08-22T19:44:46.817681",
     "status": "completed"
    },
    "tags": []
   },
   "source": [
    "<sup>Notes: (1) 7 day average with a 7-day lag. (2) 14 day average. (3) 7 day average with a 7-day lag. (4) Change in 3 day average.</sup>"
   ]
  },
  {
   "cell_type": "code",
   "execution_count": 13,
   "metadata": {
    "execution": {
     "iopub.execute_input": "2020-08-22T19:44:48.528700Z",
     "iopub.status.busy": "2020-08-22T19:44:48.524704Z",
     "iopub.status.idle": "2020-08-22T19:44:48.542693Z",
     "shell.execute_reply": "2020-08-22T19:44:48.527711Z"
    },
    "papermill": {
     "duration": 0.181892,
     "end_time": "2020-08-22T19:44:48.544691",
     "exception": false,
     "start_time": "2020-08-22T19:44:48.362799",
     "status": "completed"
    },
    "tags": [
     "remove_input"
    ]
   },
   "outputs": [
    {
     "data": {
      "text/markdown": [
       "Table last updated by CDPH on August 22, 2020."
      ],
      "text/plain": [
       "<IPython.core.display.Markdown object>"
      ]
     },
     "execution_count": 13,
     "metadata": {},
     "output_type": "execute_result"
    }
   ],
   "source": [
    "md(update_tag)"
   ]
  },
  {
   "cell_type": "markdown",
   "metadata": {
    "papermill": {
     "duration": 0.250855,
     "end_time": "2020-08-22T19:44:51.522531",
     "exception": false,
     "start_time": "2020-08-22T19:44:51.271676",
     "status": "completed"
    },
    "tags": []
   },
   "source": [
    "## Tracking county closures in Santa Barbara"
   ]
  },
  {
   "cell_type": "markdown",
   "metadata": {
    "papermill": {
     "duration": 0.200885,
     "end_time": "2020-08-22T19:44:51.972272",
     "exception": false,
     "start_time": "2020-08-22T19:44:51.771387",
     "status": "completed"
    },
    "tags": []
   },
   "source": [
    "The state of California is using a data-driven approach informed by scientific evidence to tailor its response to COVID-19. Three dimensions of concern are monitored to assess whether a county should be placed on the County Monitoring List:\n",
    " 1. Elevated Disease Transmission\n",
    " 2. Increasing Hospitalization\n",
    " 3. Limited Hospital Capacity\n",
    "\n",
    "Once a county appears on the County Monitoring List for three consecutive days, indoor operations in the sectors listed in Section 3 of the [July 13th State Health Officer Order](https://www.cdph.ca.gov/Programs/CID/DCDC/CDPH%20Document%20Library/COVID-19/SHO%20Order%20Dimming%20Entire%20State%207-13-2020.pdf) must close.\n",
    "\n",
    "This table tracks where Santa Barbara stands in terms of the criteria for inclusion on the County Monitoring List. As of 20 August 2020, the criteria for inclusion on the monitoring list are:\n",
    "\n",
    "* Case rate >100 OR (Case rate >25 AND Positivity >8%)\n",
    "* \\>10% increase in hospitalizations\n",
    "* <20% ICU beds available OR <25% ventilators available\n",
    "\n",
    "If Santa Barbara meets the criteria for removal from the County Monitoring List for a certain metric, then a checkmark ✔ is displayed in the table.\n",
    "\n",
    "Read more at <https://covid19.ca.gov/roadmap-counties/>.\n",
    "\n",
    "Data source for county metrics: https://www.cdph.ca.gov/Programs/CID/DCDC/Pages/COVID-19/COVID19CountyDataTable.aspx."
   ]
  },
  {
   "cell_type": "markdown",
   "metadata": {
    "papermill": {
     "duration": 0.053968,
     "end_time": "2020-08-22T19:44:52.135179",
     "exception": false,
     "start_time": "2020-08-22T19:44:52.081211",
     "status": "completed"
    },
    "tags": []
   },
   "source": [
    "**See the code used to scrape the data: https://github.com/walice/COVID-SB/.**"
   ]
  },
  {
   "cell_type": "code",
   "execution_count": 14,
   "metadata": {
    "execution": {
     "iopub.execute_input": "2020-08-22T19:44:52.897742Z",
     "iopub.status.busy": "2020-08-22T19:44:52.890746Z",
     "iopub.status.idle": "2020-08-22T19:44:52.904737Z",
     "shell.execute_reply": "2020-08-22T19:44:52.892744Z"
    },
    "papermill": {
     "duration": 0.269846,
     "end_time": "2020-08-22T19:44:52.905738",
     "exception": false,
     "start_time": "2020-08-22T19:44:52.635892",
     "status": "completed"
    },
    "tags": [
     "remove_cell"
    ]
   },
   "outputs": [
    {
     "data": {
      "application/javascript": [
       "IPython.notebook.save_notebook()\n"
      ],
      "text/plain": [
       "<IPython.core.display.Javascript object>"
      ]
     },
     "metadata": {},
     "output_type": "display_data"
    }
   ],
   "source": [
    "%%javascript\n",
    "IPython.notebook.save_notebook()"
   ]
  },
  {
   "cell_type": "code",
   "execution_count": 15,
   "metadata": {
    "execution": {
     "iopub.execute_input": "2020-08-22T19:44:53.448426Z",
     "iopub.status.busy": "2020-08-22T19:44:53.446427Z",
     "iopub.status.idle": "2020-08-22T19:45:07.489522Z",
     "shell.execute_reply": "2020-08-22T19:45:07.491510Z"
    },
    "papermill": {
     "duration": 14.355904,
     "end_time": "2020-08-22T19:45:07.491510",
     "exception": false,
     "start_time": "2020-08-22T19:44:53.135606",
     "status": "completed"
    },
    "slideshow": {
     "slide_type": "skip"
    },
    "tags": [
     "remove_cell"
    ]
   },
   "outputs": [
    {
     "name": "stderr",
     "output_type": "stream",
     "text": [
      "[NbConvertApp] Converting notebook index.ipynb to html\n",
      "[NbConvertApp] Writing 354439 bytes to index.html\n"
     ]
    }
   ],
   "source": [
    "# Convert Jupyter Notebook to HTML\n",
    "! jupyter nbconvert \"index.ipynb\" --to html --TagRemovePreprocessor.enabled=True --TagRemovePreprocessor.remove_cell_tags=\"['remove_cell']\" --TagRemovePreprocessor.remove_input_tags=\"['remove_input']\" --no-prompt"
   ]
  },
  {
   "cell_type": "code",
   "execution_count": 16,
   "metadata": {
    "execution": {
     "iopub.execute_input": "2020-08-22T19:45:07.562468Z",
     "iopub.status.busy": "2020-08-22T19:45:07.561469Z",
     "iopub.status.idle": "2020-08-22T19:45:07.567464Z",
     "shell.execute_reply": "2020-08-22T19:45:07.568463Z"
    },
    "papermill": {
     "duration": 0.04997,
     "end_time": "2020-08-22T19:45:07.568463",
     "exception": false,
     "start_time": "2020-08-22T19:45:07.518493",
     "status": "completed"
    },
    "tags": [
     "remove_cell"
    ]
   },
   "outputs": [],
   "source": [
    "# Create daily commit message\n",
    "now = datetime.datetime.now()\n",
    "commit_message = \"Last scraped on \" + str(now)"
   ]
  },
  {
   "cell_type": "code",
   "execution_count": null,
   "metadata": {
    "execution": {
     "iopub.execute_input": "2020-08-21T08:02:25.587304Z",
     "iopub.status.busy": "2020-08-21T08:02:25.586302Z",
     "iopub.status.idle": "2020-08-21T08:02:31.900079Z",
     "shell.execute_reply": "2020-08-21T08:02:31.889084Z"
    },
    "papermill": {
     "duration": null,
     "end_time": null,
     "exception": false,
     "start_time": "2020-08-22T19:45:07.611440",
     "status": "running"
    },
    "tags": [
     "remove_cell"
    ]
   },
   "outputs": [],
   "source": [
    "# Deploy to GitHub\n",
    "! git add .\n",
    "! echo $commit_message > commit_message.txt\n",
    "! git commit -F commit_message.txt\n",
    "! git push"
   ]
  }
 ],
 "metadata": {
  "celltoolbar": "Tags",
  "kernelspec": {
   "display_name": "Python 3",
   "language": "python",
   "name": "python3"
  },
  "language_info": {
   "codemirror_mode": {
    "name": "ipython",
    "version": 3
   },
   "file_extension": ".py",
   "mimetype": "text/x-python",
   "name": "python",
   "nbconvert_exporter": "python",
   "pygments_lexer": "ipython3",
   "version": "3.7.6"
  },
  "papermill": {
   "duration": null,
   "end_time": null,
   "environment_variables": {},
   "exception": null,
   "input_path": "C:/Users/Alice/Box Sync/PhD/Software/Python/COVID/COVID-SB/index.ipynb",
   "output_path": "C:/Users/Alice/Box Sync/PhD/Software/Python/COVID/COVID-SB/index.ipynb",
   "parameters": {},
   "start_time": "2020-08-22T19:42:18.739867",
   "version": "2.1.3"
  }
 },
 "nbformat": 4,
 "nbformat_minor": 4
}