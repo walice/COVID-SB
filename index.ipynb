{
 "cells": [
  {
   "cell_type": "markdown",
   "metadata": {
    "papermill": {
     "duration": 0.019989,
     "end_time": "2020-08-21T09:09:13.330918",
     "exception": false,
     "start_time": "2020-08-21T09:09:13.310929",
     "status": "completed"
    },
    "tags": []
   },
   "source": [
    "# Daily COVID monitoring data for Santa Barbara county"
   ]
  },
  {
   "cell_type": "code",
   "execution_count": 1,
   "metadata": {
    "execution": {
     "iopub.execute_input": "2020-08-21T09:09:13.374895Z",
     "iopub.status.busy": "2020-08-21T09:09:13.373894Z",
     "iopub.status.idle": "2020-08-21T09:09:16.886428Z",
     "shell.execute_reply": "2020-08-21T09:09:16.887430Z"
    },
    "papermill": {
     "duration": 3.540522,
     "end_time": "2020-08-21T09:09:16.887430",
     "exception": false,
     "start_time": "2020-08-21T09:09:13.346908",
     "status": "completed"
    },
    "slideshow": {
     "slide_type": "skip"
    },
    "tags": [
     "remove_cell"
    ]
   },
   "outputs": [],
   "source": [
    "# Preamble\n",
    "import os\n",
    "import IPython\n",
    "import requests\n",
    "from bs4 import BeautifulSoup\n",
    "import pandas as pd\n",
    "import datetime\n",
    "import gspread\n",
    "from oauth2client.service_account import ServiceAccountCredentials"
   ]
  },
  {
   "cell_type": "code",
   "execution_count": 2,
   "metadata": {
    "execution": {
     "iopub.execute_input": "2020-08-21T09:09:16.961385Z",
     "iopub.status.busy": "2020-08-21T09:09:16.959388Z",
     "iopub.status.idle": "2020-08-21T09:09:16.966382Z",
     "shell.execute_reply": "2020-08-21T09:09:16.967382Z"
    },
    "papermill": {
     "duration": 0.046967,
     "end_time": "2020-08-21T09:09:16.968381",
     "exception": false,
     "start_time": "2020-08-21T09:09:16.921414",
     "status": "completed"
    },
    "tags": [
     "remove_cell"
    ]
   },
   "outputs": [],
   "source": [
    "# Change working directory (so that Windows task scheduler does not complain)\n",
    "os.chdir(\"C:/Users/Alice/Box Sync/PhD/Software/Python/COVID/COVID-SB\")"
   ]
  },
  {
   "cell_type": "code",
   "execution_count": 3,
   "metadata": {
    "execution": {
     "iopub.execute_input": "2020-08-21T09:09:17.047337Z",
     "iopub.status.busy": "2020-08-21T09:09:17.046337Z",
     "iopub.status.idle": "2020-08-21T09:09:18.758359Z",
     "shell.execute_reply": "2020-08-21T09:09:18.759361Z"
    },
    "papermill": {
     "duration": 1.761996,
     "end_time": "2020-08-21T09:09:18.759361",
     "exception": false,
     "start_time": "2020-08-21T09:09:16.997365",
     "status": "completed"
    },
    "slideshow": {
     "slide_type": "skip"
    },
    "tags": [
     "remove_cell"
    ]
   },
   "outputs": [],
   "source": [
    "# Request content from URL\n",
    "html_string = requests.get('https://www.cdph.ca.gov/Programs/CID/DCDC/Pages/COVID-19/COVID19CountyDataTable.aspx').content"
   ]
  },
  {
   "cell_type": "code",
   "execution_count": 4,
   "metadata": {
    "execution": {
     "iopub.execute_input": "2020-08-21T09:09:18.847307Z",
     "iopub.status.busy": "2020-08-21T09:09:18.810330Z",
     "iopub.status.idle": "2020-08-21T09:09:18.938257Z",
     "shell.execute_reply": "2020-08-21T09:09:18.938257Z"
    },
    "papermill": {
     "duration": 0.155912,
     "end_time": "2020-08-21T09:09:18.938257",
     "exception": false,
     "start_time": "2020-08-21T09:09:18.782345",
     "status": "completed"
    },
    "slideshow": {
     "slide_type": "skip"
    },
    "tags": [
     "remove_cell"
    ]
   },
   "outputs": [],
   "source": [
    "# Parse HTML\n",
    "soup = BeautifulSoup(html_string, 'html.parser')"
   ]
  },
  {
   "cell_type": "code",
   "execution_count": 5,
   "metadata": {
    "execution": {
     "iopub.execute_input": "2020-08-21T09:09:19.008217Z",
     "iopub.status.busy": "2020-08-21T09:09:19.007217Z",
     "iopub.status.idle": "2020-08-21T09:09:19.010215Z",
     "shell.execute_reply": "2020-08-21T09:09:19.010215Z"
    },
    "papermill": {
     "duration": 0.058967,
     "end_time": "2020-08-21T09:09:19.010215",
     "exception": false,
     "start_time": "2020-08-21T09:09:18.951248",
     "status": "completed"
    },
    "slideshow": {
     "slide_type": "skip"
    },
    "tags": [
     "remove_cell"
    ]
   },
   "outputs": [],
   "source": [
    "# Extract data for Santa Barbara\n",
    "table = soup.find_all(\"tr\", class_=\"ms-rteTableEvenRow-3\")\n",
    "SB = table[21]"
   ]
  },
  {
   "cell_type": "code",
   "execution_count": 6,
   "metadata": {
    "execution": {
     "iopub.execute_input": "2020-08-21T09:09:19.049193Z",
     "iopub.status.busy": "2020-08-21T09:09:19.048193Z",
     "iopub.status.idle": "2020-08-21T09:09:19.051191Z",
     "shell.execute_reply": "2020-08-21T09:09:19.052193Z"
    },
    "papermill": {
     "duration": 0.024987,
     "end_time": "2020-08-21T09:09:19.052193",
     "exception": false,
     "start_time": "2020-08-21T09:09:19.027206",
     "status": "completed"
    },
    "slideshow": {
     "slide_type": "skip"
    },
    "tags": [
     "remove_cell"
    ]
   },
   "outputs": [],
   "source": [
    "# Avg # tests per day (per 100,000 population)\n",
    "daily_tests = SB.find_all(\"td\", class_=\"ms-rteTableOddCol-3\")[0].text\n",
    "\n",
    "# Case rate per 100,000\n",
    "case_rate = SB.find_all(\"td\", class_=\"ms-rteTableEvenCol-3\")[1].text\n",
    "\n",
    "# Testing positivity (%)\n",
    "test_positivity = SB.find_all(\"td\", class_=\"ms-rteTableOddCol-3\")[1].text\n",
    "\n",
    "# % Change in 3-day avg COVID+ hospitalized patients\n",
    "change_hospit = SB.find_all(\"td\", class_=\"ms-rteTableEvenCol-3\")[2].text\n",
    "\n",
    "# % ICU beds currently available\n",
    "ICU_beds = SB.find_all(\"td\", class_=\"ms-rteTableOddCol-3\")[2].text\n",
    "\n",
    "# % Ventilators currently available\n",
    "ventilators = SB.find_all(\"td\", class_=\"ms-rteTableEvenCol-3\")[3].text"
   ]
  },
  {
   "cell_type": "code",
   "execution_count": 7,
   "metadata": {
    "execution": {
     "iopub.execute_input": "2020-08-21T09:09:19.087171Z",
     "iopub.status.busy": "2020-08-21T09:09:19.086174Z",
     "iopub.status.idle": "2020-08-21T09:09:19.098165Z",
     "shell.execute_reply": "2020-08-21T09:09:19.098165Z"
    },
    "papermill": {
     "duration": 0.027984,
     "end_time": "2020-08-21T09:09:19.098165",
     "exception": false,
     "start_time": "2020-08-21T09:09:19.070181",
     "status": "completed"
    },
    "slideshow": {
     "slide_type": "skip"
    },
    "tags": [
     "remove_cell"
    ]
   },
   "outputs": [],
   "source": [
    "# Set up Google Sheet API\n",
    "scope = [\"https://spreadsheets.google.com/feeds\",'https://www.googleapis.com/auth/spreadsheets',\"https://www.googleapis.com/auth/drive.file\",\"https://www.googleapis.com/auth/drive\"]\n",
    "creds = ServiceAccountCredentials.from_json_keyfile_name(\"credentials.json\", scope)\n",
    "client = gspread.authorize(creds)"
   ]
  },
  {
   "cell_type": "code",
   "execution_count": 9,
   "metadata": {
    "execution": {
     "iopub.execute_input": "2020-08-21T09:09:19.133146Z",
     "iopub.status.busy": "2020-08-21T09:09:19.132146Z",
     "iopub.status.idle": "2020-08-21T09:09:20.922684Z",
     "shell.execute_reply": "2020-08-21T09:09:20.923684Z"
    },
    "papermill": {
     "duration": 1.812526,
     "end_time": "2020-08-21T09:09:20.923684",
     "exception": false,
     "start_time": "2020-08-21T09:09:19.111158",
     "status": "completed"
    },
    "slideshow": {
     "slide_type": "skip"
    },
    "tags": [
     "remove_cell"
    ]
   },
   "outputs": [
    {
     "data": {
      "text/plain": [
       "{'spreadsheetId': '13GG0FPUFg_5xCouN0ZF3woaPXwjuxL2Dw3uYIfwUW-Q',\n",
       " 'updatedRange': 'Sheet1!A2:G2',\n",
       " 'updatedRows': 1,\n",
       " 'updatedColumns': 7,\n",
       " 'updatedCells': 7}"
      ]
     },
     "execution_count": 9,
     "metadata": {},
     "output_type": "execute_result"
    }
   ],
   "source": [
    "# Append daily data as a new row in Google Sheet\n",
    "sheet = client.open(\"COVID Daily Metrics\").sheet1\n",
    "insertRow = [datetime.date.today().strftime(\"%Y-%m-%d\"),\n",
    "             daily_tests,\n",
    "             case_rate,\n",
    "             test_positivity,\n",
    "             change_hospit,\n",
    "             ICU_beds,\n",
    "             ventilators]\n",
    "sheet.insert_row(insertRow, 2)"
   ]
  },
  {
   "cell_type": "code",
   "execution_count": 9,
   "metadata": {
    "execution": {
     "iopub.execute_input": "2020-08-21T09:09:20.957666Z",
     "iopub.status.busy": "2020-08-21T09:09:20.956666Z",
     "iopub.status.idle": "2020-08-21T09:09:21.730975Z",
     "shell.execute_reply": "2020-08-21T09:09:21.731976Z"
    },
    "papermill": {
     "duration": 0.793281,
     "end_time": "2020-08-21T09:09:21.732975",
     "exception": false,
     "start_time": "2020-08-21T09:09:20.939694",
     "status": "completed"
    },
    "scrolled": true,
    "slideshow": {
     "slide_type": "slide"
    },
    "tags": [
     "remove_cell"
    ]
   },
   "outputs": [],
   "source": [
    "# Extract data from Google Sheet as pandas dataframe\n",
    "sheet = client.open(\"COVID Daily Metrics\").sheet1\n",
    "data = sheet.get_all_records()\n",
    "result = pd.DataFrame(data).set_index(\"Date\")"
   ]
  },
  {
   "cell_type": "code",
   "execution_count": 10,
   "metadata": {
    "execution": {
     "iopub.execute_input": "2020-08-21T09:09:21.805933Z",
     "iopub.status.busy": "2020-08-21T09:09:21.804934Z",
     "iopub.status.idle": "2020-08-21T09:09:21.819925Z",
     "shell.execute_reply": "2020-08-21T09:09:21.820924Z"
    },
    "papermill": {
     "duration": 0.058966,
     "end_time": "2020-08-21T09:09:21.821923",
     "exception": false,
     "start_time": "2020-08-21T09:09:21.762957",
     "status": "completed"
    },
    "scrolled": true,
    "tags": [
     "remove_input"
    ]
   },
   "outputs": [
    {
     "data": {
      "text/html": [
       "<div>\n",
       "<style scoped>\n",
       "    .dataframe tbody tr th:only-of-type {\n",
       "        vertical-align: middle;\n",
       "    }\n",
       "\n",
       "    .dataframe tbody tr th {\n",
       "        vertical-align: top;\n",
       "    }\n",
       "\n",
       "    .dataframe thead th {\n",
       "        text-align: right;\n",
       "    }\n",
       "</style>\n",
       "<table border=\"1\" class=\"dataframe\">\n",
       "  <thead>\n",
       "    <tr style=\"text-align: right;\">\n",
       "      <th></th>\n",
       "      <th>Daily tests (per 100,000)¹</th>\n",
       "      <th>Case rate (per 100,000)²</th>\n",
       "      <th>Testing positivity (%)³</th>\n",
       "      <th>Change in hospitalizations (%)⁴</th>\n",
       "      <th>ICU beds available (%)</th>\n",
       "      <th>Ventilators (available (%)</th>\n",
       "    </tr>\n",
       "    <tr>\n",
       "      <th>Date</th>\n",
       "      <th></th>\n",
       "      <th></th>\n",
       "      <th></th>\n",
       "      <th></th>\n",
       "      <th></th>\n",
       "      <th></th>\n",
       "    </tr>\n",
       "  </thead>\n",
       "  <tbody>\n",
       "    <tr>\n",
       "      <th>20/08/21</th>\n",
       "      <td>214.5</td>\n",
       "      <td>148.8</td>\n",
       "      <td>✔</td>\n",
       "      <td>✔</td>\n",
       "      <td>✔</td>\n",
       "      <td>✔</td>\n",
       "    </tr>\n",
       "    <tr>\n",
       "      <th>20/08/20</th>\n",
       "      <td>214.5</td>\n",
       "      <td>148.8</td>\n",
       "      <td>✔</td>\n",
       "      <td>✔</td>\n",
       "      <td>✔</td>\n",
       "      <td>✔</td>\n",
       "    </tr>\n",
       "  </tbody>\n",
       "</table>\n",
       "</div>"
      ],
      "text/plain": [
       "          Daily tests (per 100,000)¹  Case rate (per 100,000)²  \\\n",
       "Date                                                             \n",
       "20/08/21                       214.5                     148.8   \n",
       "20/08/20                       214.5                     148.8   \n",
       "\n",
       "         Testing positivity (%)³ Change in hospitalizations (%)⁴  \\\n",
       "Date                                                               \n",
       "20/08/21                       ✔                               ✔   \n",
       "20/08/20                       ✔                               ✔   \n",
       "\n",
       "         ICU beds available (%) Ventilators (available (%)  \n",
       "Date                                                        \n",
       "20/08/21                      ✔                          ✔  \n",
       "20/08/20                      ✔                          ✔  "
      ]
     },
     "execution_count": 10,
     "metadata": {},
     "output_type": "execute_result"
    }
   ],
   "source": [
    "result"
   ]
  },
  {
   "cell_type": "markdown",
   "metadata": {
    "papermill": {
     "duration": 0.048971,
     "end_time": "2020-08-21T09:09:21.896881",
     "exception": false,
     "start_time": "2020-08-21T09:09:21.847910",
     "status": "completed"
    },
    "tags": []
   },
   "source": [
    "Notes:\n",
    "1. 7 day average with a 7-day lag.\n",
    "2. 14 day average.\n",
    "3. 7 day average with a 7-day lag.\n",
    "4. Change in 3 day average."
   ]
  },
  {
   "cell_type": "markdown",
   "metadata": {
    "papermill": {
     "duration": 0.028983,
     "end_time": "2020-08-21T09:09:21.958845",
     "exception": false,
     "start_time": "2020-08-21T09:09:21.929862",
     "status": "completed"
    },
    "tags": []
   },
   "source": [
    "Source: https://www.cdph.ca.gov/Programs/CID/DCDC/Pages/COVID-19/COVID19CountyDataTable.aspx."
   ]
  },
  {
   "cell_type": "markdown",
   "metadata": {
    "papermill": {
     "duration": 0.025985,
     "end_time": "2020-08-21T09:09:22.004819",
     "exception": false,
     "start_time": "2020-08-21T09:09:21.978834",
     "status": "completed"
    },
    "tags": []
   },
   "source": [
    "Once a county appears on the County Monitoring List for three consecutive days, indoor operations in the sectors listed in Section 3 of the [July 13th State Health Officer Order](https://www.cdph.ca.gov/Programs/CID/DCDC/CDPH%20Document%20Library/COVID-19/SHO%20Order%20Dimming%20Entire%20State%207-13-2020.pdf) must close.\n",
    "\n",
    "This table tracks where Santa Barbara stands in terms of the criteria for inclusion on the County Monitoring List. As of 20 August 2020, the criteria for inclusion on the monitoring list are:\n",
    "\n",
    "- (Case rate >100) OR (Case rate >25 AND Positivity >8%)\n",
    "- Change in hospitalizations >10% increase\n",
    "- <20% ICU beds available OR <25% ventilators available\n",
    "\n",
    "These metrics capture three dimensions that the state of California is tracking: Elevated Disease Transmission, Increasing Hospitalization, and Limited Hospital Capacity. If Santa Barbara meets the criteria for removal from the County Monitoring List for a certain metric, then a checkmark ✔ is displayed.\n",
    "\n",
    "Read more at <https://covid19.ca.gov/roadmap-counties/>."
   ]
  },
  {
   "cell_type": "markdown",
   "metadata": {
    "papermill": {
     "duration": 0.023988,
     "end_time": "2020-08-21T09:09:22.068784",
     "exception": false,
     "start_time": "2020-08-21T09:09:22.044796",
     "status": "completed"
    },
    "tags": []
   },
   "source": [
    "**See the code to scrape the data: https://github.com/walice/COVID-SB/.**"
   ]
  },
  {
   "cell_type": "code",
   "execution_count": 11,
   "metadata": {
    "execution": {
     "iopub.execute_input": "2020-08-21T09:09:22.119753Z",
     "iopub.status.busy": "2020-08-21T09:09:22.118755Z",
     "iopub.status.idle": "2020-08-21T09:09:22.125750Z",
     "shell.execute_reply": "2020-08-21T09:09:22.126750Z"
    },
    "papermill": {
     "duration": 0.03698,
     "end_time": "2020-08-21T09:09:22.126750",
     "exception": false,
     "start_time": "2020-08-21T09:09:22.089770",
     "status": "completed"
    },
    "tags": [
     "remove_cell"
    ]
   },
   "outputs": [
    {
     "data": {
      "application/javascript": [
       "IPython.notebook.save_notebook()\n"
      ],
      "text/plain": [
       "<IPython.core.display.Javascript object>"
      ]
     },
     "metadata": {},
     "output_type": "display_data"
    }
   ],
   "source": [
    "%%javascript\n",
    "IPython.notebook.save_notebook()"
   ]
  },
  {
   "cell_type": "code",
   "execution_count": 12,
   "metadata": {
    "execution": {
     "iopub.execute_input": "2020-08-21T09:09:22.234688Z",
     "iopub.status.busy": "2020-08-21T09:09:22.233688Z",
     "iopub.status.idle": "2020-08-21T09:09:26.968553Z",
     "shell.execute_reply": "2020-08-21T09:09:26.966556Z"
    },
    "papermill": {
     "duration": 4.802822,
     "end_time": "2020-08-21T09:09:26.968553",
     "exception": false,
     "start_time": "2020-08-21T09:09:22.165731",
     "status": "completed"
    },
    "slideshow": {
     "slide_type": "skip"
    },
    "tags": [
     "remove_cell"
    ]
   },
   "outputs": [
    {
     "name": "stderr",
     "output_type": "stream",
     "text": [
      "[NbConvertApp] Converting notebook index.ipynb to html\n",
      "[NbConvertApp] Writing 275530 bytes to index.html\n"
     ]
    }
   ],
   "source": [
    "# Convert Jupyter Notebook to HTML\n",
    "! jupyter nbconvert \"index.ipynb\" --to html --TagRemovePreprocessor.enabled=True --TagRemovePreprocessor.remove_cell_tags=\"['remove_cell']\" --TagRemovePreprocessor.remove_input_tags=\"['remove_input']\" --no-prompt"
   ]
  },
  {
   "cell_type": "code",
   "execution_count": 13,
   "metadata": {
    "execution": {
     "iopub.execute_input": "2020-08-21T09:09:27.065498Z",
     "iopub.status.busy": "2020-08-21T09:09:27.063499Z",
     "iopub.status.idle": "2020-08-21T09:09:27.068497Z",
     "shell.execute_reply": "2020-08-21T09:09:27.069496Z"
    },
    "papermill": {
     "duration": 0.065963,
     "end_time": "2020-08-21T09:09:27.069496",
     "exception": false,
     "start_time": "2020-08-21T09:09:27.003533",
     "status": "completed"
    },
    "tags": [
     "remove_cell"
    ]
   },
   "outputs": [],
   "source": [
    "# Create daily commit message\n",
    "now = datetime.datetime.now()\n",
    "commit_message = \"Last scraped on \" + str(now)"
   ]
  },
  {
   "cell_type": "code",
   "execution_count": null,
   "metadata": {
    "execution": {
     "iopub.execute_input": "2020-08-21T08:02:25.587304Z",
     "iopub.status.busy": "2020-08-21T08:02:25.586302Z",
     "iopub.status.idle": "2020-08-21T08:02:31.900079Z",
     "shell.execute_reply": "2020-08-21T08:02:31.889084Z"
    },
    "papermill": {
     "duration": null,
     "end_time": null,
     "exception": false,
     "start_time": "2020-08-21T09:09:27.103476",
     "status": "running"
    },
    "tags": [
     "remove_cell"
    ]
   },
   "outputs": [],
   "source": [
    "# Deploy to GitHub\n",
    "! git add .\n",
    "! echo $commit_message > commit_message.txt\n",
    "! git commit -F commit_message.txt\n",
    "! git push"
   ]
  }
 ],
 "metadata": {
  "celltoolbar": "Tags",
  "kernelspec": {
   "display_name": "Python 3",
   "language": "python",
   "name": "python3"
  },
  "language_info": {
   "codemirror_mode": {
    "name": "ipython",
    "version": 3
   },
   "file_extension": ".py",
   "mimetype": "text/x-python",
   "name": "python",
   "nbconvert_exporter": "python",
   "pygments_lexer": "ipython3",
   "version": "3.7.6"
  },
  "papermill": {
   "duration": null,
   "end_time": null,
   "environment_variables": {},
   "exception": null,
   "input_path": "C:/Users/Alice/Box Sync/PhD/Software/Python/COVID/COVID-SB/index.ipynb",
   "output_path": "C:/Users/Alice/Box Sync/PhD/Software/Python/COVID/COVID-SB/index.ipynb",
   "parameters": {},
   "start_time": "2020-08-21T09:09:11.419013",
   "version": "2.1.3"
  }
 },
 "nbformat": 4,
 "nbformat_minor": 4
}
