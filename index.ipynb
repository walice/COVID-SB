{
 "cells": [
  {
   "cell_type": "markdown",
   "metadata": {
    "papermill": {
     "duration": 0.011526,
     "end_time": "2020-08-26T09:39:52.783115",
     "exception": false,
     "start_time": "2020-08-26T09:39:52.771589",
     "status": "completed"
    },
    "tags": []
   },
   "source": [
    "# Daily COVID monitoring data for Santa Barbara county"
   ]
  },
  {
   "cell_type": "code",
   "execution_count": 1,
   "metadata": {
    "execution": {
     "iopub.execute_input": "2020-08-26T09:39:52.811124Z",
     "iopub.status.busy": "2020-08-26T09:39:52.810613Z",
     "iopub.status.idle": "2020-08-26T09:39:52.926387Z",
     "shell.execute_reply": "2020-08-26T09:39:52.925402Z"
    },
    "papermill": {
     "duration": 0.132822,
     "end_time": "2020-08-26T09:39:52.926540",
     "exception": false,
     "start_time": "2020-08-26T09:39:52.793718",
     "status": "completed"
    },
    "tags": [
     "remove_cell"
    ]
   },
   "outputs": [
    {
     "name": "stdout",
     "output_type": "stream",
     "text": [
      "/bin/bash: jt: command not found\r\n"
     ]
    }
   ],
   "source": [
    "! jt -t grade3 -tf robotosans -cellw 1100"
   ]
  },
  {
   "cell_type": "markdown",
   "metadata": {
    "papermill": {
     "duration": 0.010629,
     "end_time": "2020-08-26T09:39:52.948303",
     "exception": false,
     "start_time": "2020-08-26T09:39:52.937674",
     "status": "completed"
    },
    "tags": []
   },
   "source": [
    "This table is automatically updated with new daily COVID data for the county of Santa Barbara, CA. Every day, the California Department of Public Health publishes COVID tracking metrics for each county, but does not save the previous day's data. This tool keeps track of the daily metrics that are used to monitor progress towards safe reopening in California."
   ]
  },
  {
   "cell_type": "code",
   "execution_count": 2,
   "metadata": {
    "execution": {
     "iopub.execute_input": "2020-08-26T09:39:52.975585Z",
     "iopub.status.busy": "2020-08-26T09:39:52.975063Z",
     "iopub.status.idle": "2020-08-26T09:39:54.769995Z",
     "shell.execute_reply": "2020-08-26T09:39:54.770864Z"
    },
    "papermill": {
     "duration": 1.81225,
     "end_time": "2020-08-26T09:39:54.771033",
     "exception": false,
     "start_time": "2020-08-26T09:39:52.958783",
     "status": "completed"
    },
    "slideshow": {
     "slide_type": "skip"
    },
    "tags": [
     "remove_cell"
    ]
   },
   "outputs": [],
   "source": [
    "# Preamble\n",
    "import os\n",
    "from IPython.display import Markdown as md\n",
    "import IPython\n",
    "import requests\n",
    "from bs4 import BeautifulSoup\n",
    "import re\n",
    "import pandas as pd\n",
    "import datetime\n",
    "import gspread\n",
    "from oauth2client.service_account import ServiceAccountCredentials"
   ]
  },
  {
   "cell_type": "code",
   "execution_count": 3,
   "metadata": {
    "execution": {
     "iopub.execute_input": "2020-08-26T09:39:54.797878Z",
     "iopub.status.busy": "2020-08-26T09:39:54.797286Z",
     "iopub.status.idle": "2020-08-26T09:39:54.798745Z",
     "shell.execute_reply": "2020-08-26T09:39:54.798343Z"
    },
    "papermill": {
     "duration": 0.017002,
     "end_time": "2020-08-26T09:39:54.798864",
     "exception": false,
     "start_time": "2020-08-26T09:39:54.781862",
     "status": "completed"
    },
    "tags": []
   },
   "outputs": [],
   "source": [
    "# Set working directory\n",
    "os.chdir(\"/home/alice_lepissier/COVID-SB\")"
   ]
  },
  {
   "cell_type": "code",
   "execution_count": 4,
   "metadata": {
    "execution": {
     "iopub.execute_input": "2020-08-26T09:39:54.825204Z",
     "iopub.status.busy": "2020-08-26T09:39:54.824689Z",
     "iopub.status.idle": "2020-08-26T09:39:55.072013Z",
     "shell.execute_reply": "2020-08-26T09:39:55.072789Z"
    },
    "papermill": {
     "duration": 0.263771,
     "end_time": "2020-08-26T09:39:55.072952",
     "exception": false,
     "start_time": "2020-08-26T09:39:54.809181",
     "status": "completed"
    },
    "slideshow": {
     "slide_type": "skip"
    },
    "tags": [
     "remove_cell"
    ]
   },
   "outputs": [],
   "source": [
    "# Request content from URL\n",
    "html_string = requests.get('https://www.cdph.ca.gov/Programs/CID/DCDC/Pages/COVID-19/COVID19CountyDataTable.aspx').content"
   ]
  },
  {
   "cell_type": "code",
   "execution_count": 5,
   "metadata": {
    "execution": {
     "iopub.execute_input": "2020-08-26T09:39:55.103534Z",
     "iopub.status.busy": "2020-08-26T09:39:55.103030Z",
     "iopub.status.idle": "2020-08-26T09:39:55.195456Z",
     "shell.execute_reply": "2020-08-26T09:39:55.196290Z"
    },
    "papermill": {
     "duration": 0.112655,
     "end_time": "2020-08-26T09:39:55.196469",
     "exception": false,
     "start_time": "2020-08-26T09:39:55.083814",
     "status": "completed"
    },
    "slideshow": {
     "slide_type": "skip"
    },
    "tags": [
     "remove_cell"
    ]
   },
   "outputs": [],
   "source": [
    "# Parse HTML\n",
    "soup = BeautifulSoup(html_string, 'html.parser')"
   ]
  },
  {
   "cell_type": "code",
   "execution_count": 6,
   "metadata": {
    "execution": {
     "iopub.execute_input": "2020-08-26T09:39:55.227559Z",
     "iopub.status.busy": "2020-08-26T09:39:55.227065Z",
     "iopub.status.idle": "2020-08-26T09:39:55.235120Z",
     "shell.execute_reply": "2020-08-26T09:39:55.235848Z"
    },
    "papermill": {
     "duration": 0.027062,
     "end_time": "2020-08-26T09:39:55.236009",
     "exception": false,
     "start_time": "2020-08-26T09:39:55.208947",
     "status": "completed"
    },
    "slideshow": {
     "slide_type": "skip"
    },
    "tags": [
     "remove_cell"
    ]
   },
   "outputs": [],
   "source": [
    "# Extract data for Santa Barbara\n",
    "table = soup.find_all(\"tr\", class_=\"ms-rteTableEvenRow-3\")\n",
    "SB = table[21]"
   ]
  },
  {
   "cell_type": "code",
   "execution_count": 7,
   "metadata": {
    "execution": {
     "iopub.execute_input": "2020-08-26T09:39:55.263520Z",
     "iopub.status.busy": "2020-08-26T09:39:55.263015Z",
     "iopub.status.idle": "2020-08-26T09:39:55.276029Z",
     "shell.execute_reply": "2020-08-26T09:39:55.276764Z"
    },
    "papermill": {
     "duration": 0.030173,
     "end_time": "2020-08-26T09:39:55.276923",
     "exception": false,
     "start_time": "2020-08-26T09:39:55.246750",
     "status": "completed"
    },
    "slideshow": {
     "slide_type": "skip"
    },
    "tags": [
     "remove_cell"
    ]
   },
   "outputs": [],
   "source": [
    "# Avg # tests per day (per 100,000 population)\n",
    "daily_tests = SB.find_all(\"td\", class_=\"ms-rteTableOddCol-3\")[0].text\n",
    "\n",
    "# Case rate per 100,000\n",
    "case_rate = SB.find_all(\"td\", class_=\"ms-rteTableEvenCol-3\")[1].text\n",
    "\n",
    "# Testing positivity (%)\n",
    "test_positivity = SB.find_all(\"td\", class_=\"ms-rteTableOddCol-3\")[1].text\n",
    "\n",
    "# % Change in 3-day avg COVID+ hospitalized patients\n",
    "change_hospit = SB.find_all(\"td\", class_=\"ms-rteTableEvenCol-3\")[2].text\n",
    "\n",
    "# % ICU beds currently available\n",
    "ICU_beds = SB.find_all(\"td\", class_=\"ms-rteTableOddCol-3\")[2].text\n",
    "\n",
    "# % Ventilators currently available\n",
    "ventilators = SB.find_all(\"td\", class_=\"ms-rteTableEvenCol-3\")[3].text\n",
    "\n",
    "# Extract date of last update\n",
    "update_date = soup.find_all(\"span\", class_=\"ms-rteStyle-Accent1\")[1]\\\n",
    "    .find(\"em\").text"
   ]
  },
  {
   "cell_type": "code",
   "execution_count": 8,
   "metadata": {
    "execution": {
     "iopub.execute_input": "2020-08-26T09:39:55.303571Z",
     "iopub.status.busy": "2020-08-26T09:39:55.302988Z",
     "iopub.status.idle": "2020-08-26T09:39:55.304390Z",
     "shell.execute_reply": "2020-08-26T09:39:55.304001Z"
    },
    "papermill": {
     "duration": 0.017037,
     "end_time": "2020-08-26T09:39:55.304501",
     "exception": false,
     "start_time": "2020-08-26T09:39:55.287464",
     "status": "completed"
    },
    "tags": [
     "remove_cell"
    ]
   },
   "outputs": [],
   "source": [
    "# Create updated date string\n",
    "update_tag = \"Table last updated by CDPH on \" + update_date.split(\" on \", 1)[1] + \".\""
   ]
  },
  {
   "cell_type": "code",
   "execution_count": 9,
   "metadata": {
    "execution": {
     "iopub.execute_input": "2020-08-26T09:39:55.332367Z",
     "iopub.status.busy": "2020-08-26T09:39:55.331872Z",
     "iopub.status.idle": "2020-08-26T09:39:55.334953Z",
     "shell.execute_reply": "2020-08-26T09:39:55.335661Z"
    },
    "papermill": {
     "duration": 0.020816,
     "end_time": "2020-08-26T09:39:55.335825",
     "exception": false,
     "start_time": "2020-08-26T09:39:55.315009",
     "status": "completed"
    },
    "slideshow": {
     "slide_type": "skip"
    },
    "tags": [
     "remove_cell"
    ]
   },
   "outputs": [],
   "source": [
    "# Set up Google Sheet API\n",
    "scope = [\"https://spreadsheets.google.com/feeds\",'https://www.googleapis.com/auth/spreadsheets',\"https://www.googleapis.com/auth/drive.file\",\"https://www.googleapis.com/auth/drive\"]\n",
    "creds = ServiceAccountCredentials.from_json_keyfile_name(\"credentials.json\", scope)\n",
    "client = gspread.authorize(creds)"
   ]
  },
  {
   "cell_type": "code",
   "execution_count": 10,
   "metadata": {
    "execution": {
     "iopub.execute_input": "2020-08-26T09:39:55.363491Z",
     "iopub.status.busy": "2020-08-26T09:39:55.363003Z",
     "iopub.status.idle": "2020-08-26T09:39:58.688769Z",
     "shell.execute_reply": "2020-08-26T09:39:58.689509Z"
    },
    "papermill": {
     "duration": 3.34324,
     "end_time": "2020-08-26T09:39:58.689667",
     "exception": false,
     "start_time": "2020-08-26T09:39:55.346427",
     "status": "completed"
    },
    "slideshow": {
     "slide_type": "skip"
    },
    "tags": [
     "remove_cell"
    ]
   },
   "outputs": [
    {
     "data": {
      "text/plain": [
       "{'spreadsheetId': '1pcqdMzKtea2Oq3BDmdAOQ21gZjCssieKI0692VfNLXU',\n",
       " 'updatedRange': 'Sheet1!A2:G2',\n",
       " 'updatedRows': 1,\n",
       " 'updatedColumns': 7,\n",
       " 'updatedCells': 7}"
      ]
     },
     "execution_count": 10,
     "metadata": {},
     "output_type": "execute_result"
    }
   ],
   "source": [
    "# Append daily data as a new row in Google Sheet\n",
    "sheet = client.open(\"Test cron job\").sheet1\n",
    "insertRow = [datetime.date.today().strftime(\"%Y-%m-%d\"),\n",
    "             daily_tests,\n",
    "             case_rate,\n",
    "             test_positivity,\n",
    "             change_hospit,\n",
    "             ICU_beds,\n",
    "             ventilators]\n",
    "sheet.insert_row(insertRow, 2)"
   ]
  },
  {
   "cell_type": "code",
   "execution_count": 11,
   "metadata": {
    "execution": {
     "iopub.execute_input": "2020-08-26T09:39:58.717434Z",
     "iopub.status.busy": "2020-08-26T09:39:58.716954Z",
     "iopub.status.idle": "2020-08-26T09:39:59.678762Z",
     "shell.execute_reply": "2020-08-26T09:39:59.679560Z"
    },
    "papermill": {
     "duration": 0.978803,
     "end_time": "2020-08-26T09:39:59.679722",
     "exception": false,
     "start_time": "2020-08-26T09:39:58.700919",
     "status": "completed"
    },
    "scrolled": true,
    "slideshow": {
     "slide_type": "slide"
    },
    "tags": [
     "remove_cell"
    ]
   },
   "outputs": [],
   "source": [
    "# Extract data from Google Sheet as pandas dataframe\n",
    "sheet = client.open(\"Test cron job\").sheet1\n",
    "data = sheet.get_all_records()\n",
    "result = pd.DataFrame(data).set_index(\"Date\")"
   ]
  },
  {
   "cell_type": "code",
   "execution_count": 12,
   "metadata": {
    "execution": {
     "iopub.execute_input": "2020-08-26T09:39:59.707883Z",
     "iopub.status.busy": "2020-08-26T09:39:59.707399Z",
     "iopub.status.idle": "2020-08-26T09:40:01.216809Z",
     "shell.execute_reply": "2020-08-26T09:40:01.217518Z"
    },
    "papermill": {
     "duration": 1.526493,
     "end_time": "2020-08-26T09:40:01.217677",
     "exception": false,
     "start_time": "2020-08-26T09:39:59.691184",
     "status": "completed"
    },
    "scrolled": true,
    "tags": [
     "remove_input"
    ]
   },
   "outputs": [
    {
     "data": {
      "text/html": [
       "<style  type=\"text/css\" >\n",
       "    #T_1cbb155a_e780_11ea_8fa1_42010a8a0004 th {\n",
       "          text-align: center;\n",
       "    }#T_1cbb155a_e780_11ea_8fa1_42010a8a0004row0_col0,#T_1cbb155a_e780_11ea_8fa1_42010a8a0004row1_col0,#T_1cbb155a_e780_11ea_8fa1_42010a8a0004row2_col0,#T_1cbb155a_e780_11ea_8fa1_42010a8a0004row3_col0,#T_1cbb155a_e780_11ea_8fa1_42010a8a0004row4_col0,#T_1cbb155a_e780_11ea_8fa1_42010a8a0004row5_col0,#T_1cbb155a_e780_11ea_8fa1_42010a8a0004row6_col0,#T_1cbb155a_e780_11ea_8fa1_42010a8a0004row7_col0,#T_1cbb155a_e780_11ea_8fa1_42010a8a0004row8_col0,#T_1cbb155a_e780_11ea_8fa1_42010a8a0004row9_col0,#T_1cbb155a_e780_11ea_8fa1_42010a8a0004row10_col0,#T_1cbb155a_e780_11ea_8fa1_42010a8a0004row11_col0,#T_1cbb155a_e780_11ea_8fa1_42010a8a0004row12_col0,#T_1cbb155a_e780_11ea_8fa1_42010a8a0004row13_col0,#T_1cbb155a_e780_11ea_8fa1_42010a8a0004row14_col0,#T_1cbb155a_e780_11ea_8fa1_42010a8a0004row15_col0,#T_1cbb155a_e780_11ea_8fa1_42010a8a0004row16_col0,#T_1cbb155a_e780_11ea_8fa1_42010a8a0004row17_col0,#T_1cbb155a_e780_11ea_8fa1_42010a8a0004row18_col0,#T_1cbb155a_e780_11ea_8fa1_42010a8a0004row19_col0,#T_1cbb155a_e780_11ea_8fa1_42010a8a0004row20_col0{\n",
       "            width:  20em;\n",
       "            text-align:  center;\n",
       "            font-weight:  bold;\n",
       "        }#T_1cbb155a_e780_11ea_8fa1_42010a8a0004row0_col1,#T_1cbb155a_e780_11ea_8fa1_42010a8a0004row0_col2,#T_1cbb155a_e780_11ea_8fa1_42010a8a0004row1_col1,#T_1cbb155a_e780_11ea_8fa1_42010a8a0004row1_col2,#T_1cbb155a_e780_11ea_8fa1_42010a8a0004row2_col1,#T_1cbb155a_e780_11ea_8fa1_42010a8a0004row2_col2,#T_1cbb155a_e780_11ea_8fa1_42010a8a0004row3_col1,#T_1cbb155a_e780_11ea_8fa1_42010a8a0004row3_col2,#T_1cbb155a_e780_11ea_8fa1_42010a8a0004row4_col1,#T_1cbb155a_e780_11ea_8fa1_42010a8a0004row4_col2,#T_1cbb155a_e780_11ea_8fa1_42010a8a0004row5_col1,#T_1cbb155a_e780_11ea_8fa1_42010a8a0004row5_col2,#T_1cbb155a_e780_11ea_8fa1_42010a8a0004row6_col1,#T_1cbb155a_e780_11ea_8fa1_42010a8a0004row6_col2,#T_1cbb155a_e780_11ea_8fa1_42010a8a0004row7_col1,#T_1cbb155a_e780_11ea_8fa1_42010a8a0004row7_col2,#T_1cbb155a_e780_11ea_8fa1_42010a8a0004row8_col1,#T_1cbb155a_e780_11ea_8fa1_42010a8a0004row8_col2,#T_1cbb155a_e780_11ea_8fa1_42010a8a0004row9_col1,#T_1cbb155a_e780_11ea_8fa1_42010a8a0004row9_col2,#T_1cbb155a_e780_11ea_8fa1_42010a8a0004row10_col1,#T_1cbb155a_e780_11ea_8fa1_42010a8a0004row10_col2,#T_1cbb155a_e780_11ea_8fa1_42010a8a0004row11_col1,#T_1cbb155a_e780_11ea_8fa1_42010a8a0004row11_col2,#T_1cbb155a_e780_11ea_8fa1_42010a8a0004row12_col1,#T_1cbb155a_e780_11ea_8fa1_42010a8a0004row12_col2,#T_1cbb155a_e780_11ea_8fa1_42010a8a0004row13_col1,#T_1cbb155a_e780_11ea_8fa1_42010a8a0004row13_col2,#T_1cbb155a_e780_11ea_8fa1_42010a8a0004row14_col1,#T_1cbb155a_e780_11ea_8fa1_42010a8a0004row14_col2,#T_1cbb155a_e780_11ea_8fa1_42010a8a0004row15_col1,#T_1cbb155a_e780_11ea_8fa1_42010a8a0004row15_col2,#T_1cbb155a_e780_11ea_8fa1_42010a8a0004row16_col1,#T_1cbb155a_e780_11ea_8fa1_42010a8a0004row16_col2,#T_1cbb155a_e780_11ea_8fa1_42010a8a0004row17_col1,#T_1cbb155a_e780_11ea_8fa1_42010a8a0004row17_col2,#T_1cbb155a_e780_11ea_8fa1_42010a8a0004row18_col1,#T_1cbb155a_e780_11ea_8fa1_42010a8a0004row18_col2,#T_1cbb155a_e780_11ea_8fa1_42010a8a0004row19_col1,#T_1cbb155a_e780_11ea_8fa1_42010a8a0004row19_col2,#T_1cbb155a_e780_11ea_8fa1_42010a8a0004row20_col1,#T_1cbb155a_e780_11ea_8fa1_42010a8a0004row20_col2{\n",
       "            width:  20em;\n",
       "            text-align:  center;\n",
       "        }</style><table id=\"T_1cbb155a_e780_11ea_8fa1_42010a8a0004\" ><thead>    <tr>        <th class=\"col_heading level0 col0\" >Date</th>        <th class=\"col_heading level0 col1\" >Time</th>        <th class=\"col_heading level0 col2\" ></th>    </tr></thead><tbody>\n",
       "                <tr>\n",
       "                                <td id=\"T_1cbb155a_e780_11ea_8fa1_42010a8a0004row0_col0\" class=\"data row0 col0\" >2020-08-26</td>\n",
       "                        <td id=\"T_1cbb155a_e780_11ea_8fa1_42010a8a0004row0_col1\" class=\"data row0 col1\" >222.1</td>\n",
       "                        <td id=\"T_1cbb155a_e780_11ea_8fa1_42010a8a0004row0_col2\" class=\"data row0 col2\" > ✔</td>\n",
       "            </tr>\n",
       "            <tr>\n",
       "                                <td id=\"T_1cbb155a_e780_11ea_8fa1_42010a8a0004row1_col0\" class=\"data row1 col0\" >2020-08-26</td>\n",
       "                        <td id=\"T_1cbb155a_e780_11ea_8fa1_42010a8a0004row1_col1\" class=\"data row1 col1\" >222.1</td>\n",
       "                        <td id=\"T_1cbb155a_e780_11ea_8fa1_42010a8a0004row1_col2\" class=\"data row1 col2\" > ✔</td>\n",
       "            </tr>\n",
       "            <tr>\n",
       "                                <td id=\"T_1cbb155a_e780_11ea_8fa1_42010a8a0004row2_col0\" class=\"data row2 col0\" >2020-08-26</td>\n",
       "                        <td id=\"T_1cbb155a_e780_11ea_8fa1_42010a8a0004row2_col1\" class=\"data row2 col1\" >222.1</td>\n",
       "                        <td id=\"T_1cbb155a_e780_11ea_8fa1_42010a8a0004row2_col2\" class=\"data row2 col2\" > ✔</td>\n",
       "            </tr>\n",
       "            <tr>\n",
       "                                <td id=\"T_1cbb155a_e780_11ea_8fa1_42010a8a0004row3_col0\" class=\"data row3 col0\" >2020-08-26</td>\n",
       "                        <td id=\"T_1cbb155a_e780_11ea_8fa1_42010a8a0004row3_col1\" class=\"data row3 col1\" >222.1</td>\n",
       "                        <td id=\"T_1cbb155a_e780_11ea_8fa1_42010a8a0004row3_col2\" class=\"data row3 col2\" > ✔</td>\n",
       "            </tr>\n",
       "            <tr>\n",
       "                                <td id=\"T_1cbb155a_e780_11ea_8fa1_42010a8a0004row4_col0\" class=\"data row4 col0\" >2020-08-26</td>\n",
       "                        <td id=\"T_1cbb155a_e780_11ea_8fa1_42010a8a0004row4_col1\" class=\"data row4 col1\" >222.1</td>\n",
       "                        <td id=\"T_1cbb155a_e780_11ea_8fa1_42010a8a0004row4_col2\" class=\"data row4 col2\" > ✔</td>\n",
       "            </tr>\n",
       "            <tr>\n",
       "                                <td id=\"T_1cbb155a_e780_11ea_8fa1_42010a8a0004row5_col0\" class=\"data row5 col0\" >2020-08-26</td>\n",
       "                        <td id=\"T_1cbb155a_e780_11ea_8fa1_42010a8a0004row5_col1\" class=\"data row5 col1\" >222.1</td>\n",
       "                        <td id=\"T_1cbb155a_e780_11ea_8fa1_42010a8a0004row5_col2\" class=\"data row5 col2\" > ✔</td>\n",
       "            </tr>\n",
       "            <tr>\n",
       "                                <td id=\"T_1cbb155a_e780_11ea_8fa1_42010a8a0004row6_col0\" class=\"data row6 col0\" >2020-08-26</td>\n",
       "                        <td id=\"T_1cbb155a_e780_11ea_8fa1_42010a8a0004row6_col1\" class=\"data row6 col1\" >222.1</td>\n",
       "                        <td id=\"T_1cbb155a_e780_11ea_8fa1_42010a8a0004row6_col2\" class=\"data row6 col2\" > ✔</td>\n",
       "            </tr>\n",
       "            <tr>\n",
       "                                <td id=\"T_1cbb155a_e780_11ea_8fa1_42010a8a0004row7_col0\" class=\"data row7 col0\" >2020-08-26</td>\n",
       "                        <td id=\"T_1cbb155a_e780_11ea_8fa1_42010a8a0004row7_col1\" class=\"data row7 col1\" >222.1</td>\n",
       "                        <td id=\"T_1cbb155a_e780_11ea_8fa1_42010a8a0004row7_col2\" class=\"data row7 col2\" > ✔</td>\n",
       "            </tr>\n",
       "            <tr>\n",
       "                                <td id=\"T_1cbb155a_e780_11ea_8fa1_42010a8a0004row8_col0\" class=\"data row8 col0\" >2020-08-26</td>\n",
       "                        <td id=\"T_1cbb155a_e780_11ea_8fa1_42010a8a0004row8_col1\" class=\"data row8 col1\" >222.1</td>\n",
       "                        <td id=\"T_1cbb155a_e780_11ea_8fa1_42010a8a0004row8_col2\" class=\"data row8 col2\" > ✔</td>\n",
       "            </tr>\n",
       "            <tr>\n",
       "                                <td id=\"T_1cbb155a_e780_11ea_8fa1_42010a8a0004row9_col0\" class=\"data row9 col0\" >2020-08-26</td>\n",
       "                        <td id=\"T_1cbb155a_e780_11ea_8fa1_42010a8a0004row9_col1\" class=\"data row9 col1\" >222.1</td>\n",
       "                        <td id=\"T_1cbb155a_e780_11ea_8fa1_42010a8a0004row9_col2\" class=\"data row9 col2\" > ✔</td>\n",
       "            </tr>\n",
       "            <tr>\n",
       "                                <td id=\"T_1cbb155a_e780_11ea_8fa1_42010a8a0004row10_col0\" class=\"data row10 col0\" >2020-08-26</td>\n",
       "                        <td id=\"T_1cbb155a_e780_11ea_8fa1_42010a8a0004row10_col1\" class=\"data row10 col1\" >222.1</td>\n",
       "                        <td id=\"T_1cbb155a_e780_11ea_8fa1_42010a8a0004row10_col2\" class=\"data row10 col2\" > ✔</td>\n",
       "            </tr>\n",
       "            <tr>\n",
       "                                <td id=\"T_1cbb155a_e780_11ea_8fa1_42010a8a0004row11_col0\" class=\"data row11 col0\" >2020-08-26</td>\n",
       "                        <td id=\"T_1cbb155a_e780_11ea_8fa1_42010a8a0004row11_col1\" class=\"data row11 col1\" >222.1</td>\n",
       "                        <td id=\"T_1cbb155a_e780_11ea_8fa1_42010a8a0004row11_col2\" class=\"data row11 col2\" > ✔</td>\n",
       "            </tr>\n",
       "            <tr>\n",
       "                                <td id=\"T_1cbb155a_e780_11ea_8fa1_42010a8a0004row12_col0\" class=\"data row12 col0\" >2020-08-26</td>\n",
       "                        <td id=\"T_1cbb155a_e780_11ea_8fa1_42010a8a0004row12_col1\" class=\"data row12 col1\" >222.1</td>\n",
       "                        <td id=\"T_1cbb155a_e780_11ea_8fa1_42010a8a0004row12_col2\" class=\"data row12 col2\" > ✔</td>\n",
       "            </tr>\n",
       "            <tr>\n",
       "                                <td id=\"T_1cbb155a_e780_11ea_8fa1_42010a8a0004row13_col0\" class=\"data row13 col0\" >2020-08-26</td>\n",
       "                        <td id=\"T_1cbb155a_e780_11ea_8fa1_42010a8a0004row13_col1\" class=\"data row13 col1\" >222.1</td>\n",
       "                        <td id=\"T_1cbb155a_e780_11ea_8fa1_42010a8a0004row13_col2\" class=\"data row13 col2\" > ✔</td>\n",
       "            </tr>\n",
       "            <tr>\n",
       "                                <td id=\"T_1cbb155a_e780_11ea_8fa1_42010a8a0004row14_col0\" class=\"data row14 col0\" >2020-08-26</td>\n",
       "                        <td id=\"T_1cbb155a_e780_11ea_8fa1_42010a8a0004row14_col1\" class=\"data row14 col1\" >222.1</td>\n",
       "                        <td id=\"T_1cbb155a_e780_11ea_8fa1_42010a8a0004row14_col2\" class=\"data row14 col2\" > ✔</td>\n",
       "            </tr>\n",
       "            <tr>\n",
       "                                <td id=\"T_1cbb155a_e780_11ea_8fa1_42010a8a0004row15_col0\" class=\"data row15 col0\" >2020-08-26</td>\n",
       "                        <td id=\"T_1cbb155a_e780_11ea_8fa1_42010a8a0004row15_col1\" class=\"data row15 col1\" >222.1</td>\n",
       "                        <td id=\"T_1cbb155a_e780_11ea_8fa1_42010a8a0004row15_col2\" class=\"data row15 col2\" > ✔</td>\n",
       "            </tr>\n",
       "            <tr>\n",
       "                                <td id=\"T_1cbb155a_e780_11ea_8fa1_42010a8a0004row16_col0\" class=\"data row16 col0\" >2020-08-26</td>\n",
       "                        <td id=\"T_1cbb155a_e780_11ea_8fa1_42010a8a0004row16_col1\" class=\"data row16 col1\" >222.1</td>\n",
       "                        <td id=\"T_1cbb155a_e780_11ea_8fa1_42010a8a0004row16_col2\" class=\"data row16 col2\" > ✔</td>\n",
       "            </tr>\n",
       "            <tr>\n",
       "                                <td id=\"T_1cbb155a_e780_11ea_8fa1_42010a8a0004row17_col0\" class=\"data row17 col0\" >2020-08-26</td>\n",
       "                        <td id=\"T_1cbb155a_e780_11ea_8fa1_42010a8a0004row17_col1\" class=\"data row17 col1\" >222.1</td>\n",
       "                        <td id=\"T_1cbb155a_e780_11ea_8fa1_42010a8a0004row17_col2\" class=\"data row17 col2\" > ✔</td>\n",
       "            </tr>\n",
       "            <tr>\n",
       "                                <td id=\"T_1cbb155a_e780_11ea_8fa1_42010a8a0004row18_col0\" class=\"data row18 col0\" >2020-08-26</td>\n",
       "                        <td id=\"T_1cbb155a_e780_11ea_8fa1_42010a8a0004row18_col1\" class=\"data row18 col1\" >222.1</td>\n",
       "                        <td id=\"T_1cbb155a_e780_11ea_8fa1_42010a8a0004row18_col2\" class=\"data row18 col2\" > ✔</td>\n",
       "            </tr>\n",
       "            <tr>\n",
       "                                <td id=\"T_1cbb155a_e780_11ea_8fa1_42010a8a0004row19_col0\" class=\"data row19 col0\" >2020-08-26</td>\n",
       "                        <td id=\"T_1cbb155a_e780_11ea_8fa1_42010a8a0004row19_col1\" class=\"data row19 col1\" >222.1</td>\n",
       "                        <td id=\"T_1cbb155a_e780_11ea_8fa1_42010a8a0004row19_col2\" class=\"data row19 col2\" > ✔</td>\n",
       "            </tr>\n",
       "            <tr>\n",
       "                                <td id=\"T_1cbb155a_e780_11ea_8fa1_42010a8a0004row20_col0\" class=\"data row20 col0\" >2020-08-26</td>\n",
       "                        <td id=\"T_1cbb155a_e780_11ea_8fa1_42010a8a0004row20_col1\" class=\"data row20 col1\" >222.1</td>\n",
       "                        <td id=\"T_1cbb155a_e780_11ea_8fa1_42010a8a0004row20_col2\" class=\"data row20 col2\" > ✔</td>\n",
       "            </tr>\n",
       "    </tbody></table>"
      ],
      "text/plain": [
       "<pandas.io.formats.style.Styler at 0x7ff060efb4a8>"
      ]
     },
     "execution_count": 12,
     "metadata": {},
     "output_type": "execute_result"
    }
   ],
   "source": [
    "# Style the pandas dataframe\n",
    "d = dict(selector=\"th\",\n",
    "         props=[('text-align', 'center')])\n",
    "\n",
    "result.reset_index().style\\\n",
    "    .set_properties(**{'width':'20em', 'text-align':'center'})\\\n",
    "    .set_properties(subset=['Date'], **{'font-weight': 'bold'})\\\n",
    "    .set_table_styles([d])\\\n",
    "    .set_precision(1)\\\n",
    "    .hide_index()"
   ]
  },
  {
   "cell_type": "markdown",
   "metadata": {
    "papermill": {
     "duration": 0.011415,
     "end_time": "2020-08-26T09:40:01.241009",
     "exception": false,
     "start_time": "2020-08-26T09:40:01.229594",
     "status": "completed"
    },
    "tags": []
   },
   "source": [
    "<sup>Notes: (1) 7 day average with a 7-day lag. (2) 14 day average. (3) 7 day average with a 7-day lag. (4) Change in 3 day average.</sup>"
   ]
  },
  {
   "cell_type": "code",
   "execution_count": 13,
   "metadata": {
    "execution": {
     "iopub.execute_input": "2020-08-26T09:40:01.269463Z",
     "iopub.status.busy": "2020-08-26T09:40:01.268962Z",
     "iopub.status.idle": "2020-08-26T09:40:01.272086Z",
     "shell.execute_reply": "2020-08-26T09:40:01.272473Z"
    },
    "papermill": {
     "duration": 0.020102,
     "end_time": "2020-08-26T09:40:01.272614",
     "exception": false,
     "start_time": "2020-08-26T09:40:01.252512",
     "status": "completed"
    },
    "tags": [
     "remove_input"
    ]
   },
   "outputs": [
    {
     "data": {
      "text/markdown": [
       "Table last updated by CDPH on August 25, 2020."
      ],
      "text/plain": [
       "<IPython.core.display.Markdown object>"
      ]
     },
     "execution_count": 13,
     "metadata": {},
     "output_type": "execute_result"
    }
   ],
   "source": [
    "md(update_tag)"
   ]
  },
  {
   "cell_type": "markdown",
   "metadata": {
    "papermill": {
     "duration": 0.011588,
     "end_time": "2020-08-26T09:40:01.295756",
     "exception": false,
     "start_time": "2020-08-26T09:40:01.284168",
     "status": "completed"
    },
    "tags": []
   },
   "source": [
    "## Tracking county closures in Santa Barbara"
   ]
  },
  {
   "cell_type": "markdown",
   "metadata": {
    "papermill": {
     "duration": 0.011886,
     "end_time": "2020-08-26T09:40:01.319444",
     "exception": false,
     "start_time": "2020-08-26T09:40:01.307558",
     "status": "completed"
    },
    "tags": []
   },
   "source": [
    "The state of California is using a data-driven approach informed by scientific evidence to tailor its response to COVID-19. Three dimensions of concern are monitored to assess whether a county should be placed on the County Monitoring List:\n",
    " 1. Elevated Disease Transmission\n",
    " 2. Increasing Hospitalization\n",
    " 3. Limited Hospital Capacity\n",
    "\n",
    "Once a county appears on the County Monitoring List for three consecutive days, indoor operations in the sectors listed in Section 3 of the [July 13th State Health Officer Order](https://www.cdph.ca.gov/Programs/CID/DCDC/CDPH%20Document%20Library/COVID-19/SHO%20Order%20Dimming%20Entire%20State%207-13-2020.pdf) must close.\n",
    "\n",
    "This table tracks where Santa Barbara stands in terms of the criteria for inclusion on the County Monitoring List. As of 20 August 2020, the criteria for inclusion on the monitoring list are:\n",
    "\n",
    "* Case rate >100 OR (Case rate >25 AND Positivity >8%)\n",
    "* \\>10% increase in hospitalizations\n",
    "* <20% ICU beds available OR <25% ventilators available\n",
    "\n",
    "If Santa Barbara meets the criteria for removal from the County Monitoring List for a certain metric, then a checkmark ✔ is displayed in the table.\n",
    "\n",
    "Read more at <https://covid19.ca.gov/roadmap-counties/>.\n",
    "\n",
    "Data source for county metrics: https://www.cdph.ca.gov/Programs/CID/DCDC/Pages/COVID-19/COVID19CountyDataTable.aspx."
   ]
  },
  {
   "cell_type": "markdown",
   "metadata": {
    "papermill": {
     "duration": 0.011876,
     "end_time": "2020-08-26T09:40:01.343748",
     "exception": false,
     "start_time": "2020-08-26T09:40:01.331872",
     "status": "completed"
    },
    "tags": []
   },
   "source": [
    "**See the code used to scrape the data: https://github.com/walice/COVID-SB/.**"
   ]
  },
  {
   "cell_type": "code",
   "execution_count": 14,
   "metadata": {
    "execution": {
     "iopub.execute_input": "2020-08-26T09:40:01.374045Z",
     "iopub.status.busy": "2020-08-26T09:40:01.373544Z",
     "iopub.status.idle": "2020-08-26T09:40:01.377719Z",
     "shell.execute_reply": "2020-08-26T09:40:01.378150Z"
    },
    "papermill": {
     "duration": 0.021751,
     "end_time": "2020-08-26T09:40:01.378302",
     "exception": false,
     "start_time": "2020-08-26T09:40:01.356551",
     "status": "completed"
    },
    "tags": [
     "remove_cell"
    ]
   },
   "outputs": [
    {
     "data": {
      "application/javascript": [
       "IPython.notebook.save_notebook()\n"
      ],
      "text/plain": [
       "<IPython.core.display.Javascript object>"
      ]
     },
     "metadata": {},
     "output_type": "display_data"
    }
   ],
   "source": [
    "%%javascript\n",
    "IPython.notebook.save_notebook()"
   ]
  },
  {
   "cell_type": "code",
   "execution_count": 15,
   "metadata": {
    "execution": {
     "iopub.execute_input": "2020-08-26T09:40:01.412730Z",
     "iopub.status.busy": "2020-08-26T09:40:01.412227Z",
     "iopub.status.idle": "2020-08-26T09:40:01.606646Z",
     "shell.execute_reply": "2020-08-26T09:40:01.605706Z"
    },
    "papermill": {
     "duration": 0.216054,
     "end_time": "2020-08-26T09:40:01.606779",
     "exception": false,
     "start_time": "2020-08-26T09:40:01.390725",
     "status": "completed"
    },
    "slideshow": {
     "slide_type": "skip"
    },
    "tags": [
     "remove_cell"
    ]
   },
   "outputs": [
    {
     "name": "stdout",
     "output_type": "stream",
     "text": [
      "/bin/bash: jupyter: command not found\r\n"
     ]
    }
   ],
   "source": [
    "# Convert Jupyter Notebook to HTML\n",
    "! jupyter nbconvert \"index.ipynb\" --to html --TagRemovePreprocessor.enabled=True --TagRemovePreprocessor.remove_cell_tags=\"['remove_cell']\" --TagRemovePreprocessor.remove_input_tags=\"['remove_input']\" --no-prompt"
   ]
  },
  {
   "cell_type": "code",
   "execution_count": 16,
   "metadata": {
    "execution": {
     "iopub.execute_input": "2020-08-26T09:40:01.637724Z",
     "iopub.status.busy": "2020-08-26T09:40:01.637217Z",
     "iopub.status.idle": "2020-08-26T09:40:01.639615Z",
     "shell.execute_reply": "2020-08-26T09:40:01.639982Z"
    },
    "papermill": {
     "duration": 0.020125,
     "end_time": "2020-08-26T09:40:01.640131",
     "exception": false,
     "start_time": "2020-08-26T09:40:01.620006",
     "status": "completed"
    },
    "tags": [
     "remove_cell"
    ]
   },
   "outputs": [],
   "source": [
    "# Create daily commit message\n",
    "now = datetime.datetime.now()\n",
    "commit_message = \"Last scraped on \" + str(now)"
   ]
  },
  {
   "cell_type": "code",
   "execution_count": null,
   "metadata": {
    "papermill": {
     "duration": null,
     "end_time": null,
     "exception": false,
     "start_time": "2020-08-26T09:40:01.652662",
     "status": "running"
    },
    "tags": [
     "remove_cell"
    ]
   },
   "outputs": [],
   "source": [
    "# Deploy to GitHub\n",
    "! git add .\n",
    "! echo $commit_message > commit_message.txt\n",
    "! git commit -F commit_message.txt\n",
    "! git push"
   ]
  }
 ],
 "metadata": {
  "celltoolbar": "Tags",
  "kernelspec": {
   "display_name": "Python 3",
   "language": "python",
   "name": "python3"
  },
  "language_info": {
   "codemirror_mode": {
    "name": "ipython",
    "version": 3
   },
   "file_extension": ".py",
   "mimetype": "text/x-python",
   "name": "python",
   "nbconvert_exporter": "python",
   "pygments_lexer": "ipython3",
   "version": "3.7.3"
  },
  "papermill": {
   "duration": null,
   "end_time": null,
   "environment_variables": {},
   "exception": null,
   "input_path": "/home/alice_lepissier/COVID-SB/index.ipynb",
   "output_path": "/home/alice_lepissier/COVID-SB/index.ipynb",
   "parameters": {},
   "start_time": "2020-08-26T09:39:51.115992",
   "version": "2.1.3"
  }
 },
 "nbformat": 4,
 "nbformat_minor": 4
}