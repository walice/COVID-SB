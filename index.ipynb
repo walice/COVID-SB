{
 "cells": [
  {
   "cell_type": "markdown",
   "metadata": {
    "papermill": {
     "duration": 0.033979,
     "end_time": "2020-08-26T19:00:15.542161",
     "exception": false,
     "start_time": "2020-08-26T19:00:15.508182",
     "status": "completed"
    },
    "tags": []
   },
   "source": [
    "# Daily COVID monitoring data for Santa Barbara county"
   ]
  },
  {
   "cell_type": "code",
   "execution_count": 1,
   "metadata": {
    "execution": {
     "iopub.execute_input": "2020-08-26T19:00:15.590137Z",
     "iopub.status.busy": "2020-08-26T19:00:15.588136Z",
     "iopub.status.idle": "2020-08-26T19:00:18.010463Z",
     "shell.execute_reply": "2020-08-26T19:00:18.008460Z"
    },
    "papermill": {
     "duration": 2.451311,
     "end_time": "2020-08-26T19:00:18.010463",
     "exception": false,
     "start_time": "2020-08-26T19:00:15.559152",
     "status": "completed"
    },
    "tags": [
     "remove_cell"
    ]
   },
   "outputs": [],
   "source": [
    "! jt -t grade3 -tf robotosans -cellw 1100"
   ]
  },
  {
   "cell_type": "markdown",
   "metadata": {
    "papermill": {
     "duration": 0.017988,
     "end_time": "2020-08-26T19:00:18.047436",
     "exception": false,
     "start_time": "2020-08-26T19:00:18.029448",
     "status": "completed"
    },
    "tags": []
   },
   "source": [
    "This table is automatically updated with new daily COVID data for the county of Santa Barbara, CA. Every day, the California Department of Public Health publishes COVID tracking metrics for each county, but does not save the previous day's data. This tool keeps track of the daily metrics that are used to monitor progress towards safe reopening in California."
   ]
  },
  {
   "cell_type": "code",
   "execution_count": 2,
   "metadata": {
    "execution": {
     "iopub.execute_input": "2020-08-26T19:00:18.099405Z",
     "iopub.status.busy": "2020-08-26T19:00:18.098406Z",
     "iopub.status.idle": "2020-08-26T19:00:25.775953Z",
     "shell.execute_reply": "2020-08-26T19:00:25.775953Z"
    },
    "papermill": {
     "duration": 7.706531,
     "end_time": "2020-08-26T19:00:25.775953",
     "exception": false,
     "start_time": "2020-08-26T19:00:18.069422",
     "status": "completed"
    },
    "slideshow": {
     "slide_type": "skip"
    },
    "tags": [
     "remove_cell"
    ]
   },
   "outputs": [],
   "source": [
    "# Preamble\n",
    "import os\n",
    "from IPython.display import Markdown as md\n",
    "import IPython\n",
    "import requests\n",
    "from bs4 import BeautifulSoup\n",
    "import re\n",
    "import pandas as pd\n",
    "import datetime\n",
    "import gspread\n",
    "from oauth2client.service_account import ServiceAccountCredentials"
   ]
  },
  {
   "cell_type": "code",
   "execution_count": 3,
   "metadata": {
    "execution": {
     "iopub.execute_input": "2020-08-26T19:00:25.821925Z",
     "iopub.status.busy": "2020-08-26T19:00:25.820941Z",
     "iopub.status.idle": "2020-08-26T19:00:25.824953Z",
     "shell.execute_reply": "2020-08-26T19:00:25.823925Z"
    },
    "papermill": {
     "duration": 0.033976,
     "end_time": "2020-08-26T19:00:25.825939",
     "exception": false,
     "start_time": "2020-08-26T19:00:25.791963",
     "status": "completed"
    },
    "tags": [
     "remove_cell"
    ]
   },
   "outputs": [],
   "source": [
    "# Change working directory (so that Windows task scheduler does not complain)\n",
    "os.chdir(\"C:/Users/Alice/Box Sync/PhD/Software/Python/COVID/COVID-SB\")"
   ]
  },
  {
   "cell_type": "code",
   "execution_count": 4,
   "metadata": {
    "execution": {
     "iopub.execute_input": "2020-08-26T19:00:25.861904Z",
     "iopub.status.busy": "2020-08-26T19:00:25.861904Z",
     "iopub.status.idle": "2020-08-26T19:00:26.232905Z",
     "shell.execute_reply": "2020-08-26T19:00:26.232905Z"
    },
    "papermill": {
     "duration": 0.390992,
     "end_time": "2020-08-26T19:00:26.232905",
     "exception": false,
     "start_time": "2020-08-26T19:00:25.841913",
     "status": "completed"
    },
    "slideshow": {
     "slide_type": "skip"
    },
    "tags": [
     "remove_cell"
    ]
   },
   "outputs": [],
   "source": [
    "# Request content from URL\n",
    "html_string = requests.get('https://www.cdph.ca.gov/Programs/CID/DCDC/Pages/COVID-19/COVID19CountyDataTable.aspx').content"
   ]
  },
  {
   "cell_type": "code",
   "execution_count": 5,
   "metadata": {
    "execution": {
     "iopub.execute_input": "2020-08-26T19:00:26.328848Z",
     "iopub.status.busy": "2020-08-26T19:00:26.294868Z",
     "iopub.status.idle": "2020-08-26T19:00:26.424793Z",
     "shell.execute_reply": "2020-08-26T19:00:26.425792Z"
    },
    "papermill": {
     "duration": 0.1719,
     "end_time": "2020-08-26T19:00:26.426791",
     "exception": false,
     "start_time": "2020-08-26T19:00:26.254891",
     "status": "completed"
    },
    "slideshow": {
     "slide_type": "skip"
    },
    "tags": [
     "remove_cell"
    ]
   },
   "outputs": [],
   "source": [
    "# Parse HTML\n",
    "soup = BeautifulSoup(html_string, 'html.parser')"
   ]
  },
  {
   "cell_type": "code",
   "execution_count": 6,
   "metadata": {
    "execution": {
     "iopub.execute_input": "2020-08-26T19:00:26.492755Z",
     "iopub.status.busy": "2020-08-26T19:00:26.491755Z",
     "iopub.status.idle": "2020-08-26T19:00:26.496753Z",
     "shell.execute_reply": "2020-08-26T19:00:26.495754Z"
    },
    "papermill": {
     "duration": 0.053972,
     "end_time": "2020-08-26T19:00:26.496753",
     "exception": false,
     "start_time": "2020-08-26T19:00:26.442781",
     "status": "completed"
    },
    "slideshow": {
     "slide_type": "skip"
    },
    "tags": [
     "remove_cell"
    ]
   },
   "outputs": [],
   "source": [
    "# Extract data for Santa Barbara\n",
    "table = soup.find_all(\"tr\", class_=\"ms-rteTableEvenRow-3\")\n",
    "SB = table[21]"
   ]
  },
  {
   "cell_type": "code",
   "execution_count": 7,
   "metadata": {
    "execution": {
     "iopub.execute_input": "2020-08-26T19:00:26.615683Z",
     "iopub.status.busy": "2020-08-26T19:00:26.614683Z",
     "iopub.status.idle": "2020-08-26T19:00:26.617682Z",
     "shell.execute_reply": "2020-08-26T19:00:26.618681Z"
    },
    "papermill": {
     "duration": 0.089947,
     "end_time": "2020-08-26T19:00:26.619680",
     "exception": false,
     "start_time": "2020-08-26T19:00:26.529733",
     "status": "completed"
    },
    "slideshow": {
     "slide_type": "skip"
    },
    "tags": [
     "remove_cell"
    ]
   },
   "outputs": [],
   "source": [
    "# Avg # tests per day (per 100,000 population)\n",
    "daily_tests = SB.find_all(\"td\", class_=\"ms-rteTableOddCol-3\")[0].text\n",
    "\n",
    "# Case rate per 100,000\n",
    "case_rate = SB.find_all(\"td\", class_=\"ms-rteTableEvenCol-3\")[1].text\n",
    "\n",
    "# Testing positivity (%)\n",
    "test_positivity = SB.find_all(\"td\", class_=\"ms-rteTableOddCol-3\")[1].text\n",
    "\n",
    "# % Change in 3-day avg COVID+ hospitalized patients\n",
    "change_hospit = SB.find_all(\"td\", class_=\"ms-rteTableEvenCol-3\")[2].text\n",
    "\n",
    "# % ICU beds currently available\n",
    "ICU_beds = SB.find_all(\"td\", class_=\"ms-rteTableOddCol-3\")[2].text\n",
    "\n",
    "# % Ventilators currently available\n",
    "ventilators = SB.find_all(\"td\", class_=\"ms-rteTableEvenCol-3\")[3].text\n",
    "\n",
    "# Extract date of last update\n",
    "update_date = soup.find_all(\"span\", class_=\"ms-rteStyle-Accent1\")[1]\\\n",
    "    .find(\"em\").text"
   ]
  },
  {
   "cell_type": "code",
   "execution_count": 8,
   "metadata": {
    "execution": {
     "iopub.execute_input": "2020-08-26T19:00:26.658658Z",
     "iopub.status.busy": "2020-08-26T19:00:26.657659Z",
     "iopub.status.idle": "2020-08-26T19:00:26.661658Z",
     "shell.execute_reply": "2020-08-26T19:00:26.661658Z"
    },
    "papermill": {
     "duration": 0.025987,
     "end_time": "2020-08-26T19:00:26.661658",
     "exception": false,
     "start_time": "2020-08-26T19:00:26.635671",
     "status": "completed"
    },
    "tags": [
     "remove_cell"
    ]
   },
   "outputs": [],
   "source": [
    "# Create updated date string\n",
    "update_tag = \"Table last updated by CDPH on \" + update_date.split(\" on \", 1)[1] + \".\""
   ]
  },
  {
   "cell_type": "code",
   "execution_count": 9,
   "metadata": {
    "execution": {
     "iopub.execute_input": "2020-08-26T19:00:26.718624Z",
     "iopub.status.busy": "2020-08-26T19:00:26.717624Z",
     "iopub.status.idle": "2020-08-26T19:00:26.728641Z",
     "shell.execute_reply": "2020-08-26T19:00:26.729642Z"
    },
    "papermill": {
     "duration": 0.050991,
     "end_time": "2020-08-26T19:00:26.729642",
     "exception": false,
     "start_time": "2020-08-26T19:00:26.678651",
     "status": "completed"
    },
    "slideshow": {
     "slide_type": "skip"
    },
    "tags": [
     "remove_cell"
    ]
   },
   "outputs": [],
   "source": [
    "# Set up Google Sheet API\n",
    "scope = [\"https://spreadsheets.google.com/feeds\",'https://www.googleapis.com/auth/spreadsheets',\"https://www.googleapis.com/auth/drive.file\",\"https://www.googleapis.com/auth/drive\"]\n",
    "creds = ServiceAccountCredentials.from_json_keyfile_name(\"credentials.json\", scope)\n",
    "client = gspread.authorize(creds)"
   ]
  },
  {
   "cell_type": "code",
   "execution_count": 10,
   "metadata": {
    "execution": {
     "iopub.execute_input": "2020-08-26T19:00:26.767623Z",
     "iopub.status.busy": "2020-08-26T19:00:26.766625Z",
     "iopub.status.idle": "2020-08-26T19:00:28.177195Z",
     "shell.execute_reply": "2020-08-26T19:00:28.178194Z"
    },
    "papermill": {
     "duration": 1.433558,
     "end_time": "2020-08-26T19:00:28.178194",
     "exception": false,
     "start_time": "2020-08-26T19:00:26.744636",
     "status": "completed"
    },
    "slideshow": {
     "slide_type": "skip"
    },
    "tags": [
     "remove_cell"
    ]
   },
   "outputs": [
    {
     "data": {
      "text/plain": [
       "{'spreadsheetId': '13GG0FPUFg_5xCouN0ZF3woaPXwjuxL2Dw3uYIfwUW-Q',\n",
       " 'updatedRange': 'Sheet1!A2:G2',\n",
       " 'updatedRows': 1,\n",
       " 'updatedColumns': 7,\n",
       " 'updatedCells': 7}"
      ]
     },
     "execution_count": 10,
     "metadata": {},
     "output_type": "execute_result"
    }
   ],
   "source": [
    "# Append daily data as a new row in Google Sheet\n",
    "sheet = client.open(\"COVID Daily Metrics\").sheet1\n",
    "insertRow = [datetime.date.today().strftime(\"%Y-%m-%d\"),\n",
    "             daily_tests,\n",
    "             case_rate,\n",
    "             test_positivity,\n",
    "             change_hospit,\n",
    "             ICU_beds,\n",
    "             ventilators]\n",
    "sheet.insert_row(insertRow, 2)"
   ]
  },
  {
   "cell_type": "code",
   "execution_count": 11,
   "metadata": {
    "execution": {
     "iopub.execute_input": "2020-08-26T19:00:28.220170Z",
     "iopub.status.busy": "2020-08-26T19:00:28.218171Z",
     "iopub.status.idle": "2020-08-26T19:00:28.849461Z",
     "shell.execute_reply": "2020-08-26T19:00:28.850460Z"
    },
    "papermill": {
     "duration": 0.656275,
     "end_time": "2020-08-26T19:00:28.850460",
     "exception": false,
     "start_time": "2020-08-26T19:00:28.194185",
     "status": "completed"
    },
    "scrolled": true,
    "slideshow": {
     "slide_type": "slide"
    },
    "tags": [
     "remove_cell"
    ]
   },
   "outputs": [],
   "source": [
    "# Extract data from Google Sheet as pandas dataframe\n",
    "sheet = client.open(\"COVID Daily Metrics\").sheet1\n",
    "data = sheet.get_all_records()\n",
    "result = pd.DataFrame(data).set_index(\"Date\")"
   ]
  },
  {
   "cell_type": "code",
   "execution_count": 12,
   "metadata": {
    "execution": {
     "iopub.execute_input": "2020-08-26T19:00:28.898432Z",
     "iopub.status.busy": "2020-08-26T19:00:28.897432Z",
     "iopub.status.idle": "2020-08-26T19:00:29.814290Z",
     "shell.execute_reply": "2020-08-26T19:00:29.814290Z"
    },
    "papermill": {
     "duration": 0.939843,
     "end_time": "2020-08-26T19:00:29.815289",
     "exception": false,
     "start_time": "2020-08-26T19:00:28.875446",
     "status": "completed"
    },
    "scrolled": true,
    "tags": [
     "remove_input"
    ]
   },
   "outputs": [
    {
     "data": {
      "text/html": [
       "<style  type=\"text/css\" >\n",
       "    #T_68eadd18_e7ce_11ea_a959_3402860f8f93 th {\n",
       "          text-align: center;\n",
       "    }    #T_68eadd18_e7ce_11ea_a959_3402860f8f93row0_col0 {\n",
       "            width:  20em;\n",
       "            text-align:  center;\n",
       "            font-weight:  bold;\n",
       "        }    #T_68eadd18_e7ce_11ea_a959_3402860f8f93row0_col1 {\n",
       "            width:  20em;\n",
       "            text-align:  center;\n",
       "        }    #T_68eadd18_e7ce_11ea_a959_3402860f8f93row0_col2 {\n",
       "            width:  20em;\n",
       "            text-align:  center;\n",
       "        }    #T_68eadd18_e7ce_11ea_a959_3402860f8f93row0_col3 {\n",
       "            width:  20em;\n",
       "            text-align:  center;\n",
       "        }    #T_68eadd18_e7ce_11ea_a959_3402860f8f93row0_col4 {\n",
       "            width:  20em;\n",
       "            text-align:  center;\n",
       "        }    #T_68eadd18_e7ce_11ea_a959_3402860f8f93row0_col5 {\n",
       "            width:  20em;\n",
       "            text-align:  center;\n",
       "        }    #T_68eadd18_e7ce_11ea_a959_3402860f8f93row0_col6 {\n",
       "            width:  20em;\n",
       "            text-align:  center;\n",
       "        }    #T_68eadd18_e7ce_11ea_a959_3402860f8f93row1_col0 {\n",
       "            width:  20em;\n",
       "            text-align:  center;\n",
       "            font-weight:  bold;\n",
       "        }    #T_68eadd18_e7ce_11ea_a959_3402860f8f93row1_col1 {\n",
       "            width:  20em;\n",
       "            text-align:  center;\n",
       "        }    #T_68eadd18_e7ce_11ea_a959_3402860f8f93row1_col2 {\n",
       "            width:  20em;\n",
       "            text-align:  center;\n",
       "        }    #T_68eadd18_e7ce_11ea_a959_3402860f8f93row1_col3 {\n",
       "            width:  20em;\n",
       "            text-align:  center;\n",
       "        }    #T_68eadd18_e7ce_11ea_a959_3402860f8f93row1_col4 {\n",
       "            width:  20em;\n",
       "            text-align:  center;\n",
       "        }    #T_68eadd18_e7ce_11ea_a959_3402860f8f93row1_col5 {\n",
       "            width:  20em;\n",
       "            text-align:  center;\n",
       "        }    #T_68eadd18_e7ce_11ea_a959_3402860f8f93row1_col6 {\n",
       "            width:  20em;\n",
       "            text-align:  center;\n",
       "        }    #T_68eadd18_e7ce_11ea_a959_3402860f8f93row2_col0 {\n",
       "            width:  20em;\n",
       "            text-align:  center;\n",
       "            font-weight:  bold;\n",
       "        }    #T_68eadd18_e7ce_11ea_a959_3402860f8f93row2_col1 {\n",
       "            width:  20em;\n",
       "            text-align:  center;\n",
       "        }    #T_68eadd18_e7ce_11ea_a959_3402860f8f93row2_col2 {\n",
       "            width:  20em;\n",
       "            text-align:  center;\n",
       "        }    #T_68eadd18_e7ce_11ea_a959_3402860f8f93row2_col3 {\n",
       "            width:  20em;\n",
       "            text-align:  center;\n",
       "        }    #T_68eadd18_e7ce_11ea_a959_3402860f8f93row2_col4 {\n",
       "            width:  20em;\n",
       "            text-align:  center;\n",
       "        }    #T_68eadd18_e7ce_11ea_a959_3402860f8f93row2_col5 {\n",
       "            width:  20em;\n",
       "            text-align:  center;\n",
       "        }    #T_68eadd18_e7ce_11ea_a959_3402860f8f93row2_col6 {\n",
       "            width:  20em;\n",
       "            text-align:  center;\n",
       "        }    #T_68eadd18_e7ce_11ea_a959_3402860f8f93row3_col0 {\n",
       "            width:  20em;\n",
       "            text-align:  center;\n",
       "            font-weight:  bold;\n",
       "        }    #T_68eadd18_e7ce_11ea_a959_3402860f8f93row3_col1 {\n",
       "            width:  20em;\n",
       "            text-align:  center;\n",
       "        }    #T_68eadd18_e7ce_11ea_a959_3402860f8f93row3_col2 {\n",
       "            width:  20em;\n",
       "            text-align:  center;\n",
       "        }    #T_68eadd18_e7ce_11ea_a959_3402860f8f93row3_col3 {\n",
       "            width:  20em;\n",
       "            text-align:  center;\n",
       "        }    #T_68eadd18_e7ce_11ea_a959_3402860f8f93row3_col4 {\n",
       "            width:  20em;\n",
       "            text-align:  center;\n",
       "        }    #T_68eadd18_e7ce_11ea_a959_3402860f8f93row3_col5 {\n",
       "            width:  20em;\n",
       "            text-align:  center;\n",
       "        }    #T_68eadd18_e7ce_11ea_a959_3402860f8f93row3_col6 {\n",
       "            width:  20em;\n",
       "            text-align:  center;\n",
       "        }    #T_68eadd18_e7ce_11ea_a959_3402860f8f93row4_col0 {\n",
       "            width:  20em;\n",
       "            text-align:  center;\n",
       "            font-weight:  bold;\n",
       "        }    #T_68eadd18_e7ce_11ea_a959_3402860f8f93row4_col1 {\n",
       "            width:  20em;\n",
       "            text-align:  center;\n",
       "        }    #T_68eadd18_e7ce_11ea_a959_3402860f8f93row4_col2 {\n",
       "            width:  20em;\n",
       "            text-align:  center;\n",
       "        }    #T_68eadd18_e7ce_11ea_a959_3402860f8f93row4_col3 {\n",
       "            width:  20em;\n",
       "            text-align:  center;\n",
       "        }    #T_68eadd18_e7ce_11ea_a959_3402860f8f93row4_col4 {\n",
       "            width:  20em;\n",
       "            text-align:  center;\n",
       "        }    #T_68eadd18_e7ce_11ea_a959_3402860f8f93row4_col5 {\n",
       "            width:  20em;\n",
       "            text-align:  center;\n",
       "        }    #T_68eadd18_e7ce_11ea_a959_3402860f8f93row4_col6 {\n",
       "            width:  20em;\n",
       "            text-align:  center;\n",
       "        }    #T_68eadd18_e7ce_11ea_a959_3402860f8f93row5_col0 {\n",
       "            width:  20em;\n",
       "            text-align:  center;\n",
       "            font-weight:  bold;\n",
       "        }    #T_68eadd18_e7ce_11ea_a959_3402860f8f93row5_col1 {\n",
       "            width:  20em;\n",
       "            text-align:  center;\n",
       "        }    #T_68eadd18_e7ce_11ea_a959_3402860f8f93row5_col2 {\n",
       "            width:  20em;\n",
       "            text-align:  center;\n",
       "        }    #T_68eadd18_e7ce_11ea_a959_3402860f8f93row5_col3 {\n",
       "            width:  20em;\n",
       "            text-align:  center;\n",
       "        }    #T_68eadd18_e7ce_11ea_a959_3402860f8f93row5_col4 {\n",
       "            width:  20em;\n",
       "            text-align:  center;\n",
       "        }    #T_68eadd18_e7ce_11ea_a959_3402860f8f93row5_col5 {\n",
       "            width:  20em;\n",
       "            text-align:  center;\n",
       "        }    #T_68eadd18_e7ce_11ea_a959_3402860f8f93row5_col6 {\n",
       "            width:  20em;\n",
       "            text-align:  center;\n",
       "        }    #T_68eadd18_e7ce_11ea_a959_3402860f8f93row6_col0 {\n",
       "            width:  20em;\n",
       "            text-align:  center;\n",
       "            font-weight:  bold;\n",
       "        }    #T_68eadd18_e7ce_11ea_a959_3402860f8f93row6_col1 {\n",
       "            width:  20em;\n",
       "            text-align:  center;\n",
       "        }    #T_68eadd18_e7ce_11ea_a959_3402860f8f93row6_col2 {\n",
       "            width:  20em;\n",
       "            text-align:  center;\n",
       "        }    #T_68eadd18_e7ce_11ea_a959_3402860f8f93row6_col3 {\n",
       "            width:  20em;\n",
       "            text-align:  center;\n",
       "        }    #T_68eadd18_e7ce_11ea_a959_3402860f8f93row6_col4 {\n",
       "            width:  20em;\n",
       "            text-align:  center;\n",
       "        }    #T_68eadd18_e7ce_11ea_a959_3402860f8f93row6_col5 {\n",
       "            width:  20em;\n",
       "            text-align:  center;\n",
       "        }    #T_68eadd18_e7ce_11ea_a959_3402860f8f93row6_col6 {\n",
       "            width:  20em;\n",
       "            text-align:  center;\n",
       "        }</style><table id=\"T_68eadd18_e7ce_11ea_a959_3402860f8f93\" ><thead>    <tr>        <th class=\"col_heading level0 col0\" >Date</th>        <th class=\"col_heading level0 col1\" >Daily tests (per 100,000)¹</th>        <th class=\"col_heading level0 col2\" >Case rate (per 100,000)²</th>        <th class=\"col_heading level0 col3\" >Testing positivity (%)³</th>        <th class=\"col_heading level0 col4\" >Change in hospitalizations (%)⁴</th>        <th class=\"col_heading level0 col5\" >ICU beds available (%)</th>        <th class=\"col_heading level0 col6\" >Ventilators (available (%)</th>    </tr></thead><tbody>\n",
       "                <tr>\n",
       "                                <td id=\"T_68eadd18_e7ce_11ea_a959_3402860f8f93row0_col0\" class=\"data row0 col0\" >2020-08-26</td>\n",
       "                        <td id=\"T_68eadd18_e7ce_11ea_a959_3402860f8f93row0_col1\" class=\"data row0 col1\" >219.7</td>\n",
       "                        <td id=\"T_68eadd18_e7ce_11ea_a959_3402860f8f93row0_col2\" class=\"data row0 col2\" >133.2</td>\n",
       "                        <td id=\"T_68eadd18_e7ce_11ea_a959_3402860f8f93row0_col3\" class=\"data row0 col3\" > ✔</td>\n",
       "                        <td id=\"T_68eadd18_e7ce_11ea_a959_3402860f8f93row0_col4\" class=\"data row0 col4\" > ✔</td>\n",
       "                        <td id=\"T_68eadd18_e7ce_11ea_a959_3402860f8f93row0_col5\" class=\"data row0 col5\" > ✔</td>\n",
       "                        <td id=\"T_68eadd18_e7ce_11ea_a959_3402860f8f93row0_col6\" class=\"data row0 col6\" > ✔</td>\n",
       "            </tr>\n",
       "            <tr>\n",
       "                                <td id=\"T_68eadd18_e7ce_11ea_a959_3402860f8f93row1_col0\" class=\"data row1 col0\" >2020-08-25</td>\n",
       "                        <td id=\"T_68eadd18_e7ce_11ea_a959_3402860f8f93row1_col1\" class=\"data row1 col1\" >222.1</td>\n",
       "                        <td id=\"T_68eadd18_e7ce_11ea_a959_3402860f8f93row1_col2\" class=\"data row1 col2\" >134.1</td>\n",
       "                        <td id=\"T_68eadd18_e7ce_11ea_a959_3402860f8f93row1_col3\" class=\"data row1 col3\" > ✔</td>\n",
       "                        <td id=\"T_68eadd18_e7ce_11ea_a959_3402860f8f93row1_col4\" class=\"data row1 col4\" > ✔</td>\n",
       "                        <td id=\"T_68eadd18_e7ce_11ea_a959_3402860f8f93row1_col5\" class=\"data row1 col5\" > ✔</td>\n",
       "                        <td id=\"T_68eadd18_e7ce_11ea_a959_3402860f8f93row1_col6\" class=\"data row1 col6\" > ✔</td>\n",
       "            </tr>\n",
       "            <tr>\n",
       "                                <td id=\"T_68eadd18_e7ce_11ea_a959_3402860f8f93row2_col0\" class=\"data row2 col0\" >2020-08-24</td>\n",
       "                        <td id=\"T_68eadd18_e7ce_11ea_a959_3402860f8f93row2_col1\" class=\"data row2 col1\" >227.3</td>\n",
       "                        <td id=\"T_68eadd18_e7ce_11ea_a959_3402860f8f93row2_col2\" class=\"data row2 col2\" >138.0</td>\n",
       "                        <td id=\"T_68eadd18_e7ce_11ea_a959_3402860f8f93row2_col3\" class=\"data row2 col3\" > ✔</td>\n",
       "                        <td id=\"T_68eadd18_e7ce_11ea_a959_3402860f8f93row2_col4\" class=\"data row2 col4\" > ✔</td>\n",
       "                        <td id=\"T_68eadd18_e7ce_11ea_a959_3402860f8f93row2_col5\" class=\"data row2 col5\" > ✔</td>\n",
       "                        <td id=\"T_68eadd18_e7ce_11ea_a959_3402860f8f93row2_col6\" class=\"data row2 col6\" > ✔</td>\n",
       "            </tr>\n",
       "            <tr>\n",
       "                                <td id=\"T_68eadd18_e7ce_11ea_a959_3402860f8f93row3_col0\" class=\"data row3 col0\" >2020-08-23</td>\n",
       "                        <td id=\"T_68eadd18_e7ce_11ea_a959_3402860f8f93row3_col1\" class=\"data row3 col1\" >232.7</td>\n",
       "                        <td id=\"T_68eadd18_e7ce_11ea_a959_3402860f8f93row3_col2\" class=\"data row3 col2\" >136.7</td>\n",
       "                        <td id=\"T_68eadd18_e7ce_11ea_a959_3402860f8f93row3_col3\" class=\"data row3 col3\" > ✔</td>\n",
       "                        <td id=\"T_68eadd18_e7ce_11ea_a959_3402860f8f93row3_col4\" class=\"data row3 col4\" > ✔</td>\n",
       "                        <td id=\"T_68eadd18_e7ce_11ea_a959_3402860f8f93row3_col5\" class=\"data row3 col5\" > ✔</td>\n",
       "                        <td id=\"T_68eadd18_e7ce_11ea_a959_3402860f8f93row3_col6\" class=\"data row3 col6\" > ✔</td>\n",
       "            </tr>\n",
       "            <tr>\n",
       "                                <td id=\"T_68eadd18_e7ce_11ea_a959_3402860f8f93row4_col0\" class=\"data row4 col0\" >2020-08-22</td>\n",
       "                        <td id=\"T_68eadd18_e7ce_11ea_a959_3402860f8f93row4_col1\" class=\"data row4 col1\" >210.4</td>\n",
       "                        <td id=\"T_68eadd18_e7ce_11ea_a959_3402860f8f93row4_col2\" class=\"data row4 col2\" >138.7</td>\n",
       "                        <td id=\"T_68eadd18_e7ce_11ea_a959_3402860f8f93row4_col3\" class=\"data row4 col3\" > ✔</td>\n",
       "                        <td id=\"T_68eadd18_e7ce_11ea_a959_3402860f8f93row4_col4\" class=\"data row4 col4\" > ✔</td>\n",
       "                        <td id=\"T_68eadd18_e7ce_11ea_a959_3402860f8f93row4_col5\" class=\"data row4 col5\" > ✔</td>\n",
       "                        <td id=\"T_68eadd18_e7ce_11ea_a959_3402860f8f93row4_col6\" class=\"data row4 col6\" > ✔</td>\n",
       "            </tr>\n",
       "            <tr>\n",
       "                                <td id=\"T_68eadd18_e7ce_11ea_a959_3402860f8f93row5_col0\" class=\"data row5 col0\" >2020-08-21</td>\n",
       "                        <td id=\"T_68eadd18_e7ce_11ea_a959_3402860f8f93row5_col1\" class=\"data row5 col1\" >208.7</td>\n",
       "                        <td id=\"T_68eadd18_e7ce_11ea_a959_3402860f8f93row5_col2\" class=\"data row5 col2\" >138.5</td>\n",
       "                        <td id=\"T_68eadd18_e7ce_11ea_a959_3402860f8f93row5_col3\" class=\"data row5 col3\" > ✔</td>\n",
       "                        <td id=\"T_68eadd18_e7ce_11ea_a959_3402860f8f93row5_col4\" class=\"data row5 col4\" > ✔</td>\n",
       "                        <td id=\"T_68eadd18_e7ce_11ea_a959_3402860f8f93row5_col5\" class=\"data row5 col5\" > ✔</td>\n",
       "                        <td id=\"T_68eadd18_e7ce_11ea_a959_3402860f8f93row5_col6\" class=\"data row5 col6\" > ✔</td>\n",
       "            </tr>\n",
       "            <tr>\n",
       "                                <td id=\"T_68eadd18_e7ce_11ea_a959_3402860f8f93row6_col0\" class=\"data row6 col0\" >2020-08-20</td>\n",
       "                        <td id=\"T_68eadd18_e7ce_11ea_a959_3402860f8f93row6_col1\" class=\"data row6 col1\" >214.5</td>\n",
       "                        <td id=\"T_68eadd18_e7ce_11ea_a959_3402860f8f93row6_col2\" class=\"data row6 col2\" >148.8</td>\n",
       "                        <td id=\"T_68eadd18_e7ce_11ea_a959_3402860f8f93row6_col3\" class=\"data row6 col3\" > ✔</td>\n",
       "                        <td id=\"T_68eadd18_e7ce_11ea_a959_3402860f8f93row6_col4\" class=\"data row6 col4\" > ✔</td>\n",
       "                        <td id=\"T_68eadd18_e7ce_11ea_a959_3402860f8f93row6_col5\" class=\"data row6 col5\" > ✔</td>\n",
       "                        <td id=\"T_68eadd18_e7ce_11ea_a959_3402860f8f93row6_col6\" class=\"data row6 col6\" > ✔</td>\n",
       "            </tr>\n",
       "    </tbody></table>"
      ],
      "text/plain": [
       "<pandas.io.formats.style.Styler at 0x1b37516e588>"
      ]
     },
     "execution_count": 12,
     "metadata": {},
     "output_type": "execute_result"
    }
   ],
   "source": [
    "# Style the pandas dataframe\n",
    "d = dict(selector=\"th\",\n",
    "         props=[('text-align', 'center')])\n",
    "\n",
    "result.reset_index().style\\\n",
    "    .set_properties(**{'width':'20em', 'text-align':'center'})\\\n",
    "    .set_properties(subset=['Date'], **{'font-weight': 'bold'})\\\n",
    "    .set_table_styles([d])\\\n",
    "    .set_precision(1)\\\n",
    "    .hide_index()"
   ]
  },
  {
   "cell_type": "markdown",
   "metadata": {
    "papermill": {
     "duration": 0.020988,
     "end_time": "2020-08-26T19:00:29.857266",
     "exception": false,
     "start_time": "2020-08-26T19:00:29.836278",
     "status": "completed"
    },
    "tags": []
   },
   "source": [
    "<sup>Notes: (1) 7 day average with a 7-day lag. (2) 14 day average. (3) 7 day average with a 7-day lag. (4) Change in 3 day average.</sup>"
   ]
  },
  {
   "cell_type": "code",
   "execution_count": 13,
   "metadata": {
    "execution": {
     "iopub.execute_input": "2020-08-26T19:00:29.904238Z",
     "iopub.status.busy": "2020-08-26T19:00:29.903240Z",
     "iopub.status.idle": "2020-08-26T19:00:29.908236Z",
     "shell.execute_reply": "2020-08-26T19:00:29.908236Z"
    },
    "papermill": {
     "duration": 0.028984,
     "end_time": "2020-08-26T19:00:29.908236",
     "exception": false,
     "start_time": "2020-08-26T19:00:29.879252",
     "status": "completed"
    },
    "tags": [
     "remove_input"
    ]
   },
   "outputs": [
    {
     "data": {
      "text/markdown": [
       "Table last updated by CDPH on August 25, 2020."
      ],
      "text/plain": [
       "<IPython.core.display.Markdown object>"
      ]
     },
     "execution_count": 13,
     "metadata": {},
     "output_type": "execute_result"
    }
   ],
   "source": [
    "md(update_tag)"
   ]
  },
  {
   "cell_type": "markdown",
   "metadata": {
    "papermill": {
     "duration": 0.022985,
     "end_time": "2020-08-26T19:00:29.952210",
     "exception": false,
     "start_time": "2020-08-26T19:00:29.929225",
     "status": "completed"
    },
    "tags": []
   },
   "source": [
    "## Tracking county closures in Santa Barbara"
   ]
  },
  {
   "cell_type": "markdown",
   "metadata": {
    "papermill": {
     "duration": 0.166903,
     "end_time": "2020-08-26T19:00:30.331993",
     "exception": false,
     "start_time": "2020-08-26T19:00:30.165090",
     "status": "completed"
    },
    "tags": []
   },
   "source": [
    "The state of California is using a data-driven approach informed by scientific evidence to tailor its response to COVID-19. Three dimensions of concern are monitored to assess whether a county should be placed on the County Monitoring List:\n",
    " 1. Elevated Disease Transmission\n",
    " 2. Increasing Hospitalization\n",
    " 3. Limited Hospital Capacity\n",
    "\n",
    "Once a county appears on the County Monitoring List for three consecutive days, indoor operations in the sectors listed in Section 3 of the [July 13th State Health Officer Order](https://www.cdph.ca.gov/Programs/CID/DCDC/CDPH%20Document%20Library/COVID-19/SHO%20Order%20Dimming%20Entire%20State%207-13-2020.pdf) must close.\n",
    "\n",
    "This table tracks where Santa Barbara stands in terms of the criteria for inclusion on the County Monitoring List. As of 20 August 2020, the criteria for inclusion on the monitoring list are:\n",
    "\n",
    "* Case rate >100 OR (Case rate >25 AND Positivity >8%)\n",
    "* \\>10% increase in hospitalizations\n",
    "* <20% ICU beds available OR <25% ventilators available\n",
    "\n",
    "If Santa Barbara meets the criteria for removal from the County Monitoring List for a certain metric, then a checkmark ✔ is displayed in the table.\n",
    "\n",
    "Read more at <https://covid19.ca.gov/roadmap-counties/>.\n",
    "\n",
    "Data source for county metrics: https://www.cdph.ca.gov/Programs/CID/DCDC/Pages/COVID-19/COVID19CountyDataTable.aspx."
   ]
  },
  {
   "cell_type": "markdown",
   "metadata": {
    "papermill": {
     "duration": 0.031982,
     "end_time": "2020-08-26T19:00:30.404953",
     "exception": false,
     "start_time": "2020-08-26T19:00:30.372971",
     "status": "completed"
    },
    "tags": []
   },
   "source": [
    "**See the code used to scrape the data: https://github.com/walice/COVID-SB/.**"
   ]
  },
  {
   "cell_type": "code",
   "execution_count": 14,
   "metadata": {
    "execution": {
     "iopub.execute_input": "2020-08-26T19:00:30.545872Z",
     "iopub.status.busy": "2020-08-26T19:00:30.544873Z",
     "iopub.status.idle": "2020-08-26T19:00:30.552872Z",
     "shell.execute_reply": "2020-08-26T19:00:30.552872Z"
    },
    "papermill": {
     "duration": 0.107943,
     "end_time": "2020-08-26T19:00:30.552872",
     "exception": false,
     "start_time": "2020-08-26T19:00:30.444929",
     "status": "completed"
    },
    "tags": [
     "remove_cell"
    ]
   },
   "outputs": [
    {
     "data": {
      "application/javascript": [
       "IPython.notebook.save_notebook()\n"
      ],
      "text/plain": [
       "<IPython.core.display.Javascript object>"
      ]
     },
     "metadata": {},
     "output_type": "display_data"
    }
   ],
   "source": [
    "%%javascript\n",
    "IPython.notebook.save_notebook()"
   ]
  },
  {
   "cell_type": "code",
   "execution_count": 15,
   "metadata": {
    "execution": {
     "iopub.execute_input": "2020-08-26T19:00:30.638818Z",
     "iopub.status.busy": "2020-08-26T19:00:30.636820Z",
     "iopub.status.idle": "2020-08-26T19:00:39.996140Z",
     "shell.execute_reply": "2020-08-26T19:00:39.994140Z"
    },
    "papermill": {
     "duration": 9.404296,
     "end_time": "2020-08-26T19:00:39.996140",
     "exception": false,
     "start_time": "2020-08-26T19:00:30.591844",
     "status": "completed"
    },
    "slideshow": {
     "slide_type": "skip"
    },
    "tags": [
     "remove_cell"
    ]
   },
   "outputs": [
    {
     "name": "stderr",
     "output_type": "stream",
     "text": [
      "[NbConvertApp] Converting notebook index.ipynb to html\n",
      "[NbConvertApp] Writing 361403 bytes to index.html\n"
     ]
    }
   ],
   "source": [
    "# Convert Jupyter Notebook to HTML\n",
    "! jupyter nbconvert \"index.ipynb\" --to html --TagRemovePreprocessor.enabled=True --TagRemovePreprocessor.remove_cell_tags=\"['remove_cell']\" --TagRemovePreprocessor.remove_input_tags=\"['remove_input']\" --no-prompt"
   ]
  },
  {
   "cell_type": "code",
   "execution_count": 16,
   "metadata": {
    "execution": {
     "iopub.execute_input": "2020-08-26T19:00:40.327949Z",
     "iopub.status.busy": "2020-08-26T19:00:40.317956Z",
     "iopub.status.idle": "2020-08-26T19:00:40.331947Z",
     "shell.execute_reply": "2020-08-26T19:00:40.323951Z"
    },
    "papermill": {
     "duration": 0.1769,
     "end_time": "2020-08-26T19:00:40.332947",
     "exception": false,
     "start_time": "2020-08-26T19:00:40.156047",
     "status": "completed"
    },
    "tags": [
     "remove_cell"
    ]
   },
   "outputs": [],
   "source": [
    "# Create daily commit message\n",
    "now = datetime.datetime.now()\n",
    "commit_message = \"Last scraped on \" + str(now)"
   ]
  },
  {
   "cell_type": "code",
   "execution_count": null,
   "metadata": {
    "execution": {
     "iopub.execute_input": "2020-08-24T19:00:33.805253Z",
     "iopub.status.busy": "2020-08-24T19:00:33.804255Z",
     "iopub.status.idle": "2020-08-24T19:00:40.992769Z",
     "shell.execute_reply": "2020-08-24T19:00:40.993770Z"
    },
    "papermill": {
     "duration": null,
     "end_time": null,
     "exception": false,
     "start_time": "2020-08-26T19:00:40.625779",
     "status": "running"
    },
    "tags": [
     "remove_cell"
    ]
   },
   "outputs": [],
   "source": [
    "# Deploy to GitHub\n",
    "! git add .\n",
    "! echo $commit_message > commit_message.txt\n",
    "! git commit -F commit_message.txt\n",
    "! git push"
   ]
  }
 ],
 "metadata": {
  "celltoolbar": "Tags",
  "kernelspec": {
   "display_name": "Python 3",
   "language": "python",
   "name": "python3"
  },
  "language_info": {
   "codemirror_mode": {
    "name": "ipython",
    "version": 3
   },
   "file_extension": ".py",
   "mimetype": "text/x-python",
   "name": "python",
   "nbconvert_exporter": "python",
   "pygments_lexer": "ipython3",
   "version": "3.7.6"
  },
  "papermill": {
   "duration": null,
   "end_time": null,
   "environment_variables": {},
   "exception": null,
   "input_path": "C:/Users/Alice/Box Sync/PhD/Software/Python/COVID/COVID-SB/index.ipynb",
   "output_path": "C:/Users/Alice/Box Sync/PhD/Software/Python/COVID/COVID-SB/index.ipynb",
   "parameters": {},
   "start_time": "2020-08-26T19:00:12.126761",
   "version": "2.1.3"
  }
 },
 "nbformat": 4,
 "nbformat_minor": 4
}