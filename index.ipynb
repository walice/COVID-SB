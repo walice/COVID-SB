{
 "cells": [
  {
   "cell_type": "markdown",
   "metadata": {
    "papermill": {
     "duration": 0.12093,
     "end_time": "2020-08-23T19:00:18.964237",
     "exception": false,
     "start_time": "2020-08-23T19:00:18.843307",
     "status": "completed"
    },
    "tags": []
   },
   "source": [
    "# Daily COVID monitoring data for Santa Barbara county"
   ]
  },
  {
   "cell_type": "code",
   "execution_count": 1,
   "metadata": {
    "execution": {
     "iopub.execute_input": "2020-08-23T19:00:19.101675Z",
     "iopub.status.busy": "2020-08-23T19:00:19.098676Z",
     "iopub.status.idle": "2020-08-23T19:00:22.638010Z",
     "shell.execute_reply": "2020-08-23T19:00:22.640009Z"
    },
    "papermill": {
     "duration": 3.620798,
     "end_time": "2020-08-23T19:00:22.640009",
     "exception": false,
     "start_time": "2020-08-23T19:00:19.019211",
     "status": "completed"
    },
    "tags": [
     "remove_cell"
    ]
   },
   "outputs": [],
   "source": [
    "! jt -t grade3 -tf robotosans -cellw 1100"
   ]
  },
  {
   "cell_type": "markdown",
   "metadata": {
    "papermill": {
     "duration": 0.080955,
     "end_time": "2020-08-23T19:00:22.763941",
     "exception": false,
     "start_time": "2020-08-23T19:00:22.682986",
     "status": "completed"
    },
    "tags": []
   },
   "source": [
    "This table is automatically updated with new daily COVID data for the county of Santa Barbara, CA. Every day, the California Department of Public Health publishes COVID tracking metrics for each county, but does not save the previous day's data. This tool keeps track of the daily metrics that are used to monitor progress towards safe reopening in California."
   ]
  },
  {
   "cell_type": "code",
   "execution_count": 2,
   "metadata": {
    "execution": {
     "iopub.execute_input": "2020-08-23T19:00:22.870879Z",
     "iopub.status.busy": "2020-08-23T19:00:22.869879Z",
     "iopub.status.idle": "2020-08-23T19:00:28.242632Z",
     "shell.execute_reply": "2020-08-23T19:00:28.244632Z"
    },
    "papermill": {
     "duration": 5.429723,
     "end_time": "2020-08-23T19:00:28.244632",
     "exception": false,
     "start_time": "2020-08-23T19:00:22.814909",
     "status": "completed"
    },
    "slideshow": {
     "slide_type": "skip"
    },
    "tags": [
     "remove_cell"
    ]
   },
   "outputs": [],
   "source": [
    "# Preamble\n",
    "import os\n",
    "from IPython.display import Markdown as md\n",
    "import IPython\n",
    "import requests\n",
    "from bs4 import BeautifulSoup\n",
    "import re\n",
    "import pandas as pd\n",
    "import datetime\n",
    "import gspread\n",
    "from oauth2client.service_account import ServiceAccountCredentials"
   ]
  },
  {
   "cell_type": "code",
   "execution_count": 3,
   "metadata": {
    "execution": {
     "iopub.execute_input": "2020-08-23T19:00:28.380553Z",
     "iopub.status.busy": "2020-08-23T19:00:28.377556Z",
     "iopub.status.idle": "2020-08-23T19:00:28.383553Z",
     "shell.execute_reply": "2020-08-23T19:00:28.382553Z"
    },
    "papermill": {
     "duration": 0.058965,
     "end_time": "2020-08-23T19:00:28.383553",
     "exception": false,
     "start_time": "2020-08-23T19:00:28.324588",
     "status": "completed"
    },
    "tags": [
     "remove_cell"
    ]
   },
   "outputs": [],
   "source": [
    "# Change working directory (so that Windows task scheduler does not complain)\n",
    "os.chdir(\"C:/Users/Alice/Box Sync/PhD/Software/Python/COVID/COVID-SB\")"
   ]
  },
  {
   "cell_type": "code",
   "execution_count": 4,
   "metadata": {
    "execution": {
     "iopub.execute_input": "2020-08-23T19:00:28.461232Z",
     "iopub.status.busy": "2020-08-23T19:00:28.459237Z",
     "iopub.status.idle": "2020-08-23T19:00:29.767451Z",
     "shell.execute_reply": "2020-08-23T19:00:29.766451Z"
    },
    "papermill": {
     "duration": 1.341923,
     "end_time": "2020-08-23T19:00:29.767451",
     "exception": false,
     "start_time": "2020-08-23T19:00:28.425528",
     "status": "completed"
    },
    "slideshow": {
     "slide_type": "skip"
    },
    "tags": [
     "remove_cell"
    ]
   },
   "outputs": [],
   "source": [
    "# Request content from URL\n",
    "html_string = requests.get('https://www.cdph.ca.gov/Programs/CID/DCDC/Pages/COVID-19/COVID19CountyDataTable.aspx').content"
   ]
  },
  {
   "cell_type": "code",
   "execution_count": 5,
   "metadata": {
    "execution": {
     "iopub.execute_input": "2020-08-23T19:00:29.885384Z",
     "iopub.status.busy": "2020-08-23T19:00:29.843407Z",
     "iopub.status.idle": "2020-08-23T19:00:30.277677Z",
     "shell.execute_reply": "2020-08-23T19:00:30.279675Z"
    },
    "papermill": {
     "duration": 0.480242,
     "end_time": "2020-08-23T19:00:30.279675",
     "exception": false,
     "start_time": "2020-08-23T19:00:29.799433",
     "status": "completed"
    },
    "slideshow": {
     "slide_type": "skip"
    },
    "tags": [
     "remove_cell"
    ]
   },
   "outputs": [],
   "source": [
    "# Parse HTML\n",
    "soup = BeautifulSoup(html_string, 'html.parser')"
   ]
  },
  {
   "cell_type": "code",
   "execution_count": 6,
   "metadata": {
    "execution": {
     "iopub.execute_input": "2020-08-23T19:00:30.384360Z",
     "iopub.status.busy": "2020-08-23T19:00:30.380362Z",
     "iopub.status.idle": "2020-08-23T19:00:30.419339Z",
     "shell.execute_reply": "2020-08-23T19:00:30.420341Z"
    },
    "papermill": {
     "duration": 0.104678,
     "end_time": "2020-08-23T19:00:30.420341",
     "exception": false,
     "start_time": "2020-08-23T19:00:30.315663",
     "status": "completed"
    },
    "slideshow": {
     "slide_type": "skip"
    },
    "tags": [
     "remove_cell"
    ]
   },
   "outputs": [],
   "source": [
    "# Extract data for Santa Barbara\n",
    "table = soup.find_all(\"tr\", class_=\"ms-rteTableEvenRow-3\")\n",
    "SB = table[21]"
   ]
  },
  {
   "cell_type": "code",
   "execution_count": 7,
   "metadata": {
    "execution": {
     "iopub.execute_input": "2020-08-23T19:00:30.568253Z",
     "iopub.status.busy": "2020-08-23T19:00:30.541269Z",
     "iopub.status.idle": "2020-08-23T19:00:30.585244Z",
     "shell.execute_reply": "2020-08-23T19:00:30.589241Z"
    },
    "papermill": {
     "duration": 0.106938,
     "end_time": "2020-08-23T19:00:30.589241",
     "exception": false,
     "start_time": "2020-08-23T19:00:30.482303",
     "status": "completed"
    },
    "slideshow": {
     "slide_type": "skip"
    },
    "tags": [
     "remove_cell"
    ]
   },
   "outputs": [],
   "source": [
    "# Avg # tests per day (per 100,000 population)\n",
    "daily_tests = SB.find_all(\"td\", class_=\"ms-rteTableOddCol-3\")[0].text\n",
    "\n",
    "# Case rate per 100,000\n",
    "case_rate = SB.find_all(\"td\", class_=\"ms-rteTableEvenCol-3\")[1].text\n",
    "\n",
    "# Testing positivity (%)\n",
    "test_positivity = SB.find_all(\"td\", class_=\"ms-rteTableOddCol-3\")[1].text\n",
    "\n",
    "# % Change in 3-day avg COVID+ hospitalized patients\n",
    "change_hospit = SB.find_all(\"td\", class_=\"ms-rteTableEvenCol-3\")[2].text\n",
    "\n",
    "# % ICU beds currently available\n",
    "ICU_beds = SB.find_all(\"td\", class_=\"ms-rteTableOddCol-3\")[2].text\n",
    "\n",
    "# % Ventilators currently available\n",
    "ventilators = SB.find_all(\"td\", class_=\"ms-rteTableEvenCol-3\")[3].text\n",
    "\n",
    "# Extract date of last update\n",
    "update_date = soup.find_all(\"span\", class_=\"ms-rteStyle-Accent1\")[1]\\\n",
    "    .find(\"em\").text"
   ]
  },
  {
   "cell_type": "code",
   "execution_count": 8,
   "metadata": {
    "execution": {
     "iopub.execute_input": "2020-08-23T19:00:31.076244Z",
     "iopub.status.busy": "2020-08-23T19:00:31.075244Z",
     "iopub.status.idle": "2020-08-23T19:00:31.098239Z",
     "shell.execute_reply": "2020-08-23T19:00:31.093235Z"
    },
    "papermill": {
     "duration": 0.112651,
     "end_time": "2020-08-23T19:00:31.099231",
     "exception": false,
     "start_time": "2020-08-23T19:00:30.986580",
     "status": "completed"
    },
    "tags": [
     "remove_cell"
    ]
   },
   "outputs": [],
   "source": [
    "# Create updated date string\n",
    "update_tag = \"Table last updated by CDPH on \" + update_date.split(\" on \", 1)[1] + \".\""
   ]
  },
  {
   "cell_type": "code",
   "execution_count": 9,
   "metadata": {
    "execution": {
     "iopub.execute_input": "2020-08-23T19:00:31.606941Z",
     "iopub.status.busy": "2020-08-23T19:00:31.605944Z",
     "iopub.status.idle": "2020-08-23T19:00:31.640923Z",
     "shell.execute_reply": "2020-08-23T19:00:31.639921Z"
    },
    "papermill": {
     "duration": 0.464736,
     "end_time": "2020-08-23T19:00:31.640923",
     "exception": false,
     "start_time": "2020-08-23T19:00:31.176187",
     "status": "completed"
    },
    "slideshow": {
     "slide_type": "skip"
    },
    "tags": [
     "remove_cell"
    ]
   },
   "outputs": [],
   "source": [
    "# Set up Google Sheet API\n",
    "scope = [\"https://spreadsheets.google.com/feeds\",'https://www.googleapis.com/auth/spreadsheets',\"https://www.googleapis.com/auth/drive.file\",\"https://www.googleapis.com/auth/drive\"]\n",
    "creds = ServiceAccountCredentials.from_json_keyfile_name(\"credentials.json\", scope)\n",
    "client = gspread.authorize(creds)"
   ]
  },
  {
   "cell_type": "code",
   "execution_count": 10,
   "metadata": {
    "execution": {
     "iopub.execute_input": "2020-08-23T19:00:32.438260Z",
     "iopub.status.busy": "2020-08-23T19:00:32.435263Z",
     "iopub.status.idle": "2020-08-23T19:00:33.973298Z",
     "shell.execute_reply": "2020-08-23T19:00:33.972300Z"
    },
    "papermill": {
     "duration": 2.129457,
     "end_time": "2020-08-23T19:00:33.974297",
     "exception": false,
     "start_time": "2020-08-23T19:00:31.844840",
     "status": "completed"
    },
    "slideshow": {
     "slide_type": "skip"
    },
    "tags": [
     "remove_cell"
    ]
   },
   "outputs": [
    {
     "data": {
      "text/plain": [
       "{'spreadsheetId': '13GG0FPUFg_5xCouN0ZF3woaPXwjuxL2Dw3uYIfwUW-Q',\n",
       " 'updatedRange': 'Sheet1!A2:G2',\n",
       " 'updatedRows': 1,\n",
       " 'updatedColumns': 7,\n",
       " 'updatedCells': 7}"
      ]
     },
     "execution_count": 10,
     "metadata": {},
     "output_type": "execute_result"
    }
   ],
   "source": [
    "# Append daily data as a new row in Google Sheet\n",
    "sheet = client.open(\"COVID Daily Metrics\").sheet1\n",
    "insertRow = [datetime.date.today().strftime(\"%Y-%m-%d\"),\n",
    "             daily_tests,\n",
    "             case_rate,\n",
    "             test_positivity,\n",
    "             change_hospit,\n",
    "             ICU_beds,\n",
    "             ventilators]\n",
    "sheet.insert_row(insertRow, 2)"
   ]
  },
  {
   "cell_type": "code",
   "execution_count": 11,
   "metadata": {
    "execution": {
     "iopub.execute_input": "2020-08-23T19:00:34.059249Z",
     "iopub.status.busy": "2020-08-23T19:00:34.058251Z",
     "iopub.status.idle": "2020-08-23T19:00:34.658949Z",
     "shell.execute_reply": "2020-08-23T19:00:34.658949Z"
    },
    "papermill": {
     "duration": 0.646672,
     "end_time": "2020-08-23T19:00:34.659947",
     "exception": false,
     "start_time": "2020-08-23T19:00:34.013275",
     "status": "completed"
    },
    "scrolled": true,
    "slideshow": {
     "slide_type": "slide"
    },
    "tags": [
     "remove_cell"
    ]
   },
   "outputs": [],
   "source": [
    "# Extract data from Google Sheet as pandas dataframe\n",
    "sheet = client.open(\"COVID Daily Metrics\").sheet1\n",
    "data = sheet.get_all_records()\n",
    "result = pd.DataFrame(data).set_index(\"Date\")"
   ]
  },
  {
   "cell_type": "code",
   "execution_count": 12,
   "metadata": {
    "execution": {
     "iopub.execute_input": "2020-08-23T19:00:34.710918Z",
     "iopub.status.busy": "2020-08-23T19:00:34.710918Z",
     "iopub.status.idle": "2020-08-23T19:00:35.554947Z",
     "shell.execute_reply": "2020-08-23T19:00:35.555947Z"
    },
    "papermill": {
     "duration": 0.874014,
     "end_time": "2020-08-23T19:00:35.555947",
     "exception": false,
     "start_time": "2020-08-23T19:00:34.681933",
     "status": "completed"
    },
    "scrolled": true,
    "tags": [
     "remove_input"
    ]
   },
   "outputs": [
    {
     "data": {
      "text/html": [
       "<style  type=\"text/css\" >\n",
       "    #T_ed1e24b6_e572_11ea_9011_2c16dba0ec93 th {\n",
       "          text-align: center;\n",
       "    }    #T_ed1e24b6_e572_11ea_9011_2c16dba0ec93row0_col0 {\n",
       "            width:  20em;\n",
       "            text-align:  center;\n",
       "            font-weight:  bold;\n",
       "        }    #T_ed1e24b6_e572_11ea_9011_2c16dba0ec93row0_col1 {\n",
       "            width:  20em;\n",
       "            text-align:  center;\n",
       "        }    #T_ed1e24b6_e572_11ea_9011_2c16dba0ec93row0_col2 {\n",
       "            width:  20em;\n",
       "            text-align:  center;\n",
       "        }    #T_ed1e24b6_e572_11ea_9011_2c16dba0ec93row0_col3 {\n",
       "            width:  20em;\n",
       "            text-align:  center;\n",
       "        }    #T_ed1e24b6_e572_11ea_9011_2c16dba0ec93row0_col4 {\n",
       "            width:  20em;\n",
       "            text-align:  center;\n",
       "        }    #T_ed1e24b6_e572_11ea_9011_2c16dba0ec93row0_col5 {\n",
       "            width:  20em;\n",
       "            text-align:  center;\n",
       "        }    #T_ed1e24b6_e572_11ea_9011_2c16dba0ec93row0_col6 {\n",
       "            width:  20em;\n",
       "            text-align:  center;\n",
       "        }    #T_ed1e24b6_e572_11ea_9011_2c16dba0ec93row1_col0 {\n",
       "            width:  20em;\n",
       "            text-align:  center;\n",
       "            font-weight:  bold;\n",
       "        }    #T_ed1e24b6_e572_11ea_9011_2c16dba0ec93row1_col1 {\n",
       "            width:  20em;\n",
       "            text-align:  center;\n",
       "        }    #T_ed1e24b6_e572_11ea_9011_2c16dba0ec93row1_col2 {\n",
       "            width:  20em;\n",
       "            text-align:  center;\n",
       "        }    #T_ed1e24b6_e572_11ea_9011_2c16dba0ec93row1_col3 {\n",
       "            width:  20em;\n",
       "            text-align:  center;\n",
       "        }    #T_ed1e24b6_e572_11ea_9011_2c16dba0ec93row1_col4 {\n",
       "            width:  20em;\n",
       "            text-align:  center;\n",
       "        }    #T_ed1e24b6_e572_11ea_9011_2c16dba0ec93row1_col5 {\n",
       "            width:  20em;\n",
       "            text-align:  center;\n",
       "        }    #T_ed1e24b6_e572_11ea_9011_2c16dba0ec93row1_col6 {\n",
       "            width:  20em;\n",
       "            text-align:  center;\n",
       "        }    #T_ed1e24b6_e572_11ea_9011_2c16dba0ec93row2_col0 {\n",
       "            width:  20em;\n",
       "            text-align:  center;\n",
       "            font-weight:  bold;\n",
       "        }    #T_ed1e24b6_e572_11ea_9011_2c16dba0ec93row2_col1 {\n",
       "            width:  20em;\n",
       "            text-align:  center;\n",
       "        }    #T_ed1e24b6_e572_11ea_9011_2c16dba0ec93row2_col2 {\n",
       "            width:  20em;\n",
       "            text-align:  center;\n",
       "        }    #T_ed1e24b6_e572_11ea_9011_2c16dba0ec93row2_col3 {\n",
       "            width:  20em;\n",
       "            text-align:  center;\n",
       "        }    #T_ed1e24b6_e572_11ea_9011_2c16dba0ec93row2_col4 {\n",
       "            width:  20em;\n",
       "            text-align:  center;\n",
       "        }    #T_ed1e24b6_e572_11ea_9011_2c16dba0ec93row2_col5 {\n",
       "            width:  20em;\n",
       "            text-align:  center;\n",
       "        }    #T_ed1e24b6_e572_11ea_9011_2c16dba0ec93row2_col6 {\n",
       "            width:  20em;\n",
       "            text-align:  center;\n",
       "        }    #T_ed1e24b6_e572_11ea_9011_2c16dba0ec93row3_col0 {\n",
       "            width:  20em;\n",
       "            text-align:  center;\n",
       "            font-weight:  bold;\n",
       "        }    #T_ed1e24b6_e572_11ea_9011_2c16dba0ec93row3_col1 {\n",
       "            width:  20em;\n",
       "            text-align:  center;\n",
       "        }    #T_ed1e24b6_e572_11ea_9011_2c16dba0ec93row3_col2 {\n",
       "            width:  20em;\n",
       "            text-align:  center;\n",
       "        }    #T_ed1e24b6_e572_11ea_9011_2c16dba0ec93row3_col3 {\n",
       "            width:  20em;\n",
       "            text-align:  center;\n",
       "        }    #T_ed1e24b6_e572_11ea_9011_2c16dba0ec93row3_col4 {\n",
       "            width:  20em;\n",
       "            text-align:  center;\n",
       "        }    #T_ed1e24b6_e572_11ea_9011_2c16dba0ec93row3_col5 {\n",
       "            width:  20em;\n",
       "            text-align:  center;\n",
       "        }    #T_ed1e24b6_e572_11ea_9011_2c16dba0ec93row3_col6 {\n",
       "            width:  20em;\n",
       "            text-align:  center;\n",
       "        }</style><table id=\"T_ed1e24b6_e572_11ea_9011_2c16dba0ec93\" ><thead>    <tr>        <th class=\"col_heading level0 col0\" >Date</th>        <th class=\"col_heading level0 col1\" >Daily tests (per 100,000)¹</th>        <th class=\"col_heading level0 col2\" >Case rate (per 100,000)²</th>        <th class=\"col_heading level0 col3\" >Testing positivity (%)³</th>        <th class=\"col_heading level0 col4\" >Change in hospitalizations (%)⁴</th>        <th class=\"col_heading level0 col5\" >ICU beds available (%)</th>        <th class=\"col_heading level0 col6\" >Ventilators (available (%)</th>    </tr></thead><tbody>\n",
       "                <tr>\n",
       "                                <td id=\"T_ed1e24b6_e572_11ea_9011_2c16dba0ec93row0_col0\" class=\"data row0 col0\" >2020-08-23</td>\n",
       "                        <td id=\"T_ed1e24b6_e572_11ea_9011_2c16dba0ec93row0_col1\" class=\"data row0 col1\" >232.7</td>\n",
       "                        <td id=\"T_ed1e24b6_e572_11ea_9011_2c16dba0ec93row0_col2\" class=\"data row0 col2\" >136.7</td>\n",
       "                        <td id=\"T_ed1e24b6_e572_11ea_9011_2c16dba0ec93row0_col3\" class=\"data row0 col3\" > ✔</td>\n",
       "                        <td id=\"T_ed1e24b6_e572_11ea_9011_2c16dba0ec93row0_col4\" class=\"data row0 col4\" > ✔</td>\n",
       "                        <td id=\"T_ed1e24b6_e572_11ea_9011_2c16dba0ec93row0_col5\" class=\"data row0 col5\" > ✔</td>\n",
       "                        <td id=\"T_ed1e24b6_e572_11ea_9011_2c16dba0ec93row0_col6\" class=\"data row0 col6\" > ✔</td>\n",
       "            </tr>\n",
       "            <tr>\n",
       "                                <td id=\"T_ed1e24b6_e572_11ea_9011_2c16dba0ec93row1_col0\" class=\"data row1 col0\" >2020-08-22</td>\n",
       "                        <td id=\"T_ed1e24b6_e572_11ea_9011_2c16dba0ec93row1_col1\" class=\"data row1 col1\" >210.4</td>\n",
       "                        <td id=\"T_ed1e24b6_e572_11ea_9011_2c16dba0ec93row1_col2\" class=\"data row1 col2\" >138.7</td>\n",
       "                        <td id=\"T_ed1e24b6_e572_11ea_9011_2c16dba0ec93row1_col3\" class=\"data row1 col3\" > ✔</td>\n",
       "                        <td id=\"T_ed1e24b6_e572_11ea_9011_2c16dba0ec93row1_col4\" class=\"data row1 col4\" > ✔</td>\n",
       "                        <td id=\"T_ed1e24b6_e572_11ea_9011_2c16dba0ec93row1_col5\" class=\"data row1 col5\" > ✔</td>\n",
       "                        <td id=\"T_ed1e24b6_e572_11ea_9011_2c16dba0ec93row1_col6\" class=\"data row1 col6\" > ✔</td>\n",
       "            </tr>\n",
       "            <tr>\n",
       "                                <td id=\"T_ed1e24b6_e572_11ea_9011_2c16dba0ec93row2_col0\" class=\"data row2 col0\" >2020-08-21</td>\n",
       "                        <td id=\"T_ed1e24b6_e572_11ea_9011_2c16dba0ec93row2_col1\" class=\"data row2 col1\" >208.7</td>\n",
       "                        <td id=\"T_ed1e24b6_e572_11ea_9011_2c16dba0ec93row2_col2\" class=\"data row2 col2\" >138.5</td>\n",
       "                        <td id=\"T_ed1e24b6_e572_11ea_9011_2c16dba0ec93row2_col3\" class=\"data row2 col3\" > ✔</td>\n",
       "                        <td id=\"T_ed1e24b6_e572_11ea_9011_2c16dba0ec93row2_col4\" class=\"data row2 col4\" > ✔</td>\n",
       "                        <td id=\"T_ed1e24b6_e572_11ea_9011_2c16dba0ec93row2_col5\" class=\"data row2 col5\" > ✔</td>\n",
       "                        <td id=\"T_ed1e24b6_e572_11ea_9011_2c16dba0ec93row2_col6\" class=\"data row2 col6\" > ✔</td>\n",
       "            </tr>\n",
       "            <tr>\n",
       "                                <td id=\"T_ed1e24b6_e572_11ea_9011_2c16dba0ec93row3_col0\" class=\"data row3 col0\" >2020-08-20</td>\n",
       "                        <td id=\"T_ed1e24b6_e572_11ea_9011_2c16dba0ec93row3_col1\" class=\"data row3 col1\" >214.5</td>\n",
       "                        <td id=\"T_ed1e24b6_e572_11ea_9011_2c16dba0ec93row3_col2\" class=\"data row3 col2\" >148.8</td>\n",
       "                        <td id=\"T_ed1e24b6_e572_11ea_9011_2c16dba0ec93row3_col3\" class=\"data row3 col3\" > ✔</td>\n",
       "                        <td id=\"T_ed1e24b6_e572_11ea_9011_2c16dba0ec93row3_col4\" class=\"data row3 col4\" > ✔</td>\n",
       "                        <td id=\"T_ed1e24b6_e572_11ea_9011_2c16dba0ec93row3_col5\" class=\"data row3 col5\" > ✔</td>\n",
       "                        <td id=\"T_ed1e24b6_e572_11ea_9011_2c16dba0ec93row3_col6\" class=\"data row3 col6\" > ✔</td>\n",
       "            </tr>\n",
       "    </tbody></table>"
      ],
      "text/plain": [
       "<pandas.io.formats.style.Styler at 0x235add8a808>"
      ]
     },
     "execution_count": 12,
     "metadata": {},
     "output_type": "execute_result"
    }
   ],
   "source": [
    "# Style the pandas dataframe\n",
    "d = dict(selector=\"th\",\n",
    "         props=[('text-align', 'center')])\n",
    "\n",
    "result.reset_index().style\\\n",
    "    .set_properties(**{'width':'20em', 'text-align':'center'})\\\n",
    "    .set_properties(subset=['Date'], **{'font-weight': 'bold'})\\\n",
    "    .set_table_styles([d])\\\n",
    "    .set_precision(1)\\\n",
    "    .hide_index()"
   ]
  },
  {
   "cell_type": "markdown",
   "metadata": {
    "papermill": {
     "duration": 0.030979,
     "end_time": "2020-08-23T19:00:35.639897",
     "exception": false,
     "start_time": "2020-08-23T19:00:35.608918",
     "status": "completed"
    },
    "tags": []
   },
   "source": [
    "<sup>Notes: (1) 7 day average with a 7-day lag. (2) 14 day average. (3) 7 day average with a 7-day lag. (4) Change in 3 day average.</sup>"
   ]
  },
  {
   "cell_type": "code",
   "execution_count": 13,
   "metadata": {
    "execution": {
     "iopub.execute_input": "2020-08-23T19:00:35.730845Z",
     "iopub.status.busy": "2020-08-23T19:00:35.729846Z",
     "iopub.status.idle": "2020-08-23T19:00:35.733844Z",
     "shell.execute_reply": "2020-08-23T19:00:35.734843Z"
    },
    "papermill": {
     "duration": 0.042975,
     "end_time": "2020-08-23T19:00:35.734843",
     "exception": false,
     "start_time": "2020-08-23T19:00:35.691868",
     "status": "completed"
    },
    "tags": [
     "remove_input"
    ]
   },
   "outputs": [
    {
     "data": {
      "text/markdown": [
       "Table last updated by CDPH on August 23, 2020."
      ],
      "text/plain": [
       "<IPython.core.display.Markdown object>"
      ]
     },
     "execution_count": 13,
     "metadata": {},
     "output_type": "execute_result"
    }
   ],
   "source": [
    "md(update_tag)"
   ]
  },
  {
   "cell_type": "markdown",
   "metadata": {
    "papermill": {
     "duration": 0.045974,
     "end_time": "2020-08-23T19:00:35.809801",
     "exception": false,
     "start_time": "2020-08-23T19:00:35.763827",
     "status": "completed"
    },
    "tags": []
   },
   "source": [
    "## Tracking county closures in Santa Barbara"
   ]
  },
  {
   "cell_type": "markdown",
   "metadata": {
    "papermill": {
     "duration": 0.042976,
     "end_time": "2020-08-23T19:00:35.890755",
     "exception": false,
     "start_time": "2020-08-23T19:00:35.847779",
     "status": "completed"
    },
    "tags": []
   },
   "source": [
    "The state of California is using a data-driven approach informed by scientific evidence to tailor its response to COVID-19. Three dimensions of concern are monitored to assess whether a county should be placed on the County Monitoring List:\n",
    " 1. Elevated Disease Transmission\n",
    " 2. Increasing Hospitalization\n",
    " 3. Limited Hospital Capacity\n",
    "\n",
    "Once a county appears on the County Monitoring List for three consecutive days, indoor operations in the sectors listed in Section 3 of the [July 13th State Health Officer Order](https://www.cdph.ca.gov/Programs/CID/DCDC/CDPH%20Document%20Library/COVID-19/SHO%20Order%20Dimming%20Entire%20State%207-13-2020.pdf) must close.\n",
    "\n",
    "This table tracks where Santa Barbara stands in terms of the criteria for inclusion on the County Monitoring List. As of 20 August 2020, the criteria for inclusion on the monitoring list are:\n",
    "\n",
    "* Case rate >100 OR (Case rate >25 AND Positivity >8%)\n",
    "* \\>10% increase in hospitalizations\n",
    "* <20% ICU beds available OR <25% ventilators available\n",
    "\n",
    "If Santa Barbara meets the criteria for removal from the County Monitoring List for a certain metric, then a checkmark ✔ is displayed in the table.\n",
    "\n",
    "Read more at <https://covid19.ca.gov/roadmap-counties/>.\n",
    "\n",
    "Data source for county metrics: https://www.cdph.ca.gov/Programs/CID/DCDC/Pages/COVID-19/COVID19CountyDataTable.aspx."
   ]
  },
  {
   "cell_type": "markdown",
   "metadata": {
    "papermill": {
     "duration": 0.027984,
     "end_time": "2020-08-23T19:00:35.963713",
     "exception": false,
     "start_time": "2020-08-23T19:00:35.935729",
     "status": "completed"
    },
    "tags": []
   },
   "source": [
    "**See the code used to scrape the data: https://github.com/walice/COVID-SB/.**"
   ]
  },
  {
   "cell_type": "code",
   "execution_count": 14,
   "metadata": {
    "execution": {
     "iopub.execute_input": "2020-08-23T19:00:36.065235Z",
     "iopub.status.busy": "2020-08-23T19:00:36.064236Z",
     "iopub.status.idle": "2020-08-23T19:00:36.071232Z",
     "shell.execute_reply": "2020-08-23T19:00:36.073231Z"
    },
    "papermill": {
     "duration": 0.073959,
     "end_time": "2020-08-23T19:00:36.073231",
     "exception": false,
     "start_time": "2020-08-23T19:00:35.999272",
     "status": "completed"
    },
    "tags": [
     "remove_cell"
    ]
   },
   "outputs": [
    {
     "data": {
      "application/javascript": [
       "IPython.notebook.save_notebook()\n"
      ],
      "text/plain": [
       "<IPython.core.display.Javascript object>"
      ]
     },
     "metadata": {},
     "output_type": "display_data"
    }
   ],
   "source": [
    "%%javascript\n",
    "IPython.notebook.save_notebook()"
   ]
  },
  {
   "cell_type": "code",
   "execution_count": 15,
   "metadata": {
    "execution": {
     "iopub.execute_input": "2020-08-23T19:00:36.393560Z",
     "iopub.status.busy": "2020-08-23T19:00:36.391561Z",
     "iopub.status.idle": "2020-08-23T19:00:41.123612Z",
     "shell.execute_reply": "2020-08-23T19:00:41.124610Z"
    },
    "papermill": {
     "duration": 4.818995,
     "end_time": "2020-08-23T19:00:41.124610",
     "exception": false,
     "start_time": "2020-08-23T19:00:36.305615",
     "status": "completed"
    },
    "slideshow": {
     "slide_type": "skip"
    },
    "tags": [
     "remove_cell"
    ]
   },
   "outputs": [
    {
     "name": "stderr",
     "output_type": "stream",
     "text": [
      "[NbConvertApp] Converting notebook index.ipynb to html\n",
      "[NbConvertApp] Writing 356180 bytes to index.html\n"
     ]
    }
   ],
   "source": [
    "# Convert Jupyter Notebook to HTML\n",
    "! jupyter nbconvert \"index.ipynb\" --to html --TagRemovePreprocessor.enabled=True --TagRemovePreprocessor.remove_cell_tags=\"['remove_cell']\" --TagRemovePreprocessor.remove_input_tags=\"['remove_input']\" --no-prompt"
   ]
  },
  {
   "cell_type": "code",
   "execution_count": 16,
   "metadata": {
    "execution": {
     "iopub.execute_input": "2020-08-23T19:00:41.254537Z",
     "iopub.status.busy": "2020-08-23T19:00:41.250541Z",
     "iopub.status.idle": "2020-08-23T19:00:41.256538Z",
     "shell.execute_reply": "2020-08-23T19:00:41.251540Z"
    },
    "papermill": {
     "duration": 0.078954,
     "end_time": "2020-08-23T19:00:41.257536",
     "exception": false,
     "start_time": "2020-08-23T19:00:41.178582",
     "status": "completed"
    },
    "tags": [
     "remove_cell"
    ]
   },
   "outputs": [],
   "source": [
    "# Create daily commit message\n",
    "now = datetime.datetime.now()\n",
    "commit_message = \"Last scraped on \" + str(now)"
   ]
  },
  {
   "cell_type": "code",
   "execution_count": null,
   "metadata": {
    "execution": {
     "iopub.execute_input": "2020-08-21T08:02:25.587304Z",
     "iopub.status.busy": "2020-08-21T08:02:25.586302Z",
     "iopub.status.idle": "2020-08-21T08:02:31.900079Z",
     "shell.execute_reply": "2020-08-21T08:02:31.889084Z"
    },
    "papermill": {
     "duration": null,
     "end_time": null,
     "exception": false,
     "start_time": "2020-08-23T19:00:41.343487",
     "status": "running"
    },
    "tags": [
     "remove_cell"
    ]
   },
   "outputs": [],
   "source": [
    "# Deploy to GitHub\n",
    "! git add .\n",
    "! echo $commit_message > commit_message.txt\n",
    "! git commit -F commit_message.txt\n",
    "! git push"
   ]
  }
 ],
 "metadata": {
  "celltoolbar": "Tags",
  "kernelspec": {
   "display_name": "Python 3",
   "language": "python",
   "name": "python3"
  },
  "language_info": {
   "codemirror_mode": {
    "name": "ipython",
    "version": 3
   },
   "file_extension": ".py",
   "mimetype": "text/x-python",
   "name": "python",
   "nbconvert_exporter": "python",
   "pygments_lexer": "ipython3",
   "version": "3.7.6"
  },
  "papermill": {
   "duration": null,
   "end_time": null,
   "environment_variables": {},
   "exception": null,
   "input_path": "C:/Users/Alice/Box Sync/PhD/Software/Python/COVID/COVID-SB/index.ipynb",
   "output_path": "C:/Users/Alice/Box Sync/PhD/Software/Python/COVID/COVID-SB/index.ipynb",
   "parameters": {},
   "start_time": "2020-08-23T19:00:14.554873",
   "version": "2.1.3"
  }
 },
 "nbformat": 4,
 "nbformat_minor": 4
}