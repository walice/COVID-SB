{
 "cells": [
  {
   "cell_type": "markdown",
   "metadata": {
    "papermill": {
     "duration": 0.0105,
     "end_time": "2020-08-26T22:34:02.286051",
     "exception": false,
     "start_time": "2020-08-26T22:34:02.275551",
     "status": "completed"
    },
    "tags": []
   },
   "source": [
    "# Daily COVID monitoring data for Santa Barbara county"
   ]
  },
  {
   "cell_type": "code",
   "execution_count": 1,
   "metadata": {
    "execution": {
     "iopub.execute_input": "2020-08-26T22:34:02.313964Z",
     "iopub.status.busy": "2020-08-26T22:34:02.313411Z",
     "iopub.status.idle": "2020-08-26T22:34:04.723837Z",
     "shell.execute_reply": "2020-08-26T22:34:04.724702Z"
    },
    "papermill": {
     "duration": 2.429122,
     "end_time": "2020-08-26T22:34:04.724918",
     "exception": false,
     "start_time": "2020-08-26T22:34:02.295796",
     "status": "completed"
    },
    "tags": [
     "remove_cell"
    ]
   },
   "outputs": [],
   "source": [
    "! jt -t grade3 -tf robotosans -cellw 1100"
   ]
  },
  {
   "cell_type": "markdown",
   "metadata": {
    "papermill": {
     "duration": 0.009975,
     "end_time": "2020-08-26T22:34:04.744839",
     "exception": false,
     "start_time": "2020-08-26T22:34:04.734864",
     "status": "completed"
    },
    "tags": []
   },
   "source": [
    "This table is automatically updated with new daily COVID data for the county of Santa Barbara, CA. Every day, the California Department of Public Health publishes COVID tracking metrics for each county, but does not save the previous day's data. This tool keeps track of the daily metrics that are used to monitor progress towards safe reopening in California."
   ]
  },
  {
   "cell_type": "code",
   "execution_count": 2,
   "metadata": {
    "execution": {
     "iopub.execute_input": "2020-08-26T22:34:04.769046Z",
     "iopub.status.busy": "2020-08-26T22:34:04.768334Z",
     "iopub.status.idle": "2020-08-26T22:34:08.373936Z",
     "shell.execute_reply": "2020-08-26T22:34:08.374779Z"
    },
    "papermill": {
     "duration": 3.620674,
     "end_time": "2020-08-26T22:34:08.374944",
     "exception": false,
     "start_time": "2020-08-26T22:34:04.754270",
     "status": "completed"
    },
    "slideshow": {
     "slide_type": "skip"
    },
    "tags": [
     "remove_cell"
    ]
   },
   "outputs": [],
   "source": [
    "# Preamble\n",
    "import os\n",
    "from IPython.display import Markdown as md\n",
    "import IPython\n",
    "import requests\n",
    "from bs4 import BeautifulSoup\n",
    "import re\n",
    "import pandas as pd\n",
    "import datetime\n",
    "import gspread\n",
    "from oauth2client.service_account import ServiceAccountCredentials"
   ]
  },
  {
   "cell_type": "code",
   "execution_count": 3,
   "metadata": {
    "execution": {
     "iopub.execute_input": "2020-08-26T22:34:08.400151Z",
     "iopub.status.busy": "2020-08-26T22:34:08.399558Z",
     "iopub.status.idle": "2020-08-26T22:34:08.400983Z",
     "shell.execute_reply": "2020-08-26T22:34:08.400577Z"
    },
    "papermill": {
     "duration": 0.016215,
     "end_time": "2020-08-26T22:34:08.401094",
     "exception": false,
     "start_time": "2020-08-26T22:34:08.384879",
     "status": "completed"
    },
    "tags": [
     "remove_cell"
    ]
   },
   "outputs": [],
   "source": [
    "# Set working directory\n",
    "os.chdir(\"/home/alice_lepissier/COVID-SB\")"
   ]
  },
  {
   "cell_type": "code",
   "execution_count": 4,
   "metadata": {
    "execution": {
     "iopub.execute_input": "2020-08-26T22:34:08.426004Z",
     "iopub.status.busy": "2020-08-26T22:34:08.425471Z",
     "iopub.status.idle": "2020-08-26T22:34:09.890372Z",
     "shell.execute_reply": "2020-08-26T22:34:09.891148Z"
    },
    "papermill": {
     "duration": 1.480539,
     "end_time": "2020-08-26T22:34:09.891305",
     "exception": false,
     "start_time": "2020-08-26T22:34:08.410766",
     "status": "completed"
    },
    "slideshow": {
     "slide_type": "skip"
    },
    "tags": [
     "remove_cell"
    ]
   },
   "outputs": [],
   "source": [
    "# Request content from URL\n",
    "html_string = requests.get('https://www.cdph.ca.gov/Programs/CID/DCDC/Pages/COVID-19/COVID19CountyDataTable.aspx').content"
   ]
  },
  {
   "cell_type": "code",
   "execution_count": 5,
   "metadata": {
    "execution": {
     "iopub.execute_input": "2020-08-26T22:34:09.919427Z",
     "iopub.status.busy": "2020-08-26T22:34:09.918954Z",
     "iopub.status.idle": "2020-08-26T22:34:10.008866Z",
     "shell.execute_reply": "2020-08-26T22:34:10.009603Z"
    },
    "papermill": {
     "duration": 0.108681,
     "end_time": "2020-08-26T22:34:10.009770",
     "exception": false,
     "start_time": "2020-08-26T22:34:09.901089",
     "status": "completed"
    },
    "slideshow": {
     "slide_type": "skip"
    },
    "tags": [
     "remove_cell"
    ]
   },
   "outputs": [],
   "source": [
    "# Parse HTML\n",
    "soup = BeautifulSoup(html_string, 'html.parser')"
   ]
  },
  {
   "cell_type": "code",
   "execution_count": 6,
   "metadata": {
    "execution": {
     "iopub.execute_input": "2020-08-26T22:34:10.036627Z",
     "iopub.status.busy": "2020-08-26T22:34:10.036142Z",
     "iopub.status.idle": "2020-08-26T22:34:10.043332Z",
     "shell.execute_reply": "2020-08-26T22:34:10.044007Z"
    },
    "papermill": {
     "duration": 0.024726,
     "end_time": "2020-08-26T22:34:10.044152",
     "exception": false,
     "start_time": "2020-08-26T22:34:10.019426",
     "status": "completed"
    },
    "slideshow": {
     "slide_type": "skip"
    },
    "tags": [
     "remove_cell"
    ]
   },
   "outputs": [],
   "source": [
    "# Extract data for Santa Barbara\n",
    "table = soup.find_all(\"tr\", class_=\"ms-rteTableEvenRow-3\")\n",
    "SB = table[21]"
   ]
  },
  {
   "cell_type": "code",
   "execution_count": 7,
   "metadata": {
    "execution": {
     "iopub.execute_input": "2020-08-26T22:34:10.072601Z",
     "iopub.status.busy": "2020-08-26T22:34:10.072113Z",
     "iopub.status.idle": "2020-08-26T22:34:10.081541Z",
     "shell.execute_reply": "2020-08-26T22:34:10.082253Z"
    },
    "papermill": {
     "duration": 0.028838,
     "end_time": "2020-08-26T22:34:10.082400",
     "exception": false,
     "start_time": "2020-08-26T22:34:10.053562",
     "status": "completed"
    },
    "slideshow": {
     "slide_type": "skip"
    },
    "tags": [
     "remove_cell"
    ]
   },
   "outputs": [],
   "source": [
    "# Avg # tests per day (per 100,000 population)\n",
    "daily_tests = SB.find_all(\"td\", class_=\"ms-rteTableOddCol-3\")[0].text\n",
    "\n",
    "# Case rate per 100,000\n",
    "case_rate = SB.find_all(\"td\", class_=\"ms-rteTableEvenCol-3\")[1].text\n",
    "\n",
    "# Testing positivity (%)\n",
    "test_positivity = SB.find_all(\"td\", class_=\"ms-rteTableOddCol-3\")[1].text\n",
    "\n",
    "# % Change in 3-day avg COVID+ hospitalized patients\n",
    "change_hospit = SB.find_all(\"td\", class_=\"ms-rteTableEvenCol-3\")[2].text\n",
    "\n",
    "# % ICU beds currently available\n",
    "ICU_beds = SB.find_all(\"td\", class_=\"ms-rteTableOddCol-3\")[2].text\n",
    "\n",
    "# % Ventilators currently available\n",
    "ventilators = SB.find_all(\"td\", class_=\"ms-rteTableEvenCol-3\")[3].text\n",
    "\n",
    "# Extract date of last update\n",
    "update_date = soup.find_all(\"span\", class_=\"ms-rteStyle-Accent1\")[1]\\\n",
    "    .find(\"em\").text"
   ]
  },
  {
   "cell_type": "code",
   "execution_count": 8,
   "metadata": {
    "execution": {
     "iopub.execute_input": "2020-08-26T22:34:10.106179Z",
     "iopub.status.busy": "2020-08-26T22:34:10.105580Z",
     "iopub.status.idle": "2020-08-26T22:34:10.107003Z",
     "shell.execute_reply": "2020-08-26T22:34:10.106610Z"
    },
    "papermill": {
     "duration": 0.015268,
     "end_time": "2020-08-26T22:34:10.107108",
     "exception": false,
     "start_time": "2020-08-26T22:34:10.091840",
     "status": "completed"
    },
    "tags": [
     "remove_cell"
    ]
   },
   "outputs": [],
   "source": [
    "# Create updated date string\n",
    "update_tag = \"Table last updated by CDPH on \" + update_date.split(\" on \", 1)[1] + \".\""
   ]
  },
  {
   "cell_type": "code",
   "execution_count": 9,
   "metadata": {
    "execution": {
     "iopub.execute_input": "2020-08-26T22:34:10.132242Z",
     "iopub.status.busy": "2020-08-26T22:34:10.131618Z",
     "iopub.status.idle": "2020-08-26T22:34:10.135909Z",
     "shell.execute_reply": "2020-08-26T22:34:10.136575Z"
    },
    "papermill": {
     "duration": 0.020435,
     "end_time": "2020-08-26T22:34:10.136721",
     "exception": false,
     "start_time": "2020-08-26T22:34:10.116286",
     "status": "completed"
    },
    "slideshow": {
     "slide_type": "skip"
    },
    "tags": [
     "remove_cell"
    ]
   },
   "outputs": [],
   "source": [
    "# Set up Google Sheet API\n",
    "scope = [\"https://spreadsheets.google.com/feeds\",'https://www.googleapis.com/auth/spreadsheets',\"https://www.googleapis.com/auth/drive.file\",\"https://www.googleapis.com/auth/drive\"]\n",
    "creds = ServiceAccountCredentials.from_json_keyfile_name(\"credentials.json\", scope)\n",
    "client = gspread.authorize(creds)"
   ]
  },
  {
   "cell_type": "code",
   "execution_count": 10,
   "metadata": {
    "execution": {
     "iopub.execute_input": "2020-08-26T22:34:10.160862Z",
     "iopub.status.busy": "2020-08-26T22:34:10.160380Z",
     "iopub.status.idle": "2020-08-26T22:34:13.357948Z",
     "shell.execute_reply": "2020-08-26T22:34:13.358680Z"
    },
    "papermill": {
     "duration": 3.212286,
     "end_time": "2020-08-26T22:34:13.358846",
     "exception": false,
     "start_time": "2020-08-26T22:34:10.146560",
     "status": "completed"
    },
    "slideshow": {
     "slide_type": "skip"
    },
    "tags": [
     "remove_cell"
    ]
   },
   "outputs": [
    {
     "data": {
      "text/plain": [
       "{'spreadsheetId': '13GG0FPUFg_5xCouN0ZF3woaPXwjuxL2Dw3uYIfwUW-Q',\n",
       " 'updatedRange': 'Sheet1!A2:G2',\n",
       " 'updatedRows': 1,\n",
       " 'updatedColumns': 7,\n",
       " 'updatedCells': 7}"
      ]
     },
     "execution_count": 10,
     "metadata": {},
     "output_type": "execute_result"
    }
   ],
   "source": [
    "# Append daily data as a new row in Google Sheet\n",
    "sheet = client.open(\"COVID Daily Metrics\").sheet1\n",
    "insertRow = [datetime.date.today().strftime(\"%Y-%m-%d\"),\n",
    "             daily_tests,\n",
    "             case_rate,\n",
    "             test_positivity,\n",
    "             change_hospit,\n",
    "             ICU_beds,\n",
    "             ventilators]\n",
    "sheet.insert_row(insertRow, 2)"
   ]
  },
  {
   "cell_type": "code",
   "execution_count": 11,
   "metadata": {
    "execution": {
     "iopub.execute_input": "2020-08-26T22:34:13.384517Z",
     "iopub.status.busy": "2020-08-26T22:34:13.384042Z",
     "iopub.status.idle": "2020-08-26T22:34:14.239222Z",
     "shell.execute_reply": "2020-08-26T22:34:14.240003Z"
    },
    "papermill": {
     "duration": 0.871269,
     "end_time": "2020-08-26T22:34:14.240174",
     "exception": false,
     "start_time": "2020-08-26T22:34:13.368905",
     "status": "completed"
    },
    "scrolled": true,
    "slideshow": {
     "slide_type": "slide"
    },
    "tags": [
     "remove_cell"
    ]
   },
   "outputs": [],
   "source": [
    "# Extract data from Google Sheet as pandas dataframe\n",
    "sheet = client.open(\"COVID Daily Metrics\").sheet1\n",
    "data = sheet.get_all_records()\n",
    "result = pd.DataFrame(data).set_index(\"Date\")"
   ]
  },
  {
   "cell_type": "code",
   "execution_count": 12,
   "metadata": {
    "execution": {
     "iopub.execute_input": "2020-08-26T22:34:14.267152Z",
     "iopub.status.busy": "2020-08-26T22:34:14.266665Z",
     "iopub.status.idle": "2020-08-26T22:34:15.375730Z",
     "shell.execute_reply": "2020-08-26T22:34:15.376481Z"
    },
    "papermill": {
     "duration": 1.124873,
     "end_time": "2020-08-26T22:34:15.376641",
     "exception": false,
     "start_time": "2020-08-26T22:34:14.251768",
     "status": "completed"
    },
    "scrolled": true,
    "tags": [
     "remove_input"
    ]
   },
   "outputs": [
    {
     "data": {
      "text/html": [
       "<style  type=\"text/css\" >\n",
       "    #T_45912c32_e7ec_11ea_b090_42010a8a0004 th {\n",
       "          text-align: center;\n",
       "    }#T_45912c32_e7ec_11ea_b090_42010a8a0004row0_col0,#T_45912c32_e7ec_11ea_b090_42010a8a0004row1_col0,#T_45912c32_e7ec_11ea_b090_42010a8a0004row2_col0,#T_45912c32_e7ec_11ea_b090_42010a8a0004row3_col0,#T_45912c32_e7ec_11ea_b090_42010a8a0004row4_col0,#T_45912c32_e7ec_11ea_b090_42010a8a0004row5_col0,#T_45912c32_e7ec_11ea_b090_42010a8a0004row6_col0{\n",
       "            width:  20em;\n",
       "            text-align:  center;\n",
       "            font-weight:  bold;\n",
       "        }#T_45912c32_e7ec_11ea_b090_42010a8a0004row0_col1,#T_45912c32_e7ec_11ea_b090_42010a8a0004row0_col2,#T_45912c32_e7ec_11ea_b090_42010a8a0004row0_col3,#T_45912c32_e7ec_11ea_b090_42010a8a0004row0_col4,#T_45912c32_e7ec_11ea_b090_42010a8a0004row0_col5,#T_45912c32_e7ec_11ea_b090_42010a8a0004row0_col6,#T_45912c32_e7ec_11ea_b090_42010a8a0004row1_col1,#T_45912c32_e7ec_11ea_b090_42010a8a0004row1_col2,#T_45912c32_e7ec_11ea_b090_42010a8a0004row1_col3,#T_45912c32_e7ec_11ea_b090_42010a8a0004row1_col4,#T_45912c32_e7ec_11ea_b090_42010a8a0004row1_col5,#T_45912c32_e7ec_11ea_b090_42010a8a0004row1_col6,#T_45912c32_e7ec_11ea_b090_42010a8a0004row2_col1,#T_45912c32_e7ec_11ea_b090_42010a8a0004row2_col2,#T_45912c32_e7ec_11ea_b090_42010a8a0004row2_col3,#T_45912c32_e7ec_11ea_b090_42010a8a0004row2_col4,#T_45912c32_e7ec_11ea_b090_42010a8a0004row2_col5,#T_45912c32_e7ec_11ea_b090_42010a8a0004row2_col6,#T_45912c32_e7ec_11ea_b090_42010a8a0004row3_col1,#T_45912c32_e7ec_11ea_b090_42010a8a0004row3_col2,#T_45912c32_e7ec_11ea_b090_42010a8a0004row3_col3,#T_45912c32_e7ec_11ea_b090_42010a8a0004row3_col4,#T_45912c32_e7ec_11ea_b090_42010a8a0004row3_col5,#T_45912c32_e7ec_11ea_b090_42010a8a0004row3_col6,#T_45912c32_e7ec_11ea_b090_42010a8a0004row4_col1,#T_45912c32_e7ec_11ea_b090_42010a8a0004row4_col2,#T_45912c32_e7ec_11ea_b090_42010a8a0004row4_col3,#T_45912c32_e7ec_11ea_b090_42010a8a0004row4_col4,#T_45912c32_e7ec_11ea_b090_42010a8a0004row4_col5,#T_45912c32_e7ec_11ea_b090_42010a8a0004row4_col6,#T_45912c32_e7ec_11ea_b090_42010a8a0004row5_col1,#T_45912c32_e7ec_11ea_b090_42010a8a0004row5_col2,#T_45912c32_e7ec_11ea_b090_42010a8a0004row5_col3,#T_45912c32_e7ec_11ea_b090_42010a8a0004row5_col4,#T_45912c32_e7ec_11ea_b090_42010a8a0004row5_col5,#T_45912c32_e7ec_11ea_b090_42010a8a0004row5_col6,#T_45912c32_e7ec_11ea_b090_42010a8a0004row6_col1,#T_45912c32_e7ec_11ea_b090_42010a8a0004row6_col2,#T_45912c32_e7ec_11ea_b090_42010a8a0004row6_col3,#T_45912c32_e7ec_11ea_b090_42010a8a0004row6_col4,#T_45912c32_e7ec_11ea_b090_42010a8a0004row6_col5,#T_45912c32_e7ec_11ea_b090_42010a8a0004row6_col6{\n",
       "            width:  20em;\n",
       "            text-align:  center;\n",
       "        }</style><table id=\"T_45912c32_e7ec_11ea_b090_42010a8a0004\" ><thead>    <tr>        <th class=\"col_heading level0 col0\" >Date</th>        <th class=\"col_heading level0 col1\" >Daily tests (per 100,000)¹</th>        <th class=\"col_heading level0 col2\" >Case rate (per 100,000)²</th>        <th class=\"col_heading level0 col3\" >Testing positivity (%)³</th>        <th class=\"col_heading level0 col4\" >Change in hospitalizations (%)⁴</th>        <th class=\"col_heading level0 col5\" >ICU beds available (%)</th>        <th class=\"col_heading level0 col6\" >Ventilators (available (%)</th>    </tr></thead><tbody>\n",
       "                <tr>\n",
       "                                <td id=\"T_45912c32_e7ec_11ea_b090_42010a8a0004row0_col0\" class=\"data row0 col0\" >2020-08-26</td>\n",
       "                        <td id=\"T_45912c32_e7ec_11ea_b090_42010a8a0004row0_col1\" class=\"data row0 col1\" >219.7</td>\n",
       "                        <td id=\"T_45912c32_e7ec_11ea_b090_42010a8a0004row0_col2\" class=\"data row0 col2\" >133.2</td>\n",
       "                        <td id=\"T_45912c32_e7ec_11ea_b090_42010a8a0004row0_col3\" class=\"data row0 col3\" > ✔</td>\n",
       "                        <td id=\"T_45912c32_e7ec_11ea_b090_42010a8a0004row0_col4\" class=\"data row0 col4\" > ✔</td>\n",
       "                        <td id=\"T_45912c32_e7ec_11ea_b090_42010a8a0004row0_col5\" class=\"data row0 col5\" > ✔</td>\n",
       "                        <td id=\"T_45912c32_e7ec_11ea_b090_42010a8a0004row0_col6\" class=\"data row0 col6\" > ✔</td>\n",
       "            </tr>\n",
       "            <tr>\n",
       "                                <td id=\"T_45912c32_e7ec_11ea_b090_42010a8a0004row1_col0\" class=\"data row1 col0\" >2020-08-25</td>\n",
       "                        <td id=\"T_45912c32_e7ec_11ea_b090_42010a8a0004row1_col1\" class=\"data row1 col1\" >222.1</td>\n",
       "                        <td id=\"T_45912c32_e7ec_11ea_b090_42010a8a0004row1_col2\" class=\"data row1 col2\" >134.1</td>\n",
       "                        <td id=\"T_45912c32_e7ec_11ea_b090_42010a8a0004row1_col3\" class=\"data row1 col3\" > ✔</td>\n",
       "                        <td id=\"T_45912c32_e7ec_11ea_b090_42010a8a0004row1_col4\" class=\"data row1 col4\" > ✔</td>\n",
       "                        <td id=\"T_45912c32_e7ec_11ea_b090_42010a8a0004row1_col5\" class=\"data row1 col5\" > ✔</td>\n",
       "                        <td id=\"T_45912c32_e7ec_11ea_b090_42010a8a0004row1_col6\" class=\"data row1 col6\" > ✔</td>\n",
       "            </tr>\n",
       "            <tr>\n",
       "                                <td id=\"T_45912c32_e7ec_11ea_b090_42010a8a0004row2_col0\" class=\"data row2 col0\" >2020-08-24</td>\n",
       "                        <td id=\"T_45912c32_e7ec_11ea_b090_42010a8a0004row2_col1\" class=\"data row2 col1\" >227.3</td>\n",
       "                        <td id=\"T_45912c32_e7ec_11ea_b090_42010a8a0004row2_col2\" class=\"data row2 col2\" >138.0</td>\n",
       "                        <td id=\"T_45912c32_e7ec_11ea_b090_42010a8a0004row2_col3\" class=\"data row2 col3\" > ✔</td>\n",
       "                        <td id=\"T_45912c32_e7ec_11ea_b090_42010a8a0004row2_col4\" class=\"data row2 col4\" > ✔</td>\n",
       "                        <td id=\"T_45912c32_e7ec_11ea_b090_42010a8a0004row2_col5\" class=\"data row2 col5\" > ✔</td>\n",
       "                        <td id=\"T_45912c32_e7ec_11ea_b090_42010a8a0004row2_col6\" class=\"data row2 col6\" > ✔</td>\n",
       "            </tr>\n",
       "            <tr>\n",
       "                                <td id=\"T_45912c32_e7ec_11ea_b090_42010a8a0004row3_col0\" class=\"data row3 col0\" >2020-08-23</td>\n",
       "                        <td id=\"T_45912c32_e7ec_11ea_b090_42010a8a0004row3_col1\" class=\"data row3 col1\" >232.7</td>\n",
       "                        <td id=\"T_45912c32_e7ec_11ea_b090_42010a8a0004row3_col2\" class=\"data row3 col2\" >136.7</td>\n",
       "                        <td id=\"T_45912c32_e7ec_11ea_b090_42010a8a0004row3_col3\" class=\"data row3 col3\" > ✔</td>\n",
       "                        <td id=\"T_45912c32_e7ec_11ea_b090_42010a8a0004row3_col4\" class=\"data row3 col4\" > ✔</td>\n",
       "                        <td id=\"T_45912c32_e7ec_11ea_b090_42010a8a0004row3_col5\" class=\"data row3 col5\" > ✔</td>\n",
       "                        <td id=\"T_45912c32_e7ec_11ea_b090_42010a8a0004row3_col6\" class=\"data row3 col6\" > ✔</td>\n",
       "            </tr>\n",
       "            <tr>\n",
       "                                <td id=\"T_45912c32_e7ec_11ea_b090_42010a8a0004row4_col0\" class=\"data row4 col0\" >2020-08-22</td>\n",
       "                        <td id=\"T_45912c32_e7ec_11ea_b090_42010a8a0004row4_col1\" class=\"data row4 col1\" >210.4</td>\n",
       "                        <td id=\"T_45912c32_e7ec_11ea_b090_42010a8a0004row4_col2\" class=\"data row4 col2\" >138.7</td>\n",
       "                        <td id=\"T_45912c32_e7ec_11ea_b090_42010a8a0004row4_col3\" class=\"data row4 col3\" > ✔</td>\n",
       "                        <td id=\"T_45912c32_e7ec_11ea_b090_42010a8a0004row4_col4\" class=\"data row4 col4\" > ✔</td>\n",
       "                        <td id=\"T_45912c32_e7ec_11ea_b090_42010a8a0004row4_col5\" class=\"data row4 col5\" > ✔</td>\n",
       "                        <td id=\"T_45912c32_e7ec_11ea_b090_42010a8a0004row4_col6\" class=\"data row4 col6\" > ✔</td>\n",
       "            </tr>\n",
       "            <tr>\n",
       "                                <td id=\"T_45912c32_e7ec_11ea_b090_42010a8a0004row5_col0\" class=\"data row5 col0\" >2020-08-21</td>\n",
       "                        <td id=\"T_45912c32_e7ec_11ea_b090_42010a8a0004row5_col1\" class=\"data row5 col1\" >208.7</td>\n",
       "                        <td id=\"T_45912c32_e7ec_11ea_b090_42010a8a0004row5_col2\" class=\"data row5 col2\" >138.5</td>\n",
       "                        <td id=\"T_45912c32_e7ec_11ea_b090_42010a8a0004row5_col3\" class=\"data row5 col3\" > ✔</td>\n",
       "                        <td id=\"T_45912c32_e7ec_11ea_b090_42010a8a0004row5_col4\" class=\"data row5 col4\" > ✔</td>\n",
       "                        <td id=\"T_45912c32_e7ec_11ea_b090_42010a8a0004row5_col5\" class=\"data row5 col5\" > ✔</td>\n",
       "                        <td id=\"T_45912c32_e7ec_11ea_b090_42010a8a0004row5_col6\" class=\"data row5 col6\" > ✔</td>\n",
       "            </tr>\n",
       "            <tr>\n",
       "                                <td id=\"T_45912c32_e7ec_11ea_b090_42010a8a0004row6_col0\" class=\"data row6 col0\" >2020-08-20</td>\n",
       "                        <td id=\"T_45912c32_e7ec_11ea_b090_42010a8a0004row6_col1\" class=\"data row6 col1\" >214.5</td>\n",
       "                        <td id=\"T_45912c32_e7ec_11ea_b090_42010a8a0004row6_col2\" class=\"data row6 col2\" >148.8</td>\n",
       "                        <td id=\"T_45912c32_e7ec_11ea_b090_42010a8a0004row6_col3\" class=\"data row6 col3\" > ✔</td>\n",
       "                        <td id=\"T_45912c32_e7ec_11ea_b090_42010a8a0004row6_col4\" class=\"data row6 col4\" > ✔</td>\n",
       "                        <td id=\"T_45912c32_e7ec_11ea_b090_42010a8a0004row6_col5\" class=\"data row6 col5\" > ✔</td>\n",
       "                        <td id=\"T_45912c32_e7ec_11ea_b090_42010a8a0004row6_col6\" class=\"data row6 col6\" > ✔</td>\n",
       "            </tr>\n",
       "    </tbody></table>"
      ],
      "text/plain": [
       "<pandas.io.formats.style.Styler at 0x7f48d6d7d3c8>"
      ]
     },
     "execution_count": 12,
     "metadata": {},
     "output_type": "execute_result"
    }
   ],
   "source": [
    "# Style the pandas dataframe\n",
    "d = dict(selector=\"th\",\n",
    "         props=[('text-align', 'center')])\n",
    "\n",
    "result.reset_index().style\\\n",
    "    .set_properties(**{'width':'20em', 'text-align':'center'})\\\n",
    "    .set_properties(subset=['Date'], **{'font-weight': 'bold'})\\\n",
    "    .set_table_styles([d])\\\n",
    "    .set_precision(1)\\\n",
    "    .hide_index()"
   ]
  },
  {
   "cell_type": "markdown",
   "metadata": {
    "papermill": {
     "duration": 0.010054,
     "end_time": "2020-08-26T22:34:15.397279",
     "exception": false,
     "start_time": "2020-08-26T22:34:15.387225",
     "status": "completed"
    },
    "tags": []
   },
   "source": [
    "<sup>Notes: (1) 7 day average with a 7-day lag. (2) 14 day average. (3) 7 day average with a 7-day lag. (4) Change in 3 day average.</sup>"
   ]
  },
  {
   "cell_type": "code",
   "execution_count": 13,
   "metadata": {
    "execution": {
     "iopub.execute_input": "2020-08-26T22:34:15.423405Z",
     "iopub.status.busy": "2020-08-26T22:34:15.422890Z",
     "iopub.status.idle": "2020-08-26T22:34:15.425843Z",
     "shell.execute_reply": "2020-08-26T22:34:15.426233Z"
    },
    "papermill": {
     "duration": 0.018998,
     "end_time": "2020-08-26T22:34:15.426384",
     "exception": false,
     "start_time": "2020-08-26T22:34:15.407386",
     "status": "completed"
    },
    "tags": [
     "remove_input"
    ]
   },
   "outputs": [
    {
     "data": {
      "text/markdown": [
       "Table last updated by CDPH on August 26, 2020."
      ],
      "text/plain": [
       "<IPython.core.display.Markdown object>"
      ]
     },
     "execution_count": 13,
     "metadata": {},
     "output_type": "execute_result"
    }
   ],
   "source": [
    "md(update_tag)"
   ]
  },
  {
   "cell_type": "markdown",
   "metadata": {
    "papermill": {
     "duration": 0.010255,
     "end_time": "2020-08-26T22:34:15.446785",
     "exception": false,
     "start_time": "2020-08-26T22:34:15.436530",
     "status": "completed"
    },
    "tags": []
   },
   "source": [
    "## Tracking county closures in Santa Barbara"
   ]
  },
  {
   "cell_type": "markdown",
   "metadata": {
    "papermill": {
     "duration": 0.010256,
     "end_time": "2020-08-26T22:34:15.467317",
     "exception": false,
     "start_time": "2020-08-26T22:34:15.457061",
     "status": "completed"
    },
    "tags": []
   },
   "source": [
    "The state of California is using a data-driven approach informed by scientific evidence to tailor its response to COVID-19. Three dimensions of concern are monitored to assess whether a county should be placed on the County Monitoring List:\n",
    " 1. Elevated Disease Transmission\n",
    " 2. Increasing Hospitalization\n",
    " 3. Limited Hospital Capacity\n",
    "\n",
    "Once a county appears on the County Monitoring List for three consecutive days, indoor operations in the sectors listed in Section 3 of the [July 13th State Health Officer Order](https://www.cdph.ca.gov/Programs/CID/DCDC/CDPH%20Document%20Library/COVID-19/SHO%20Order%20Dimming%20Entire%20State%207-13-2020.pdf) must close.\n",
    "\n",
    "This table tracks where Santa Barbara stands in terms of the criteria for inclusion on the County Monitoring List. As of 20 August 2020, the criteria for inclusion on the monitoring list are:\n",
    "\n",
    "* Case rate >100 OR (Case rate >25 AND Positivity >8%)\n",
    "* \\>10% increase in hospitalizations\n",
    "* <20% ICU beds available OR <25% ventilators available\n",
    "\n",
    "If Santa Barbara meets the criteria for removal from the County Monitoring List for a certain metric, then a checkmark ✔ is displayed in the table.\n",
    "\n",
    "Read more at <https://covid19.ca.gov/roadmap-counties/>.\n",
    "\n",
    "Data source for county metrics: https://www.cdph.ca.gov/Programs/CID/DCDC/Pages/COVID-19/COVID19CountyDataTable.aspx."
   ]
  },
  {
   "cell_type": "markdown",
   "metadata": {
    "papermill": {
     "duration": 0.010291,
     "end_time": "2020-08-26T22:34:15.487957",
     "exception": false,
     "start_time": "2020-08-26T22:34:15.477666",
     "status": "completed"
    },
    "tags": []
   },
   "source": [
    "**See the code used to scrape the data: https://github.com/walice/COVID-SB/.**"
   ]
  },
  {
   "cell_type": "code",
   "execution_count": 14,
   "metadata": {
    "execution": {
     "iopub.execute_input": "2020-08-26T22:34:15.515347Z",
     "iopub.status.busy": "2020-08-26T22:34:15.514785Z",
     "iopub.status.idle": "2020-08-26T22:34:15.517922Z",
     "shell.execute_reply": "2020-08-26T22:34:15.518336Z"
    },
    "papermill": {
     "duration": 0.019787,
     "end_time": "2020-08-26T22:34:15.518496",
     "exception": false,
     "start_time": "2020-08-26T22:34:15.498709",
     "status": "completed"
    },
    "tags": [
     "remove_cell"
    ]
   },
   "outputs": [
    {
     "data": {
      "application/javascript": [
       "IPython.notebook.save_notebook()\n"
      ],
      "text/plain": [
       "<IPython.core.display.Javascript object>"
      ]
     },
     "metadata": {},
     "output_type": "display_data"
    }
   ],
   "source": [
    "%%javascript\n",
    "IPython.notebook.save_notebook()"
   ]
  },
  {
   "cell_type": "code",
   "execution_count": 15,
   "metadata": {
    "execution": {
     "iopub.execute_input": "2020-08-26T22:34:15.547607Z",
     "iopub.status.busy": "2020-08-26T22:34:15.547079Z",
     "iopub.status.idle": "2020-08-26T22:34:17.225782Z",
     "shell.execute_reply": "2020-08-26T22:34:17.226725Z"
    },
    "papermill": {
     "duration": 1.697781,
     "end_time": "2020-08-26T22:34:17.226901",
     "exception": false,
     "start_time": "2020-08-26T22:34:15.529120",
     "status": "completed"
    },
    "slideshow": {
     "slide_type": "skip"
    },
    "tags": [
     "remove_cell"
    ]
   },
   "outputs": [
    {
     "name": "stdout",
     "output_type": "stream",
     "text": [
      "[NbConvertApp] Converting notebook index.ipynb to html\r\n"
     ]
    },
    {
     "name": "stdout",
     "output_type": "stream",
     "text": [
      "[NbConvertApp] Writing 357723 bytes to index.html\r\n"
     ]
    }
   ],
   "source": [
    "# Convert Jupyter Notebook to HTML\n",
    "! jupyter nbconvert \"index.ipynb\" --to html --TagRemovePreprocessor.enabled=True --TagRemovePreprocessor.remove_cell_tags=\"['remove_cell']\" --TagRemovePreprocessor.remove_input_tags=\"['remove_input']\" --no-prompt"
   ]
  },
  {
   "cell_type": "code",
   "execution_count": 16,
   "metadata": {
    "execution": {
     "iopub.execute_input": "2020-08-26T22:34:17.256603Z",
     "iopub.status.busy": "2020-08-26T22:34:17.254734Z",
     "iopub.status.idle": "2020-08-26T22:34:17.257181Z",
     "shell.execute_reply": "2020-08-26T22:34:17.257558Z"
    },
    "papermill": {
     "duration": 0.01889,
     "end_time": "2020-08-26T22:34:17.257704",
     "exception": false,
     "start_time": "2020-08-26T22:34:17.238814",
     "status": "completed"
    },
    "tags": [
     "remove_cell"
    ]
   },
   "outputs": [],
   "source": [
    "# Create daily commit message\n",
    "now = datetime.datetime.now()\n",
    "commit_message = \"Last scraped on \" + str(now)"
   ]
  },
  {
   "cell_type": "code",
   "execution_count": null,
   "metadata": {
    "execution": {
     "iopub.execute_input": "2020-08-26T20:24:15.415478Z",
     "iopub.status.busy": "2020-08-26T20:24:15.414989Z",
     "iopub.status.idle": "2020-08-26T20:24:20.603664Z",
     "shell.execute_reply": "2020-08-26T20:24:20.602468Z"
    },
    "papermill": {
     "duration": null,
     "end_time": null,
     "exception": false,
     "start_time": "2020-08-26T22:34:17.268681",
     "status": "running"
    },
    "tags": [
     "remove_cell"
    ]
   },
   "outputs": [],
   "source": [
    "# Deploy to GitHub\n",
    "! git add .\n",
    "! echo $commit_message > commit_message.txt\n",
    "! git commit -F commit_message.txt\n",
    "! git push"
   ]
  }
 ],
 "metadata": {
  "celltoolbar": "Tags",
  "kernelspec": {
   "display_name": "Python 3",
   "language": "python",
   "name": "python3"
  },
  "language_info": {
   "codemirror_mode": {
    "name": "ipython",
    "version": 3
   },
   "file_extension": ".py",
   "mimetype": "text/x-python",
   "name": "python",
   "nbconvert_exporter": "python",
   "pygments_lexer": "ipython3",
   "version": "3.8.5"
  },
  "papermill": {
   "duration": null,
   "end_time": null,
   "environment_variables": {},
   "exception": null,
   "input_path": "/home/alice_lepissier/COVID-SB/index.ipynb",
   "output_path": "/home/alice_lepissier/COVID-SB/index.ipynb",
   "parameters": {},
   "start_time": "2020-08-26T22:34:00.137107",
   "version": "2.1.3"
  }
 },
 "nbformat": 4,
 "nbformat_minor": 4
}