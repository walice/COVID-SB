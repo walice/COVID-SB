{
 "cells": [
  {
   "cell_type": "markdown",
   "metadata": {
    "papermill": {
     "duration": 0.034011,
     "end_time": "2020-08-26T10:05:58.600095",
     "exception": false,
     "start_time": "2020-08-26T10:05:58.566084",
     "status": "completed"
    },
    "tags": []
   },
   "source": [
    "# Daily COVID monitoring data for Santa Barbara county"
   ]
  },
  {
   "cell_type": "code",
   "execution_count": 1,
   "metadata": {
    "execution": {
     "iopub.execute_input": "2020-08-26T10:05:58.635630Z",
     "iopub.status.busy": "2020-08-26T10:05:58.635107Z",
     "iopub.status.idle": "2020-08-26T10:05:58.756519Z",
     "shell.execute_reply": "2020-08-26T10:05:58.755527Z"
    },
    "papermill": {
     "duration": 0.145108,
     "end_time": "2020-08-26T10:05:58.756676",
     "exception": false,
     "start_time": "2020-08-26T10:05:58.611568",
     "status": "completed"
    },
    "tags": [
     "remove_cell"
    ]
   },
   "outputs": [
    {
     "name": "stdout",
     "output_type": "stream",
     "text": [
      "/bin/bash: jt: command not found\r\n"
     ]
    }
   ],
   "source": [
    "! jt -t grade3 -tf robotosans -cellw 1100"
   ]
  },
  {
   "cell_type": "markdown",
   "metadata": {
    "papermill": {
     "duration": 0.011208,
     "end_time": "2020-08-26T10:05:58.780886",
     "exception": false,
     "start_time": "2020-08-26T10:05:58.769678",
     "status": "completed"
    },
    "tags": []
   },
   "source": [
    "This table is automatically updated with new daily COVID data for the county of Santa Barbara, CA. Every day, the California Department of Public Health publishes COVID tracking metrics for each county, but does not save the previous day's data. This tool keeps track of the daily metrics that are used to monitor progress towards safe reopening in California."
   ]
  },
  {
   "cell_type": "code",
   "execution_count": 2,
   "metadata": {
    "execution": {
     "iopub.execute_input": "2020-08-26T10:05:58.808160Z",
     "iopub.status.busy": "2020-08-26T10:05:58.807624Z",
     "iopub.status.idle": "2020-08-26T10:06:01.804808Z",
     "shell.execute_reply": "2020-08-26T10:06:01.805608Z"
    },
    "papermill": {
     "duration": 3.013996,
     "end_time": "2020-08-26T10:06:01.805777",
     "exception": false,
     "start_time": "2020-08-26T10:05:58.791781",
     "status": "completed"
    },
    "slideshow": {
     "slide_type": "skip"
    },
    "tags": [
     "remove_cell"
    ]
   },
   "outputs": [],
   "source": [
    "# Preamble\n",
    "import os\n",
    "from IPython.display import Markdown as md\n",
    "import IPython\n",
    "import requests\n",
    "from bs4 import BeautifulSoup\n",
    "import re\n",
    "import pandas as pd\n",
    "import datetime\n",
    "import gspread\n",
    "from oauth2client.service_account import ServiceAccountCredentials"
   ]
  },
  {
   "cell_type": "code",
   "execution_count": 3,
   "metadata": {
    "execution": {
     "iopub.execute_input": "2020-08-26T10:06:01.834814Z",
     "iopub.status.busy": "2020-08-26T10:06:01.834209Z",
     "iopub.status.idle": "2020-08-26T10:06:01.835678Z",
     "shell.execute_reply": "2020-08-26T10:06:01.835266Z"
    },
    "papermill": {
     "duration": 0.01752,
     "end_time": "2020-08-26T10:06:01.835789",
     "exception": false,
     "start_time": "2020-08-26T10:06:01.818269",
     "status": "completed"
    },
    "tags": [
     "remove_cell"
    ]
   },
   "outputs": [],
   "source": [
    "# Set working directory\n",
    "os.chdir(\"/home/alice_lepissier/COVID-SB\")"
   ]
  },
  {
   "cell_type": "code",
   "execution_count": 4,
   "metadata": {
    "execution": {
     "iopub.execute_input": "2020-08-26T10:06:01.862160Z",
     "iopub.status.busy": "2020-08-26T10:06:01.861444Z",
     "iopub.status.idle": "2020-08-26T10:06:04.375941Z",
     "shell.execute_reply": "2020-08-26T10:06:04.376720Z"
    },
    "papermill": {
     "duration": 2.530329,
     "end_time": "2020-08-26T10:06:04.376895",
     "exception": false,
     "start_time": "2020-08-26T10:06:01.846566",
     "status": "completed"
    },
    "slideshow": {
     "slide_type": "skip"
    },
    "tags": [
     "remove_cell"
    ]
   },
   "outputs": [],
   "source": [
    "# Request content from URL\n",
    "html_string = requests.get('https://www.cdph.ca.gov/Programs/CID/DCDC/Pages/COVID-19/COVID19CountyDataTable.aspx').content"
   ]
  },
  {
   "cell_type": "code",
   "execution_count": 5,
   "metadata": {
    "execution": {
     "iopub.execute_input": "2020-08-26T10:06:04.407477Z",
     "iopub.status.busy": "2020-08-26T10:06:04.406990Z",
     "iopub.status.idle": "2020-08-26T10:06:04.492688Z",
     "shell.execute_reply": "2020-08-26T10:06:04.493531Z"
    },
    "papermill": {
     "duration": 0.105277,
     "end_time": "2020-08-26T10:06:04.493710",
     "exception": false,
     "start_time": "2020-08-26T10:06:04.388433",
     "status": "completed"
    },
    "slideshow": {
     "slide_type": "skip"
    },
    "tags": [
     "remove_cell"
    ]
   },
   "outputs": [],
   "source": [
    "# Parse HTML\n",
    "soup = BeautifulSoup(html_string, 'html.parser')"
   ]
  },
  {
   "cell_type": "code",
   "execution_count": 6,
   "metadata": {
    "execution": {
     "iopub.execute_input": "2020-08-26T10:06:04.523552Z",
     "iopub.status.busy": "2020-08-26T10:06:04.523034Z",
     "iopub.status.idle": "2020-08-26T10:06:04.531715Z",
     "shell.execute_reply": "2020-08-26T10:06:04.532449Z"
    },
    "papermill": {
     "duration": 0.027174,
     "end_time": "2020-08-26T10:06:04.532603",
     "exception": false,
     "start_time": "2020-08-26T10:06:04.505429",
     "status": "completed"
    },
    "slideshow": {
     "slide_type": "skip"
    },
    "tags": [
     "remove_cell"
    ]
   },
   "outputs": [],
   "source": [
    "# Extract data for Santa Barbara\n",
    "table = soup.find_all(\"tr\", class_=\"ms-rteTableEvenRow-3\")\n",
    "SB = table[21]"
   ]
  },
  {
   "cell_type": "code",
   "execution_count": 7,
   "metadata": {
    "execution": {
     "iopub.execute_input": "2020-08-26T10:06:04.563025Z",
     "iopub.status.busy": "2020-08-26T10:06:04.562467Z",
     "iopub.status.idle": "2020-08-26T10:06:04.573332Z",
     "shell.execute_reply": "2020-08-26T10:06:04.574061Z"
    },
    "papermill": {
     "duration": 0.030346,
     "end_time": "2020-08-26T10:06:04.574238",
     "exception": false,
     "start_time": "2020-08-26T10:06:04.543892",
     "status": "completed"
    },
    "slideshow": {
     "slide_type": "skip"
    },
    "tags": [
     "remove_cell"
    ]
   },
   "outputs": [],
   "source": [
    "# Avg # tests per day (per 100,000 population)\n",
    "daily_tests = SB.find_all(\"td\", class_=\"ms-rteTableOddCol-3\")[0].text\n",
    "\n",
    "# Case rate per 100,000\n",
    "case_rate = SB.find_all(\"td\", class_=\"ms-rteTableEvenCol-3\")[1].text\n",
    "\n",
    "# Testing positivity (%)\n",
    "test_positivity = SB.find_all(\"td\", class_=\"ms-rteTableOddCol-3\")[1].text\n",
    "\n",
    "# % Change in 3-day avg COVID+ hospitalized patients\n",
    "change_hospit = SB.find_all(\"td\", class_=\"ms-rteTableEvenCol-3\")[2].text\n",
    "\n",
    "# % ICU beds currently available\n",
    "ICU_beds = SB.find_all(\"td\", class_=\"ms-rteTableOddCol-3\")[2].text\n",
    "\n",
    "# % Ventilators currently available\n",
    "ventilators = SB.find_all(\"td\", class_=\"ms-rteTableEvenCol-3\")[3].text\n",
    "\n",
    "# Extract date of last update\n",
    "update_date = soup.find_all(\"span\", class_=\"ms-rteStyle-Accent1\")[1]\\\n",
    "    .find(\"em\").text"
   ]
  },
  {
   "cell_type": "code",
   "execution_count": 8,
   "metadata": {
    "execution": {
     "iopub.execute_input": "2020-08-26T10:06:04.601986Z",
     "iopub.status.busy": "2020-08-26T10:06:04.601387Z",
     "iopub.status.idle": "2020-08-26T10:06:04.602884Z",
     "shell.execute_reply": "2020-08-26T10:06:04.602465Z"
    },
    "papermill": {
     "duration": 0.017613,
     "end_time": "2020-08-26T10:06:04.603012",
     "exception": false,
     "start_time": "2020-08-26T10:06:04.585399",
     "status": "completed"
    },
    "tags": [
     "remove_cell"
    ]
   },
   "outputs": [],
   "source": [
    "# Create updated date string\n",
    "update_tag = \"Table last updated by CDPH on \" + update_date.split(\" on \", 1)[1] + \".\""
   ]
  },
  {
   "cell_type": "code",
   "execution_count": 9,
   "metadata": {
    "execution": {
     "iopub.execute_input": "2020-08-26T10:06:04.629223Z",
     "iopub.status.busy": "2020-08-26T10:06:04.628728Z",
     "iopub.status.idle": "2020-08-26T10:06:04.646708Z",
     "shell.execute_reply": "2020-08-26T10:06:04.647495Z"
    },
    "papermill": {
     "duration": 0.033674,
     "end_time": "2020-08-26T10:06:04.647653",
     "exception": false,
     "start_time": "2020-08-26T10:06:04.613979",
     "status": "completed"
    },
    "slideshow": {
     "slide_type": "skip"
    },
    "tags": [
     "remove_cell"
    ]
   },
   "outputs": [],
   "source": [
    "# Set up Google Sheet API\n",
    "scope = [\"https://spreadsheets.google.com/feeds\",'https://www.googleapis.com/auth/spreadsheets',\"https://www.googleapis.com/auth/drive.file\",\"https://www.googleapis.com/auth/drive\"]\n",
    "creds = ServiceAccountCredentials.from_json_keyfile_name(\"credentials.json\", scope)\n",
    "client = gspread.authorize(creds)"
   ]
  },
  {
   "cell_type": "code",
   "execution_count": 10,
   "metadata": {
    "execution": {
     "iopub.execute_input": "2020-08-26T10:06:04.706997Z",
     "iopub.status.busy": "2020-08-26T10:06:04.706459Z",
     "iopub.status.idle": "2020-08-26T10:06:08.042545Z",
     "shell.execute_reply": "2020-08-26T10:06:08.043261Z"
    },
    "papermill": {
     "duration": 3.38406,
     "end_time": "2020-08-26T10:06:08.043428",
     "exception": false,
     "start_time": "2020-08-26T10:06:04.659368",
     "status": "completed"
    },
    "slideshow": {
     "slide_type": "skip"
    },
    "tags": [
     "remove_cell"
    ]
   },
   "outputs": [
    {
     "data": {
      "text/plain": [
       "{'spreadsheetId': '13GG0FPUFg_5xCouN0ZF3woaPXwjuxL2Dw3uYIfwUW-Q',\n",
       " 'updatedRange': 'Sheet1!A2:G2',\n",
       " 'updatedRows': 1,\n",
       " 'updatedColumns': 7,\n",
       " 'updatedCells': 7}"
      ]
     },
     "execution_count": 10,
     "metadata": {},
     "output_type": "execute_result"
    }
   ],
   "source": [
    "# Append daily data as a new row in Google Sheet\n",
    "sheet = client.open(\"COVID Daily Metrics\").sheet1\n",
    "insertRow = [datetime.date.today().strftime(\"%Y-%m-%d\"),\n",
    "             daily_tests,\n",
    "             case_rate,\n",
    "             test_positivity,\n",
    "             change_hospit,\n",
    "             ICU_beds,\n",
    "             ventilators]\n",
    "sheet.insert_row(insertRow, 2)"
   ]
  },
  {
   "cell_type": "code",
   "execution_count": 11,
   "metadata": {
    "execution": {
     "iopub.execute_input": "2020-08-26T10:06:08.071400Z",
     "iopub.status.busy": "2020-08-26T10:06:08.070920Z",
     "iopub.status.idle": "2020-08-26T10:06:09.491962Z",
     "shell.execute_reply": "2020-08-26T10:06:09.492835Z"
    },
    "papermill": {
     "duration": 1.437934,
     "end_time": "2020-08-26T10:06:09.492999",
     "exception": false,
     "start_time": "2020-08-26T10:06:08.055065",
     "status": "completed"
    },
    "scrolled": true,
    "slideshow": {
     "slide_type": "slide"
    },
    "tags": [
     "remove_cell"
    ]
   },
   "outputs": [],
   "source": [
    "# Extract data from Google Sheet as pandas dataframe\n",
    "sheet = client.open(\"COVID Daily Metrics\").sheet1\n",
    "data = sheet.get_all_records()\n",
    "result = pd.DataFrame(data).set_index(\"Date\")"
   ]
  },
  {
   "cell_type": "code",
   "execution_count": 12,
   "metadata": {
    "execution": {
     "iopub.execute_input": "2020-08-26T10:06:09.523560Z",
     "iopub.status.busy": "2020-08-26T10:06:09.523029Z",
     "iopub.status.idle": "2020-08-26T10:06:11.023290Z",
     "shell.execute_reply": "2020-08-26T10:06:11.024020Z"
    },
    "papermill": {
     "duration": 1.51761,
     "end_time": "2020-08-26T10:06:11.024178",
     "exception": false,
     "start_time": "2020-08-26T10:06:09.506568",
     "status": "completed"
    },
    "scrolled": true,
    "tags": [
     "remove_input"
    ]
   },
   "outputs": [
    {
     "data": {
      "text/html": [
       "<style  type=\"text/css\" >\n",
       "    #T_c468ab98_e783_11ea_9614_42010a8a0004 th {\n",
       "          text-align: center;\n",
       "    }#T_c468ab98_e783_11ea_9614_42010a8a0004row0_col0,#T_c468ab98_e783_11ea_9614_42010a8a0004row1_col0,#T_c468ab98_e783_11ea_9614_42010a8a0004row2_col0,#T_c468ab98_e783_11ea_9614_42010a8a0004row3_col0,#T_c468ab98_e783_11ea_9614_42010a8a0004row4_col0,#T_c468ab98_e783_11ea_9614_42010a8a0004row5_col0,#T_c468ab98_e783_11ea_9614_42010a8a0004row6_col0{\n",
       "            width:  20em;\n",
       "            text-align:  center;\n",
       "            font-weight:  bold;\n",
       "        }#T_c468ab98_e783_11ea_9614_42010a8a0004row0_col1,#T_c468ab98_e783_11ea_9614_42010a8a0004row0_col2,#T_c468ab98_e783_11ea_9614_42010a8a0004row0_col3,#T_c468ab98_e783_11ea_9614_42010a8a0004row0_col4,#T_c468ab98_e783_11ea_9614_42010a8a0004row0_col5,#T_c468ab98_e783_11ea_9614_42010a8a0004row0_col6,#T_c468ab98_e783_11ea_9614_42010a8a0004row1_col1,#T_c468ab98_e783_11ea_9614_42010a8a0004row1_col2,#T_c468ab98_e783_11ea_9614_42010a8a0004row1_col3,#T_c468ab98_e783_11ea_9614_42010a8a0004row1_col4,#T_c468ab98_e783_11ea_9614_42010a8a0004row1_col5,#T_c468ab98_e783_11ea_9614_42010a8a0004row1_col6,#T_c468ab98_e783_11ea_9614_42010a8a0004row2_col1,#T_c468ab98_e783_11ea_9614_42010a8a0004row2_col2,#T_c468ab98_e783_11ea_9614_42010a8a0004row2_col3,#T_c468ab98_e783_11ea_9614_42010a8a0004row2_col4,#T_c468ab98_e783_11ea_9614_42010a8a0004row2_col5,#T_c468ab98_e783_11ea_9614_42010a8a0004row2_col6,#T_c468ab98_e783_11ea_9614_42010a8a0004row3_col1,#T_c468ab98_e783_11ea_9614_42010a8a0004row3_col2,#T_c468ab98_e783_11ea_9614_42010a8a0004row3_col3,#T_c468ab98_e783_11ea_9614_42010a8a0004row3_col4,#T_c468ab98_e783_11ea_9614_42010a8a0004row3_col5,#T_c468ab98_e783_11ea_9614_42010a8a0004row3_col6,#T_c468ab98_e783_11ea_9614_42010a8a0004row4_col1,#T_c468ab98_e783_11ea_9614_42010a8a0004row4_col2,#T_c468ab98_e783_11ea_9614_42010a8a0004row4_col3,#T_c468ab98_e783_11ea_9614_42010a8a0004row4_col4,#T_c468ab98_e783_11ea_9614_42010a8a0004row4_col5,#T_c468ab98_e783_11ea_9614_42010a8a0004row4_col6,#T_c468ab98_e783_11ea_9614_42010a8a0004row5_col1,#T_c468ab98_e783_11ea_9614_42010a8a0004row5_col2,#T_c468ab98_e783_11ea_9614_42010a8a0004row5_col3,#T_c468ab98_e783_11ea_9614_42010a8a0004row5_col4,#T_c468ab98_e783_11ea_9614_42010a8a0004row5_col5,#T_c468ab98_e783_11ea_9614_42010a8a0004row5_col6,#T_c468ab98_e783_11ea_9614_42010a8a0004row6_col1,#T_c468ab98_e783_11ea_9614_42010a8a0004row6_col2,#T_c468ab98_e783_11ea_9614_42010a8a0004row6_col3,#T_c468ab98_e783_11ea_9614_42010a8a0004row6_col4,#T_c468ab98_e783_11ea_9614_42010a8a0004row6_col5,#T_c468ab98_e783_11ea_9614_42010a8a0004row6_col6{\n",
       "            width:  20em;\n",
       "            text-align:  center;\n",
       "        }</style><table id=\"T_c468ab98_e783_11ea_9614_42010a8a0004\" ><thead>    <tr>        <th class=\"col_heading level0 col0\" >Date</th>        <th class=\"col_heading level0 col1\" >Daily tests (per 100,000)¹</th>        <th class=\"col_heading level0 col2\" >Case rate (per 100,000)²</th>        <th class=\"col_heading level0 col3\" >Testing positivity (%)³</th>        <th class=\"col_heading level0 col4\" >Change in hospitalizations (%)⁴</th>        <th class=\"col_heading level0 col5\" >ICU beds available (%)</th>        <th class=\"col_heading level0 col6\" >Ventilators (available (%)</th>    </tr></thead><tbody>\n",
       "                <tr>\n",
       "                                <td id=\"T_c468ab98_e783_11ea_9614_42010a8a0004row0_col0\" class=\"data row0 col0\" >2020-08-26</td>\n",
       "                        <td id=\"T_c468ab98_e783_11ea_9614_42010a8a0004row0_col1\" class=\"data row0 col1\" >222.1</td>\n",
       "                        <td id=\"T_c468ab98_e783_11ea_9614_42010a8a0004row0_col2\" class=\"data row0 col2\" >134.1</td>\n",
       "                        <td id=\"T_c468ab98_e783_11ea_9614_42010a8a0004row0_col3\" class=\"data row0 col3\" > ✔</td>\n",
       "                        <td id=\"T_c468ab98_e783_11ea_9614_42010a8a0004row0_col4\" class=\"data row0 col4\" > ✔</td>\n",
       "                        <td id=\"T_c468ab98_e783_11ea_9614_42010a8a0004row0_col5\" class=\"data row0 col5\" > ✔</td>\n",
       "                        <td id=\"T_c468ab98_e783_11ea_9614_42010a8a0004row0_col6\" class=\"data row0 col6\" > ✔</td>\n",
       "            </tr>\n",
       "            <tr>\n",
       "                                <td id=\"T_c468ab98_e783_11ea_9614_42010a8a0004row1_col0\" class=\"data row1 col0\" >2020-08-25</td>\n",
       "                        <td id=\"T_c468ab98_e783_11ea_9614_42010a8a0004row1_col1\" class=\"data row1 col1\" >222.1</td>\n",
       "                        <td id=\"T_c468ab98_e783_11ea_9614_42010a8a0004row1_col2\" class=\"data row1 col2\" >134.1</td>\n",
       "                        <td id=\"T_c468ab98_e783_11ea_9614_42010a8a0004row1_col3\" class=\"data row1 col3\" > ✔</td>\n",
       "                        <td id=\"T_c468ab98_e783_11ea_9614_42010a8a0004row1_col4\" class=\"data row1 col4\" > ✔</td>\n",
       "                        <td id=\"T_c468ab98_e783_11ea_9614_42010a8a0004row1_col5\" class=\"data row1 col5\" > ✔</td>\n",
       "                        <td id=\"T_c468ab98_e783_11ea_9614_42010a8a0004row1_col6\" class=\"data row1 col6\" > ✔</td>\n",
       "            </tr>\n",
       "            <tr>\n",
       "                                <td id=\"T_c468ab98_e783_11ea_9614_42010a8a0004row2_col0\" class=\"data row2 col0\" >2020-08-24</td>\n",
       "                        <td id=\"T_c468ab98_e783_11ea_9614_42010a8a0004row2_col1\" class=\"data row2 col1\" >227.3</td>\n",
       "                        <td id=\"T_c468ab98_e783_11ea_9614_42010a8a0004row2_col2\" class=\"data row2 col2\" >138.0</td>\n",
       "                        <td id=\"T_c468ab98_e783_11ea_9614_42010a8a0004row2_col3\" class=\"data row2 col3\" > ✔</td>\n",
       "                        <td id=\"T_c468ab98_e783_11ea_9614_42010a8a0004row2_col4\" class=\"data row2 col4\" > ✔</td>\n",
       "                        <td id=\"T_c468ab98_e783_11ea_9614_42010a8a0004row2_col5\" class=\"data row2 col5\" > ✔</td>\n",
       "                        <td id=\"T_c468ab98_e783_11ea_9614_42010a8a0004row2_col6\" class=\"data row2 col6\" > ✔</td>\n",
       "            </tr>\n",
       "            <tr>\n",
       "                                <td id=\"T_c468ab98_e783_11ea_9614_42010a8a0004row3_col0\" class=\"data row3 col0\" >2020-08-23</td>\n",
       "                        <td id=\"T_c468ab98_e783_11ea_9614_42010a8a0004row3_col1\" class=\"data row3 col1\" >232.7</td>\n",
       "                        <td id=\"T_c468ab98_e783_11ea_9614_42010a8a0004row3_col2\" class=\"data row3 col2\" >136.7</td>\n",
       "                        <td id=\"T_c468ab98_e783_11ea_9614_42010a8a0004row3_col3\" class=\"data row3 col3\" > ✔</td>\n",
       "                        <td id=\"T_c468ab98_e783_11ea_9614_42010a8a0004row3_col4\" class=\"data row3 col4\" > ✔</td>\n",
       "                        <td id=\"T_c468ab98_e783_11ea_9614_42010a8a0004row3_col5\" class=\"data row3 col5\" > ✔</td>\n",
       "                        <td id=\"T_c468ab98_e783_11ea_9614_42010a8a0004row3_col6\" class=\"data row3 col6\" > ✔</td>\n",
       "            </tr>\n",
       "            <tr>\n",
       "                                <td id=\"T_c468ab98_e783_11ea_9614_42010a8a0004row4_col0\" class=\"data row4 col0\" >2020-08-22</td>\n",
       "                        <td id=\"T_c468ab98_e783_11ea_9614_42010a8a0004row4_col1\" class=\"data row4 col1\" >210.4</td>\n",
       "                        <td id=\"T_c468ab98_e783_11ea_9614_42010a8a0004row4_col2\" class=\"data row4 col2\" >138.7</td>\n",
       "                        <td id=\"T_c468ab98_e783_11ea_9614_42010a8a0004row4_col3\" class=\"data row4 col3\" > ✔</td>\n",
       "                        <td id=\"T_c468ab98_e783_11ea_9614_42010a8a0004row4_col4\" class=\"data row4 col4\" > ✔</td>\n",
       "                        <td id=\"T_c468ab98_e783_11ea_9614_42010a8a0004row4_col5\" class=\"data row4 col5\" > ✔</td>\n",
       "                        <td id=\"T_c468ab98_e783_11ea_9614_42010a8a0004row4_col6\" class=\"data row4 col6\" > ✔</td>\n",
       "            </tr>\n",
       "            <tr>\n",
       "                                <td id=\"T_c468ab98_e783_11ea_9614_42010a8a0004row5_col0\" class=\"data row5 col0\" >2020-08-21</td>\n",
       "                        <td id=\"T_c468ab98_e783_11ea_9614_42010a8a0004row5_col1\" class=\"data row5 col1\" >208.7</td>\n",
       "                        <td id=\"T_c468ab98_e783_11ea_9614_42010a8a0004row5_col2\" class=\"data row5 col2\" >138.5</td>\n",
       "                        <td id=\"T_c468ab98_e783_11ea_9614_42010a8a0004row5_col3\" class=\"data row5 col3\" > ✔</td>\n",
       "                        <td id=\"T_c468ab98_e783_11ea_9614_42010a8a0004row5_col4\" class=\"data row5 col4\" > ✔</td>\n",
       "                        <td id=\"T_c468ab98_e783_11ea_9614_42010a8a0004row5_col5\" class=\"data row5 col5\" > ✔</td>\n",
       "                        <td id=\"T_c468ab98_e783_11ea_9614_42010a8a0004row5_col6\" class=\"data row5 col6\" > ✔</td>\n",
       "            </tr>\n",
       "            <tr>\n",
       "                                <td id=\"T_c468ab98_e783_11ea_9614_42010a8a0004row6_col0\" class=\"data row6 col0\" >2020-08-20</td>\n",
       "                        <td id=\"T_c468ab98_e783_11ea_9614_42010a8a0004row6_col1\" class=\"data row6 col1\" >214.5</td>\n",
       "                        <td id=\"T_c468ab98_e783_11ea_9614_42010a8a0004row6_col2\" class=\"data row6 col2\" >148.8</td>\n",
       "                        <td id=\"T_c468ab98_e783_11ea_9614_42010a8a0004row6_col3\" class=\"data row6 col3\" > ✔</td>\n",
       "                        <td id=\"T_c468ab98_e783_11ea_9614_42010a8a0004row6_col4\" class=\"data row6 col4\" > ✔</td>\n",
       "                        <td id=\"T_c468ab98_e783_11ea_9614_42010a8a0004row6_col5\" class=\"data row6 col5\" > ✔</td>\n",
       "                        <td id=\"T_c468ab98_e783_11ea_9614_42010a8a0004row6_col6\" class=\"data row6 col6\" > ✔</td>\n",
       "            </tr>\n",
       "    </tbody></table>"
      ],
      "text/plain": [
       "<pandas.io.formats.style.Styler at 0x7effb352d550>"
      ]
     },
     "execution_count": 12,
     "metadata": {},
     "output_type": "execute_result"
    }
   ],
   "source": [
    "# Style the pandas dataframe\n",
    "d = dict(selector=\"th\",\n",
    "         props=[('text-align', 'center')])\n",
    "\n",
    "result.reset_index().style\\\n",
    "    .set_properties(**{'width':'20em', 'text-align':'center'})\\\n",
    "    .set_properties(subset=['Date'], **{'font-weight': 'bold'})\\\n",
    "    .set_table_styles([d])\\\n",
    "    .set_precision(1)\\\n",
    "    .hide_index()"
   ]
  },
  {
   "cell_type": "markdown",
   "metadata": {
    "papermill": {
     "duration": 0.011457,
     "end_time": "2020-08-26T10:06:11.047765",
     "exception": false,
     "start_time": "2020-08-26T10:06:11.036308",
     "status": "completed"
    },
    "tags": []
   },
   "source": [
    "<sup>Notes: (1) 7 day average with a 7-day lag. (2) 14 day average. (3) 7 day average with a 7-day lag. (4) Change in 3 day average.</sup>"
   ]
  },
  {
   "cell_type": "code",
   "execution_count": 13,
   "metadata": {
    "execution": {
     "iopub.execute_input": "2020-08-26T10:06:11.076378Z",
     "iopub.status.busy": "2020-08-26T10:06:11.075894Z",
     "iopub.status.idle": "2020-08-26T10:06:11.078827Z",
     "shell.execute_reply": "2020-08-26T10:06:11.079177Z"
    },
    "papermill": {
     "duration": 0.020017,
     "end_time": "2020-08-26T10:06:11.079317",
     "exception": false,
     "start_time": "2020-08-26T10:06:11.059300",
     "status": "completed"
    },
    "tags": [
     "remove_input"
    ]
   },
   "outputs": [
    {
     "data": {
      "text/markdown": [
       "Table last updated by CDPH on August 25, 2020."
      ],
      "text/plain": [
       "<IPython.core.display.Markdown object>"
      ]
     },
     "execution_count": 13,
     "metadata": {},
     "output_type": "execute_result"
    }
   ],
   "source": [
    "md(update_tag)"
   ]
  },
  {
   "cell_type": "markdown",
   "metadata": {
    "papermill": {
     "duration": 0.011766,
     "end_time": "2020-08-26T10:06:11.102733",
     "exception": false,
     "start_time": "2020-08-26T10:06:11.090967",
     "status": "completed"
    },
    "tags": []
   },
   "source": [
    "## Tracking county closures in Santa Barbara"
   ]
  },
  {
   "cell_type": "markdown",
   "metadata": {
    "papermill": {
     "duration": 0.011962,
     "end_time": "2020-08-26T10:06:11.126611",
     "exception": false,
     "start_time": "2020-08-26T10:06:11.114649",
     "status": "completed"
    },
    "tags": []
   },
   "source": [
    "The state of California is using a data-driven approach informed by scientific evidence to tailor its response to COVID-19. Three dimensions of concern are monitored to assess whether a county should be placed on the County Monitoring List:\n",
    " 1. Elevated Disease Transmission\n",
    " 2. Increasing Hospitalization\n",
    " 3. Limited Hospital Capacity\n",
    "\n",
    "Once a county appears on the County Monitoring List for three consecutive days, indoor operations in the sectors listed in Section 3 of the [July 13th State Health Officer Order](https://www.cdph.ca.gov/Programs/CID/DCDC/CDPH%20Document%20Library/COVID-19/SHO%20Order%20Dimming%20Entire%20State%207-13-2020.pdf) must close.\n",
    "\n",
    "This table tracks where Santa Barbara stands in terms of the criteria for inclusion on the County Monitoring List. As of 20 August 2020, the criteria for inclusion on the monitoring list are:\n",
    "\n",
    "* Case rate >100 OR (Case rate >25 AND Positivity >8%)\n",
    "* \\>10% increase in hospitalizations\n",
    "* <20% ICU beds available OR <25% ventilators available\n",
    "\n",
    "If Santa Barbara meets the criteria for removal from the County Monitoring List for a certain metric, then a checkmark ✔ is displayed in the table.\n",
    "\n",
    "Read more at <https://covid19.ca.gov/roadmap-counties/>.\n",
    "\n",
    "Data source for county metrics: https://www.cdph.ca.gov/Programs/CID/DCDC/Pages/COVID-19/COVID19CountyDataTable.aspx."
   ]
  },
  {
   "cell_type": "markdown",
   "metadata": {
    "papermill": {
     "duration": 0.011862,
     "end_time": "2020-08-26T10:06:11.150653",
     "exception": false,
     "start_time": "2020-08-26T10:06:11.138791",
     "status": "completed"
    },
    "tags": []
   },
   "source": [
    "**See the code used to scrape the data: https://github.com/walice/COVID-SB/.**"
   ]
  },
  {
   "cell_type": "code",
   "execution_count": 14,
   "metadata": {
    "execution": {
     "iopub.execute_input": "2020-08-26T10:06:11.179796Z",
     "iopub.status.busy": "2020-08-26T10:06:11.179297Z",
     "iopub.status.idle": "2020-08-26T10:06:11.183384Z",
     "shell.execute_reply": "2020-08-26T10:06:11.183777Z"
    },
    "papermill": {
     "duration": 0.021489,
     "end_time": "2020-08-26T10:06:11.183943",
     "exception": false,
     "start_time": "2020-08-26T10:06:11.162454",
     "status": "completed"
    },
    "tags": [
     "remove_cell"
    ]
   },
   "outputs": [
    {
     "data": {
      "application/javascript": [
       "IPython.notebook.save_notebook()\n"
      ],
      "text/plain": [
       "<IPython.core.display.Javascript object>"
      ]
     },
     "metadata": {},
     "output_type": "display_data"
    }
   ],
   "source": [
    "%%javascript\n",
    "IPython.notebook.save_notebook()"
   ]
  },
  {
   "cell_type": "code",
   "execution_count": 15,
   "metadata": {
    "execution": {
     "iopub.execute_input": "2020-08-26T10:06:11.215485Z",
     "iopub.status.busy": "2020-08-26T10:06:11.214991Z",
     "iopub.status.idle": "2020-08-26T10:06:11.344618Z",
     "shell.execute_reply": "2020-08-26T10:06:11.343674Z"
    },
    "papermill": {
     "duration": 0.148443,
     "end_time": "2020-08-26T10:06:11.344754",
     "exception": false,
     "start_time": "2020-08-26T10:06:11.196311",
     "status": "completed"
    },
    "slideshow": {
     "slide_type": "skip"
    },
    "tags": [
     "remove_cell"
    ]
   },
   "outputs": [
    {
     "name": "stdout",
     "output_type": "stream",
     "text": [
      "/bin/bash: jupyter: command not found\r\n"
     ]
    }
   ],
   "source": [
    "# Convert Jupyter Notebook to HTML\n",
    "! jupyter nbconvert \"index.ipynb\" --to html --TagRemovePreprocessor.enabled=True --TagRemovePreprocessor.remove_cell_tags=\"['remove_cell']\" --TagRemovePreprocessor.remove_input_tags=\"['remove_input']\" --no-prompt"
   ]
  },
  {
   "cell_type": "code",
   "execution_count": 16,
   "metadata": {
    "execution": {
     "iopub.execute_input": "2020-08-26T10:06:11.375348Z",
     "iopub.status.busy": "2020-08-26T10:06:11.374864Z",
     "iopub.status.idle": "2020-08-26T10:06:11.377065Z",
     "shell.execute_reply": "2020-08-26T10:06:11.377417Z"
    },
    "papermill": {
     "duration": 0.019755,
     "end_time": "2020-08-26T10:06:11.377556",
     "exception": false,
     "start_time": "2020-08-26T10:06:11.357801",
     "status": "completed"
    },
    "tags": [
     "remove_cell"
    ]
   },
   "outputs": [],
   "source": [
    "# Create daily commit message\n",
    "now = datetime.datetime.now()\n",
    "commit_message = \"Last scraped on \" + str(now)"
   ]
  },
  {
   "cell_type": "code",
   "execution_count": 17,
   "metadata": {
    "execution": {
     "iopub.execute_input": "2020-08-26T10:06:11.407913Z",
     "iopub.status.busy": "2020-08-26T10:06:11.407428Z",
     "iopub.status.idle": "2020-08-26T10:06:16.717228Z",
     "shell.execute_reply": "2020-08-26T10:06:16.716062Z"
    },
    "papermill": {
     "duration": 5.327511,
     "end_time": "2020-08-26T10:06:16.717363",
     "exception": false,
     "start_time": "2020-08-26T10:06:11.389852",
     "status": "completed"
    },
    "tags": [
     "remove_cell"
    ]
   },
   "outputs": [
    {
     "name": "stdout",
     "output_type": "stream",
     "text": [
      "[gh-pages 83be37e] Last scraped on 2020-08-26 10:06:11.373487\r\n",
      " 1 file changed, 205 insertions(+), 278 deletions(-)\r\n"
     ]
    },
    {
     "name": "stdout",
     "output_type": "stream",
     "text": [
      "Enumerating objects: 5, done.\r\n",
      "Counting objects:  20% (1/5)   \r",
      "Counting objects:  40% (2/5)   \r",
      "Counting objects:  60% (3/5)   \r",
      "Counting objects:  80% (4/5)   \r",
      "Counting objects: 100% (5/5)   \r",
      "Counting objects: 100% (5/5), done.\r\n",
      "Compressing objects:  33% (1/3)   \r",
      "Compressing objects:  66% (2/3)   \r",
      "Compressing objects: 100% (3/3)   \r",
      "Compressing objects: 100% (3/3), done.\r\n",
      "Writing objects:  33% (1/3)   \r",
      "Writing objects:  66% (2/3)   \r",
      "Writing objects: 100% (3/3)   \r",
      "Writing objects: 100% (3/3), 2.42 KiB | 2.42 MiB/s, done.\r\n",
      "Total 3 (delta 2), reused 0 (delta 0)\r\n"
     ]
    },
    {
     "name": "stdout",
     "output_type": "stream",
     "text": [
      "remote: Resolving deltas:   0% (0/2)\u001b[K\r"
     ]
    },
    {
     "name": "stdout",
     "output_type": "stream",
     "text": [
      "remote: Resolving deltas:  50% (1/2)\u001b[K\r",
      "remote: Resolving deltas: 100% (2/2)\u001b[K\r",
      "remote: Resolving deltas: 100% (2/2), completed with 2 local objects.\u001b[K\r\n"
     ]
    },
    {
     "name": "stdout",
     "output_type": "stream",
     "text": [
      "To https://github.com/walice/COVID-SB.git\r\n",
      "   f27f5e0..83be37e  gh-pages -> gh-pages\r\n"
     ]
    }
   ],
   "source": [
    "# Deploy to GitHub\n",
    "! git add .\n",
    "! echo $commit_message > commit_message.txt\n",
    "! git commit -F commit_message.txt\n",
    "! git push"
   ]
  }
 ],
 "metadata": {
  "celltoolbar": "Tags",
  "kernelspec": {
   "display_name": "Python 3",
   "language": "python",
   "name": "python3"
  },
  "language_info": {
   "codemirror_mode": {
    "name": "ipython",
    "version": 3
   },
   "file_extension": ".py",
   "mimetype": "text/x-python",
   "name": "python",
   "nbconvert_exporter": "python",
   "pygments_lexer": "ipython3",
   "version": "3.7.3"
  },
  "papermill": {
   "duration": 20.754433,
   "end_time": "2020-08-26T10:06:17.241503",
   "environment_variables": {},
   "exception": null,
   "input_path": "/home/alice_lepissier/COVID-SB/index.ipynb",
   "output_path": "/home/alice_lepissier/COVID-SB/index.ipynb",
   "parameters": {},
   "start_time": "2020-08-26T10:05:56.487070",
   "version": "2.1.3"
  }
 },
 "nbformat": 4,
 "nbformat_minor": 4
}