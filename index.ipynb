{
 "cells": [
  {
   "cell_type": "markdown",
   "metadata": {
    "papermill": {
     "duration": 0.098944,
     "end_time": "2020-08-21T19:00:34.109166",
     "exception": false,
     "start_time": "2020-08-21T19:00:34.010222",
     "status": "completed"
    },
    "tags": []
   },
   "source": [
    "# Daily COVID monitoring data for Santa Barbara county"
   ]
  },
  {
   "cell_type": "code",
   "execution_count": 1,
   "metadata": {
    "tags": [
     "remove_cell"
    ]
   },
   "outputs": [],
   "source": [
    "! jt -t grade3 -tf robotosans -cellw 1100"
   ]
  },
  {
   "cell_type": "markdown",
   "metadata": {},
   "source": [
    "This table is automatically updated with new daily COVID data for the county of Santa Barbara, CA. Every day, the California Department of Public Health publishes COVID tracking metrics for each county, but does not save the previous day's data. This tool keeps track of the daily metrics that are used to monitor progress towards safe reopening in California."
   ]
  },
  {
   "cell_type": "code",
   "execution_count": 2,
   "metadata": {
    "execution": {
     "iopub.execute_input": "2020-08-21T19:00:34.759979Z",
     "iopub.status.busy": "2020-08-21T19:00:34.750985Z",
     "iopub.status.idle": "2020-08-21T19:00:51.392904Z",
     "shell.execute_reply": "2020-08-21T19:00:51.393904Z"
    },
    "papermill": {
     "duration": 16.841807,
     "end_time": "2020-08-21T19:00:51.394905",
     "exception": false,
     "start_time": "2020-08-21T19:00:34.553098",
     "status": "completed"
    },
    "slideshow": {
     "slide_type": "skip"
    },
    "tags": [
     "remove_cell"
    ]
   },
   "outputs": [],
   "source": [
    "# Preamble\n",
    "import os\n",
    "import IPython\n",
    "import requests\n",
    "from bs4 import BeautifulSoup\n",
    "import re\n",
    "import pandas as pd\n",
    "import datetime\n",
    "import gspread\n",
    "from oauth2client.service_account import ServiceAccountCredentials"
   ]
  },
  {
   "cell_type": "code",
   "execution_count": 3,
   "metadata": {
    "execution": {
     "iopub.execute_input": "2020-08-21T19:00:51.486850Z",
     "iopub.status.busy": "2020-08-21T19:00:51.484851Z",
     "iopub.status.idle": "2020-08-21T19:00:51.495846Z",
     "shell.execute_reply": "2020-08-21T19:00:51.493846Z"
    },
    "papermill": {
     "duration": 0.072959,
     "end_time": "2020-08-21T19:00:51.496846",
     "exception": false,
     "start_time": "2020-08-21T19:00:51.423887",
     "status": "completed"
    },
    "tags": [
     "remove_cell"
    ]
   },
   "outputs": [],
   "source": [
    "# Change working directory (so that Windows task scheduler does not complain)\n",
    "os.chdir(\"C:/Users/Alice/Box Sync/PhD/Software/Python/COVID/COVID-SB\")"
   ]
  },
  {
   "cell_type": "code",
   "execution_count": 4,
   "metadata": {
    "execution": {
     "iopub.execute_input": "2020-08-21T19:00:51.685737Z",
     "iopub.status.busy": "2020-08-21T19:00:51.683738Z",
     "iopub.status.idle": "2020-08-21T19:00:53.039085Z",
     "shell.execute_reply": "2020-08-21T19:00:53.040085Z"
    },
    "papermill": {
     "duration": 1.453293,
     "end_time": "2020-08-21T19:00:53.041086",
     "exception": false,
     "start_time": "2020-08-21T19:00:51.587793",
     "status": "completed"
    },
    "slideshow": {
     "slide_type": "skip"
    },
    "tags": [
     "remove_cell"
    ]
   },
   "outputs": [],
   "source": [
    "# Request content from URL\n",
    "html_string = requests.get('https://www.cdph.ca.gov/Programs/CID/DCDC/Pages/COVID-19/COVID19CountyDataTable.aspx').content"
   ]
  },
  {
   "cell_type": "code",
   "execution_count": 5,
   "metadata": {
    "execution": {
     "iopub.execute_input": "2020-08-21T19:00:53.164014Z",
     "iopub.status.busy": "2020-08-21T19:00:53.146023Z",
     "iopub.status.idle": "2020-08-21T19:00:53.460844Z",
     "shell.execute_reply": "2020-08-21T19:00:53.461843Z"
    },
    "papermill": {
     "duration": 0.367788,
     "end_time": "2020-08-21T19:00:53.461843",
     "exception": false,
     "start_time": "2020-08-21T19:00:53.094055",
     "status": "completed"
    },
    "slideshow": {
     "slide_type": "skip"
    },
    "tags": [
     "remove_cell"
    ]
   },
   "outputs": [],
   "source": [
    "# Parse HTML\n",
    "soup = BeautifulSoup(html_string, 'html.parser')"
   ]
  },
  {
   "cell_type": "code",
   "execution_count": 6,
   "metadata": {
    "execution": {
     "iopub.execute_input": "2020-08-21T19:00:53.630750Z",
     "iopub.status.busy": "2020-08-21T19:00:53.624750Z",
     "iopub.status.idle": "2020-08-21T19:00:53.652734Z",
     "shell.execute_reply": "2020-08-21T19:00:53.655733Z"
    },
    "papermill": {
     "duration": 0.154909,
     "end_time": "2020-08-21T19:00:53.655733",
     "exception": false,
     "start_time": "2020-08-21T19:00:53.500824",
     "status": "completed"
    },
    "slideshow": {
     "slide_type": "skip"
    },
    "tags": [
     "remove_cell"
    ]
   },
   "outputs": [],
   "source": [
    "# Extract data for Santa Barbara\n",
    "table = soup.find_all(\"tr\", class_=\"ms-rteTableEvenRow-3\")\n",
    "SB = table[21]"
   ]
  },
  {
   "cell_type": "code",
   "execution_count": 7,
   "metadata": {
    "execution": {
     "iopub.execute_input": "2020-08-21T19:00:53.797651Z",
     "iopub.status.busy": "2020-08-21T19:00:53.788657Z",
     "iopub.status.idle": "2020-08-21T19:00:53.800651Z",
     "shell.execute_reply": "2020-08-21T19:00:53.801652Z"
    },
    "papermill": {
     "duration": 0.063965,
     "end_time": "2020-08-21T19:00:53.801652",
     "exception": false,
     "start_time": "2020-08-21T19:00:53.737687",
     "status": "completed"
    },
    "slideshow": {
     "slide_type": "skip"
    },
    "tags": [
     "remove_cell"
    ]
   },
   "outputs": [],
   "source": [
    "# Avg # tests per day (per 100,000 population)\n",
    "daily_tests = SB.find_all(\"td\", class_=\"ms-rteTableOddCol-3\")[0].text\n",
    "\n",
    "# Case rate per 100,000\n",
    "case_rate = SB.find_all(\"td\", class_=\"ms-rteTableEvenCol-3\")[1].text\n",
    "\n",
    "# Testing positivity (%)\n",
    "test_positivity = SB.find_all(\"td\", class_=\"ms-rteTableOddCol-3\")[1].text\n",
    "\n",
    "# % Change in 3-day avg COVID+ hospitalized patients\n",
    "change_hospit = SB.find_all(\"td\", class_=\"ms-rteTableEvenCol-3\")[2].text\n",
    "\n",
    "# % ICU beds currently available\n",
    "ICU_beds = SB.find_all(\"td\", class_=\"ms-rteTableOddCol-3\")[2].text\n",
    "\n",
    "# % Ventilators currently available\n",
    "ventilators = SB.find_all(\"td\", class_=\"ms-rteTableEvenCol-3\")[3].text\n",
    "\n",
    "# Extract date of last update\n",
    "update_date = soup.find_all(\"span\", class_=\"ms-rteStyle-Accent1\")[1]\\\n",
    "    .find(\"em\").text"
   ]
  },
  {
   "cell_type": "code",
   "execution_count": 8,
   "metadata": {
    "tags": [
     "remove_cell"
    ]
   },
   "outputs": [],
   "source": [
    "# Create updated date string\n",
    "update_tag = \"Table last updated by CDPH on \" + update_date.split(\" on \", 1)[1] + \".\""
   ]
  },
  {
   "cell_type": "code",
   "execution_count": 9,
   "metadata": {
    "execution": {
     "iopub.execute_input": "2020-08-21T19:00:53.874608Z",
     "iopub.status.busy": "2020-08-21T19:00:53.873610Z",
     "iopub.status.idle": "2020-08-21T19:00:53.898594Z",
     "shell.execute_reply": "2020-08-21T19:00:53.899595Z"
    },
    "papermill": {
     "duration": 0.068962,
     "end_time": "2020-08-21T19:00:53.900594",
     "exception": false,
     "start_time": "2020-08-21T19:00:53.831632",
     "status": "completed"
    },
    "slideshow": {
     "slide_type": "skip"
    },
    "tags": [
     "remove_cell"
    ]
   },
   "outputs": [],
   "source": [
    "# Set up Google Sheet API\n",
    "scope = [\"https://spreadsheets.google.com/feeds\",'https://www.googleapis.com/auth/spreadsheets',\"https://www.googleapis.com/auth/drive.file\",\"https://www.googleapis.com/auth/drive\"]\n",
    "creds = ServiceAccountCredentials.from_json_keyfile_name(\"credentials.json\", scope)\n",
    "client = gspread.authorize(creds)"
   ]
  },
  {
   "cell_type": "code",
   "execution_count": 10,
   "metadata": {
    "execution": {
     "iopub.execute_input": "2020-08-21T19:00:53.973551Z",
     "iopub.status.busy": "2020-08-21T19:00:53.970553Z",
     "iopub.status.idle": "2020-08-21T19:00:57.158132Z",
     "shell.execute_reply": "2020-08-21T19:00:57.157133Z"
    },
    "papermill": {
     "duration": 3.230554,
     "end_time": "2020-08-21T19:00:57.159131",
     "exception": false,
     "start_time": "2020-08-21T19:00:53.928577",
     "status": "completed"
    },
    "slideshow": {
     "slide_type": "skip"
    },
    "tags": [
     "remove_cell"
    ]
   },
   "outputs": [
    {
     "data": {
      "text/plain": [
       "{'spreadsheetId': '13GG0FPUFg_5xCouN0ZF3woaPXwjuxL2Dw3uYIfwUW-Q',\n",
       " 'updatedRange': 'Sheet1!A2:G2',\n",
       " 'updatedRows': 1,\n",
       " 'updatedColumns': 7,\n",
       " 'updatedCells': 7}"
      ]
     },
     "execution_count": 10,
     "metadata": {},
     "output_type": "execute_result"
    }
   ],
   "source": [
    "# Append daily data as a new row in Google Sheet\n",
    "sheet = client.open(\"COVID Daily Metrics\").sheet1\n",
    "insertRow = [datetime.date.today().strftime(\"%Y-%m-%d\"),\n",
    "             daily_tests,\n",
    "             case_rate,\n",
    "             test_positivity,\n",
    "             change_hospit,\n",
    "             ICU_beds,\n",
    "             ventilators]\n",
    "sheet.insert_row(insertRow, 2)"
   ]
  },
  {
   "cell_type": "code",
   "execution_count": 11,
   "metadata": {
    "execution": {
     "iopub.execute_input": "2020-08-21T19:00:58.151716Z",
     "iopub.status.busy": "2020-08-21T19:00:57.997620Z",
     "iopub.status.idle": "2020-08-21T19:00:58.895732Z",
     "shell.execute_reply": "2020-08-21T19:00:58.897732Z"
    },
    "papermill": {
     "duration": 1.117302,
     "end_time": "2020-08-21T19:00:58.898731",
     "exception": false,
     "start_time": "2020-08-21T19:00:57.781429",
     "status": "completed"
    },
    "scrolled": true,
    "slideshow": {
     "slide_type": "slide"
    },
    "tags": [
     "remove_cell"
    ]
   },
   "outputs": [],
   "source": [
    "# Extract data from Google Sheet as pandas dataframe\n",
    "sheet = client.open(\"COVID Daily Metrics\").sheet1\n",
    "data = sheet.get_all_records()\n",
    "result = pd.DataFrame(data).set_index(\"Date\")"
   ]
  },
  {
   "cell_type": "code",
   "execution_count": 12,
   "metadata": {
    "execution": {
     "iopub.execute_input": "2020-08-21T19:01:01.967408Z",
     "iopub.status.busy": "2020-08-21T19:01:01.954417Z",
     "iopub.status.idle": "2020-08-21T19:01:01.979403Z",
     "shell.execute_reply": "2020-08-21T19:01:01.969409Z"
    },
    "papermill": {
     "duration": 3.044693,
     "end_time": "2020-08-21T19:01:01.986399",
     "exception": false,
     "start_time": "2020-08-21T19:00:58.941706",
     "status": "completed"
    },
    "scrolled": true,
    "tags": [
     "remove_input"
    ]
   },
   "outputs": [
    {
     "data": {
      "text/html": [
       "<style  type=\"text/css\" >\n",
       "    #T_081e7af4_e41c_11ea_93f4_2c16dba0ec93 th {\n",
       "          text-align: center;\n",
       "    }    #T_081e7af4_e41c_11ea_93f4_2c16dba0ec93row0_col0 {\n",
       "            width:  20em;\n",
       "            text-align:  center;\n",
       "            font-weight:  bold;\n",
       "        }    #T_081e7af4_e41c_11ea_93f4_2c16dba0ec93row0_col1 {\n",
       "            width:  20em;\n",
       "            text-align:  center;\n",
       "        }    #T_081e7af4_e41c_11ea_93f4_2c16dba0ec93row0_col2 {\n",
       "            width:  20em;\n",
       "            text-align:  center;\n",
       "        }    #T_081e7af4_e41c_11ea_93f4_2c16dba0ec93row0_col3 {\n",
       "            width:  20em;\n",
       "            text-align:  center;\n",
       "        }    #T_081e7af4_e41c_11ea_93f4_2c16dba0ec93row0_col4 {\n",
       "            width:  20em;\n",
       "            text-align:  center;\n",
       "        }    #T_081e7af4_e41c_11ea_93f4_2c16dba0ec93row0_col5 {\n",
       "            width:  20em;\n",
       "            text-align:  center;\n",
       "        }    #T_081e7af4_e41c_11ea_93f4_2c16dba0ec93row0_col6 {\n",
       "            width:  20em;\n",
       "            text-align:  center;\n",
       "        }    #T_081e7af4_e41c_11ea_93f4_2c16dba0ec93row1_col0 {\n",
       "            width:  20em;\n",
       "            text-align:  center;\n",
       "            font-weight:  bold;\n",
       "        }    #T_081e7af4_e41c_11ea_93f4_2c16dba0ec93row1_col1 {\n",
       "            width:  20em;\n",
       "            text-align:  center;\n",
       "        }    #T_081e7af4_e41c_11ea_93f4_2c16dba0ec93row1_col2 {\n",
       "            width:  20em;\n",
       "            text-align:  center;\n",
       "        }    #T_081e7af4_e41c_11ea_93f4_2c16dba0ec93row1_col3 {\n",
       "            width:  20em;\n",
       "            text-align:  center;\n",
       "        }    #T_081e7af4_e41c_11ea_93f4_2c16dba0ec93row1_col4 {\n",
       "            width:  20em;\n",
       "            text-align:  center;\n",
       "        }    #T_081e7af4_e41c_11ea_93f4_2c16dba0ec93row1_col5 {\n",
       "            width:  20em;\n",
       "            text-align:  center;\n",
       "        }    #T_081e7af4_e41c_11ea_93f4_2c16dba0ec93row1_col6 {\n",
       "            width:  20em;\n",
       "            text-align:  center;\n",
       "        }</style><table id=\"T_081e7af4_e41c_11ea_93f4_2c16dba0ec93\" ><thead>    <tr>        <th class=\"col_heading level0 col0\" >Date</th>        <th class=\"col_heading level0 col1\" >Daily tests (per 100,000)¹</th>        <th class=\"col_heading level0 col2\" >Case rate (per 100,000)²</th>        <th class=\"col_heading level0 col3\" >Testing positivity (%)³</th>        <th class=\"col_heading level0 col4\" >Change in hospitalizations (%)⁴</th>        <th class=\"col_heading level0 col5\" >ICU beds available (%)</th>        <th class=\"col_heading level0 col6\" >Ventilators (available (%)</th>    </tr></thead><tbody>\n",
       "                <tr>\n",
       "                                <td id=\"T_081e7af4_e41c_11ea_93f4_2c16dba0ec93row0_col0\" class=\"data row0 col0\" >2020-08-21</td>\n",
       "                        <td id=\"T_081e7af4_e41c_11ea_93f4_2c16dba0ec93row0_col1\" class=\"data row0 col1\" >208.7</td>\n",
       "                        <td id=\"T_081e7af4_e41c_11ea_93f4_2c16dba0ec93row0_col2\" class=\"data row0 col2\" >138.5</td>\n",
       "                        <td id=\"T_081e7af4_e41c_11ea_93f4_2c16dba0ec93row0_col3\" class=\"data row0 col3\" > ✔</td>\n",
       "                        <td id=\"T_081e7af4_e41c_11ea_93f4_2c16dba0ec93row0_col4\" class=\"data row0 col4\" > ✔</td>\n",
       "                        <td id=\"T_081e7af4_e41c_11ea_93f4_2c16dba0ec93row0_col5\" class=\"data row0 col5\" > ✔</td>\n",
       "                        <td id=\"T_081e7af4_e41c_11ea_93f4_2c16dba0ec93row0_col6\" class=\"data row0 col6\" > ✔</td>\n",
       "            </tr>\n",
       "            <tr>\n",
       "                                <td id=\"T_081e7af4_e41c_11ea_93f4_2c16dba0ec93row1_col0\" class=\"data row1 col0\" >2020-08-20</td>\n",
       "                        <td id=\"T_081e7af4_e41c_11ea_93f4_2c16dba0ec93row1_col1\" class=\"data row1 col1\" >214.5</td>\n",
       "                        <td id=\"T_081e7af4_e41c_11ea_93f4_2c16dba0ec93row1_col2\" class=\"data row1 col2\" >148.8</td>\n",
       "                        <td id=\"T_081e7af4_e41c_11ea_93f4_2c16dba0ec93row1_col3\" class=\"data row1 col3\" > ✔</td>\n",
       "                        <td id=\"T_081e7af4_e41c_11ea_93f4_2c16dba0ec93row1_col4\" class=\"data row1 col4\" > ✔</td>\n",
       "                        <td id=\"T_081e7af4_e41c_11ea_93f4_2c16dba0ec93row1_col5\" class=\"data row1 col5\" > ✔</td>\n",
       "                        <td id=\"T_081e7af4_e41c_11ea_93f4_2c16dba0ec93row1_col6\" class=\"data row1 col6\" > ✔</td>\n",
       "            </tr>\n",
       "    </tbody></table>"
      ],
      "text/plain": [
       "<pandas.io.formats.style.Styler at 0x271a1e3f508>"
      ]
     },
     "execution_count": 12,
     "metadata": {},
     "output_type": "execute_result"
    }
   ],
   "source": [
    "# Style the pandas dataframe\n",
    "d = dict(selector=\"th\",\n",
    "         props=[('text-align', 'center')])\n",
    "\n",
    "result.reset_index().style\\\n",
    "    .set_properties(**{'width':'20em', 'text-align':'center'})\\\n",
    "    .set_properties(subset=['Date'], **{'font-weight': 'bold'})\\\n",
    "    .set_table_styles([d])\\\n",
    "    .set_precision(1)\\\n",
    "    .hide_index()"
   ]
  },
  {
   "cell_type": "markdown",
   "metadata": {
    "papermill": {
     "duration": 0.649709,
     "end_time": "2020-08-21T19:01:03.641555",
     "exception": false,
     "start_time": "2020-08-21T19:01:02.991846",
     "status": "completed"
    },
    "tags": []
   },
   "source": [
    "<sup>Notes: (1) 7 day average with a 7-day lag. (2) 14 day average. (3) 7 day average with a 7-day lag. (4) Change in 3 day average.</sup>"
   ]
  },
  {
   "cell_type": "markdown",
   "metadata": {},
   "source": [
    "## Tracking county closures in Santa Barbara"
   ]
  },
  {
   "cell_type": "markdown",
   "metadata": {
    "papermill": {
     "duration": 0.02598,
     "end_time": "2020-08-21T19:01:03.795466",
     "exception": false,
     "start_time": "2020-08-21T19:01:03.769486",
     "status": "completed"
    },
    "tags": []
   },
   "source": [
    "The state of California is using a data-driven approach informed by scientific evidence to tailor its response to COVID-19. Three dimensions of concern are monitored to assess whether a county should be placed on the County Monitoring List:\n",
    " 1. Elevated Disease Transmission\n",
    " 2. Increasing Hospitalization\n",
    " 3. Limited Hospital Capacity\n",
    "\n",
    "Once a county appears on the County Monitoring List for three consecutive days, indoor operations in the sectors listed in Section 3 of the [July 13th State Health Officer Order](https://www.cdph.ca.gov/Programs/CID/DCDC/CDPH%20Document%20Library/COVID-19/SHO%20Order%20Dimming%20Entire%20State%207-13-2020.pdf) must close.\n",
    "\n",
    "This table tracks where Santa Barbara stands in terms of the criteria for inclusion on the County Monitoring List. As of 20 August 2020, the criteria for inclusion on the monitoring list are:\n",
    "\n",
    "* Case rate >100 OR (Case rate >25 AND Positivity >8%)\n",
    "* \\>10% increase in hospitalizations\n",
    "* <20% ICU beds available OR <25% ventilators available\n",
    "\n",
    "If Santa Barbara meets the criteria for removal from the County Monitoring List for a certain metric, then a checkmark ✔ is displayed in the table.\n",
    "\n",
    "Read more at <https://covid19.ca.gov/roadmap-counties/>.\n",
    "\n",
    "Data source for county metrics: https://www.cdph.ca.gov/Programs/CID/DCDC/Pages/COVID-19/COVID19CountyDataTable.aspx."
   ]
  },
  {
   "cell_type": "markdown",
   "metadata": {
    "variables": {
     "update_tag": "Table last updated by CDPH on August 21, 2020."
    }
   },
   "source": [
    "{{update_tag}}"
   ]
  },
  {
   "cell_type": "markdown",
   "metadata": {
    "papermill": {
     "duration": 0.032985,
     "end_time": "2020-08-21T19:01:03.861431",
     "exception": false,
     "start_time": "2020-08-21T19:01:03.828446",
     "status": "completed"
    },
    "tags": []
   },
   "source": [
    "**See the code used to scrape the data: https://github.com/walice/COVID-SB/.**"
   ]
  },
  {
   "cell_type": "code",
   "execution_count": 13,
   "metadata": {
    "execution": {
     "iopub.execute_input": "2020-08-21T19:01:03.944381Z",
     "iopub.status.busy": "2020-08-21T19:01:03.936385Z",
     "iopub.status.idle": "2020-08-21T19:01:03.955376Z",
     "shell.execute_reply": "2020-08-21T19:01:03.958374Z"
    },
    "papermill": {
     "duration": 0.059967,
     "end_time": "2020-08-21T19:01:03.958374",
     "exception": false,
     "start_time": "2020-08-21T19:01:03.898407",
     "status": "completed"
    },
    "tags": [
     "remove_cell"
    ]
   },
   "outputs": [
    {
     "data": {
      "application/javascript": [
       "IPython.notebook.save_notebook()\n"
      ],
      "text/plain": [
       "<IPython.core.display.Javascript object>"
      ]
     },
     "metadata": {},
     "output_type": "display_data"
    }
   ],
   "source": [
    "%%javascript\n",
    "IPython.notebook.save_notebook()"
   ]
  },
  {
   "cell_type": "code",
   "execution_count": 14,
   "metadata": {
    "execution": {
     "iopub.execute_input": "2020-08-21T19:01:04.755987Z",
     "iopub.status.busy": "2020-08-21T19:01:04.751989Z",
     "iopub.status.idle": "2020-08-21T19:01:21.414195Z",
     "shell.execute_reply": "2020-08-21T19:01:21.415194Z"
    },
    "papermill": {
     "duration": 17.414845,
     "end_time": "2020-08-21T19:01:21.416193",
     "exception": false,
     "start_time": "2020-08-21T19:01:04.001348",
     "status": "completed"
    },
    "slideshow": {
     "slide_type": "skip"
    },
    "tags": [
     "remove_cell"
    ]
   },
   "outputs": [
    {
     "name": "stderr",
     "output_type": "stream",
     "text": [
      "[NbConvertApp] Converting notebook index.ipynb to html\n",
      "[NbConvertApp] Writing 352586 bytes to index.html\n"
     ]
    }
   ],
   "source": [
    "# Convert Jupyter Notebook to HTML\n",
    "! jupyter nbconvert \"index.ipynb\" --to html --TagRemovePreprocessor.enabled=True --TagRemovePreprocessor.remove_cell_tags=\"['remove_cell']\" --TagRemovePreprocessor.remove_input_tags=\"['remove_input']\" --no-prompt"
   ]
  },
  {
   "cell_type": "code",
   "execution_count": 15,
   "metadata": {
    "execution": {
     "iopub.execute_input": "2020-08-21T19:01:21.579100Z",
     "iopub.status.busy": "2020-08-21T19:01:21.573105Z",
     "iopub.status.idle": "2020-08-21T19:01:21.583098Z",
     "shell.execute_reply": "2020-08-21T19:01:21.577104Z"
    },
    "papermill": {
     "duration": 0.111935,
     "end_time": "2020-08-21T19:01:21.584097",
     "exception": false,
     "start_time": "2020-08-21T19:01:21.472162",
     "status": "completed"
    },
    "tags": [
     "remove_cell"
    ]
   },
   "outputs": [],
   "source": [
    "# Create daily commit message\n",
    "now = datetime.datetime.now()\n",
    "commit_message = \"Last scraped on \" + str(now)"
   ]
  },
  {
   "cell_type": "code",
   "execution_count": 16,
   "metadata": {
    "execution": {
     "iopub.execute_input": "2020-08-21T08:02:25.587304Z",
     "iopub.status.busy": "2020-08-21T08:02:25.586302Z",
     "iopub.status.idle": "2020-08-21T08:02:31.900079Z",
     "shell.execute_reply": "2020-08-21T08:02:31.889084Z"
    },
    "papermill": {
     "duration": null,
     "end_time": null,
     "exception": false,
     "start_time": "2020-08-21T19:01:21.678045",
     "status": "running"
    },
    "tags": [
     "remove_cell"
    ]
   },
   "outputs": [],
   "source": [
    "# Deploy to GitHub\n",
    "# ! git add .\n",
    "# ! echo $commit_message > commit_message.txt\n",
    "# ! git commit -F commit_message.txt\n",
    "# ! git push"
   ]
  }
 ],
 "metadata": {
  "celltoolbar": "Tags",
  "kernelspec": {
   "display_name": "Python 3",
   "language": "python",
   "name": "python3"
  },
  "language_info": {
   "codemirror_mode": {
    "name": "ipython",
    "version": 3
   },
   "file_extension": ".py",
   "mimetype": "text/x-python",
   "name": "python",
   "nbconvert_exporter": "python",
   "pygments_lexer": "ipython3",
   "version": "3.7.6"
  },
  "papermill": {
   "duration": null,
   "end_time": null,
   "environment_variables": {},
   "exception": null,
   "input_path": "C:/Users/Alice/Box Sync/PhD/Software/Python/COVID/COVID-SB/index.ipynb",
   "output_path": "C:/Users/Alice/Box Sync/PhD/Software/Python/COVID/COVID-SB/index.ipynb",
   "parameters": {},
   "start_time": "2020-08-21T19:00:29.757678",
   "version": "2.1.3"
  }
 },
 "nbformat": 4,
 "nbformat_minor": 4
}
